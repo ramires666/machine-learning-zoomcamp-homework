{
 "cells": [
  {
   "cell_type": "markdown",
   "metadata": {},
   "source": [
    "## 2. Machine Learning for Regression\n"
   ]
  },
  {
   "cell_type": "code",
   "execution_count": 1,
   "metadata": {
    "scrolled": true
   },
   "outputs": [],
   "source": [
    "import pandas as pd\n",
    "import numpy as np"
   ]
  },
  {
   "cell_type": "markdown",
   "metadata": {},
   "source": [
    "## 2.2 Data preparation"
   ]
  },
  {
   "cell_type": "code",
   "execution_count": 2,
   "metadata": {},
   "outputs": [],
   "source": [
    "data = 'https://raw.githubusercontent.com/alexeygrigorev/mlbookcamp-code/master/chapter-02-car-price/data.csv'"
   ]
  },
  {
   "cell_type": "code",
   "execution_count": 4,
   "metadata": {},
   "outputs": [
    {
     "name": "stderr",
     "output_type": "stream",
     "text": [
      "  % Total    % Received % Xferd  Average Speed   Time    Time     Time  Current\n",
      "                                 Dload  Upload   Total   Spent    Left  Speed\n",
      "\n",
      "  0     0    0     0    0     0      0      0 --:--:-- --:--:-- --:--:--     0\n",
      "  0     0    0     0    0     0      0      0 --:--:-- --:--:-- --:--:--     0\n",
      " 23 1440k   23  345k    0     0   261k      0  0:00:05  0:00:01  0:00:04  261k\n",
      "100 1440k  100 1440k    0     0   894k      0  0:00:01  0:00:01 --:--:--  894k\n"
     ]
    }
   ],
   "source": [
    "!curl -OS $data "
   ]
  },
  {
   "cell_type": "code",
   "execution_count": 30,
   "metadata": {},
   "outputs": [
    {
     "data": {
      "application/vnd.microsoft.datawrangler.viewer.v0+json": {
       "columns": [
        {
         "name": "index",
         "rawType": "int64",
         "type": "integer"
        },
        {
         "name": "Make",
         "rawType": "object",
         "type": "string"
        },
        {
         "name": "Model",
         "rawType": "object",
         "type": "string"
        },
        {
         "name": "Year",
         "rawType": "int64",
         "type": "integer"
        },
        {
         "name": "Engine Fuel Type",
         "rawType": "object",
         "type": "unknown"
        },
        {
         "name": "Engine HP",
         "rawType": "float64",
         "type": "float"
        },
        {
         "name": "Engine Cylinders",
         "rawType": "float64",
         "type": "float"
        },
        {
         "name": "Transmission Type",
         "rawType": "object",
         "type": "string"
        },
        {
         "name": "Driven_Wheels",
         "rawType": "object",
         "type": "string"
        },
        {
         "name": "Number of Doors",
         "rawType": "float64",
         "type": "float"
        },
        {
         "name": "Market Category",
         "rawType": "object",
         "type": "unknown"
        },
        {
         "name": "Vehicle Size",
         "rawType": "object",
         "type": "string"
        },
        {
         "name": "Vehicle Style",
         "rawType": "object",
         "type": "string"
        },
        {
         "name": "highway MPG",
         "rawType": "int64",
         "type": "integer"
        },
        {
         "name": "city mpg",
         "rawType": "int64",
         "type": "integer"
        },
        {
         "name": "Popularity",
         "rawType": "int64",
         "type": "integer"
        },
        {
         "name": "MSRP",
         "rawType": "int64",
         "type": "integer"
        }
       ],
       "ref": "4245807b-be4c-4217-a8ea-f397a99c1ba4",
       "rows": [
        [
         "0",
         "BMW",
         "1 Series M",
         "2011",
         "premium unleaded (required)",
         "335.0",
         "6.0",
         "MANUAL",
         "rear wheel drive",
         "2.0",
         "Factory Tuner,Luxury,High-Performance",
         "Compact",
         "Coupe",
         "26",
         "19",
         "3916",
         "46135"
        ],
        [
         "1",
         "BMW",
         "1 Series",
         "2011",
         "premium unleaded (required)",
         "300.0",
         "6.0",
         "MANUAL",
         "rear wheel drive",
         "2.0",
         "Luxury,Performance",
         "Compact",
         "Convertible",
         "28",
         "19",
         "3916",
         "40650"
        ],
        [
         "2",
         "BMW",
         "1 Series",
         "2011",
         "premium unleaded (required)",
         "300.0",
         "6.0",
         "MANUAL",
         "rear wheel drive",
         "2.0",
         "Luxury,High-Performance",
         "Compact",
         "Coupe",
         "28",
         "20",
         "3916",
         "36350"
        ],
        [
         "3",
         "BMW",
         "1 Series",
         "2011",
         "premium unleaded (required)",
         "230.0",
         "6.0",
         "MANUAL",
         "rear wheel drive",
         "2.0",
         "Luxury,Performance",
         "Compact",
         "Coupe",
         "28",
         "18",
         "3916",
         "29450"
        ],
        [
         "4",
         "BMW",
         "1 Series",
         "2011",
         "premium unleaded (required)",
         "230.0",
         "6.0",
         "MANUAL",
         "rear wheel drive",
         "2.0",
         "Luxury",
         "Compact",
         "Convertible",
         "28",
         "18",
         "3916",
         "34500"
        ],
        [
         "5",
         "BMW",
         "1 Series",
         "2012",
         "premium unleaded (required)",
         "230.0",
         "6.0",
         "MANUAL",
         "rear wheel drive",
         "2.0",
         "Luxury,Performance",
         "Compact",
         "Coupe",
         "28",
         "18",
         "3916",
         "31200"
        ],
        [
         "6",
         "BMW",
         "1 Series",
         "2012",
         "premium unleaded (required)",
         "300.0",
         "6.0",
         "MANUAL",
         "rear wheel drive",
         "2.0",
         "Luxury,Performance",
         "Compact",
         "Convertible",
         "26",
         "17",
         "3916",
         "44100"
        ],
        [
         "7",
         "BMW",
         "1 Series",
         "2012",
         "premium unleaded (required)",
         "300.0",
         "6.0",
         "MANUAL",
         "rear wheel drive",
         "2.0",
         "Luxury,High-Performance",
         "Compact",
         "Coupe",
         "28",
         "20",
         "3916",
         "39300"
        ],
        [
         "8",
         "BMW",
         "1 Series",
         "2012",
         "premium unleaded (required)",
         "230.0",
         "6.0",
         "MANUAL",
         "rear wheel drive",
         "2.0",
         "Luxury",
         "Compact",
         "Convertible",
         "28",
         "18",
         "3916",
         "36900"
        ],
        [
         "9",
         "BMW",
         "1 Series",
         "2013",
         "premium unleaded (required)",
         "230.0",
         "6.0",
         "MANUAL",
         "rear wheel drive",
         "2.0",
         "Luxury",
         "Compact",
         "Convertible",
         "27",
         "18",
         "3916",
         "37200"
        ],
        [
         "10",
         "BMW",
         "1 Series",
         "2013",
         "premium unleaded (required)",
         "300.0",
         "6.0",
         "MANUAL",
         "rear wheel drive",
         "2.0",
         "Luxury,High-Performance",
         "Compact",
         "Coupe",
         "28",
         "20",
         "3916",
         "39600"
        ],
        [
         "11",
         "BMW",
         "1 Series",
         "2013",
         "premium unleaded (required)",
         "230.0",
         "6.0",
         "MANUAL",
         "rear wheel drive",
         "2.0",
         "Luxury,Performance",
         "Compact",
         "Coupe",
         "28",
         "19",
         "3916",
         "31500"
        ],
        [
         "12",
         "BMW",
         "1 Series",
         "2013",
         "premium unleaded (required)",
         "300.0",
         "6.0",
         "MANUAL",
         "rear wheel drive",
         "2.0",
         "Luxury,Performance",
         "Compact",
         "Convertible",
         "28",
         "19",
         "3916",
         "44400"
        ],
        [
         "13",
         "BMW",
         "1 Series",
         "2013",
         "premium unleaded (required)",
         "230.0",
         "6.0",
         "MANUAL",
         "rear wheel drive",
         "2.0",
         "Luxury",
         "Compact",
         "Convertible",
         "28",
         "19",
         "3916",
         "37200"
        ],
        [
         "14",
         "BMW",
         "1 Series",
         "2013",
         "premium unleaded (required)",
         "230.0",
         "6.0",
         "MANUAL",
         "rear wheel drive",
         "2.0",
         "Luxury,Performance",
         "Compact",
         "Coupe",
         "28",
         "19",
         "3916",
         "31500"
        ],
        [
         "15",
         "BMW",
         "1 Series",
         "2013",
         "premium unleaded (required)",
         "320.0",
         "6.0",
         "MANUAL",
         "rear wheel drive",
         "2.0",
         "Luxury,High-Performance",
         "Compact",
         "Convertible",
         "25",
         "18",
         "3916",
         "48250"
        ],
        [
         "16",
         "BMW",
         "1 Series",
         "2013",
         "premium unleaded (required)",
         "320.0",
         "6.0",
         "MANUAL",
         "rear wheel drive",
         "2.0",
         "Luxury,High-Performance",
         "Compact",
         "Coupe",
         "28",
         "20",
         "3916",
         "43550"
        ],
        [
         "17",
         "Audi",
         "100",
         "1992",
         "regular unleaded",
         "172.0",
         "6.0",
         "MANUAL",
         "front wheel drive",
         "4.0",
         "Luxury",
         "Midsize",
         "Sedan",
         "24",
         "17",
         "3105",
         "2000"
        ],
        [
         "18",
         "Audi",
         "100",
         "1992",
         "regular unleaded",
         "172.0",
         "6.0",
         "MANUAL",
         "front wheel drive",
         "4.0",
         "Luxury",
         "Midsize",
         "Sedan",
         "24",
         "17",
         "3105",
         "2000"
        ],
        [
         "19",
         "Audi",
         "100",
         "1992",
         "regular unleaded",
         "172.0",
         "6.0",
         "AUTOMATIC",
         "all wheel drive",
         "4.0",
         "Luxury",
         "Midsize",
         "Wagon",
         "20",
         "16",
         "3105",
         "2000"
        ],
        [
         "20",
         "Audi",
         "100",
         "1992",
         "regular unleaded",
         "172.0",
         "6.0",
         "MANUAL",
         "front wheel drive",
         "4.0",
         "Luxury",
         "Midsize",
         "Sedan",
         "24",
         "17",
         "3105",
         "2000"
        ],
        [
         "21",
         "Audi",
         "100",
         "1992",
         "regular unleaded",
         "172.0",
         "6.0",
         "MANUAL",
         "all wheel drive",
         "4.0",
         "Luxury",
         "Midsize",
         "Sedan",
         "21",
         "16",
         "3105",
         "2000"
        ],
        [
         "22",
         "Audi",
         "100",
         "1993",
         "regular unleaded",
         "172.0",
         "6.0",
         "MANUAL",
         "front wheel drive",
         "4.0",
         "Luxury",
         "Midsize",
         "Sedan",
         "24",
         "17",
         "3105",
         "2000"
        ],
        [
         "23",
         "Audi",
         "100",
         "1993",
         "regular unleaded",
         "172.0",
         "6.0",
         "AUTOMATIC",
         "all wheel drive",
         "4.0",
         "Luxury",
         "Midsize",
         "Wagon",
         "20",
         "16",
         "3105",
         "2000"
        ],
        [
         "24",
         "Audi",
         "100",
         "1993",
         "regular unleaded",
         "172.0",
         "6.0",
         "MANUAL",
         "front wheel drive",
         "4.0",
         "Luxury",
         "Midsize",
         "Sedan",
         "24",
         "17",
         "3105",
         "2000"
        ],
        [
         "25",
         "Audi",
         "100",
         "1993",
         "regular unleaded",
         "172.0",
         "6.0",
         "MANUAL",
         "front wheel drive",
         "4.0",
         "Luxury",
         "Midsize",
         "Sedan",
         "24",
         "17",
         "3105",
         "2000"
        ],
        [
         "26",
         "Audi",
         "100",
         "1993",
         "regular unleaded",
         "172.0",
         "6.0",
         "MANUAL",
         "all wheel drive",
         "4.0",
         "Luxury",
         "Midsize",
         "Sedan",
         "21",
         "16",
         "3105",
         "2000"
        ],
        [
         "27",
         "Audi",
         "100",
         "1994",
         "regular unleaded",
         "172.0",
         "6.0",
         "AUTOMATIC",
         "front wheel drive",
         "4.0",
         "Luxury",
         "Midsize",
         "Wagon",
         "21",
         "16",
         "3105",
         "2000"
        ],
        [
         "28",
         "Audi",
         "100",
         "1994",
         "regular unleaded",
         "172.0",
         "6.0",
         "MANUAL",
         "all wheel drive",
         "4.0",
         "Luxury",
         "Midsize",
         "Sedan",
         "22",
         "16",
         "3105",
         "2000"
        ],
        [
         "29",
         "Audi",
         "100",
         "1994",
         "regular unleaded",
         "172.0",
         "6.0",
         "MANUAL",
         "front wheel drive",
         "4.0",
         "Luxury",
         "Midsize",
         "Sedan",
         "22",
         "17",
         "3105",
         "2000"
        ],
        [
         "30",
         "Audi",
         "100",
         "1994",
         "regular unleaded",
         "172.0",
         "6.0",
         "AUTOMATIC",
         "front wheel drive",
         "4.0",
         "Luxury",
         "Midsize",
         "Sedan",
         "22",
         "16",
         "3105",
         "2000"
        ],
        [
         "31",
         "Audi",
         "100",
         "1994",
         "regular unleaded",
         "172.0",
         "6.0",
         "AUTOMATIC",
         "all wheel drive",
         "4.0",
         "Luxury",
         "Midsize",
         "Wagon",
         "21",
         "16",
         "3105",
         "2000"
        ],
        [
         "32",
         "FIAT",
         "124 Spider",
         "2017",
         "premium unleaded (recommended)",
         "160.0",
         "4.0",
         "MANUAL",
         "rear wheel drive",
         "2.0",
         "Performance",
         "Compact",
         "Convertible",
         "35",
         "26",
         "819",
         "27495"
        ],
        [
         "33",
         "FIAT",
         "124 Spider",
         "2017",
         "premium unleaded (recommended)",
         "160.0",
         "4.0",
         "MANUAL",
         "rear wheel drive",
         "2.0",
         "Performance",
         "Compact",
         "Convertible",
         "35",
         "26",
         "819",
         "24995"
        ],
        [
         "34",
         "FIAT",
         "124 Spider",
         "2017",
         "premium unleaded (recommended)",
         "160.0",
         "4.0",
         "MANUAL",
         "rear wheel drive",
         "2.0",
         "Performance",
         "Compact",
         "Convertible",
         "35",
         "26",
         "819",
         "28195"
        ],
        [
         "35",
         "Mercedes-Benz",
         "190-Class",
         "1991",
         "regular unleaded",
         "130.0",
         "4.0",
         "MANUAL",
         "rear wheel drive",
         "4.0",
         "Luxury",
         "Compact",
         "Sedan",
         "26",
         "18",
         "617",
         "2000"
        ],
        [
         "36",
         "Mercedes-Benz",
         "190-Class",
         "1991",
         "regular unleaded",
         "158.0",
         "6.0",
         "MANUAL",
         "rear wheel drive",
         "4.0",
         "Luxury",
         "Compact",
         "Sedan",
         "25",
         "17",
         "617",
         "2000"
        ],
        [
         "37",
         "Mercedes-Benz",
         "190-Class",
         "1992",
         "regular unleaded",
         "158.0",
         "6.0",
         "MANUAL",
         "rear wheel drive",
         "4.0",
         "Luxury",
         "Compact",
         "Sedan",
         "25",
         "17",
         "617",
         "2000"
        ],
        [
         "38",
         "Mercedes-Benz",
         "190-Class",
         "1992",
         "regular unleaded",
         "130.0",
         "4.0",
         "MANUAL",
         "rear wheel drive",
         "4.0",
         "Luxury",
         "Compact",
         "Sedan",
         "26",
         "18",
         "617",
         "2000"
        ],
        [
         "39",
         "Mercedes-Benz",
         "190-Class",
         "1993",
         "regular unleaded",
         "130.0",
         "4.0",
         "MANUAL",
         "rear wheel drive",
         "4.0",
         "Luxury",
         "Compact",
         "Sedan",
         "26",
         "18",
         "617",
         "2000"
        ],
        [
         "40",
         "Mercedes-Benz",
         "190-Class",
         "1993",
         "regular unleaded",
         "158.0",
         "6.0",
         "MANUAL",
         "rear wheel drive",
         "4.0",
         "Luxury",
         "Compact",
         "Sedan",
         "25",
         "17",
         "617",
         "2000"
        ],
        [
         "41",
         "BMW",
         "2 Series",
         "2016",
         "premium unleaded (required)",
         "240.0",
         "4.0",
         "AUTOMATIC",
         "rear wheel drive",
         "2.0",
         "Luxury,Performance",
         "Compact",
         "Coupe",
         "35",
         "23",
         "3916",
         "32850"
        ],
        [
         "42",
         "BMW",
         "2 Series",
         "2016",
         "premium unleaded (required)",
         "240.0",
         "4.0",
         "AUTOMATIC",
         "rear wheel drive",
         "2.0",
         "Luxury",
         "Compact",
         "Convertible",
         "34",
         "23",
         "3916",
         "38650"
        ],
        [
         "43",
         "BMW",
         "2 Series",
         "2016",
         "premium unleaded (required)",
         "320.0",
         "6.0",
         "AUTOMATIC",
         "rear wheel drive",
         "2.0",
         "Factory Tuner,Luxury,High-Performance",
         "Compact",
         "Convertible",
         "31",
         "20",
         "3916",
         "48750"
        ],
        [
         "44",
         "BMW",
         "2 Series",
         "2016",
         "premium unleaded (required)",
         "240.0",
         "4.0",
         "AUTOMATIC",
         "all wheel drive",
         "2.0",
         "Luxury,Performance",
         "Compact",
         "Coupe",
         "35",
         "23",
         "3916",
         "34850"
        ],
        [
         "45",
         "BMW",
         "2 Series",
         "2016",
         "premium unleaded (required)",
         "240.0",
         "4.0",
         "AUTOMATIC",
         "all wheel drive",
         "2.0",
         "Luxury",
         "Compact",
         "Convertible",
         "34",
         "22",
         "3916",
         "40650"
        ],
        [
         "46",
         "BMW",
         "2 Series",
         "2016",
         "premium unleaded (required)",
         "320.0",
         "6.0",
         "AUTOMATIC",
         "rear wheel drive",
         "2.0",
         "Factory Tuner,Luxury,High-Performance",
         "Compact",
         "Coupe",
         "31",
         "20",
         "3916",
         "44150"
        ],
        [
         "47",
         "BMW",
         "2 Series",
         "2016",
         "premium unleaded (required)",
         "240.0",
         "4.0",
         "MANUAL",
         "rear wheel drive",
         "2.0",
         "Luxury,Performance",
         "Compact",
         "Coupe",
         "34",
         "22",
         "3916",
         "32850"
        ],
        [
         "48",
         "BMW",
         "2 Series",
         "2016",
         "premium unleaded (required)",
         "320.0",
         "6.0",
         "AUTOMATIC",
         "all wheel drive",
         "2.0",
         "Factory Tuner,Luxury,High-Performance",
         "Compact",
         "Coupe",
         "30",
         "20",
         "3916",
         "46150"
        ],
        [
         "49",
         "BMW",
         "2 Series",
         "2016",
         "premium unleaded (required)",
         "320.0",
         "6.0",
         "AUTOMATIC",
         "rear wheel drive",
         "2.0",
         "Factory Tuner,Luxury,High-Performance",
         "Compact",
         "Convertible",
         "30",
         "20",
         "3916",
         "50750"
        ]
       ],
       "shape": {
        "columns": 16,
        "rows": 11914
       }
      },
      "text/html": [
       "<div>\n",
       "<style scoped>\n",
       "    .dataframe tbody tr th:only-of-type {\n",
       "        vertical-align: middle;\n",
       "    }\n",
       "\n",
       "    .dataframe tbody tr th {\n",
       "        vertical-align: top;\n",
       "    }\n",
       "\n",
       "    .dataframe thead th {\n",
       "        text-align: right;\n",
       "    }\n",
       "</style>\n",
       "<table border=\"1\" class=\"dataframe\">\n",
       "  <thead>\n",
       "    <tr style=\"text-align: right;\">\n",
       "      <th></th>\n",
       "      <th>Make</th>\n",
       "      <th>Model</th>\n",
       "      <th>Year</th>\n",
       "      <th>Engine Fuel Type</th>\n",
       "      <th>Engine HP</th>\n",
       "      <th>Engine Cylinders</th>\n",
       "      <th>Transmission Type</th>\n",
       "      <th>Driven_Wheels</th>\n",
       "      <th>Number of Doors</th>\n",
       "      <th>Market Category</th>\n",
       "      <th>Vehicle Size</th>\n",
       "      <th>Vehicle Style</th>\n",
       "      <th>highway MPG</th>\n",
       "      <th>city mpg</th>\n",
       "      <th>Popularity</th>\n",
       "      <th>MSRP</th>\n",
       "    </tr>\n",
       "  </thead>\n",
       "  <tbody>\n",
       "    <tr>\n",
       "      <th>0</th>\n",
       "      <td>BMW</td>\n",
       "      <td>1 Series M</td>\n",
       "      <td>2011</td>\n",
       "      <td>premium unleaded (required)</td>\n",
       "      <td>335.0</td>\n",
       "      <td>6.0</td>\n",
       "      <td>MANUAL</td>\n",
       "      <td>rear wheel drive</td>\n",
       "      <td>2.0</td>\n",
       "      <td>Factory Tuner,Luxury,High-Performance</td>\n",
       "      <td>Compact</td>\n",
       "      <td>Coupe</td>\n",
       "      <td>26</td>\n",
       "      <td>19</td>\n",
       "      <td>3916</td>\n",
       "      <td>46135</td>\n",
       "    </tr>\n",
       "    <tr>\n",
       "      <th>1</th>\n",
       "      <td>BMW</td>\n",
       "      <td>1 Series</td>\n",
       "      <td>2011</td>\n",
       "      <td>premium unleaded (required)</td>\n",
       "      <td>300.0</td>\n",
       "      <td>6.0</td>\n",
       "      <td>MANUAL</td>\n",
       "      <td>rear wheel drive</td>\n",
       "      <td>2.0</td>\n",
       "      <td>Luxury,Performance</td>\n",
       "      <td>Compact</td>\n",
       "      <td>Convertible</td>\n",
       "      <td>28</td>\n",
       "      <td>19</td>\n",
       "      <td>3916</td>\n",
       "      <td>40650</td>\n",
       "    </tr>\n",
       "    <tr>\n",
       "      <th>2</th>\n",
       "      <td>BMW</td>\n",
       "      <td>1 Series</td>\n",
       "      <td>2011</td>\n",
       "      <td>premium unleaded (required)</td>\n",
       "      <td>300.0</td>\n",
       "      <td>6.0</td>\n",
       "      <td>MANUAL</td>\n",
       "      <td>rear wheel drive</td>\n",
       "      <td>2.0</td>\n",
       "      <td>Luxury,High-Performance</td>\n",
       "      <td>Compact</td>\n",
       "      <td>Coupe</td>\n",
       "      <td>28</td>\n",
       "      <td>20</td>\n",
       "      <td>3916</td>\n",
       "      <td>36350</td>\n",
       "    </tr>\n",
       "    <tr>\n",
       "      <th>3</th>\n",
       "      <td>BMW</td>\n",
       "      <td>1 Series</td>\n",
       "      <td>2011</td>\n",
       "      <td>premium unleaded (required)</td>\n",
       "      <td>230.0</td>\n",
       "      <td>6.0</td>\n",
       "      <td>MANUAL</td>\n",
       "      <td>rear wheel drive</td>\n",
       "      <td>2.0</td>\n",
       "      <td>Luxury,Performance</td>\n",
       "      <td>Compact</td>\n",
       "      <td>Coupe</td>\n",
       "      <td>28</td>\n",
       "      <td>18</td>\n",
       "      <td>3916</td>\n",
       "      <td>29450</td>\n",
       "    </tr>\n",
       "    <tr>\n",
       "      <th>4</th>\n",
       "      <td>BMW</td>\n",
       "      <td>1 Series</td>\n",
       "      <td>2011</td>\n",
       "      <td>premium unleaded (required)</td>\n",
       "      <td>230.0</td>\n",
       "      <td>6.0</td>\n",
       "      <td>MANUAL</td>\n",
       "      <td>rear wheel drive</td>\n",
       "      <td>2.0</td>\n",
       "      <td>Luxury</td>\n",
       "      <td>Compact</td>\n",
       "      <td>Convertible</td>\n",
       "      <td>28</td>\n",
       "      <td>18</td>\n",
       "      <td>3916</td>\n",
       "      <td>34500</td>\n",
       "    </tr>\n",
       "    <tr>\n",
       "      <th>...</th>\n",
       "      <td>...</td>\n",
       "      <td>...</td>\n",
       "      <td>...</td>\n",
       "      <td>...</td>\n",
       "      <td>...</td>\n",
       "      <td>...</td>\n",
       "      <td>...</td>\n",
       "      <td>...</td>\n",
       "      <td>...</td>\n",
       "      <td>...</td>\n",
       "      <td>...</td>\n",
       "      <td>...</td>\n",
       "      <td>...</td>\n",
       "      <td>...</td>\n",
       "      <td>...</td>\n",
       "      <td>...</td>\n",
       "    </tr>\n",
       "    <tr>\n",
       "      <th>11909</th>\n",
       "      <td>Acura</td>\n",
       "      <td>ZDX</td>\n",
       "      <td>2012</td>\n",
       "      <td>premium unleaded (required)</td>\n",
       "      <td>300.0</td>\n",
       "      <td>6.0</td>\n",
       "      <td>AUTOMATIC</td>\n",
       "      <td>all wheel drive</td>\n",
       "      <td>4.0</td>\n",
       "      <td>Crossover,Hatchback,Luxury</td>\n",
       "      <td>Midsize</td>\n",
       "      <td>4dr Hatchback</td>\n",
       "      <td>23</td>\n",
       "      <td>16</td>\n",
       "      <td>204</td>\n",
       "      <td>46120</td>\n",
       "    </tr>\n",
       "    <tr>\n",
       "      <th>11910</th>\n",
       "      <td>Acura</td>\n",
       "      <td>ZDX</td>\n",
       "      <td>2012</td>\n",
       "      <td>premium unleaded (required)</td>\n",
       "      <td>300.0</td>\n",
       "      <td>6.0</td>\n",
       "      <td>AUTOMATIC</td>\n",
       "      <td>all wheel drive</td>\n",
       "      <td>4.0</td>\n",
       "      <td>Crossover,Hatchback,Luxury</td>\n",
       "      <td>Midsize</td>\n",
       "      <td>4dr Hatchback</td>\n",
       "      <td>23</td>\n",
       "      <td>16</td>\n",
       "      <td>204</td>\n",
       "      <td>56670</td>\n",
       "    </tr>\n",
       "    <tr>\n",
       "      <th>11911</th>\n",
       "      <td>Acura</td>\n",
       "      <td>ZDX</td>\n",
       "      <td>2012</td>\n",
       "      <td>premium unleaded (required)</td>\n",
       "      <td>300.0</td>\n",
       "      <td>6.0</td>\n",
       "      <td>AUTOMATIC</td>\n",
       "      <td>all wheel drive</td>\n",
       "      <td>4.0</td>\n",
       "      <td>Crossover,Hatchback,Luxury</td>\n",
       "      <td>Midsize</td>\n",
       "      <td>4dr Hatchback</td>\n",
       "      <td>23</td>\n",
       "      <td>16</td>\n",
       "      <td>204</td>\n",
       "      <td>50620</td>\n",
       "    </tr>\n",
       "    <tr>\n",
       "      <th>11912</th>\n",
       "      <td>Acura</td>\n",
       "      <td>ZDX</td>\n",
       "      <td>2013</td>\n",
       "      <td>premium unleaded (recommended)</td>\n",
       "      <td>300.0</td>\n",
       "      <td>6.0</td>\n",
       "      <td>AUTOMATIC</td>\n",
       "      <td>all wheel drive</td>\n",
       "      <td>4.0</td>\n",
       "      <td>Crossover,Hatchback,Luxury</td>\n",
       "      <td>Midsize</td>\n",
       "      <td>4dr Hatchback</td>\n",
       "      <td>23</td>\n",
       "      <td>16</td>\n",
       "      <td>204</td>\n",
       "      <td>50920</td>\n",
       "    </tr>\n",
       "    <tr>\n",
       "      <th>11913</th>\n",
       "      <td>Lincoln</td>\n",
       "      <td>Zephyr</td>\n",
       "      <td>2006</td>\n",
       "      <td>regular unleaded</td>\n",
       "      <td>221.0</td>\n",
       "      <td>6.0</td>\n",
       "      <td>AUTOMATIC</td>\n",
       "      <td>front wheel drive</td>\n",
       "      <td>4.0</td>\n",
       "      <td>Luxury</td>\n",
       "      <td>Midsize</td>\n",
       "      <td>Sedan</td>\n",
       "      <td>26</td>\n",
       "      <td>17</td>\n",
       "      <td>61</td>\n",
       "      <td>28995</td>\n",
       "    </tr>\n",
       "  </tbody>\n",
       "</table>\n",
       "<p>11914 rows × 16 columns</p>\n",
       "</div>"
      ],
      "text/plain": [
       "          Make       Model  Year                Engine Fuel Type  Engine HP  \\\n",
       "0          BMW  1 Series M  2011     premium unleaded (required)      335.0   \n",
       "1          BMW    1 Series  2011     premium unleaded (required)      300.0   \n",
       "2          BMW    1 Series  2011     premium unleaded (required)      300.0   \n",
       "3          BMW    1 Series  2011     premium unleaded (required)      230.0   \n",
       "4          BMW    1 Series  2011     premium unleaded (required)      230.0   \n",
       "...        ...         ...   ...                             ...        ...   \n",
       "11909    Acura         ZDX  2012     premium unleaded (required)      300.0   \n",
       "11910    Acura         ZDX  2012     premium unleaded (required)      300.0   \n",
       "11911    Acura         ZDX  2012     premium unleaded (required)      300.0   \n",
       "11912    Acura         ZDX  2013  premium unleaded (recommended)      300.0   \n",
       "11913  Lincoln      Zephyr  2006                regular unleaded      221.0   \n",
       "\n",
       "       Engine Cylinders Transmission Type      Driven_Wheels  Number of Doors  \\\n",
       "0                   6.0            MANUAL   rear wheel drive              2.0   \n",
       "1                   6.0            MANUAL   rear wheel drive              2.0   \n",
       "2                   6.0            MANUAL   rear wheel drive              2.0   \n",
       "3                   6.0            MANUAL   rear wheel drive              2.0   \n",
       "4                   6.0            MANUAL   rear wheel drive              2.0   \n",
       "...                 ...               ...                ...              ...   \n",
       "11909               6.0         AUTOMATIC    all wheel drive              4.0   \n",
       "11910               6.0         AUTOMATIC    all wheel drive              4.0   \n",
       "11911               6.0         AUTOMATIC    all wheel drive              4.0   \n",
       "11912               6.0         AUTOMATIC    all wheel drive              4.0   \n",
       "11913               6.0         AUTOMATIC  front wheel drive              4.0   \n",
       "\n",
       "                             Market Category Vehicle Size  Vehicle Style  \\\n",
       "0      Factory Tuner,Luxury,High-Performance      Compact          Coupe   \n",
       "1                         Luxury,Performance      Compact    Convertible   \n",
       "2                    Luxury,High-Performance      Compact          Coupe   \n",
       "3                         Luxury,Performance      Compact          Coupe   \n",
       "4                                     Luxury      Compact    Convertible   \n",
       "...                                      ...          ...            ...   \n",
       "11909             Crossover,Hatchback,Luxury      Midsize  4dr Hatchback   \n",
       "11910             Crossover,Hatchback,Luxury      Midsize  4dr Hatchback   \n",
       "11911             Crossover,Hatchback,Luxury      Midsize  4dr Hatchback   \n",
       "11912             Crossover,Hatchback,Luxury      Midsize  4dr Hatchback   \n",
       "11913                                 Luxury      Midsize          Sedan   \n",
       "\n",
       "       highway MPG  city mpg  Popularity   MSRP  \n",
       "0               26        19        3916  46135  \n",
       "1               28        19        3916  40650  \n",
       "2               28        20        3916  36350  \n",
       "3               28        18        3916  29450  \n",
       "4               28        18        3916  34500  \n",
       "...            ...       ...         ...    ...  \n",
       "11909           23        16         204  46120  \n",
       "11910           23        16         204  56670  \n",
       "11911           23        16         204  50620  \n",
       "11912           23        16         204  50920  \n",
       "11913           26        17          61  28995  \n",
       "\n",
       "[11914 rows x 16 columns]"
      ]
     },
     "execution_count": 30,
     "metadata": {},
     "output_type": "execute_result"
    }
   ],
   "source": [
    "df = pd.read_csv('data.csv')\n",
    "df\n"
   ]
  },
  {
   "cell_type": "code",
   "execution_count": 31,
   "id": "ee0a3422",
   "metadata": {},
   "outputs": [
    {
     "data": {
      "text/plain": [
       "Index(['Make', 'Model', 'Engine Fuel Type', 'Transmission Type',\n",
       "       'Driven_Wheels', 'Market Category', 'Vehicle Size', 'Vehicle Style'],\n",
       "      dtype='object')"
      ]
     },
     "execution_count": 31,
     "metadata": {},
     "output_type": "execute_result"
    }
   ],
   "source": [
    "strings = df.dtypes[df.dtypes == 'object'].index\n",
    "strings"
   ]
  },
  {
   "cell_type": "code",
   "execution_count": 32,
   "metadata": {},
   "outputs": [
    {
     "data": {
      "application/vnd.microsoft.datawrangler.viewer.v0+json": {
       "columns": [
        {
         "name": "index",
         "rawType": "int64",
         "type": "integer"
        },
        {
         "name": "make",
         "rawType": "object",
         "type": "string"
        },
        {
         "name": "model",
         "rawType": "object",
         "type": "string"
        },
        {
         "name": "year",
         "rawType": "int64",
         "type": "integer"
        },
        {
         "name": "engine_fuel_type",
         "rawType": "object",
         "type": "unknown"
        },
        {
         "name": "engine_hp",
         "rawType": "float64",
         "type": "float"
        },
        {
         "name": "engine_cylinders",
         "rawType": "float64",
         "type": "float"
        },
        {
         "name": "transmission_type",
         "rawType": "object",
         "type": "string"
        },
        {
         "name": "driven_wheels",
         "rawType": "object",
         "type": "string"
        },
        {
         "name": "number_of_doors",
         "rawType": "float64",
         "type": "float"
        },
        {
         "name": "market_category",
         "rawType": "object",
         "type": "unknown"
        },
        {
         "name": "vehicle_size",
         "rawType": "object",
         "type": "string"
        },
        {
         "name": "vehicle_style",
         "rawType": "object",
         "type": "string"
        },
        {
         "name": "highway_mpg",
         "rawType": "int64",
         "type": "integer"
        },
        {
         "name": "city_mpg",
         "rawType": "int64",
         "type": "integer"
        },
        {
         "name": "popularity",
         "rawType": "int64",
         "type": "integer"
        },
        {
         "name": "msrp",
         "rawType": "int64",
         "type": "integer"
        }
       ],
       "ref": "0345763d-ea85-45e1-af39-151525033a10",
       "rows": [
        [
         "0",
         "BMW",
         "1 Series M",
         "2011",
         "premium unleaded (required)",
         "335.0",
         "6.0",
         "MANUAL",
         "rear wheel drive",
         "2.0",
         "Factory Tuner,Luxury,High-Performance",
         "Compact",
         "Coupe",
         "26",
         "19",
         "3916",
         "46135"
        ],
        [
         "1",
         "BMW",
         "1 Series",
         "2011",
         "premium unleaded (required)",
         "300.0",
         "6.0",
         "MANUAL",
         "rear wheel drive",
         "2.0",
         "Luxury,Performance",
         "Compact",
         "Convertible",
         "28",
         "19",
         "3916",
         "40650"
        ],
        [
         "2",
         "BMW",
         "1 Series",
         "2011",
         "premium unleaded (required)",
         "300.0",
         "6.0",
         "MANUAL",
         "rear wheel drive",
         "2.0",
         "Luxury,High-Performance",
         "Compact",
         "Coupe",
         "28",
         "20",
         "3916",
         "36350"
        ],
        [
         "3",
         "BMW",
         "1 Series",
         "2011",
         "premium unleaded (required)",
         "230.0",
         "6.0",
         "MANUAL",
         "rear wheel drive",
         "2.0",
         "Luxury,Performance",
         "Compact",
         "Coupe",
         "28",
         "18",
         "3916",
         "29450"
        ],
        [
         "4",
         "BMW",
         "1 Series",
         "2011",
         "premium unleaded (required)",
         "230.0",
         "6.0",
         "MANUAL",
         "rear wheel drive",
         "2.0",
         "Luxury",
         "Compact",
         "Convertible",
         "28",
         "18",
         "3916",
         "34500"
        ],
        [
         "5",
         "BMW",
         "1 Series",
         "2012",
         "premium unleaded (required)",
         "230.0",
         "6.0",
         "MANUAL",
         "rear wheel drive",
         "2.0",
         "Luxury,Performance",
         "Compact",
         "Coupe",
         "28",
         "18",
         "3916",
         "31200"
        ],
        [
         "6",
         "BMW",
         "1 Series",
         "2012",
         "premium unleaded (required)",
         "300.0",
         "6.0",
         "MANUAL",
         "rear wheel drive",
         "2.0",
         "Luxury,Performance",
         "Compact",
         "Convertible",
         "26",
         "17",
         "3916",
         "44100"
        ],
        [
         "7",
         "BMW",
         "1 Series",
         "2012",
         "premium unleaded (required)",
         "300.0",
         "6.0",
         "MANUAL",
         "rear wheel drive",
         "2.0",
         "Luxury,High-Performance",
         "Compact",
         "Coupe",
         "28",
         "20",
         "3916",
         "39300"
        ],
        [
         "8",
         "BMW",
         "1 Series",
         "2012",
         "premium unleaded (required)",
         "230.0",
         "6.0",
         "MANUAL",
         "rear wheel drive",
         "2.0",
         "Luxury",
         "Compact",
         "Convertible",
         "28",
         "18",
         "3916",
         "36900"
        ],
        [
         "9",
         "BMW",
         "1 Series",
         "2013",
         "premium unleaded (required)",
         "230.0",
         "6.0",
         "MANUAL",
         "rear wheel drive",
         "2.0",
         "Luxury",
         "Compact",
         "Convertible",
         "27",
         "18",
         "3916",
         "37200"
        ],
        [
         "10",
         "BMW",
         "1 Series",
         "2013",
         "premium unleaded (required)",
         "300.0",
         "6.0",
         "MANUAL",
         "rear wheel drive",
         "2.0",
         "Luxury,High-Performance",
         "Compact",
         "Coupe",
         "28",
         "20",
         "3916",
         "39600"
        ],
        [
         "11",
         "BMW",
         "1 Series",
         "2013",
         "premium unleaded (required)",
         "230.0",
         "6.0",
         "MANUAL",
         "rear wheel drive",
         "2.0",
         "Luxury,Performance",
         "Compact",
         "Coupe",
         "28",
         "19",
         "3916",
         "31500"
        ],
        [
         "12",
         "BMW",
         "1 Series",
         "2013",
         "premium unleaded (required)",
         "300.0",
         "6.0",
         "MANUAL",
         "rear wheel drive",
         "2.0",
         "Luxury,Performance",
         "Compact",
         "Convertible",
         "28",
         "19",
         "3916",
         "44400"
        ],
        [
         "13",
         "BMW",
         "1 Series",
         "2013",
         "premium unleaded (required)",
         "230.0",
         "6.0",
         "MANUAL",
         "rear wheel drive",
         "2.0",
         "Luxury",
         "Compact",
         "Convertible",
         "28",
         "19",
         "3916",
         "37200"
        ],
        [
         "14",
         "BMW",
         "1 Series",
         "2013",
         "premium unleaded (required)",
         "230.0",
         "6.0",
         "MANUAL",
         "rear wheel drive",
         "2.0",
         "Luxury,Performance",
         "Compact",
         "Coupe",
         "28",
         "19",
         "3916",
         "31500"
        ],
        [
         "15",
         "BMW",
         "1 Series",
         "2013",
         "premium unleaded (required)",
         "320.0",
         "6.0",
         "MANUAL",
         "rear wheel drive",
         "2.0",
         "Luxury,High-Performance",
         "Compact",
         "Convertible",
         "25",
         "18",
         "3916",
         "48250"
        ],
        [
         "16",
         "BMW",
         "1 Series",
         "2013",
         "premium unleaded (required)",
         "320.0",
         "6.0",
         "MANUAL",
         "rear wheel drive",
         "2.0",
         "Luxury,High-Performance",
         "Compact",
         "Coupe",
         "28",
         "20",
         "3916",
         "43550"
        ],
        [
         "17",
         "Audi",
         "100",
         "1992",
         "regular unleaded",
         "172.0",
         "6.0",
         "MANUAL",
         "front wheel drive",
         "4.0",
         "Luxury",
         "Midsize",
         "Sedan",
         "24",
         "17",
         "3105",
         "2000"
        ],
        [
         "18",
         "Audi",
         "100",
         "1992",
         "regular unleaded",
         "172.0",
         "6.0",
         "MANUAL",
         "front wheel drive",
         "4.0",
         "Luxury",
         "Midsize",
         "Sedan",
         "24",
         "17",
         "3105",
         "2000"
        ],
        [
         "19",
         "Audi",
         "100",
         "1992",
         "regular unleaded",
         "172.0",
         "6.0",
         "AUTOMATIC",
         "all wheel drive",
         "4.0",
         "Luxury",
         "Midsize",
         "Wagon",
         "20",
         "16",
         "3105",
         "2000"
        ],
        [
         "20",
         "Audi",
         "100",
         "1992",
         "regular unleaded",
         "172.0",
         "6.0",
         "MANUAL",
         "front wheel drive",
         "4.0",
         "Luxury",
         "Midsize",
         "Sedan",
         "24",
         "17",
         "3105",
         "2000"
        ],
        [
         "21",
         "Audi",
         "100",
         "1992",
         "regular unleaded",
         "172.0",
         "6.0",
         "MANUAL",
         "all wheel drive",
         "4.0",
         "Luxury",
         "Midsize",
         "Sedan",
         "21",
         "16",
         "3105",
         "2000"
        ],
        [
         "22",
         "Audi",
         "100",
         "1993",
         "regular unleaded",
         "172.0",
         "6.0",
         "MANUAL",
         "front wheel drive",
         "4.0",
         "Luxury",
         "Midsize",
         "Sedan",
         "24",
         "17",
         "3105",
         "2000"
        ],
        [
         "23",
         "Audi",
         "100",
         "1993",
         "regular unleaded",
         "172.0",
         "6.0",
         "AUTOMATIC",
         "all wheel drive",
         "4.0",
         "Luxury",
         "Midsize",
         "Wagon",
         "20",
         "16",
         "3105",
         "2000"
        ],
        [
         "24",
         "Audi",
         "100",
         "1993",
         "regular unleaded",
         "172.0",
         "6.0",
         "MANUAL",
         "front wheel drive",
         "4.0",
         "Luxury",
         "Midsize",
         "Sedan",
         "24",
         "17",
         "3105",
         "2000"
        ],
        [
         "25",
         "Audi",
         "100",
         "1993",
         "regular unleaded",
         "172.0",
         "6.0",
         "MANUAL",
         "front wheel drive",
         "4.0",
         "Luxury",
         "Midsize",
         "Sedan",
         "24",
         "17",
         "3105",
         "2000"
        ],
        [
         "26",
         "Audi",
         "100",
         "1993",
         "regular unleaded",
         "172.0",
         "6.0",
         "MANUAL",
         "all wheel drive",
         "4.0",
         "Luxury",
         "Midsize",
         "Sedan",
         "21",
         "16",
         "3105",
         "2000"
        ],
        [
         "27",
         "Audi",
         "100",
         "1994",
         "regular unleaded",
         "172.0",
         "6.0",
         "AUTOMATIC",
         "front wheel drive",
         "4.0",
         "Luxury",
         "Midsize",
         "Wagon",
         "21",
         "16",
         "3105",
         "2000"
        ],
        [
         "28",
         "Audi",
         "100",
         "1994",
         "regular unleaded",
         "172.0",
         "6.0",
         "MANUAL",
         "all wheel drive",
         "4.0",
         "Luxury",
         "Midsize",
         "Sedan",
         "22",
         "16",
         "3105",
         "2000"
        ],
        [
         "29",
         "Audi",
         "100",
         "1994",
         "regular unleaded",
         "172.0",
         "6.0",
         "MANUAL",
         "front wheel drive",
         "4.0",
         "Luxury",
         "Midsize",
         "Sedan",
         "22",
         "17",
         "3105",
         "2000"
        ],
        [
         "30",
         "Audi",
         "100",
         "1994",
         "regular unleaded",
         "172.0",
         "6.0",
         "AUTOMATIC",
         "front wheel drive",
         "4.0",
         "Luxury",
         "Midsize",
         "Sedan",
         "22",
         "16",
         "3105",
         "2000"
        ],
        [
         "31",
         "Audi",
         "100",
         "1994",
         "regular unleaded",
         "172.0",
         "6.0",
         "AUTOMATIC",
         "all wheel drive",
         "4.0",
         "Luxury",
         "Midsize",
         "Wagon",
         "21",
         "16",
         "3105",
         "2000"
        ],
        [
         "32",
         "FIAT",
         "124 Spider",
         "2017",
         "premium unleaded (recommended)",
         "160.0",
         "4.0",
         "MANUAL",
         "rear wheel drive",
         "2.0",
         "Performance",
         "Compact",
         "Convertible",
         "35",
         "26",
         "819",
         "27495"
        ],
        [
         "33",
         "FIAT",
         "124 Spider",
         "2017",
         "premium unleaded (recommended)",
         "160.0",
         "4.0",
         "MANUAL",
         "rear wheel drive",
         "2.0",
         "Performance",
         "Compact",
         "Convertible",
         "35",
         "26",
         "819",
         "24995"
        ],
        [
         "34",
         "FIAT",
         "124 Spider",
         "2017",
         "premium unleaded (recommended)",
         "160.0",
         "4.0",
         "MANUAL",
         "rear wheel drive",
         "2.0",
         "Performance",
         "Compact",
         "Convertible",
         "35",
         "26",
         "819",
         "28195"
        ],
        [
         "35",
         "Mercedes-Benz",
         "190-Class",
         "1991",
         "regular unleaded",
         "130.0",
         "4.0",
         "MANUAL",
         "rear wheel drive",
         "4.0",
         "Luxury",
         "Compact",
         "Sedan",
         "26",
         "18",
         "617",
         "2000"
        ],
        [
         "36",
         "Mercedes-Benz",
         "190-Class",
         "1991",
         "regular unleaded",
         "158.0",
         "6.0",
         "MANUAL",
         "rear wheel drive",
         "4.0",
         "Luxury",
         "Compact",
         "Sedan",
         "25",
         "17",
         "617",
         "2000"
        ],
        [
         "37",
         "Mercedes-Benz",
         "190-Class",
         "1992",
         "regular unleaded",
         "158.0",
         "6.0",
         "MANUAL",
         "rear wheel drive",
         "4.0",
         "Luxury",
         "Compact",
         "Sedan",
         "25",
         "17",
         "617",
         "2000"
        ],
        [
         "38",
         "Mercedes-Benz",
         "190-Class",
         "1992",
         "regular unleaded",
         "130.0",
         "4.0",
         "MANUAL",
         "rear wheel drive",
         "4.0",
         "Luxury",
         "Compact",
         "Sedan",
         "26",
         "18",
         "617",
         "2000"
        ],
        [
         "39",
         "Mercedes-Benz",
         "190-Class",
         "1993",
         "regular unleaded",
         "130.0",
         "4.0",
         "MANUAL",
         "rear wheel drive",
         "4.0",
         "Luxury",
         "Compact",
         "Sedan",
         "26",
         "18",
         "617",
         "2000"
        ],
        [
         "40",
         "Mercedes-Benz",
         "190-Class",
         "1993",
         "regular unleaded",
         "158.0",
         "6.0",
         "MANUAL",
         "rear wheel drive",
         "4.0",
         "Luxury",
         "Compact",
         "Sedan",
         "25",
         "17",
         "617",
         "2000"
        ],
        [
         "41",
         "BMW",
         "2 Series",
         "2016",
         "premium unleaded (required)",
         "240.0",
         "4.0",
         "AUTOMATIC",
         "rear wheel drive",
         "2.0",
         "Luxury,Performance",
         "Compact",
         "Coupe",
         "35",
         "23",
         "3916",
         "32850"
        ],
        [
         "42",
         "BMW",
         "2 Series",
         "2016",
         "premium unleaded (required)",
         "240.0",
         "4.0",
         "AUTOMATIC",
         "rear wheel drive",
         "2.0",
         "Luxury",
         "Compact",
         "Convertible",
         "34",
         "23",
         "3916",
         "38650"
        ],
        [
         "43",
         "BMW",
         "2 Series",
         "2016",
         "premium unleaded (required)",
         "320.0",
         "6.0",
         "AUTOMATIC",
         "rear wheel drive",
         "2.0",
         "Factory Tuner,Luxury,High-Performance",
         "Compact",
         "Convertible",
         "31",
         "20",
         "3916",
         "48750"
        ],
        [
         "44",
         "BMW",
         "2 Series",
         "2016",
         "premium unleaded (required)",
         "240.0",
         "4.0",
         "AUTOMATIC",
         "all wheel drive",
         "2.0",
         "Luxury,Performance",
         "Compact",
         "Coupe",
         "35",
         "23",
         "3916",
         "34850"
        ],
        [
         "45",
         "BMW",
         "2 Series",
         "2016",
         "premium unleaded (required)",
         "240.0",
         "4.0",
         "AUTOMATIC",
         "all wheel drive",
         "2.0",
         "Luxury",
         "Compact",
         "Convertible",
         "34",
         "22",
         "3916",
         "40650"
        ],
        [
         "46",
         "BMW",
         "2 Series",
         "2016",
         "premium unleaded (required)",
         "320.0",
         "6.0",
         "AUTOMATIC",
         "rear wheel drive",
         "2.0",
         "Factory Tuner,Luxury,High-Performance",
         "Compact",
         "Coupe",
         "31",
         "20",
         "3916",
         "44150"
        ],
        [
         "47",
         "BMW",
         "2 Series",
         "2016",
         "premium unleaded (required)",
         "240.0",
         "4.0",
         "MANUAL",
         "rear wheel drive",
         "2.0",
         "Luxury,Performance",
         "Compact",
         "Coupe",
         "34",
         "22",
         "3916",
         "32850"
        ],
        [
         "48",
         "BMW",
         "2 Series",
         "2016",
         "premium unleaded (required)",
         "320.0",
         "6.0",
         "AUTOMATIC",
         "all wheel drive",
         "2.0",
         "Factory Tuner,Luxury,High-Performance",
         "Compact",
         "Coupe",
         "30",
         "20",
         "3916",
         "46150"
        ],
        [
         "49",
         "BMW",
         "2 Series",
         "2016",
         "premium unleaded (required)",
         "320.0",
         "6.0",
         "AUTOMATIC",
         "rear wheel drive",
         "2.0",
         "Factory Tuner,Luxury,High-Performance",
         "Compact",
         "Convertible",
         "30",
         "20",
         "3916",
         "50750"
        ]
       ],
       "shape": {
        "columns": 16,
        "rows": 11914
       }
      },
      "text/html": [
       "<div>\n",
       "<style scoped>\n",
       "    .dataframe tbody tr th:only-of-type {\n",
       "        vertical-align: middle;\n",
       "    }\n",
       "\n",
       "    .dataframe tbody tr th {\n",
       "        vertical-align: top;\n",
       "    }\n",
       "\n",
       "    .dataframe thead th {\n",
       "        text-align: right;\n",
       "    }\n",
       "</style>\n",
       "<table border=\"1\" class=\"dataframe\">\n",
       "  <thead>\n",
       "    <tr style=\"text-align: right;\">\n",
       "      <th></th>\n",
       "      <th>make</th>\n",
       "      <th>model</th>\n",
       "      <th>year</th>\n",
       "      <th>engine_fuel_type</th>\n",
       "      <th>engine_hp</th>\n",
       "      <th>engine_cylinders</th>\n",
       "      <th>transmission_type</th>\n",
       "      <th>driven_wheels</th>\n",
       "      <th>number_of_doors</th>\n",
       "      <th>market_category</th>\n",
       "      <th>vehicle_size</th>\n",
       "      <th>vehicle_style</th>\n",
       "      <th>highway_mpg</th>\n",
       "      <th>city_mpg</th>\n",
       "      <th>popularity</th>\n",
       "      <th>msrp</th>\n",
       "    </tr>\n",
       "  </thead>\n",
       "  <tbody>\n",
       "    <tr>\n",
       "      <th>0</th>\n",
       "      <td>BMW</td>\n",
       "      <td>1 Series M</td>\n",
       "      <td>2011</td>\n",
       "      <td>premium unleaded (required)</td>\n",
       "      <td>335.0</td>\n",
       "      <td>6.0</td>\n",
       "      <td>MANUAL</td>\n",
       "      <td>rear wheel drive</td>\n",
       "      <td>2.0</td>\n",
       "      <td>Factory Tuner,Luxury,High-Performance</td>\n",
       "      <td>Compact</td>\n",
       "      <td>Coupe</td>\n",
       "      <td>26</td>\n",
       "      <td>19</td>\n",
       "      <td>3916</td>\n",
       "      <td>46135</td>\n",
       "    </tr>\n",
       "    <tr>\n",
       "      <th>1</th>\n",
       "      <td>BMW</td>\n",
       "      <td>1 Series</td>\n",
       "      <td>2011</td>\n",
       "      <td>premium unleaded (required)</td>\n",
       "      <td>300.0</td>\n",
       "      <td>6.0</td>\n",
       "      <td>MANUAL</td>\n",
       "      <td>rear wheel drive</td>\n",
       "      <td>2.0</td>\n",
       "      <td>Luxury,Performance</td>\n",
       "      <td>Compact</td>\n",
       "      <td>Convertible</td>\n",
       "      <td>28</td>\n",
       "      <td>19</td>\n",
       "      <td>3916</td>\n",
       "      <td>40650</td>\n",
       "    </tr>\n",
       "    <tr>\n",
       "      <th>2</th>\n",
       "      <td>BMW</td>\n",
       "      <td>1 Series</td>\n",
       "      <td>2011</td>\n",
       "      <td>premium unleaded (required)</td>\n",
       "      <td>300.0</td>\n",
       "      <td>6.0</td>\n",
       "      <td>MANUAL</td>\n",
       "      <td>rear wheel drive</td>\n",
       "      <td>2.0</td>\n",
       "      <td>Luxury,High-Performance</td>\n",
       "      <td>Compact</td>\n",
       "      <td>Coupe</td>\n",
       "      <td>28</td>\n",
       "      <td>20</td>\n",
       "      <td>3916</td>\n",
       "      <td>36350</td>\n",
       "    </tr>\n",
       "    <tr>\n",
       "      <th>3</th>\n",
       "      <td>BMW</td>\n",
       "      <td>1 Series</td>\n",
       "      <td>2011</td>\n",
       "      <td>premium unleaded (required)</td>\n",
       "      <td>230.0</td>\n",
       "      <td>6.0</td>\n",
       "      <td>MANUAL</td>\n",
       "      <td>rear wheel drive</td>\n",
       "      <td>2.0</td>\n",
       "      <td>Luxury,Performance</td>\n",
       "      <td>Compact</td>\n",
       "      <td>Coupe</td>\n",
       "      <td>28</td>\n",
       "      <td>18</td>\n",
       "      <td>3916</td>\n",
       "      <td>29450</td>\n",
       "    </tr>\n",
       "    <tr>\n",
       "      <th>4</th>\n",
       "      <td>BMW</td>\n",
       "      <td>1 Series</td>\n",
       "      <td>2011</td>\n",
       "      <td>premium unleaded (required)</td>\n",
       "      <td>230.0</td>\n",
       "      <td>6.0</td>\n",
       "      <td>MANUAL</td>\n",
       "      <td>rear wheel drive</td>\n",
       "      <td>2.0</td>\n",
       "      <td>Luxury</td>\n",
       "      <td>Compact</td>\n",
       "      <td>Convertible</td>\n",
       "      <td>28</td>\n",
       "      <td>18</td>\n",
       "      <td>3916</td>\n",
       "      <td>34500</td>\n",
       "    </tr>\n",
       "    <tr>\n",
       "      <th>...</th>\n",
       "      <td>...</td>\n",
       "      <td>...</td>\n",
       "      <td>...</td>\n",
       "      <td>...</td>\n",
       "      <td>...</td>\n",
       "      <td>...</td>\n",
       "      <td>...</td>\n",
       "      <td>...</td>\n",
       "      <td>...</td>\n",
       "      <td>...</td>\n",
       "      <td>...</td>\n",
       "      <td>...</td>\n",
       "      <td>...</td>\n",
       "      <td>...</td>\n",
       "      <td>...</td>\n",
       "      <td>...</td>\n",
       "    </tr>\n",
       "    <tr>\n",
       "      <th>11909</th>\n",
       "      <td>Acura</td>\n",
       "      <td>ZDX</td>\n",
       "      <td>2012</td>\n",
       "      <td>premium unleaded (required)</td>\n",
       "      <td>300.0</td>\n",
       "      <td>6.0</td>\n",
       "      <td>AUTOMATIC</td>\n",
       "      <td>all wheel drive</td>\n",
       "      <td>4.0</td>\n",
       "      <td>Crossover,Hatchback,Luxury</td>\n",
       "      <td>Midsize</td>\n",
       "      <td>4dr Hatchback</td>\n",
       "      <td>23</td>\n",
       "      <td>16</td>\n",
       "      <td>204</td>\n",
       "      <td>46120</td>\n",
       "    </tr>\n",
       "    <tr>\n",
       "      <th>11910</th>\n",
       "      <td>Acura</td>\n",
       "      <td>ZDX</td>\n",
       "      <td>2012</td>\n",
       "      <td>premium unleaded (required)</td>\n",
       "      <td>300.0</td>\n",
       "      <td>6.0</td>\n",
       "      <td>AUTOMATIC</td>\n",
       "      <td>all wheel drive</td>\n",
       "      <td>4.0</td>\n",
       "      <td>Crossover,Hatchback,Luxury</td>\n",
       "      <td>Midsize</td>\n",
       "      <td>4dr Hatchback</td>\n",
       "      <td>23</td>\n",
       "      <td>16</td>\n",
       "      <td>204</td>\n",
       "      <td>56670</td>\n",
       "    </tr>\n",
       "    <tr>\n",
       "      <th>11911</th>\n",
       "      <td>Acura</td>\n",
       "      <td>ZDX</td>\n",
       "      <td>2012</td>\n",
       "      <td>premium unleaded (required)</td>\n",
       "      <td>300.0</td>\n",
       "      <td>6.0</td>\n",
       "      <td>AUTOMATIC</td>\n",
       "      <td>all wheel drive</td>\n",
       "      <td>4.0</td>\n",
       "      <td>Crossover,Hatchback,Luxury</td>\n",
       "      <td>Midsize</td>\n",
       "      <td>4dr Hatchback</td>\n",
       "      <td>23</td>\n",
       "      <td>16</td>\n",
       "      <td>204</td>\n",
       "      <td>50620</td>\n",
       "    </tr>\n",
       "    <tr>\n",
       "      <th>11912</th>\n",
       "      <td>Acura</td>\n",
       "      <td>ZDX</td>\n",
       "      <td>2013</td>\n",
       "      <td>premium unleaded (recommended)</td>\n",
       "      <td>300.0</td>\n",
       "      <td>6.0</td>\n",
       "      <td>AUTOMATIC</td>\n",
       "      <td>all wheel drive</td>\n",
       "      <td>4.0</td>\n",
       "      <td>Crossover,Hatchback,Luxury</td>\n",
       "      <td>Midsize</td>\n",
       "      <td>4dr Hatchback</td>\n",
       "      <td>23</td>\n",
       "      <td>16</td>\n",
       "      <td>204</td>\n",
       "      <td>50920</td>\n",
       "    </tr>\n",
       "    <tr>\n",
       "      <th>11913</th>\n",
       "      <td>Lincoln</td>\n",
       "      <td>Zephyr</td>\n",
       "      <td>2006</td>\n",
       "      <td>regular unleaded</td>\n",
       "      <td>221.0</td>\n",
       "      <td>6.0</td>\n",
       "      <td>AUTOMATIC</td>\n",
       "      <td>front wheel drive</td>\n",
       "      <td>4.0</td>\n",
       "      <td>Luxury</td>\n",
       "      <td>Midsize</td>\n",
       "      <td>Sedan</td>\n",
       "      <td>26</td>\n",
       "      <td>17</td>\n",
       "      <td>61</td>\n",
       "      <td>28995</td>\n",
       "    </tr>\n",
       "  </tbody>\n",
       "</table>\n",
       "<p>11914 rows × 16 columns</p>\n",
       "</div>"
      ],
      "text/plain": [
       "          make       model  year                engine_fuel_type  engine_hp  \\\n",
       "0          BMW  1 Series M  2011     premium unleaded (required)      335.0   \n",
       "1          BMW    1 Series  2011     premium unleaded (required)      300.0   \n",
       "2          BMW    1 Series  2011     premium unleaded (required)      300.0   \n",
       "3          BMW    1 Series  2011     premium unleaded (required)      230.0   \n",
       "4          BMW    1 Series  2011     premium unleaded (required)      230.0   \n",
       "...        ...         ...   ...                             ...        ...   \n",
       "11909    Acura         ZDX  2012     premium unleaded (required)      300.0   \n",
       "11910    Acura         ZDX  2012     premium unleaded (required)      300.0   \n",
       "11911    Acura         ZDX  2012     premium unleaded (required)      300.0   \n",
       "11912    Acura         ZDX  2013  premium unleaded (recommended)      300.0   \n",
       "11913  Lincoln      Zephyr  2006                regular unleaded      221.0   \n",
       "\n",
       "       engine_cylinders transmission_type      driven_wheels  number_of_doors  \\\n",
       "0                   6.0            MANUAL   rear wheel drive              2.0   \n",
       "1                   6.0            MANUAL   rear wheel drive              2.0   \n",
       "2                   6.0            MANUAL   rear wheel drive              2.0   \n",
       "3                   6.0            MANUAL   rear wheel drive              2.0   \n",
       "4                   6.0            MANUAL   rear wheel drive              2.0   \n",
       "...                 ...               ...                ...              ...   \n",
       "11909               6.0         AUTOMATIC    all wheel drive              4.0   \n",
       "11910               6.0         AUTOMATIC    all wheel drive              4.0   \n",
       "11911               6.0         AUTOMATIC    all wheel drive              4.0   \n",
       "11912               6.0         AUTOMATIC    all wheel drive              4.0   \n",
       "11913               6.0         AUTOMATIC  front wheel drive              4.0   \n",
       "\n",
       "                             market_category vehicle_size  vehicle_style  \\\n",
       "0      Factory Tuner,Luxury,High-Performance      Compact          Coupe   \n",
       "1                         Luxury,Performance      Compact    Convertible   \n",
       "2                    Luxury,High-Performance      Compact          Coupe   \n",
       "3                         Luxury,Performance      Compact          Coupe   \n",
       "4                                     Luxury      Compact    Convertible   \n",
       "...                                      ...          ...            ...   \n",
       "11909             Crossover,Hatchback,Luxury      Midsize  4dr Hatchback   \n",
       "11910             Crossover,Hatchback,Luxury      Midsize  4dr Hatchback   \n",
       "11911             Crossover,Hatchback,Luxury      Midsize  4dr Hatchback   \n",
       "11912             Crossover,Hatchback,Luxury      Midsize  4dr Hatchback   \n",
       "11913                                 Luxury      Midsize          Sedan   \n",
       "\n",
       "       highway_mpg  city_mpg  popularity   msrp  \n",
       "0               26        19        3916  46135  \n",
       "1               28        19        3916  40650  \n",
       "2               28        20        3916  36350  \n",
       "3               28        18        3916  29450  \n",
       "4               28        18        3916  34500  \n",
       "...            ...       ...         ...    ...  \n",
       "11909           23        16         204  46120  \n",
       "11910           23        16         204  56670  \n",
       "11911           23        16         204  50620  \n",
       "11912           23        16         204  50920  \n",
       "11913           26        17          61  28995  \n",
       "\n",
       "[11914 rows x 16 columns]"
      ]
     },
     "execution_count": 32,
     "metadata": {},
     "output_type": "execute_result"
    }
   ],
   "source": [
    "df.columns = df.columns.str.lower().str.replace(' ', '_')\n",
    "df"
   ]
  },
  {
   "cell_type": "code",
   "execution_count": 33,
   "metadata": {},
   "outputs": [
    {
     "data": {
      "application/vnd.microsoft.datawrangler.viewer.v0+json": {
       "columns": [
        {
         "name": "index",
         "rawType": "int64",
         "type": "integer"
        },
        {
         "name": "make",
         "rawType": "object",
         "type": "string"
        }
       ],
       "ref": "777b3c28-338e-48a4-a1ac-caa56269c77e",
       "rows": [
        [
         "0",
         "bmw"
        ],
        [
         "1",
         "bmw"
        ],
        [
         "2",
         "bmw"
        ],
        [
         "3",
         "bmw"
        ],
        [
         "4",
         "bmw"
        ],
        [
         "5",
         "bmw"
        ],
        [
         "6",
         "bmw"
        ],
        [
         "7",
         "bmw"
        ],
        [
         "8",
         "bmw"
        ],
        [
         "9",
         "bmw"
        ],
        [
         "10",
         "bmw"
        ],
        [
         "11",
         "bmw"
        ],
        [
         "12",
         "bmw"
        ],
        [
         "13",
         "bmw"
        ],
        [
         "14",
         "bmw"
        ],
        [
         "15",
         "bmw"
        ],
        [
         "16",
         "bmw"
        ],
        [
         "17",
         "audi"
        ],
        [
         "18",
         "audi"
        ],
        [
         "19",
         "audi"
        ],
        [
         "20",
         "audi"
        ],
        [
         "21",
         "audi"
        ],
        [
         "22",
         "audi"
        ],
        [
         "23",
         "audi"
        ],
        [
         "24",
         "audi"
        ],
        [
         "25",
         "audi"
        ],
        [
         "26",
         "audi"
        ],
        [
         "27",
         "audi"
        ],
        [
         "28",
         "audi"
        ],
        [
         "29",
         "audi"
        ],
        [
         "30",
         "audi"
        ],
        [
         "31",
         "audi"
        ],
        [
         "32",
         "fiat"
        ],
        [
         "33",
         "fiat"
        ],
        [
         "34",
         "fiat"
        ],
        [
         "35",
         "mercedes-benz"
        ],
        [
         "36",
         "mercedes-benz"
        ],
        [
         "37",
         "mercedes-benz"
        ],
        [
         "38",
         "mercedes-benz"
        ],
        [
         "39",
         "mercedes-benz"
        ],
        [
         "40",
         "mercedes-benz"
        ],
        [
         "41",
         "bmw"
        ],
        [
         "42",
         "bmw"
        ],
        [
         "43",
         "bmw"
        ],
        [
         "44",
         "bmw"
        ],
        [
         "45",
         "bmw"
        ],
        [
         "46",
         "bmw"
        ],
        [
         "47",
         "bmw"
        ],
        [
         "48",
         "bmw"
        ],
        [
         "49",
         "bmw"
        ]
       ],
       "shape": {
        "columns": 1,
        "rows": 11914
       }
      },
      "text/plain": [
       "0            bmw\n",
       "1            bmw\n",
       "2            bmw\n",
       "3            bmw\n",
       "4            bmw\n",
       "          ...   \n",
       "11909      acura\n",
       "11910      acura\n",
       "11911      acura\n",
       "11912      acura\n",
       "11913    lincoln\n",
       "Name: make, Length: 11914, dtype: object"
      ]
     },
     "execution_count": 33,
     "metadata": {},
     "output_type": "execute_result"
    }
   ],
   "source": [
    "df['make'].str.lower().str.replace(' ', '_')"
   ]
  },
  {
   "cell_type": "code",
   "execution_count": 34,
   "metadata": {},
   "outputs": [
    {
     "data": {
      "text/plain": [
       "['make',\n",
       " 'model',\n",
       " 'engine_fuel_type',\n",
       " 'transmission_type',\n",
       " 'driven_wheels',\n",
       " 'market_category',\n",
       " 'vehicle_size',\n",
       " 'vehicle_style']"
      ]
     },
     "execution_count": 34,
     "metadata": {},
     "output_type": "execute_result"
    }
   ],
   "source": [
    "strings = list(df.dtypes[df.dtypes == 'object'].index)\n",
    "strings"
   ]
  },
  {
   "cell_type": "code",
   "execution_count": 35,
   "metadata": {},
   "outputs": [],
   "source": [
    "for col in strings:\n",
    "    df[col] = df[col].str.lower().str.replace(' ', '_')"
   ]
  },
  {
   "cell_type": "code",
   "execution_count": 36,
   "metadata": {},
   "outputs": [
    {
     "data": {
      "application/vnd.microsoft.datawrangler.viewer.v0+json": {
       "columns": [
        {
         "name": "index",
         "rawType": "object",
         "type": "string"
        },
        {
         "name": "0",
         "rawType": "object",
         "type": "unknown"
        }
       ],
       "ref": "abca0ba8-a0cd-4064-8fa9-fc242c2905fc",
       "rows": [
        [
         "make",
         "object"
        ],
        [
         "model",
         "object"
        ],
        [
         "year",
         "int64"
        ],
        [
         "engine_fuel_type",
         "object"
        ],
        [
         "engine_hp",
         "float64"
        ],
        [
         "engine_cylinders",
         "float64"
        ],
        [
         "transmission_type",
         "object"
        ],
        [
         "driven_wheels",
         "object"
        ],
        [
         "number_of_doors",
         "float64"
        ],
        [
         "market_category",
         "object"
        ],
        [
         "vehicle_size",
         "object"
        ],
        [
         "vehicle_style",
         "object"
        ],
        [
         "highway_mpg",
         "int64"
        ],
        [
         "city_mpg",
         "int64"
        ],
        [
         "popularity",
         "int64"
        ],
        [
         "msrp",
         "int64"
        ]
       ],
       "shape": {
        "columns": 1,
        "rows": 16
       }
      },
      "text/plain": [
       "make                  object\n",
       "model                 object\n",
       "year                   int64\n",
       "engine_fuel_type      object\n",
       "engine_hp            float64\n",
       "engine_cylinders     float64\n",
       "transmission_type     object\n",
       "driven_wheels         object\n",
       "number_of_doors      float64\n",
       "market_category       object\n",
       "vehicle_size          object\n",
       "vehicle_style         object\n",
       "highway_mpg            int64\n",
       "city_mpg               int64\n",
       "popularity             int64\n",
       "msrp                   int64\n",
       "dtype: object"
      ]
     },
     "execution_count": 36,
     "metadata": {},
     "output_type": "execute_result"
    }
   ],
   "source": [
    "df.dtypes"
   ]
  },
  {
   "cell_type": "markdown",
   "metadata": {},
   "source": [
    "## 2.3 Exploratory data analysis"
   ]
  },
  {
   "cell_type": "code",
   "execution_count": 37,
   "id": "62407d62",
   "metadata": {},
   "outputs": [
    {
     "data": {
      "application/vnd.microsoft.datawrangler.viewer.v0+json": {
       "columns": [
        {
         "name": "index",
         "rawType": "object",
         "type": "string"
        },
        {
         "name": "0",
         "rawType": "object",
         "type": "unknown"
        }
       ],
       "ref": "260a241b-8314-45a7-8ce1-12e111e8b6d6",
       "rows": [
        [
         "make",
         "object"
        ],
        [
         "model",
         "object"
        ],
        [
         "year",
         "int64"
        ],
        [
         "engine_fuel_type",
         "object"
        ],
        [
         "engine_hp",
         "float64"
        ],
        [
         "engine_cylinders",
         "float64"
        ],
        [
         "transmission_type",
         "object"
        ],
        [
         "driven_wheels",
         "object"
        ],
        [
         "number_of_doors",
         "float64"
        ],
        [
         "market_category",
         "object"
        ],
        [
         "vehicle_size",
         "object"
        ],
        [
         "vehicle_style",
         "object"
        ],
        [
         "highway_mpg",
         "int64"
        ],
        [
         "city_mpg",
         "int64"
        ],
        [
         "popularity",
         "int64"
        ],
        [
         "msrp",
         "int64"
        ]
       ],
       "shape": {
        "columns": 1,
        "rows": 16
       }
      },
      "text/plain": [
       "make                  object\n",
       "model                 object\n",
       "year                   int64\n",
       "engine_fuel_type      object\n",
       "engine_hp            float64\n",
       "engine_cylinders     float64\n",
       "transmission_type     object\n",
       "driven_wheels         object\n",
       "number_of_doors      float64\n",
       "market_category       object\n",
       "vehicle_size          object\n",
       "vehicle_style         object\n",
       "highway_mpg            int64\n",
       "city_mpg               int64\n",
       "popularity             int64\n",
       "msrp                   int64\n",
       "dtype: object"
      ]
     },
     "execution_count": 37,
     "metadata": {},
     "output_type": "execute_result"
    }
   ],
   "source": [
    "df.dtypes"
   ]
  },
  {
   "cell_type": "code",
   "execution_count": 42,
   "metadata": {},
   "outputs": [
    {
     "name": "stdout",
     "output_type": "stream",
     "text": [
      "make\n",
      "['bmw' 'audi' 'fiat' 'mercedes-benz' 'chrysler']\n",
      "48\n",
      "\n",
      "model\n",
      "['1_series_m' '1_series' '100' '124_spider' '190-class']\n",
      "914\n",
      "\n",
      "year\n",
      "[2011 2012 2013 1992 1993]\n",
      "28\n",
      "\n",
      "engine_fuel_type\n",
      "['premium_unleaded_(required)' 'regular_unleaded'\n",
      " 'premium_unleaded_(recommended)' 'flex-fuel_(unleaded/e85)' 'diesel']\n",
      "10\n",
      "\n",
      "engine_hp\n",
      "[335. 300. 230. 320. 172.]\n",
      "356\n",
      "\n",
      "engine_cylinders\n",
      "[ 6.  4.  5.  8. 12.]\n",
      "9\n",
      "\n",
      "transmission_type\n",
      "['manual' 'automatic' 'automated_manual' 'direct_drive' 'unknown']\n",
      "5\n",
      "\n",
      "driven_wheels\n",
      "['rear_wheel_drive' 'front_wheel_drive' 'all_wheel_drive'\n",
      " 'four_wheel_drive']\n",
      "4\n",
      "\n",
      "number_of_doors\n",
      "[ 2.  4.  3. nan]\n",
      "3\n",
      "\n",
      "market_category\n",
      "['factory_tuner,luxury,high-performance' 'luxury,performance'\n",
      " 'luxury,high-performance' 'luxury' 'performance']\n",
      "71\n",
      "\n",
      "vehicle_size\n",
      "['compact' 'midsize' 'large']\n",
      "3\n",
      "\n",
      "vehicle_style\n",
      "['coupe' 'convertible' 'sedan' 'wagon' '4dr_hatchback']\n",
      "16\n",
      "\n",
      "highway_mpg\n",
      "[26 28 27 25 24]\n",
      "59\n",
      "\n",
      "city_mpg\n",
      "[19 20 18 17 16]\n",
      "69\n",
      "\n",
      "popularity\n",
      "[3916 3105  819  617 1013]\n",
      "48\n",
      "\n",
      "msrp\n",
      "[46135 40650 36350 29450 34500]\n",
      "6049\n",
      "\n"
     ]
    }
   ],
   "source": [
    "for col in df.columns:\n",
    "    print(col)\n",
    "    print(df[col].unique()[:5])\n",
    "    print(df[col].nunique())\n",
    "    print()"
   ]
  },
  {
   "cell_type": "code",
   "execution_count": 12,
   "metadata": {},
   "outputs": [
    {
     "data": {
      "text/html": [
       "<div>\n",
       "<style scoped>\n",
       "    .dataframe tbody tr th:only-of-type {\n",
       "        vertical-align: middle;\n",
       "    }\n",
       "\n",
       "    .dataframe tbody tr th {\n",
       "        vertical-align: top;\n",
       "    }\n",
       "\n",
       "    .dataframe thead th {\n",
       "        text-align: right;\n",
       "    }\n",
       "</style>\n",
       "<table border=\"1\" class=\"dataframe\">\n",
       "  <thead>\n",
       "    <tr style=\"text-align: right;\">\n",
       "      <th></th>\n",
       "      <th>make</th>\n",
       "      <th>model</th>\n",
       "      <th>year</th>\n",
       "      <th>engine_fuel_type</th>\n",
       "      <th>engine_hp</th>\n",
       "      <th>engine_cylinders</th>\n",
       "      <th>transmission_type</th>\n",
       "      <th>driven_wheels</th>\n",
       "      <th>number_of_doors</th>\n",
       "      <th>market_category</th>\n",
       "      <th>vehicle_size</th>\n",
       "      <th>vehicle_style</th>\n",
       "      <th>highway_mpg</th>\n",
       "      <th>city_mpg</th>\n",
       "      <th>popularity</th>\n",
       "      <th>msrp</th>\n",
       "    </tr>\n",
       "  </thead>\n",
       "  <tbody>\n",
       "    <tr>\n",
       "      <th>0</th>\n",
       "      <td>bmw</td>\n",
       "      <td>1_series_m</td>\n",
       "      <td>2011</td>\n",
       "      <td>premium_unleaded_(required)</td>\n",
       "      <td>335.0</td>\n",
       "      <td>6.0</td>\n",
       "      <td>manual</td>\n",
       "      <td>rear_wheel_drive</td>\n",
       "      <td>2.0</td>\n",
       "      <td>factory_tuner,luxury,high-performance</td>\n",
       "      <td>compact</td>\n",
       "      <td>coupe</td>\n",
       "      <td>26</td>\n",
       "      <td>19</td>\n",
       "      <td>3916</td>\n",
       "      <td>46135</td>\n",
       "    </tr>\n",
       "    <tr>\n",
       "      <th>1</th>\n",
       "      <td>bmw</td>\n",
       "      <td>1_series</td>\n",
       "      <td>2011</td>\n",
       "      <td>premium_unleaded_(required)</td>\n",
       "      <td>300.0</td>\n",
       "      <td>6.0</td>\n",
       "      <td>manual</td>\n",
       "      <td>rear_wheel_drive</td>\n",
       "      <td>2.0</td>\n",
       "      <td>luxury,performance</td>\n",
       "      <td>compact</td>\n",
       "      <td>convertible</td>\n",
       "      <td>28</td>\n",
       "      <td>19</td>\n",
       "      <td>3916</td>\n",
       "      <td>40650</td>\n",
       "    </tr>\n",
       "    <tr>\n",
       "      <th>2</th>\n",
       "      <td>bmw</td>\n",
       "      <td>1_series</td>\n",
       "      <td>2011</td>\n",
       "      <td>premium_unleaded_(required)</td>\n",
       "      <td>300.0</td>\n",
       "      <td>6.0</td>\n",
       "      <td>manual</td>\n",
       "      <td>rear_wheel_drive</td>\n",
       "      <td>2.0</td>\n",
       "      <td>luxury,high-performance</td>\n",
       "      <td>compact</td>\n",
       "      <td>coupe</td>\n",
       "      <td>28</td>\n",
       "      <td>20</td>\n",
       "      <td>3916</td>\n",
       "      <td>36350</td>\n",
       "    </tr>\n",
       "    <tr>\n",
       "      <th>3</th>\n",
       "      <td>bmw</td>\n",
       "      <td>1_series</td>\n",
       "      <td>2011</td>\n",
       "      <td>premium_unleaded_(required)</td>\n",
       "      <td>230.0</td>\n",
       "      <td>6.0</td>\n",
       "      <td>manual</td>\n",
       "      <td>rear_wheel_drive</td>\n",
       "      <td>2.0</td>\n",
       "      <td>luxury,performance</td>\n",
       "      <td>compact</td>\n",
       "      <td>coupe</td>\n",
       "      <td>28</td>\n",
       "      <td>18</td>\n",
       "      <td>3916</td>\n",
       "      <td>29450</td>\n",
       "    </tr>\n",
       "    <tr>\n",
       "      <th>4</th>\n",
       "      <td>bmw</td>\n",
       "      <td>1_series</td>\n",
       "      <td>2011</td>\n",
       "      <td>premium_unleaded_(required)</td>\n",
       "      <td>230.0</td>\n",
       "      <td>6.0</td>\n",
       "      <td>manual</td>\n",
       "      <td>rear_wheel_drive</td>\n",
       "      <td>2.0</td>\n",
       "      <td>luxury</td>\n",
       "      <td>compact</td>\n",
       "      <td>convertible</td>\n",
       "      <td>28</td>\n",
       "      <td>18</td>\n",
       "      <td>3916</td>\n",
       "      <td>34500</td>\n",
       "    </tr>\n",
       "    <tr>\n",
       "      <th>...</th>\n",
       "      <td>...</td>\n",
       "      <td>...</td>\n",
       "      <td>...</td>\n",
       "      <td>...</td>\n",
       "      <td>...</td>\n",
       "      <td>...</td>\n",
       "      <td>...</td>\n",
       "      <td>...</td>\n",
       "      <td>...</td>\n",
       "      <td>...</td>\n",
       "      <td>...</td>\n",
       "      <td>...</td>\n",
       "      <td>...</td>\n",
       "      <td>...</td>\n",
       "      <td>...</td>\n",
       "      <td>...</td>\n",
       "    </tr>\n",
       "    <tr>\n",
       "      <th>11909</th>\n",
       "      <td>acura</td>\n",
       "      <td>zdx</td>\n",
       "      <td>2012</td>\n",
       "      <td>premium_unleaded_(required)</td>\n",
       "      <td>300.0</td>\n",
       "      <td>6.0</td>\n",
       "      <td>automatic</td>\n",
       "      <td>all_wheel_drive</td>\n",
       "      <td>4.0</td>\n",
       "      <td>crossover,hatchback,luxury</td>\n",
       "      <td>midsize</td>\n",
       "      <td>4dr_hatchback</td>\n",
       "      <td>23</td>\n",
       "      <td>16</td>\n",
       "      <td>204</td>\n",
       "      <td>46120</td>\n",
       "    </tr>\n",
       "    <tr>\n",
       "      <th>11910</th>\n",
       "      <td>acura</td>\n",
       "      <td>zdx</td>\n",
       "      <td>2012</td>\n",
       "      <td>premium_unleaded_(required)</td>\n",
       "      <td>300.0</td>\n",
       "      <td>6.0</td>\n",
       "      <td>automatic</td>\n",
       "      <td>all_wheel_drive</td>\n",
       "      <td>4.0</td>\n",
       "      <td>crossover,hatchback,luxury</td>\n",
       "      <td>midsize</td>\n",
       "      <td>4dr_hatchback</td>\n",
       "      <td>23</td>\n",
       "      <td>16</td>\n",
       "      <td>204</td>\n",
       "      <td>56670</td>\n",
       "    </tr>\n",
       "    <tr>\n",
       "      <th>11911</th>\n",
       "      <td>acura</td>\n",
       "      <td>zdx</td>\n",
       "      <td>2012</td>\n",
       "      <td>premium_unleaded_(required)</td>\n",
       "      <td>300.0</td>\n",
       "      <td>6.0</td>\n",
       "      <td>automatic</td>\n",
       "      <td>all_wheel_drive</td>\n",
       "      <td>4.0</td>\n",
       "      <td>crossover,hatchback,luxury</td>\n",
       "      <td>midsize</td>\n",
       "      <td>4dr_hatchback</td>\n",
       "      <td>23</td>\n",
       "      <td>16</td>\n",
       "      <td>204</td>\n",
       "      <td>50620</td>\n",
       "    </tr>\n",
       "    <tr>\n",
       "      <th>11912</th>\n",
       "      <td>acura</td>\n",
       "      <td>zdx</td>\n",
       "      <td>2013</td>\n",
       "      <td>premium_unleaded_(recommended)</td>\n",
       "      <td>300.0</td>\n",
       "      <td>6.0</td>\n",
       "      <td>automatic</td>\n",
       "      <td>all_wheel_drive</td>\n",
       "      <td>4.0</td>\n",
       "      <td>crossover,hatchback,luxury</td>\n",
       "      <td>midsize</td>\n",
       "      <td>4dr_hatchback</td>\n",
       "      <td>23</td>\n",
       "      <td>16</td>\n",
       "      <td>204</td>\n",
       "      <td>50920</td>\n",
       "    </tr>\n",
       "    <tr>\n",
       "      <th>11913</th>\n",
       "      <td>lincoln</td>\n",
       "      <td>zephyr</td>\n",
       "      <td>2006</td>\n",
       "      <td>regular_unleaded</td>\n",
       "      <td>221.0</td>\n",
       "      <td>6.0</td>\n",
       "      <td>automatic</td>\n",
       "      <td>front_wheel_drive</td>\n",
       "      <td>4.0</td>\n",
       "      <td>luxury</td>\n",
       "      <td>midsize</td>\n",
       "      <td>sedan</td>\n",
       "      <td>26</td>\n",
       "      <td>17</td>\n",
       "      <td>61</td>\n",
       "      <td>28995</td>\n",
       "    </tr>\n",
       "  </tbody>\n",
       "</table>\n",
       "<p>11914 rows × 16 columns</p>\n",
       "</div>"
      ],
      "text/plain": [
       "          make       model  year                engine_fuel_type  engine_hp  \\\n",
       "0          bmw  1_series_m  2011     premium_unleaded_(required)      335.0   \n",
       "1          bmw    1_series  2011     premium_unleaded_(required)      300.0   \n",
       "2          bmw    1_series  2011     premium_unleaded_(required)      300.0   \n",
       "3          bmw    1_series  2011     premium_unleaded_(required)      230.0   \n",
       "4          bmw    1_series  2011     premium_unleaded_(required)      230.0   \n",
       "...        ...         ...   ...                             ...        ...   \n",
       "11909    acura         zdx  2012     premium_unleaded_(required)      300.0   \n",
       "11910    acura         zdx  2012     premium_unleaded_(required)      300.0   \n",
       "11911    acura         zdx  2012     premium_unleaded_(required)      300.0   \n",
       "11912    acura         zdx  2013  premium_unleaded_(recommended)      300.0   \n",
       "11913  lincoln      zephyr  2006                regular_unleaded      221.0   \n",
       "\n",
       "       engine_cylinders transmission_type      driven_wheels  number_of_doors  \\\n",
       "0                   6.0            manual   rear_wheel_drive              2.0   \n",
       "1                   6.0            manual   rear_wheel_drive              2.0   \n",
       "2                   6.0            manual   rear_wheel_drive              2.0   \n",
       "3                   6.0            manual   rear_wheel_drive              2.0   \n",
       "4                   6.0            manual   rear_wheel_drive              2.0   \n",
       "...                 ...               ...                ...              ...   \n",
       "11909               6.0         automatic    all_wheel_drive              4.0   \n",
       "11910               6.0         automatic    all_wheel_drive              4.0   \n",
       "11911               6.0         automatic    all_wheel_drive              4.0   \n",
       "11912               6.0         automatic    all_wheel_drive              4.0   \n",
       "11913               6.0         automatic  front_wheel_drive              4.0   \n",
       "\n",
       "                             market_category vehicle_size  vehicle_style  \\\n",
       "0      factory_tuner,luxury,high-performance      compact          coupe   \n",
       "1                         luxury,performance      compact    convertible   \n",
       "2                    luxury,high-performance      compact          coupe   \n",
       "3                         luxury,performance      compact          coupe   \n",
       "4                                     luxury      compact    convertible   \n",
       "...                                      ...          ...            ...   \n",
       "11909             crossover,hatchback,luxury      midsize  4dr_hatchback   \n",
       "11910             crossover,hatchback,luxury      midsize  4dr_hatchback   \n",
       "11911             crossover,hatchback,luxury      midsize  4dr_hatchback   \n",
       "11912             crossover,hatchback,luxury      midsize  4dr_hatchback   \n",
       "11913                                 luxury      midsize          sedan   \n",
       "\n",
       "       highway_mpg  city_mpg  popularity   msrp  \n",
       "0               26        19        3916  46135  \n",
       "1               28        19        3916  40650  \n",
       "2               28        20        3916  36350  \n",
       "3               28        18        3916  29450  \n",
       "4               28        18        3916  34500  \n",
       "...            ...       ...         ...    ...  \n",
       "11909           23        16         204  46120  \n",
       "11910           23        16         204  56670  \n",
       "11911           23        16         204  50620  \n",
       "11912           23        16         204  50920  \n",
       "11913           26        17          61  28995  \n",
       "\n",
       "[11914 rows x 16 columns]"
      ]
     },
     "execution_count": 12,
     "metadata": {},
     "output_type": "execute_result"
    }
   ],
   "source": [
    "df"
   ]
  },
  {
   "cell_type": "markdown",
   "metadata": {},
   "source": [
    "Distribution of price"
   ]
  },
  {
   "cell_type": "code",
   "execution_count": 43,
   "metadata": {},
   "outputs": [],
   "source": [
    "import matplotlib.pyplot as plt\n",
    "import seaborn as sns\n",
    "\n",
    "%matplotlib inline"
   ]
  },
  {
   "cell_type": "code",
   "execution_count": 46,
   "metadata": {},
   "outputs": [
    {
     "data": {
      "text/plain": [
       "<Axes: xlabel='msrp', ylabel='Count'>"
      ]
     },
     "execution_count": 46,
     "metadata": {},
     "output_type": "execute_result"
    },
    {
     "data": {
      "image/png": "[encoded data removed]",
      "text/plain": [
       "<Figure size 640x480 with 1 Axes>"
      ]
     },
     "metadata": {},
     "output_type": "display_data"
    }
   ],
   "source": [
    "sns.histplot(df.msrp[df.msrp < 100000], bins=100)"
   ]
  },
  {
   "cell_type": "code",
   "execution_count": 51,
   "id": "791e5093",
   "metadata": {},
   "outputs": [
    {
     "data": {
      "text/plain": [
       "<Axes: >"
      ]
     },
     "execution_count": 51,
     "metadata": {},
     "output_type": "execute_result"
    },
    {
     "data": {
      "image/png": "[encoded data removed]",
      "text/plain": [
       "<Figure size 640x480 with 1 Axes>"
      ]
     },
     "metadata": {},
     "output_type": "display_data"
    }
   ],
   "source": [
    "df[df.msrp > 250000].msrp.hist(bins=100)"
   ]
  },
  {
   "cell_type": "code",
   "execution_count": 15,
   "metadata": {},
   "outputs": [
    {
     "data": {
      "text/plain": [
       "<AxesSubplot:xlabel='msrp', ylabel='Count'>"
      ]
     },
     "execution_count": 15,
     "metadata": {},
     "output_type": "execute_result"
    },
    {
     "data": {
      "image/png": "[encoded data removed]",
      "text/plain": [
       "<Figure size 432x288 with 1 Axes>"
      ]
     },
     "metadata": {
      "needs_background": "light"
     },
     "output_type": "display_data"
    }
   ],
   "source": [
    "sns.histplot(df.msrp[df.msrp < 100000], bins=50)"
   ]
  },
  {
   "cell_type": "code",
   "execution_count": 52,
   "id": "e862b8cd",
   "metadata": {},
   "outputs": [
    {
     "name": "stderr",
     "output_type": "stream",
     "text": [
      "C:\\Users\\admin\\AppData\\Local\\Temp\\ipykernel_9760\\2774156920.py:1: RuntimeWarning: divide by zero encountered in log\n",
      "  np.log([0,1,10,100,1000,11111,11111111])\n"
     ]
    },
    {
     "data": {
      "text/plain": [
       "array([       -inf,  0.        ,  2.30258509,  4.60517019,  6.90775528,\n",
       "        9.31569089, 16.22345616])"
      ]
     },
     "execution_count": 52,
     "metadata": {},
     "output_type": "execute_result"
    }
   ],
   "source": [
    "np.log([0,1,10,100,1000,11111,11111111])"
   ]
  },
  {
   "cell_type": "code",
   "execution_count": 54,
   "metadata": {},
   "outputs": [
    {
     "data": {
      "text/plain": [
       "array([ 0.        ,  0.69314718,  2.39789527,  6.90875478,  9.31578088,\n",
       "       11.51293546, 13.92087187])"
      ]
     },
     "execution_count": 54,
     "metadata": {},
     "output_type": "execute_result"
    }
   ],
   "source": [
    "np.log1p([0, 1, 10, 1000, 11111,100000,1111111])"
   ]
  },
  {
   "cell_type": "code",
   "execution_count": 17,
   "metadata": {},
   "outputs": [
    {
     "data": {
      "text/plain": [
       "array([ 0.        ,  0.69314718,  2.39789527,  6.90875478, 11.51292546])"
      ]
     },
     "execution_count": 17,
     "metadata": {},
     "output_type": "execute_result"
    }
   ],
   "source": [
    "np.log([0 + 1, 1+ 1, 10 + 1, 1000 + 1, 100000])"
   ]
  },
  {
   "cell_type": "code",
   "execution_count": 55,
   "metadata": {},
   "outputs": [],
   "source": [
    "price_logs = np.log1p(df.msrp)"
   ]
  },
  {
   "cell_type": "code",
   "execution_count": 58,
   "metadata": {},
   "outputs": [
    {
     "data": {
      "text/plain": [
       "<Axes: xlabel='msrp', ylabel='Count'>"
      ]
     },
     "execution_count": 58,
     "metadata": {},
     "output_type": "execute_result"
    },
    {
     "data": {
      "image/png": "[encoded data removed]",
      "text/plain": [
       "<Figure size 640x480 with 1 Axes>"
      ]
     },
     "metadata": {},
     "output_type": "display_data"
    }
   ],
   "source": [
    "\n",
    "sns.histplot(price_logs, bins=50)"
   ]
  },
  {
   "cell_type": "markdown",
   "metadata": {},
   "source": [
    "Missing values"
   ]
  },
  {
   "cell_type": "code",
   "execution_count": 60,
   "metadata": {},
   "outputs": [
    {
     "data": {
      "application/vnd.microsoft.datawrangler.viewer.v0+json": {
       "columns": [
        {
         "name": "index",
         "rawType": "object",
         "type": "string"
        },
        {
         "name": "0",
         "rawType": "int64",
         "type": "integer"
        }
       ],
       "ref": "82f955bc-0c1c-4906-889b-104c4ea86968",
       "rows": [
        [
         "make",
         "0"
        ],
        [
         "model",
         "0"
        ],
        [
         "year",
         "0"
        ],
        [
         "engine_fuel_type",
         "3"
        ],
        [
         "engine_hp",
         "69"
        ],
        [
         "engine_cylinders",
         "30"
        ],
        [
         "transmission_type",
         "0"
        ],
        [
         "driven_wheels",
         "0"
        ],
        [
         "number_of_doors",
         "6"
        ],
        [
         "market_category",
         "3742"
        ],
        [
         "vehicle_size",
         "0"
        ],
        [
         "vehicle_style",
         "0"
        ],
        [
         "highway_mpg",
         "0"
        ],
        [
         "city_mpg",
         "0"
        ],
        [
         "popularity",
         "0"
        ],
        [
         "msrp",
         "0"
        ]
       ],
       "shape": {
        "columns": 1,
        "rows": 16
       }
      },
      "text/plain": [
       "make                    0\n",
       "model                   0\n",
       "year                    0\n",
       "engine_fuel_type        3\n",
       "engine_hp              69\n",
       "engine_cylinders       30\n",
       "transmission_type       0\n",
       "driven_wheels           0\n",
       "number_of_doors         6\n",
       "market_category      3742\n",
       "vehicle_size            0\n",
       "vehicle_style           0\n",
       "highway_mpg             0\n",
       "city_mpg                0\n",
       "popularity              0\n",
       "msrp                    0\n",
       "dtype: int64"
      ]
     },
     "execution_count": 60,
     "metadata": {},
     "output_type": "execute_result"
    }
   ],
   "source": [
    "df.isnull().sum()"
   ]
  },
  {
   "cell_type": "markdown",
   "metadata": {},
   "source": [
    "## 2.4 Setting up the validation framework"
   ]
  },
  {
   "cell_type": "markdown",
   "metadata": {},
   "source": [
    "Let's draw it"
   ]
  },
  {
   "cell_type": "code",
   "execution_count": 63,
   "id": "4140ad60",
   "metadata": {},
   "outputs": [
    {
     "data": {
      "text/plain": [
       "2382.8"
      ]
     },
     "execution_count": 63,
     "metadata": {},
     "output_type": "execute_result"
    }
   ],
   "source": [
    "len(df)*0.2"
   ]
  },
  {
   "cell_type": "code",
   "execution_count": 65,
   "id": "d6bb5789",
   "metadata": {},
   "outputs": [
    {
     "data": {
      "text/plain": [
       "2"
      ]
     },
     "execution_count": 65,
     "metadata": {},
     "output_type": "execute_result"
    }
   ],
   "source": [
    "1+1"
   ]
  },
  {
   "cell_type": "code",
   "execution_count": 66,
   "metadata": {},
   "outputs": [],
   "source": [
    "n = len(df)\n",
    "\n",
    "n_val = int(n * 0.2)\n",
    "n_test = int(n * 0.2)\n",
    "n_train = n - n_val - n_test"
   ]
  },
  {
   "cell_type": "code",
   "execution_count": 67,
   "metadata": {},
   "outputs": [
    {
     "data": {
      "text/plain": [
       "11914"
      ]
     },
     "execution_count": 67,
     "metadata": {},
     "output_type": "execute_result"
    }
   ],
   "source": [
    "n"
   ]
  },
  {
   "cell_type": "code",
   "execution_count": 68,
   "metadata": {},
   "outputs": [
    {
     "data": {
      "text/plain": [
       "(2382, 2382, 7150)"
      ]
     },
     "execution_count": 68,
     "metadata": {},
     "output_type": "execute_result"
    }
   ],
   "source": [
    "n_val, n_test, n_train"
   ]
  },
  {
   "cell_type": "code",
   "execution_count": 70,
   "metadata": {},
   "outputs": [
    {
     "data": {
      "application/vnd.microsoft.datawrangler.viewer.v0+json": {
       "columns": [
        {
         "name": "index",
         "rawType": "int64",
         "type": "integer"
        },
        {
         "name": "make",
         "rawType": "object",
         "type": "string"
        },
        {
         "name": "model",
         "rawType": "object",
         "type": "string"
        },
        {
         "name": "year",
         "rawType": "int64",
         "type": "integer"
        },
        {
         "name": "engine_fuel_type",
         "rawType": "object",
         "type": "string"
        },
        {
         "name": "engine_hp",
         "rawType": "float64",
         "type": "float"
        },
        {
         "name": "engine_cylinders",
         "rawType": "float64",
         "type": "float"
        },
        {
         "name": "transmission_type",
         "rawType": "object",
         "type": "string"
        },
        {
         "name": "driven_wheels",
         "rawType": "object",
         "type": "string"
        },
        {
         "name": "number_of_doors",
         "rawType": "float64",
         "type": "float"
        },
        {
         "name": "market_category",
         "rawType": "object",
         "type": "unknown"
        },
        {
         "name": "vehicle_size",
         "rawType": "object",
         "type": "string"
        },
        {
         "name": "vehicle_style",
         "rawType": "object",
         "type": "string"
        },
        {
         "name": "highway_mpg",
         "rawType": "int64",
         "type": "integer"
        },
        {
         "name": "city_mpg",
         "rawType": "int64",
         "type": "integer"
        },
        {
         "name": "popularity",
         "rawType": "int64",
         "type": "integer"
        },
        {
         "name": "msrp",
         "rawType": "int64",
         "type": "integer"
        }
       ],
       "ref": "8ed3753b-96c4-41ea-81e8-36fc9f17cddd",
       "rows": [
        [
         "0",
         "bmw",
         "1_series_m",
         "2011",
         "premium_unleaded_(required)",
         "335.0",
         "6.0",
         "manual",
         "rear_wheel_drive",
         "2.0",
         "factory_tuner,luxury,high-performance",
         "compact",
         "coupe",
         "26",
         "19",
         "3916",
         "46135"
        ],
        [
         "1",
         "bmw",
         "1_series",
         "2011",
         "premium_unleaded_(required)",
         "300.0",
         "6.0",
         "manual",
         "rear_wheel_drive",
         "2.0",
         "luxury,performance",
         "compact",
         "convertible",
         "28",
         "19",
         "3916",
         "40650"
        ],
        [
         "2",
         "bmw",
         "1_series",
         "2011",
         "premium_unleaded_(required)",
         "300.0",
         "6.0",
         "manual",
         "rear_wheel_drive",
         "2.0",
         "luxury,high-performance",
         "compact",
         "coupe",
         "28",
         "20",
         "3916",
         "36350"
        ],
        [
         "3",
         "bmw",
         "1_series",
         "2011",
         "premium_unleaded_(required)",
         "230.0",
         "6.0",
         "manual",
         "rear_wheel_drive",
         "2.0",
         "luxury,performance",
         "compact",
         "coupe",
         "28",
         "18",
         "3916",
         "29450"
        ],
        [
         "4",
         "bmw",
         "1_series",
         "2011",
         "premium_unleaded_(required)",
         "230.0",
         "6.0",
         "manual",
         "rear_wheel_drive",
         "2.0",
         "luxury",
         "compact",
         "convertible",
         "28",
         "18",
         "3916",
         "34500"
        ],
        [
         "5",
         "bmw",
         "1_series",
         "2012",
         "premium_unleaded_(required)",
         "230.0",
         "6.0",
         "manual",
         "rear_wheel_drive",
         "2.0",
         "luxury,performance",
         "compact",
         "coupe",
         "28",
         "18",
         "3916",
         "31200"
        ],
        [
         "6",
         "bmw",
         "1_series",
         "2012",
         "premium_unleaded_(required)",
         "300.0",
         "6.0",
         "manual",
         "rear_wheel_drive",
         "2.0",
         "luxury,performance",
         "compact",
         "convertible",
         "26",
         "17",
         "3916",
         "44100"
        ],
        [
         "7",
         "bmw",
         "1_series",
         "2012",
         "premium_unleaded_(required)",
         "300.0",
         "6.0",
         "manual",
         "rear_wheel_drive",
         "2.0",
         "luxury,high-performance",
         "compact",
         "coupe",
         "28",
         "20",
         "3916",
         "39300"
        ],
        [
         "8",
         "bmw",
         "1_series",
         "2012",
         "premium_unleaded_(required)",
         "230.0",
         "6.0",
         "manual",
         "rear_wheel_drive",
         "2.0",
         "luxury",
         "compact",
         "convertible",
         "28",
         "18",
         "3916",
         "36900"
        ],
        [
         "9",
         "bmw",
         "1_series",
         "2013",
         "premium_unleaded_(required)",
         "230.0",
         "6.0",
         "manual",
         "rear_wheel_drive",
         "2.0",
         "luxury",
         "compact",
         "convertible",
         "27",
         "18",
         "3916",
         "37200"
        ],
        [
         "10",
         "bmw",
         "1_series",
         "2013",
         "premium_unleaded_(required)",
         "300.0",
         "6.0",
         "manual",
         "rear_wheel_drive",
         "2.0",
         "luxury,high-performance",
         "compact",
         "coupe",
         "28",
         "20",
         "3916",
         "39600"
        ],
        [
         "11",
         "bmw",
         "1_series",
         "2013",
         "premium_unleaded_(required)",
         "230.0",
         "6.0",
         "manual",
         "rear_wheel_drive",
         "2.0",
         "luxury,performance",
         "compact",
         "coupe",
         "28",
         "19",
         "3916",
         "31500"
        ],
        [
         "12",
         "bmw",
         "1_series",
         "2013",
         "premium_unleaded_(required)",
         "300.0",
         "6.0",
         "manual",
         "rear_wheel_drive",
         "2.0",
         "luxury,performance",
         "compact",
         "convertible",
         "28",
         "19",
         "3916",
         "44400"
        ],
        [
         "13",
         "bmw",
         "1_series",
         "2013",
         "premium_unleaded_(required)",
         "230.0",
         "6.0",
         "manual",
         "rear_wheel_drive",
         "2.0",
         "luxury",
         "compact",
         "convertible",
         "28",
         "19",
         "3916",
         "37200"
        ],
        [
         "14",
         "bmw",
         "1_series",
         "2013",
         "premium_unleaded_(required)",
         "230.0",
         "6.0",
         "manual",
         "rear_wheel_drive",
         "2.0",
         "luxury,performance",
         "compact",
         "coupe",
         "28",
         "19",
         "3916",
         "31500"
        ],
        [
         "15",
         "bmw",
         "1_series",
         "2013",
         "premium_unleaded_(required)",
         "320.0",
         "6.0",
         "manual",
         "rear_wheel_drive",
         "2.0",
         "luxury,high-performance",
         "compact",
         "convertible",
         "25",
         "18",
         "3916",
         "48250"
        ],
        [
         "16",
         "bmw",
         "1_series",
         "2013",
         "premium_unleaded_(required)",
         "320.0",
         "6.0",
         "manual",
         "rear_wheel_drive",
         "2.0",
         "luxury,high-performance",
         "compact",
         "coupe",
         "28",
         "20",
         "3916",
         "43550"
        ],
        [
         "17",
         "audi",
         "100",
         "1992",
         "regular_unleaded",
         "172.0",
         "6.0",
         "manual",
         "front_wheel_drive",
         "4.0",
         "luxury",
         "midsize",
         "sedan",
         "24",
         "17",
         "3105",
         "2000"
        ],
        [
         "18",
         "audi",
         "100",
         "1992",
         "regular_unleaded",
         "172.0",
         "6.0",
         "manual",
         "front_wheel_drive",
         "4.0",
         "luxury",
         "midsize",
         "sedan",
         "24",
         "17",
         "3105",
         "2000"
        ],
        [
         "19",
         "audi",
         "100",
         "1992",
         "regular_unleaded",
         "172.0",
         "6.0",
         "automatic",
         "all_wheel_drive",
         "4.0",
         "luxury",
         "midsize",
         "wagon",
         "20",
         "16",
         "3105",
         "2000"
        ],
        [
         "20",
         "audi",
         "100",
         "1992",
         "regular_unleaded",
         "172.0",
         "6.0",
         "manual",
         "front_wheel_drive",
         "4.0",
         "luxury",
         "midsize",
         "sedan",
         "24",
         "17",
         "3105",
         "2000"
        ],
        [
         "21",
         "audi",
         "100",
         "1992",
         "regular_unleaded",
         "172.0",
         "6.0",
         "manual",
         "all_wheel_drive",
         "4.0",
         "luxury",
         "midsize",
         "sedan",
         "21",
         "16",
         "3105",
         "2000"
        ],
        [
         "22",
         "audi",
         "100",
         "1993",
         "regular_unleaded",
         "172.0",
         "6.0",
         "manual",
         "front_wheel_drive",
         "4.0",
         "luxury",
         "midsize",
         "sedan",
         "24",
         "17",
         "3105",
         "2000"
        ],
        [
         "23",
         "audi",
         "100",
         "1993",
         "regular_unleaded",
         "172.0",
         "6.0",
         "automatic",
         "all_wheel_drive",
         "4.0",
         "luxury",
         "midsize",
         "wagon",
         "20",
         "16",
         "3105",
         "2000"
        ],
        [
         "24",
         "audi",
         "100",
         "1993",
         "regular_unleaded",
         "172.0",
         "6.0",
         "manual",
         "front_wheel_drive",
         "4.0",
         "luxury",
         "midsize",
         "sedan",
         "24",
         "17",
         "3105",
         "2000"
        ],
        [
         "25",
         "audi",
         "100",
         "1993",
         "regular_unleaded",
         "172.0",
         "6.0",
         "manual",
         "front_wheel_drive",
         "4.0",
         "luxury",
         "midsize",
         "sedan",
         "24",
         "17",
         "3105",
         "2000"
        ],
        [
         "26",
         "audi",
         "100",
         "1993",
         "regular_unleaded",
         "172.0",
         "6.0",
         "manual",
         "all_wheel_drive",
         "4.0",
         "luxury",
         "midsize",
         "sedan",
         "21",
         "16",
         "3105",
         "2000"
        ],
        [
         "27",
         "audi",
         "100",
         "1994",
         "regular_unleaded",
         "172.0",
         "6.0",
         "automatic",
         "front_wheel_drive",
         "4.0",
         "luxury",
         "midsize",
         "wagon",
         "21",
         "16",
         "3105",
         "2000"
        ],
        [
         "28",
         "audi",
         "100",
         "1994",
         "regular_unleaded",
         "172.0",
         "6.0",
         "manual",
         "all_wheel_drive",
         "4.0",
         "luxury",
         "midsize",
         "sedan",
         "22",
         "16",
         "3105",
         "2000"
        ],
        [
         "29",
         "audi",
         "100",
         "1994",
         "regular_unleaded",
         "172.0",
         "6.0",
         "manual",
         "front_wheel_drive",
         "4.0",
         "luxury",
         "midsize",
         "sedan",
         "22",
         "17",
         "3105",
         "2000"
        ],
        [
         "30",
         "audi",
         "100",
         "1994",
         "regular_unleaded",
         "172.0",
         "6.0",
         "automatic",
         "front_wheel_drive",
         "4.0",
         "luxury",
         "midsize",
         "sedan",
         "22",
         "16",
         "3105",
         "2000"
        ],
        [
         "31",
         "audi",
         "100",
         "1994",
         "regular_unleaded",
         "172.0",
         "6.0",
         "automatic",
         "all_wheel_drive",
         "4.0",
         "luxury",
         "midsize",
         "wagon",
         "21",
         "16",
         "3105",
         "2000"
        ],
        [
         "32",
         "fiat",
         "124_spider",
         "2017",
         "premium_unleaded_(recommended)",
         "160.0",
         "4.0",
         "manual",
         "rear_wheel_drive",
         "2.0",
         "performance",
         "compact",
         "convertible",
         "35",
         "26",
         "819",
         "27495"
        ],
        [
         "33",
         "fiat",
         "124_spider",
         "2017",
         "premium_unleaded_(recommended)",
         "160.0",
         "4.0",
         "manual",
         "rear_wheel_drive",
         "2.0",
         "performance",
         "compact",
         "convertible",
         "35",
         "26",
         "819",
         "24995"
        ],
        [
         "34",
         "fiat",
         "124_spider",
         "2017",
         "premium_unleaded_(recommended)",
         "160.0",
         "4.0",
         "manual",
         "rear_wheel_drive",
         "2.0",
         "performance",
         "compact",
         "convertible",
         "35",
         "26",
         "819",
         "28195"
        ],
        [
         "35",
         "mercedes-benz",
         "190-class",
         "1991",
         "regular_unleaded",
         "130.0",
         "4.0",
         "manual",
         "rear_wheel_drive",
         "4.0",
         "luxury",
         "compact",
         "sedan",
         "26",
         "18",
         "617",
         "2000"
        ],
        [
         "36",
         "mercedes-benz",
         "190-class",
         "1991",
         "regular_unleaded",
         "158.0",
         "6.0",
         "manual",
         "rear_wheel_drive",
         "4.0",
         "luxury",
         "compact",
         "sedan",
         "25",
         "17",
         "617",
         "2000"
        ],
        [
         "37",
         "mercedes-benz",
         "190-class",
         "1992",
         "regular_unleaded",
         "158.0",
         "6.0",
         "manual",
         "rear_wheel_drive",
         "4.0",
         "luxury",
         "compact",
         "sedan",
         "25",
         "17",
         "617",
         "2000"
        ],
        [
         "38",
         "mercedes-benz",
         "190-class",
         "1992",
         "regular_unleaded",
         "130.0",
         "4.0",
         "manual",
         "rear_wheel_drive",
         "4.0",
         "luxury",
         "compact",
         "sedan",
         "26",
         "18",
         "617",
         "2000"
        ],
        [
         "39",
         "mercedes-benz",
         "190-class",
         "1993",
         "regular_unleaded",
         "130.0",
         "4.0",
         "manual",
         "rear_wheel_drive",
         "4.0",
         "luxury",
         "compact",
         "sedan",
         "26",
         "18",
         "617",
         "2000"
        ],
        [
         "40",
         "mercedes-benz",
         "190-class",
         "1993",
         "regular_unleaded",
         "158.0",
         "6.0",
         "manual",
         "rear_wheel_drive",
         "4.0",
         "luxury",
         "compact",
         "sedan",
         "25",
         "17",
         "617",
         "2000"
        ],
        [
         "41",
         "bmw",
         "2_series",
         "2016",
         "premium_unleaded_(required)",
         "240.0",
         "4.0",
         "automatic",
         "rear_wheel_drive",
         "2.0",
         "luxury,performance",
         "compact",
         "coupe",
         "35",
         "23",
         "3916",
         "32850"
        ],
        [
         "42",
         "bmw",
         "2_series",
         "2016",
         "premium_unleaded_(required)",
         "240.0",
         "4.0",
         "automatic",
         "rear_wheel_drive",
         "2.0",
         "luxury",
         "compact",
         "convertible",
         "34",
         "23",
         "3916",
         "38650"
        ],
        [
         "43",
         "bmw",
         "2_series",
         "2016",
         "premium_unleaded_(required)",
         "320.0",
         "6.0",
         "automatic",
         "rear_wheel_drive",
         "2.0",
         "factory_tuner,luxury,high-performance",
         "compact",
         "convertible",
         "31",
         "20",
         "3916",
         "48750"
        ],
        [
         "44",
         "bmw",
         "2_series",
         "2016",
         "premium_unleaded_(required)",
         "240.0",
         "4.0",
         "automatic",
         "all_wheel_drive",
         "2.0",
         "luxury,performance",
         "compact",
         "coupe",
         "35",
         "23",
         "3916",
         "34850"
        ],
        [
         "45",
         "bmw",
         "2_series",
         "2016",
         "premium_unleaded_(required)",
         "240.0",
         "4.0",
         "automatic",
         "all_wheel_drive",
         "2.0",
         "luxury",
         "compact",
         "convertible",
         "34",
         "22",
         "3916",
         "40650"
        ],
        [
         "46",
         "bmw",
         "2_series",
         "2016",
         "premium_unleaded_(required)",
         "320.0",
         "6.0",
         "automatic",
         "rear_wheel_drive",
         "2.0",
         "factory_tuner,luxury,high-performance",
         "compact",
         "coupe",
         "31",
         "20",
         "3916",
         "44150"
        ],
        [
         "47",
         "bmw",
         "2_series",
         "2016",
         "premium_unleaded_(required)",
         "240.0",
         "4.0",
         "manual",
         "rear_wheel_drive",
         "2.0",
         "luxury,performance",
         "compact",
         "coupe",
         "34",
         "22",
         "3916",
         "32850"
        ],
        [
         "48",
         "bmw",
         "2_series",
         "2016",
         "premium_unleaded_(required)",
         "320.0",
         "6.0",
         "automatic",
         "all_wheel_drive",
         "2.0",
         "factory_tuner,luxury,high-performance",
         "compact",
         "coupe",
         "30",
         "20",
         "3916",
         "46150"
        ],
        [
         "49",
         "bmw",
         "2_series",
         "2016",
         "premium_unleaded_(required)",
         "320.0",
         "6.0",
         "automatic",
         "rear_wheel_drive",
         "2.0",
         "factory_tuner,luxury,high-performance",
         "compact",
         "convertible",
         "30",
         "20",
         "3916",
         "50750"
        ]
       ],
       "shape": {
        "columns": 16,
        "rows": 2382
       }
      },
      "text/html": [
       "<div>\n",
       "<style scoped>\n",
       "    .dataframe tbody tr th:only-of-type {\n",
       "        vertical-align: middle;\n",
       "    }\n",
       "\n",
       "    .dataframe tbody tr th {\n",
       "        vertical-align: top;\n",
       "    }\n",
       "\n",
       "    .dataframe thead th {\n",
       "        text-align: right;\n",
       "    }\n",
       "</style>\n",
       "<table border=\"1\" class=\"dataframe\">\n",
       "  <thead>\n",
       "    <tr style=\"text-align: right;\">\n",
       "      <th></th>\n",
       "      <th>make</th>\n",
       "      <th>model</th>\n",
       "      <th>year</th>\n",
       "      <th>engine_fuel_type</th>\n",
       "      <th>engine_hp</th>\n",
       "      <th>engine_cylinders</th>\n",
       "      <th>transmission_type</th>\n",
       "      <th>driven_wheels</th>\n",
       "      <th>number_of_doors</th>\n",
       "      <th>market_category</th>\n",
       "      <th>vehicle_size</th>\n",
       "      <th>vehicle_style</th>\n",
       "      <th>highway_mpg</th>\n",
       "      <th>city_mpg</th>\n",
       "      <th>popularity</th>\n",
       "      <th>msrp</th>\n",
       "    </tr>\n",
       "  </thead>\n",
       "  <tbody>\n",
       "    <tr>\n",
       "      <th>0</th>\n",
       "      <td>bmw</td>\n",
       "      <td>1_series_m</td>\n",
       "      <td>2011</td>\n",
       "      <td>premium_unleaded_(required)</td>\n",
       "      <td>335.0</td>\n",
       "      <td>6.0</td>\n",
       "      <td>manual</td>\n",
       "      <td>rear_wheel_drive</td>\n",
       "      <td>2.0</td>\n",
       "      <td>factory_tuner,luxury,high-performance</td>\n",
       "      <td>compact</td>\n",
       "      <td>coupe</td>\n",
       "      <td>26</td>\n",
       "      <td>19</td>\n",
       "      <td>3916</td>\n",
       "      <td>46135</td>\n",
       "    </tr>\n",
       "    <tr>\n",
       "      <th>1</th>\n",
       "      <td>bmw</td>\n",
       "      <td>1_series</td>\n",
       "      <td>2011</td>\n",
       "      <td>premium_unleaded_(required)</td>\n",
       "      <td>300.0</td>\n",
       "      <td>6.0</td>\n",
       "      <td>manual</td>\n",
       "      <td>rear_wheel_drive</td>\n",
       "      <td>2.0</td>\n",
       "      <td>luxury,performance</td>\n",
       "      <td>compact</td>\n",
       "      <td>convertible</td>\n",
       "      <td>28</td>\n",
       "      <td>19</td>\n",
       "      <td>3916</td>\n",
       "      <td>40650</td>\n",
       "    </tr>\n",
       "    <tr>\n",
       "      <th>2</th>\n",
       "      <td>bmw</td>\n",
       "      <td>1_series</td>\n",
       "      <td>2011</td>\n",
       "      <td>premium_unleaded_(required)</td>\n",
       "      <td>300.0</td>\n",
       "      <td>6.0</td>\n",
       "      <td>manual</td>\n",
       "      <td>rear_wheel_drive</td>\n",
       "      <td>2.0</td>\n",
       "      <td>luxury,high-performance</td>\n",
       "      <td>compact</td>\n",
       "      <td>coupe</td>\n",
       "      <td>28</td>\n",
       "      <td>20</td>\n",
       "      <td>3916</td>\n",
       "      <td>36350</td>\n",
       "    </tr>\n",
       "    <tr>\n",
       "      <th>3</th>\n",
       "      <td>bmw</td>\n",
       "      <td>1_series</td>\n",
       "      <td>2011</td>\n",
       "      <td>premium_unleaded_(required)</td>\n",
       "      <td>230.0</td>\n",
       "      <td>6.0</td>\n",
       "      <td>manual</td>\n",
       "      <td>rear_wheel_drive</td>\n",
       "      <td>2.0</td>\n",
       "      <td>luxury,performance</td>\n",
       "      <td>compact</td>\n",
       "      <td>coupe</td>\n",
       "      <td>28</td>\n",
       "      <td>18</td>\n",
       "      <td>3916</td>\n",
       "      <td>29450</td>\n",
       "    </tr>\n",
       "    <tr>\n",
       "      <th>4</th>\n",
       "      <td>bmw</td>\n",
       "      <td>1_series</td>\n",
       "      <td>2011</td>\n",
       "      <td>premium_unleaded_(required)</td>\n",
       "      <td>230.0</td>\n",
       "      <td>6.0</td>\n",
       "      <td>manual</td>\n",
       "      <td>rear_wheel_drive</td>\n",
       "      <td>2.0</td>\n",
       "      <td>luxury</td>\n",
       "      <td>compact</td>\n",
       "      <td>convertible</td>\n",
       "      <td>28</td>\n",
       "      <td>18</td>\n",
       "      <td>3916</td>\n",
       "      <td>34500</td>\n",
       "    </tr>\n",
       "    <tr>\n",
       "      <th>...</th>\n",
       "      <td>...</td>\n",
       "      <td>...</td>\n",
       "      <td>...</td>\n",
       "      <td>...</td>\n",
       "      <td>...</td>\n",
       "      <td>...</td>\n",
       "      <td>...</td>\n",
       "      <td>...</td>\n",
       "      <td>...</td>\n",
       "      <td>...</td>\n",
       "      <td>...</td>\n",
       "      <td>...</td>\n",
       "      <td>...</td>\n",
       "      <td>...</td>\n",
       "      <td>...</td>\n",
       "      <td>...</td>\n",
       "    </tr>\n",
       "    <tr>\n",
       "      <th>2377</th>\n",
       "      <td>porsche</td>\n",
       "      <td>cayenne</td>\n",
       "      <td>2016</td>\n",
       "      <td>premium_unleaded_(required)</td>\n",
       "      <td>570.0</td>\n",
       "      <td>8.0</td>\n",
       "      <td>automatic</td>\n",
       "      <td>all_wheel_drive</td>\n",
       "      <td>4.0</td>\n",
       "      <td>crossover,luxury,high-performance</td>\n",
       "      <td>midsize</td>\n",
       "      <td>4dr_suv</td>\n",
       "      <td>21</td>\n",
       "      <td>14</td>\n",
       "      <td>1715</td>\n",
       "      <td>157300</td>\n",
       "    </tr>\n",
       "    <tr>\n",
       "      <th>2378</th>\n",
       "      <td>porsche</td>\n",
       "      <td>cayenne</td>\n",
       "      <td>2016</td>\n",
       "      <td>diesel</td>\n",
       "      <td>240.0</td>\n",
       "      <td>6.0</td>\n",
       "      <td>automatic</td>\n",
       "      <td>all_wheel_drive</td>\n",
       "      <td>4.0</td>\n",
       "      <td>crossover,luxury,diesel</td>\n",
       "      <td>midsize</td>\n",
       "      <td>4dr_suv</td>\n",
       "      <td>29</td>\n",
       "      <td>20</td>\n",
       "      <td>1715</td>\n",
       "      <td>62300</td>\n",
       "    </tr>\n",
       "    <tr>\n",
       "      <th>2379</th>\n",
       "      <td>porsche</td>\n",
       "      <td>cayenne</td>\n",
       "      <td>2017</td>\n",
       "      <td>premium_unleaded_(required)</td>\n",
       "      <td>520.0</td>\n",
       "      <td>8.0</td>\n",
       "      <td>automatic</td>\n",
       "      <td>all_wheel_drive</td>\n",
       "      <td>4.0</td>\n",
       "      <td>crossover,luxury,performance</td>\n",
       "      <td>midsize</td>\n",
       "      <td>4dr_suv</td>\n",
       "      <td>21</td>\n",
       "      <td>14</td>\n",
       "      <td>1715</td>\n",
       "      <td>116500</td>\n",
       "    </tr>\n",
       "    <tr>\n",
       "      <th>2380</th>\n",
       "      <td>porsche</td>\n",
       "      <td>cayenne</td>\n",
       "      <td>2017</td>\n",
       "      <td>premium_unleaded_(required)</td>\n",
       "      <td>300.0</td>\n",
       "      <td>6.0</td>\n",
       "      <td>automatic</td>\n",
       "      <td>all_wheel_drive</td>\n",
       "      <td>4.0</td>\n",
       "      <td>crossover,luxury</td>\n",
       "      <td>midsize</td>\n",
       "      <td>4dr_suv</td>\n",
       "      <td>24</td>\n",
       "      <td>18</td>\n",
       "      <td>1715</td>\n",
       "      <td>59600</td>\n",
       "    </tr>\n",
       "    <tr>\n",
       "      <th>2381</th>\n",
       "      <td>porsche</td>\n",
       "      <td>cayenne</td>\n",
       "      <td>2017</td>\n",
       "      <td>premium_unleaded_(required)</td>\n",
       "      <td>440.0</td>\n",
       "      <td>6.0</td>\n",
       "      <td>automatic</td>\n",
       "      <td>all_wheel_drive</td>\n",
       "      <td>4.0</td>\n",
       "      <td>crossover,luxury,high-performance</td>\n",
       "      <td>midsize</td>\n",
       "      <td>4dr_suv</td>\n",
       "      <td>23</td>\n",
       "      <td>16</td>\n",
       "      <td>1715</td>\n",
       "      <td>97200</td>\n",
       "    </tr>\n",
       "  </tbody>\n",
       "</table>\n",
       "<p>2382 rows × 16 columns</p>\n",
       "</div>"
      ],
      "text/plain": [
       "         make       model  year             engine_fuel_type  engine_hp  \\\n",
       "0         bmw  1_series_m  2011  premium_unleaded_(required)      335.0   \n",
       "1         bmw    1_series  2011  premium_unleaded_(required)      300.0   \n",
       "2         bmw    1_series  2011  premium_unleaded_(required)      300.0   \n",
       "3         bmw    1_series  2011  premium_unleaded_(required)      230.0   \n",
       "4         bmw    1_series  2011  premium_unleaded_(required)      230.0   \n",
       "...       ...         ...   ...                          ...        ...   \n",
       "2377  porsche     cayenne  2016  premium_unleaded_(required)      570.0   \n",
       "2378  porsche     cayenne  2016                       diesel      240.0   \n",
       "2379  porsche     cayenne  2017  premium_unleaded_(required)      520.0   \n",
       "2380  porsche     cayenne  2017  premium_unleaded_(required)      300.0   \n",
       "2381  porsche     cayenne  2017  premium_unleaded_(required)      440.0   \n",
       "\n",
       "      engine_cylinders transmission_type     driven_wheels  number_of_doors  \\\n",
       "0                  6.0            manual  rear_wheel_drive              2.0   \n",
       "1                  6.0            manual  rear_wheel_drive              2.0   \n",
       "2                  6.0            manual  rear_wheel_drive              2.0   \n",
       "3                  6.0            manual  rear_wheel_drive              2.0   \n",
       "4                  6.0            manual  rear_wheel_drive              2.0   \n",
       "...                ...               ...               ...              ...   \n",
       "2377               8.0         automatic   all_wheel_drive              4.0   \n",
       "2378               6.0         automatic   all_wheel_drive              4.0   \n",
       "2379               8.0         automatic   all_wheel_drive              4.0   \n",
       "2380               6.0         automatic   all_wheel_drive              4.0   \n",
       "2381               6.0         automatic   all_wheel_drive              4.0   \n",
       "\n",
       "                            market_category vehicle_size vehicle_style  \\\n",
       "0     factory_tuner,luxury,high-performance      compact         coupe   \n",
       "1                        luxury,performance      compact   convertible   \n",
       "2                   luxury,high-performance      compact         coupe   \n",
       "3                        luxury,performance      compact         coupe   \n",
       "4                                    luxury      compact   convertible   \n",
       "...                                     ...          ...           ...   \n",
       "2377      crossover,luxury,high-performance      midsize       4dr_suv   \n",
       "2378                crossover,luxury,diesel      midsize       4dr_suv   \n",
       "2379           crossover,luxury,performance      midsize       4dr_suv   \n",
       "2380                       crossover,luxury      midsize       4dr_suv   \n",
       "2381      crossover,luxury,high-performance      midsize       4dr_suv   \n",
       "\n",
       "      highway_mpg  city_mpg  popularity    msrp  \n",
       "0              26        19        3916   46135  \n",
       "1              28        19        3916   40650  \n",
       "2              28        20        3916   36350  \n",
       "3              28        18        3916   29450  \n",
       "4              28        18        3916   34500  \n",
       "...           ...       ...         ...     ...  \n",
       "2377           21        14        1715  157300  \n",
       "2378           29        20        1715   62300  \n",
       "2379           21        14        1715  116500  \n",
       "2380           24        18        1715   59600  \n",
       "2381           23        16        1715   97200  \n",
       "\n",
       "[2382 rows x 16 columns]"
      ]
     },
     "execution_count": 70,
     "metadata": {},
     "output_type": "execute_result"
    }
   ],
   "source": [
    "df.iloc[:n_val]"
   ]
  },
  {
   "cell_type": "code",
   "execution_count": 71,
   "metadata": {},
   "outputs": [],
   "source": [
    "df_train = df.iloc[:n_train]\n",
    "df_val = df.iloc[n_train:n_train+n_val]\n",
    "df_test = df.iloc[n_train+n_val:]"
   ]
  },
  {
   "cell_type": "code",
   "execution_count": 72,
   "id": "d888706d",
   "metadata": {},
   "outputs": [
    {
     "data": {
      "text/plain": [
       "array([    0,     1,     2, ..., 11911, 11912, 11913], shape=(11914,))"
      ]
     },
     "execution_count": 72,
     "metadata": {},
     "output_type": "execute_result"
    }
   ],
   "source": [
    "np.arange(n)"
   ]
  },
  {
   "cell_type": "code",
   "execution_count": 78,
   "metadata": {},
   "outputs": [],
   "source": [
    "idx = np.arange(n)"
   ]
  },
  {
   "cell_type": "code",
   "execution_count": 81,
   "id": "ac78dddc",
   "metadata": {},
   "outputs": [
    {
     "data": {
      "text/plain": [
       "<Axes: >"
      ]
     },
     "execution_count": 81,
     "metadata": {},
     "output_type": "execute_result"
    },
    {
     "data": {
      "image/png": "[encoded data removed]",
      "text/plain": [
       "<Figure size 640x480 with 1 Axes>"
      ]
     },
     "metadata": {},
     "output_type": "display_data"
    }
   ],
   "source": [
    "pd.Series(idx).plot()"
   ]
  },
  {
   "cell_type": "code",
   "execution_count": 82,
   "metadata": {},
   "outputs": [],
   "source": [
    "np.random.seed(2)\n",
    "np.random.shuffle(idx)"
   ]
  },
  {
   "cell_type": "code",
   "execution_count": 83,
   "id": "bd690ef7",
   "metadata": {},
   "outputs": [
    {
     "data": {
      "text/plain": [
       "<Axes: >"
      ]
     },
     "execution_count": 83,
     "metadata": {},
     "output_type": "execute_result"
    },
    {
     "data": {
      "image/png": "[encoded data removed]",
      "text/plain": [
       "<Figure size 640x480 with 1 Axes>"
      ]
     },
     "metadata": {},
     "output_type": "display_data"
    }
   ],
   "source": [
    "pd.Series(idx).plot()"
   ]
  },
  {
   "cell_type": "code",
   "execution_count": 84,
   "metadata": {},
   "outputs": [],
   "source": [
    "df_train = df.iloc[idx[:n_train]]\n",
    "df_val = df.iloc[idx[n_train:n_train+n_val]]\n",
    "df_test = df.iloc[idx[n_train+n_val:]]"
   ]
  },
  {
   "cell_type": "code",
   "execution_count": 86,
   "metadata": {},
   "outputs": [
    {
     "data": {
      "application/vnd.microsoft.datawrangler.viewer.v0+json": {
       "columns": [
        {
         "name": "index",
         "rawType": "int64",
         "type": "integer"
        },
        {
         "name": "make",
         "rawType": "object",
         "type": "string"
        },
        {
         "name": "model",
         "rawType": "object",
         "type": "string"
        },
        {
         "name": "year",
         "rawType": "int64",
         "type": "integer"
        },
        {
         "name": "engine_fuel_type",
         "rawType": "object",
         "type": "string"
        },
        {
         "name": "engine_hp",
         "rawType": "float64",
         "type": "float"
        },
        {
         "name": "engine_cylinders",
         "rawType": "float64",
         "type": "float"
        },
        {
         "name": "transmission_type",
         "rawType": "object",
         "type": "string"
        },
        {
         "name": "driven_wheels",
         "rawType": "object",
         "type": "string"
        },
        {
         "name": "number_of_doors",
         "rawType": "float64",
         "type": "float"
        },
        {
         "name": "market_category",
         "rawType": "object",
         "type": "unknown"
        },
        {
         "name": "vehicle_size",
         "rawType": "object",
         "type": "string"
        },
        {
         "name": "vehicle_style",
         "rawType": "object",
         "type": "string"
        },
        {
         "name": "highway_mpg",
         "rawType": "int64",
         "type": "integer"
        },
        {
         "name": "city_mpg",
         "rawType": "int64",
         "type": "integer"
        },
        {
         "name": "popularity",
         "rawType": "int64",
         "type": "integer"
        },
        {
         "name": "msrp",
         "rawType": "int64",
         "type": "integer"
        }
       ],
       "ref": "b04ceaac-c7fa-4bc6-b5df-cf3b60e4d973",
       "rows": [
        [
         "2735",
         "chevrolet",
         "cobalt",
         "2008",
         "regular_unleaded",
         "148.0",
         "4.0",
         "manual",
         "front_wheel_drive",
         "2.0",
         null,
         "compact",
         "coupe",
         "33",
         "24",
         "1385",
         "14410"
        ],
        [
         "6720",
         "toyota",
         "matrix",
         "2012",
         "regular_unleaded",
         "132.0",
         "4.0",
         "automatic",
         "front_wheel_drive",
         "4.0",
         "hatchback",
         "compact",
         "4dr_hatchback",
         "32",
         "25",
         "2031",
         "19685"
        ],
        [
         "5878",
         "subaru",
         "impreza",
         "2016",
         "regular_unleaded",
         "148.0",
         "4.0",
         "automatic",
         "all_wheel_drive",
         "4.0",
         "hatchback",
         "compact",
         "4dr_hatchback",
         "37",
         "28",
         "640",
         "19795"
        ],
        [
         "11190",
         "volkswagen",
         "vanagon",
         "1991",
         "regular_unleaded",
         "90.0",
         "4.0",
         "manual",
         "rear_wheel_drive",
         "3.0",
         null,
         "large",
         "passenger_minivan",
         "18",
         "16",
         "873",
         "2000"
        ],
        [
         "4554",
         "ford",
         "f-150",
         "2017",
         "flex-fuel_(unleaded/e85)",
         "385.0",
         "8.0",
         "automatic",
         "four_wheel_drive",
         "4.0",
         "flex_fuel",
         "large",
         "crew_cab_pickup",
         "21",
         "15",
         "5657",
         "56260"
        ]
       ],
       "shape": {
        "columns": 16,
        "rows": 5
       }
      },
      "text/html": [
       "<div>\n",
       "<style scoped>\n",
       "    .dataframe tbody tr th:only-of-type {\n",
       "        vertical-align: middle;\n",
       "    }\n",
       "\n",
       "    .dataframe tbody tr th {\n",
       "        vertical-align: top;\n",
       "    }\n",
       "\n",
       "    .dataframe thead th {\n",
       "        text-align: right;\n",
       "    }\n",
       "</style>\n",
       "<table border=\"1\" class=\"dataframe\">\n",
       "  <thead>\n",
       "    <tr style=\"text-align: right;\">\n",
       "      <th></th>\n",
       "      <th>make</th>\n",
       "      <th>model</th>\n",
       "      <th>year</th>\n",
       "      <th>engine_fuel_type</th>\n",
       "      <th>engine_hp</th>\n",
       "      <th>engine_cylinders</th>\n",
       "      <th>transmission_type</th>\n",
       "      <th>driven_wheels</th>\n",
       "      <th>number_of_doors</th>\n",
       "      <th>market_category</th>\n",
       "      <th>vehicle_size</th>\n",
       "      <th>vehicle_style</th>\n",
       "      <th>highway_mpg</th>\n",
       "      <th>city_mpg</th>\n",
       "      <th>popularity</th>\n",
       "      <th>msrp</th>\n",
       "    </tr>\n",
       "  </thead>\n",
       "  <tbody>\n",
       "    <tr>\n",
       "      <th>2735</th>\n",
       "      <td>chevrolet</td>\n",
       "      <td>cobalt</td>\n",
       "      <td>2008</td>\n",
       "      <td>regular_unleaded</td>\n",
       "      <td>148.0</td>\n",
       "      <td>4.0</td>\n",
       "      <td>manual</td>\n",
       "      <td>front_wheel_drive</td>\n",
       "      <td>2.0</td>\n",
       "      <td>NaN</td>\n",
       "      <td>compact</td>\n",
       "      <td>coupe</td>\n",
       "      <td>33</td>\n",
       "      <td>24</td>\n",
       "      <td>1385</td>\n",
       "      <td>14410</td>\n",
       "    </tr>\n",
       "    <tr>\n",
       "      <th>6720</th>\n",
       "      <td>toyota</td>\n",
       "      <td>matrix</td>\n",
       "      <td>2012</td>\n",
       "      <td>regular_unleaded</td>\n",
       "      <td>132.0</td>\n",
       "      <td>4.0</td>\n",
       "      <td>automatic</td>\n",
       "      <td>front_wheel_drive</td>\n",
       "      <td>4.0</td>\n",
       "      <td>hatchback</td>\n",
       "      <td>compact</td>\n",
       "      <td>4dr_hatchback</td>\n",
       "      <td>32</td>\n",
       "      <td>25</td>\n",
       "      <td>2031</td>\n",
       "      <td>19685</td>\n",
       "    </tr>\n",
       "    <tr>\n",
       "      <th>5878</th>\n",
       "      <td>subaru</td>\n",
       "      <td>impreza</td>\n",
       "      <td>2016</td>\n",
       "      <td>regular_unleaded</td>\n",
       "      <td>148.0</td>\n",
       "      <td>4.0</td>\n",
       "      <td>automatic</td>\n",
       "      <td>all_wheel_drive</td>\n",
       "      <td>4.0</td>\n",
       "      <td>hatchback</td>\n",
       "      <td>compact</td>\n",
       "      <td>4dr_hatchback</td>\n",
       "      <td>37</td>\n",
       "      <td>28</td>\n",
       "      <td>640</td>\n",
       "      <td>19795</td>\n",
       "    </tr>\n",
       "    <tr>\n",
       "      <th>11190</th>\n",
       "      <td>volkswagen</td>\n",
       "      <td>vanagon</td>\n",
       "      <td>1991</td>\n",
       "      <td>regular_unleaded</td>\n",
       "      <td>90.0</td>\n",
       "      <td>4.0</td>\n",
       "      <td>manual</td>\n",
       "      <td>rear_wheel_drive</td>\n",
       "      <td>3.0</td>\n",
       "      <td>NaN</td>\n",
       "      <td>large</td>\n",
       "      <td>passenger_minivan</td>\n",
       "      <td>18</td>\n",
       "      <td>16</td>\n",
       "      <td>873</td>\n",
       "      <td>2000</td>\n",
       "    </tr>\n",
       "    <tr>\n",
       "      <th>4554</th>\n",
       "      <td>ford</td>\n",
       "      <td>f-150</td>\n",
       "      <td>2017</td>\n",
       "      <td>flex-fuel_(unleaded/e85)</td>\n",
       "      <td>385.0</td>\n",
       "      <td>8.0</td>\n",
       "      <td>automatic</td>\n",
       "      <td>four_wheel_drive</td>\n",
       "      <td>4.0</td>\n",
       "      <td>flex_fuel</td>\n",
       "      <td>large</td>\n",
       "      <td>crew_cab_pickup</td>\n",
       "      <td>21</td>\n",
       "      <td>15</td>\n",
       "      <td>5657</td>\n",
       "      <td>56260</td>\n",
       "    </tr>\n",
       "  </tbody>\n",
       "</table>\n",
       "</div>"
      ],
      "text/plain": [
       "             make    model  year          engine_fuel_type  engine_hp  \\\n",
       "2735    chevrolet   cobalt  2008          regular_unleaded      148.0   \n",
       "6720       toyota   matrix  2012          regular_unleaded      132.0   \n",
       "5878       subaru  impreza  2016          regular_unleaded      148.0   \n",
       "11190  volkswagen  vanagon  1991          regular_unleaded       90.0   \n",
       "4554         ford    f-150  2017  flex-fuel_(unleaded/e85)      385.0   \n",
       "\n",
       "       engine_cylinders transmission_type      driven_wheels  number_of_doors  \\\n",
       "2735                4.0            manual  front_wheel_drive              2.0   \n",
       "6720                4.0         automatic  front_wheel_drive              4.0   \n",
       "5878                4.0         automatic    all_wheel_drive              4.0   \n",
       "11190               4.0            manual   rear_wheel_drive              3.0   \n",
       "4554                8.0         automatic   four_wheel_drive              4.0   \n",
       "\n",
       "      market_category vehicle_size      vehicle_style  highway_mpg  city_mpg  \\\n",
       "2735              NaN      compact              coupe           33        24   \n",
       "6720        hatchback      compact      4dr_hatchback           32        25   \n",
       "5878        hatchback      compact      4dr_hatchback           37        28   \n",
       "11190             NaN        large  passenger_minivan           18        16   \n",
       "4554        flex_fuel        large    crew_cab_pickup           21        15   \n",
       "\n",
       "       popularity   msrp  \n",
       "2735         1385  14410  \n",
       "6720         2031  19685  \n",
       "5878          640  19795  \n",
       "11190         873   2000  \n",
       "4554         5657  56260  "
      ]
     },
     "execution_count": 86,
     "metadata": {},
     "output_type": "execute_result"
    }
   ],
   "source": [
    "df_train.head()"
   ]
  },
  {
   "cell_type": "code",
   "execution_count": 87,
   "metadata": {},
   "outputs": [
    {
     "data": {
      "text/plain": [
       "(7150, 2382, 2382)"
      ]
     },
     "execution_count": 87,
     "metadata": {},
     "output_type": "execute_result"
    }
   ],
   "source": [
    "len(df_train), len(df_val), len(df_test)"
   ]
  },
  {
   "cell_type": "code",
   "execution_count": 88,
   "metadata": {},
   "outputs": [],
   "source": [
    "df_train = df_train.reset_index(drop=True)\n",
    "df_val = df_val.reset_index(drop=True)\n",
    "df_test = df_test.reset_index(drop=True)"
   ]
  },
  {
   "cell_type": "code",
   "execution_count": 89,
   "metadata": {},
   "outputs": [],
   "source": [
    "y_train = np.log1p(df_train.msrp.values)\n",
    "y_val = np.log1p(df_val.msrp.values)\n",
    "y_test = np.log1p(df_test.msrp.values)"
   ]
  },
  {
   "cell_type": "code",
   "execution_count": 90,
   "metadata": {},
   "outputs": [],
   "source": [
    "del df_train['msrp']\n",
    "del df_val['msrp']\n",
    "del df_test['msrp']"
   ]
  },
  {
   "cell_type": "code",
   "execution_count": 91,
   "metadata": {},
   "outputs": [
    {
     "data": {
      "text/plain": [
       "7150"
      ]
     },
     "execution_count": 91,
     "metadata": {},
     "output_type": "execute_result"
    }
   ],
   "source": [
    "len(y_train)"
   ]
  },
  {
   "cell_type": "markdown",
   "metadata": {},
   "source": [
    "## 2.5 Linear regression"
   ]
  },
  {
   "cell_type": "markdown",
   "metadata": {},
   "source": [
    "draw"
   ]
  },
  {
   "cell_type": "code",
   "execution_count": 92,
   "metadata": {},
   "outputs": [
    {
     "data": {
      "application/vnd.microsoft.datawrangler.viewer.v0+json": {
       "columns": [
        {
         "name": "index",
         "rawType": "object",
         "type": "string"
        },
        {
         "name": "10",
         "rawType": "object",
         "type": "unknown"
        }
       ],
       "ref": "dabe44cc-f2d6-4de1-b117-af86715ed221",
       "rows": [
        [
         "make",
         "rolls-royce"
        ],
        [
         "model",
         "phantom_drophead_coupe"
        ],
        [
         "year",
         "2015"
        ],
        [
         "engine_fuel_type",
         "premium_unleaded_(required)"
        ],
        [
         "engine_hp",
         "453.0"
        ],
        [
         "engine_cylinders",
         "12.0"
        ],
        [
         "transmission_type",
         "automatic"
        ],
        [
         "driven_wheels",
         "rear_wheel_drive"
        ],
        [
         "number_of_doors",
         "2.0"
        ],
        [
         "market_category",
         "exotic,luxury,performance"
        ],
        [
         "vehicle_size",
         "large"
        ],
        [
         "vehicle_style",
         "convertible"
        ],
        [
         "highway_mpg",
         "19"
        ],
        [
         "city_mpg",
         "11"
        ],
        [
         "popularity",
         "86"
        ]
       ],
       "shape": {
        "columns": 1,
        "rows": 15
       }
      },
      "text/plain": [
       "make                                 rolls-royce\n",
       "model                     phantom_drophead_coupe\n",
       "year                                        2015\n",
       "engine_fuel_type     premium_unleaded_(required)\n",
       "engine_hp                                  453.0\n",
       "engine_cylinders                            12.0\n",
       "transmission_type                      automatic\n",
       "driven_wheels                   rear_wheel_drive\n",
       "number_of_doors                              2.0\n",
       "market_category        exotic,luxury,performance\n",
       "vehicle_size                               large\n",
       "vehicle_style                        convertible\n",
       "highway_mpg                                   19\n",
       "city_mpg                                      11\n",
       "popularity                                    86\n",
       "Name: 10, dtype: object"
      ]
     },
     "execution_count": 92,
     "metadata": {},
     "output_type": "execute_result"
    }
   ],
   "source": [
    "df_train.iloc[10]"
   ]
  },
  {
   "cell_type": "code",
   "execution_count": null,
   "metadata": {},
   "outputs": [],
   "source": []
  },
  {
   "cell_type": "code",
   "execution_count": 36,
   "metadata": {},
   "outputs": [],
   "source": [
    "xi = [453, 11, 86]\n",
    "w0 = 7.17\n",
    "w = [0.01, 0.04, 0.002]"
   ]
  },
  {
   "cell_type": "code",
   "execution_count": 37,
   "metadata": {},
   "outputs": [],
   "source": [
    "def linear_regression(xi):\n",
    "    n = len(xi)\n",
    "\n",
    "    pred = w0\n",
    "\n",
    "    for j in range(n):\n",
    "        pred = pred + w[j] * xi[j]\n",
    "\n",
    "    return pred"
   ]
  },
  {
   "cell_type": "code",
   "execution_count": 38,
   "metadata": {},
   "outputs": [],
   "source": [
    "xi = [453, 11, 86]\n",
    "w0 = 7.17\n",
    "w = [0.01, 0.04, 0.002]"
   ]
  },
  {
   "cell_type": "code",
   "execution_count": 39,
   "metadata": {},
   "outputs": [
    {
     "data": {
      "text/plain": [
       "12.312"
      ]
     },
     "execution_count": 39,
     "metadata": {},
     "output_type": "execute_result"
    }
   ],
   "source": [
    "linear_regression(xi)"
   ]
  },
  {
   "cell_type": "code",
   "execution_count": 40,
   "metadata": {},
   "outputs": [
    {
     "data": {
      "text/plain": [
       "222347.2221101062"
      ]
     },
     "execution_count": 40,
     "metadata": {},
     "output_type": "execute_result"
    }
   ],
   "source": [
    "np.expm1(12.312)"
   ]
  },
  {
   "cell_type": "code",
   "execution_count": 41,
   "metadata": {
    "scrolled": true
   },
   "outputs": [
    {
     "data": {
      "text/plain": [
       "12.312"
      ]
     },
     "execution_count": 41,
     "metadata": {},
     "output_type": "execute_result"
    }
   ],
   "source": [
    "np.log1p(222347.2221101062)"
   ]
  },
  {
   "cell_type": "markdown",
   "metadata": {},
   "source": [
    "## 2.6 Linear regression vector form"
   ]
  },
  {
   "cell_type": "code",
   "execution_count": 42,
   "metadata": {},
   "outputs": [],
   "source": [
    "def dot(xi, w):\n",
    "    n = len(xi)\n",
    "    \n",
    "    res = 0.0\n",
    "    \n",
    "    for j in range(n):\n",
    "        res = res + xi[j] * w[j]\n",
    "    \n",
    "    return res"
   ]
  },
  {
   "cell_type": "code",
   "execution_count": 43,
   "metadata": {},
   "outputs": [],
   "source": [
    "def linear_regression(xi):\n",
    "    return w0 + dot(xi, w)"
   ]
  },
  {
   "cell_type": "code",
   "execution_count": 44,
   "metadata": {},
   "outputs": [],
   "source": [
    "w_new = [w0] + w"
   ]
  },
  {
   "cell_type": "code",
   "execution_count": 45,
   "metadata": {},
   "outputs": [
    {
     "data": {
      "text/plain": [
       "[7.17, 0.01, 0.04, 0.002]"
      ]
     },
     "execution_count": 45,
     "metadata": {},
     "output_type": "execute_result"
    }
   ],
   "source": [
    "w_new"
   ]
  },
  {
   "cell_type": "code",
   "execution_count": 46,
   "metadata": {},
   "outputs": [],
   "source": [
    "def linear_regression(xi):\n",
    "    xi = [1] + xi\n",
    "    return dot(xi, w_new)"
   ]
  },
  {
   "cell_type": "code",
   "execution_count": 47,
   "metadata": {},
   "outputs": [
    {
     "data": {
      "text/plain": [
       "12.312"
      ]
     },
     "execution_count": 47,
     "metadata": {},
     "output_type": "execute_result"
    }
   ],
   "source": [
    "linear_regression(xi)"
   ]
  },
  {
   "cell_type": "code",
   "execution_count": 94,
   "metadata": {},
   "outputs": [],
   "source": [
    "w0 = 7.17\n",
    "w = [0.01, 0.04, 0.002]\n",
    "w_new = [w0] + w"
   ]
  },
  {
   "cell_type": "code",
   "execution_count": 103,
   "id": "9f1dea10",
   "metadata": {},
   "outputs": [
    {
     "data": {
      "text/plain": [
       "array([0.01 , 0.04 , 0.002])"
      ]
     },
     "execution_count": 103,
     "metadata": {},
     "output_type": "execute_result"
    }
   ],
   "source": [
    "ww=np.array(w)\n",
    "np.transpose(ww)"
   ]
  },
  {
   "cell_type": "code",
   "execution_count": 49,
   "metadata": {},
   "outputs": [
    {
     "data": {
      "text/plain": [
       "array([[   1,  148,   24, 1385],\n",
       "       [   1,  132,   25, 2031],\n",
       "       [   1,  453,   11,   86]])"
      ]
     },
     "execution_count": 49,
     "metadata": {},
     "output_type": "execute_result"
    }
   ],
   "source": [
    "x1  = [1, 148, 24, 1385]\n",
    "x2  = [1, 132, 25, 2031]\n",
    "x10 = [1, 453, 11, 86]\n",
    "\n",
    "X = [x1, x2, x10]\n",
    "X = np.array(X)\n",
    "X"
   ]
  },
  {
   "cell_type": "code",
   "execution_count": 50,
   "metadata": {},
   "outputs": [],
   "source": [
    "def linear_regression(X):\n",
    "    return X.dot(w_new)"
   ]
  },
  {
   "cell_type": "code",
   "execution_count": 51,
   "metadata": {},
   "outputs": [
    {
     "data": {
      "text/plain": [
       "array([12.38 , 13.552, 12.312])"
      ]
     },
     "execution_count": 51,
     "metadata": {},
     "output_type": "execute_result"
    }
   ],
   "source": [
    "linear_regression(X)"
   ]
  },
  {
   "cell_type": "markdown",
   "metadata": {},
   "source": [
    "## 2.7 Training a linear regression model"
   ]
  },
  {
   "cell_type": "code",
   "execution_count": 52,
   "metadata": {},
   "outputs": [],
   "source": [
    "def train_linear_regression(X, y):\n",
    "    pass"
   ]
  },
  {
   "cell_type": "code",
   "execution_count": 135,
   "metadata": {},
   "outputs": [
    {
     "data": {
      "text/plain": [
       "array([[ 148,   24, 1385],\n",
       "       [ 132,   25, 2031],\n",
       "       [ 453,   11,   86],\n",
       "       [ 158,   24,  185],\n",
       "       [ 172,   25,  201],\n",
       "       [ 413,   11,   86],\n",
       "       [  38,   54,  185],\n",
       "       [ 142,   25,  431],\n",
       "       [ 453,   31,   86]])"
      ]
     },
     "execution_count": 135,
     "metadata": {},
     "output_type": "execute_result"
    }
   ],
   "source": [
    "X = [\n",
    "    [148, 24, 1385],\n",
    "    [132, 25, 2031],\n",
    "    [453, 11, 86],\n",
    "    [158, 24, 185],\n",
    "    [172, 25, 201],\n",
    "    [413, 11, 86],\n",
    "    [38,  54, 185],\n",
    "    [142, 25, 431],\n",
    "    [453, 31, 86],\n",
    "]\n",
    "\n",
    "X = np.array(X)\n",
    "X"
   ]
  },
  {
   "cell_type": "code",
   "execution_count": 112,
   "metadata": {},
   "outputs": [
    {
     "data": {
      "text/plain": [
       "array([1., 1., 1., 1., 1., 1., 1., 1., 1.])"
      ]
     },
     "execution_count": 112,
     "metadata": {},
     "output_type": "execute_result"
    }
   ],
   "source": [
    "ones = np.ones(X.shape[0])\n",
    "ones"
   ]
  },
  {
   "cell_type": "code",
   "execution_count": 131,
   "metadata": {},
   "outputs": [
    {
     "data": {
      "text/plain": [
       "array([[1.000e+00, 1.480e+02, 2.400e+01, 1.385e+03],\n",
       "       [1.000e+00, 1.320e+02, 2.500e+01, 2.031e+03],\n",
       "       [1.000e+00, 4.530e+02, 1.100e+01, 8.600e+01],\n",
       "       [1.000e+00, 1.580e+02, 2.400e+01, 1.850e+02],\n",
       "       [1.000e+00, 1.720e+02, 2.500e+01, 2.010e+02],\n",
       "       [1.000e+00, 4.130e+02, 1.100e+01, 8.600e+01],\n",
       "       [1.000e+00, 3.800e+01, 5.400e+01, 1.850e+02],\n",
       "       [1.000e+00, 1.420e+02, 2.500e+01, 4.310e+02],\n",
       "       [1.000e+00, 4.530e+02, 3.100e+01, 8.600e+01]])"
      ]
     },
     "execution_count": 131,
     "metadata": {},
     "output_type": "execute_result"
    }
   ],
   "source": [
    "X = np.column_stack([ones, X])\n",
    "X"
   ]
  },
  {
   "cell_type": "code",
   "execution_count": 133,
   "metadata": {},
   "outputs": [],
   "source": [
    "y = [10000, 20000, 15000, 20050, 10000, 20000, 15000, 25000, 12000]"
   ]
  },
  {
   "cell_type": "code",
   "execution_count": 115,
   "metadata": {},
   "outputs": [],
   "source": [
    "XTX = X.T.dot(X)\n",
    "XTX_inv = np.linalg.inv(XTX)\n",
    "w_full = XTX_inv.dot(X.T).dot(y)"
   ]
  },
  {
   "cell_type": "code",
   "execution_count": null,
   "metadata": {},
   "outputs": [],
   "source": []
  },
  {
   "cell_type": "code",
   "execution_count": null,
   "metadata": {},
   "outputs": [],
   "source": []
  },
  {
   "cell_type": "code",
   "execution_count": 116,
   "metadata": {},
   "outputs": [],
   "source": [
    "w0 = w_full[0]\n",
    "w = w_full[1:]"
   ]
  },
  {
   "cell_type": "code",
   "execution_count": 117,
   "metadata": {},
   "outputs": [
    {
     "data": {
      "text/plain": [
       "(np.float64(25844.754055766753),\n",
       " array([ -16.08906468, -199.47254894,   -1.22802883]))"
      ]
     },
     "execution_count": 117,
     "metadata": {},
     "output_type": "execute_result"
    }
   ],
   "source": [
    "w0, w"
   ]
  },
  {
   "cell_type": "code",
   "execution_count": 136,
   "metadata": {},
   "outputs": [],
   "source": [
    "def train_linear_regression(X, y):\n",
    "    ones = np.ones(X.shape[0])\n",
    "    X = np.column_stack([ones, X])\n",
    "\n",
    "    XTX = X.T.dot(X)\n",
    "    XTX_inv = np.linalg.inv(XTX)\n",
    "    w_full = XTX_inv.dot(X.T).dot(y)\n",
    "    \n",
    "    return w_full[0], w_full[1:]"
   ]
  },
  {
   "cell_type": "code",
   "execution_count": 137,
   "metadata": {},
   "outputs": [
    {
     "data": {
      "text/plain": [
       "(np.float64(25844.754055766753),\n",
       " array([ -16.08906468, -199.47254894,   -1.22802883]))"
      ]
     },
     "execution_count": 137,
     "metadata": {},
     "output_type": "execute_result"
    }
   ],
   "source": [
    "train_linear_regression(X, y)"
   ]
  },
  {
   "cell_type": "markdown",
   "metadata": {},
   "source": [
    "## 2.8 Car price baseline model"
   ]
  },
  {
   "cell_type": "code",
   "execution_count": 138,
   "metadata": {},
   "outputs": [
    {
     "data": {
      "text/plain": [
       "Index(['make', 'model', 'year', 'engine_fuel_type', 'engine_hp',\n",
       "       'engine_cylinders', 'transmission_type', 'driven_wheels',\n",
       "       'number_of_doors', 'market_category', 'vehicle_size', 'vehicle_style',\n",
       "       'highway_mpg', 'city_mpg', 'popularity'],\n",
       "      dtype='object')"
      ]
     },
     "execution_count": 138,
     "metadata": {},
     "output_type": "execute_result"
    }
   ],
   "source": [
    "df_train.columns"
   ]
  },
  {
   "cell_type": "code",
   "execution_count": 140,
   "metadata": {
    "scrolled": true
   },
   "outputs": [],
   "source": [
    "base = ['engine_hp', 'engine_cylinders', 'highway_mpg',\n",
    "        'city_mpg', 'popularity']\n"
   ]
  },
  {
   "cell_type": "code",
   "execution_count": 141,
   "id": "c6988066",
   "metadata": {},
   "outputs": [
    {
     "data": {
      "application/vnd.microsoft.datawrangler.viewer.v0+json": {
       "columns": [
        {
         "name": "index",
         "rawType": "int64",
         "type": "integer"
        },
        {
         "name": "engine_hp",
         "rawType": "float64",
         "type": "float"
        },
        {
         "name": "engine_cylinders",
         "rawType": "float64",
         "type": "float"
        },
        {
         "name": "highway_mpg",
         "rawType": "int64",
         "type": "integer"
        },
        {
         "name": "city_mpg",
         "rawType": "int64",
         "type": "integer"
        },
        {
         "name": "popularity",
         "rawType": "int64",
         "type": "integer"
        }
       ],
       "ref": "061b8928-2541-47d9-b11a-1eb72c5ddb36",
       "rows": [
        [
         "0",
         "148.0",
         "4.0",
         "33",
         "24",
         "1385"
        ],
        [
         "1",
         "132.0",
         "4.0",
         "32",
         "25",
         "2031"
        ],
        [
         "2",
         "148.0",
         "4.0",
         "37",
         "28",
         "640"
        ],
        [
         "3",
         "90.0",
         "4.0",
         "18",
         "16",
         "873"
        ],
        [
         "4",
         "385.0",
         "8.0",
         "21",
         "15",
         "5657"
        ],
        [
         "5",
         "170.0",
         "5.0",
         "29",
         "22",
         "873"
        ],
        [
         "6",
         "500.0",
         "8.0",
         "24",
         "14",
         "520"
        ],
        [
         "7",
         "315.0",
         "6.0",
         "32",
         "21",
         "3916"
        ],
        [
         "8",
         "543.0",
         "12.0",
         "16",
         "10",
         "67"
        ],
        [
         "9",
         "202.0",
         "6.0",
         "18",
         "13",
         "5657"
        ],
        [
         "10",
         "453.0",
         "12.0",
         "19",
         "11",
         "86"
        ],
        [
         "11",
         "182.0",
         "4.0",
         "29",
         "20",
         "1385"
        ],
        [
         "12",
         "162.0",
         "4.0",
         "27",
         "20",
         "436"
        ],
        [
         "13",
         "553.0",
         "8.0",
         "23",
         "16",
         "2774"
        ],
        [
         "14",
         "272.0",
         "6.0",
         "26",
         "18",
         "3105"
        ],
        [
         "15",
         "160.0",
         "4.0",
         "33",
         "29",
         "640"
        ],
        [
         "16",
         "348.0",
         "6.0",
         "24",
         "17",
         "1439"
        ],
        [
         "17",
         "151.0",
         "4.0",
         "23",
         "18",
         "436"
        ],
        [
         "18",
         "210.0",
         "6.0",
         "19",
         "15",
         "1851"
        ],
        [
         "19",
         "164.0",
         "6.0",
         "24",
         "18",
         "5657"
        ],
        [
         "20",
         "280.0",
         "8.0",
         "22",
         "16",
         "5657"
        ],
        [
         "21",
         "295.0",
         "8.0",
         "17",
         "13",
         "549"
        ],
        [
         "22",
         "315.0",
         "6.0",
         "29",
         "20",
         "3916"
        ],
        [
         "23",
         "305.0",
         "6.0",
         "24",
         "17",
         "549"
        ],
        [
         "24",
         "170.0",
         "4.0",
         "32",
         "24",
         "873"
        ],
        [
         "25",
         "122.0",
         "4.0",
         "32",
         "24",
         "481"
        ],
        [
         "26",
         "188.0",
         "4.0",
         "34",
         "28",
         "2009"
        ],
        [
         "27",
         "155.0",
         "4.0",
         "28",
         "22",
         "481"
        ],
        [
         "28",
         "74.0",
         "3.0",
         "42",
         "34",
         "436"
        ],
        [
         "29",
         "170.0",
         "4.0",
         "33",
         "26",
         "2009"
        ],
        [
         "30",
         "302.0",
         "6.0",
         "23",
         "18",
         "617"
        ],
        [
         "31",
         "177.0",
         "4.0",
         "27",
         "30",
         "5657"
        ],
        [
         "32",
         "121.0",
         "5.0",
         "30",
         "23",
         "617"
        ],
        [
         "33",
         "200.0",
         "4.0",
         "26",
         "20",
         "873"
        ],
        [
         "34",
         "400.0",
         "6.0",
         "23",
         "17",
         "1715"
        ],
        [
         "35",
         "180.0",
         "4.0",
         "28",
         "20",
         "1385"
        ],
        [
         "36",
         "152.0",
         "4.0",
         "23",
         "19",
         "2009"
        ],
        [
         "37",
         "455.0",
         "8.0",
         "25",
         "16",
         "1385"
        ],
        [
         "38",
         "188.0",
         "4.0",
         "41",
         "43",
         "5657"
        ],
        [
         "39",
         "310.0",
         "6.0",
         "28",
         "18",
         "1715"
        ],
        [
         "40",
         "188.0",
         "4.0",
         "30",
         "26",
         "2009"
        ],
        [
         "41",
         "138.0",
         "4.0",
         "38",
         "27",
         "1439"
        ],
        [
         "42",
         "180.0",
         "4.0",
         "30",
         "23",
         "481"
        ],
        [
         "43",
         "332.0",
         "6.0",
         "26",
         "19",
         "2009"
        ],
        [
         "44",
         "532.0",
         "12.0",
         "16",
         "9",
         "2774"
        ],
        [
         "45",
         "240.0",
         "4.0",
         "28",
         "21",
         "3916"
        ],
        [
         "46",
         "308.0",
         "6.0",
         "28",
         "31",
         "454"
        ],
        [
         "47",
         "390.0",
         "8.0",
         "17",
         "12",
         "238"
        ],
        [
         "48",
         "275.0",
         "6.0",
         "17",
         "12",
         "549"
        ],
        [
         "49",
         "330.0",
         "6.0",
         "25",
         "17",
         "190"
        ]
       ],
       "shape": {
        "columns": 5,
        "rows": 7150
       }
      },
      "text/html": [
       "<div>\n",
       "<style scoped>\n",
       "    .dataframe tbody tr th:only-of-type {\n",
       "        vertical-align: middle;\n",
       "    }\n",
       "\n",
       "    .dataframe tbody tr th {\n",
       "        vertical-align: top;\n",
       "    }\n",
       "\n",
       "    .dataframe thead th {\n",
       "        text-align: right;\n",
       "    }\n",
       "</style>\n",
       "<table border=\"1\" class=\"dataframe\">\n",
       "  <thead>\n",
       "    <tr style=\"text-align: right;\">\n",
       "      <th></th>\n",
       "      <th>engine_hp</th>\n",
       "      <th>engine_cylinders</th>\n",
       "      <th>highway_mpg</th>\n",
       "      <th>city_mpg</th>\n",
       "      <th>popularity</th>\n",
       "    </tr>\n",
       "  </thead>\n",
       "  <tbody>\n",
       "    <tr>\n",
       "      <th>0</th>\n",
       "      <td>148.0</td>\n",
       "      <td>4.0</td>\n",
       "      <td>33</td>\n",
       "      <td>24</td>\n",
       "      <td>1385</td>\n",
       "    </tr>\n",
       "    <tr>\n",
       "      <th>1</th>\n",
       "      <td>132.0</td>\n",
       "      <td>4.0</td>\n",
       "      <td>32</td>\n",
       "      <td>25</td>\n",
       "      <td>2031</td>\n",
       "    </tr>\n",
       "    <tr>\n",
       "      <th>2</th>\n",
       "      <td>148.0</td>\n",
       "      <td>4.0</td>\n",
       "      <td>37</td>\n",
       "      <td>28</td>\n",
       "      <td>640</td>\n",
       "    </tr>\n",
       "    <tr>\n",
       "      <th>3</th>\n",
       "      <td>90.0</td>\n",
       "      <td>4.0</td>\n",
       "      <td>18</td>\n",
       "      <td>16</td>\n",
       "      <td>873</td>\n",
       "    </tr>\n",
       "    <tr>\n",
       "      <th>4</th>\n",
       "      <td>385.0</td>\n",
       "      <td>8.0</td>\n",
       "      <td>21</td>\n",
       "      <td>15</td>\n",
       "      <td>5657</td>\n",
       "    </tr>\n",
       "    <tr>\n",
       "      <th>...</th>\n",
       "      <td>...</td>\n",
       "      <td>...</td>\n",
       "      <td>...</td>\n",
       "      <td>...</td>\n",
       "      <td>...</td>\n",
       "    </tr>\n",
       "    <tr>\n",
       "      <th>7145</th>\n",
       "      <td>300.0</td>\n",
       "      <td>6.0</td>\n",
       "      <td>31</td>\n",
       "      <td>20</td>\n",
       "      <td>3916</td>\n",
       "    </tr>\n",
       "    <tr>\n",
       "      <th>7146</th>\n",
       "      <td>210.0</td>\n",
       "      <td>4.0</td>\n",
       "      <td>30</td>\n",
       "      <td>24</td>\n",
       "      <td>873</td>\n",
       "    </tr>\n",
       "    <tr>\n",
       "      <th>7147</th>\n",
       "      <td>285.0</td>\n",
       "      <td>6.0</td>\n",
       "      <td>22</td>\n",
       "      <td>17</td>\n",
       "      <td>549</td>\n",
       "    </tr>\n",
       "    <tr>\n",
       "      <th>7148</th>\n",
       "      <td>563.0</td>\n",
       "      <td>12.0</td>\n",
       "      <td>21</td>\n",
       "      <td>13</td>\n",
       "      <td>86</td>\n",
       "    </tr>\n",
       "    <tr>\n",
       "      <th>7149</th>\n",
       "      <td>200.0</td>\n",
       "      <td>4.0</td>\n",
       "      <td>31</td>\n",
       "      <td>22</td>\n",
       "      <td>873</td>\n",
       "    </tr>\n",
       "  </tbody>\n",
       "</table>\n",
       "<p>7150 rows × 5 columns</p>\n",
       "</div>"
      ],
      "text/plain": [
       "      engine_hp  engine_cylinders  highway_mpg  city_mpg  popularity\n",
       "0         148.0               4.0           33        24        1385\n",
       "1         132.0               4.0           32        25        2031\n",
       "2         148.0               4.0           37        28         640\n",
       "3          90.0               4.0           18        16         873\n",
       "4         385.0               8.0           21        15        5657\n",
       "...         ...               ...          ...       ...         ...\n",
       "7145      300.0               6.0           31        20        3916\n",
       "7146      210.0               4.0           30        24         873\n",
       "7147      285.0               6.0           22        17         549\n",
       "7148      563.0              12.0           21        13          86\n",
       "7149      200.0               4.0           31        22         873\n",
       "\n",
       "[7150 rows x 5 columns]"
      ]
     },
     "execution_count": 141,
     "metadata": {},
     "output_type": "execute_result"
    }
   ],
   "source": [
    "df_train[base]"
   ]
  },
  {
   "cell_type": "code",
   "execution_count": 143,
   "id": "d8cdfc53",
   "metadata": {},
   "outputs": [],
   "source": [
    "X_train = df_train[base].values"
   ]
  },
  {
   "cell_type": "code",
   "execution_count": 146,
   "id": "4e3afc0b",
   "metadata": {},
   "outputs": [
    {
     "data": {
      "application/vnd.microsoft.datawrangler.viewer.v0+json": {
       "columns": [
        {
         "name": "index",
         "rawType": "object",
         "type": "string"
        },
        {
         "name": "0",
         "rawType": "int64",
         "type": "integer"
        }
       ],
       "ref": "8092a8a8-7e31-4b5f-93aa-7f0868635c9e",
       "rows": [
        [
         "engine_hp",
         "40"
        ],
        [
         "engine_cylinders",
         "14"
        ],
        [
         "highway_mpg",
         "0"
        ],
        [
         "city_mpg",
         "0"
        ],
        [
         "popularity",
         "0"
        ]
       ],
       "shape": {
        "columns": 1,
        "rows": 5
       }
      },
      "text/plain": [
       "engine_hp           40\n",
       "engine_cylinders    14\n",
       "highway_mpg          0\n",
       "city_mpg             0\n",
       "popularity           0\n",
       "dtype: int64"
      ]
     },
     "execution_count": 146,
     "metadata": {},
     "output_type": "execute_result"
    }
   ],
   "source": [
    "df_train[base].isnull().sum()"
   ]
  },
  {
   "cell_type": "code",
   "execution_count": 203,
   "id": "64c102cd",
   "metadata": {},
   "outputs": [
    {
     "data": {
      "text/plain": [
       "array([ 9.57574708,  9.887663  ,  9.89323518, ..., 10.45380308,\n",
       "       12.62248099, 10.54061978], shape=(7150,))"
      ]
     },
     "execution_count": 203,
     "metadata": {},
     "output_type": "execute_result"
    }
   ],
   "source": [
    "y_train"
   ]
  },
  {
   "cell_type": "code",
   "execution_count": 204,
   "id": "f65792c2",
   "metadata": {},
   "outputs": [
    {
     "data": {
      "text/plain": [
       "(np.float64(7.927257388069986),\n",
       " array([ 9.70589522e-03, -1.59103494e-01,  1.43792133e-02,  1.49441072e-02,\n",
       "        -9.06908672e-06]))"
      ]
     },
     "execution_count": 204,
     "metadata": {},
     "output_type": "execute_result"
    }
   ],
   "source": [
    "\n",
    "X_train = df_train[base].fillna(0).values\n",
    "\n",
    "w0, w = train_linear_regression(X_train, y_train)\n",
    "w0, w\n"
   ]
  },
  {
   "cell_type": "code",
   "execution_count": 205,
   "id": "5db3051a",
   "metadata": {},
   "outputs": [
    {
     "data": {
      "text/plain": [
       "array([ 9.54792783,  9.38733977,  9.67197758, ..., 10.30423015,\n",
       "       11.9778914 ,  9.99863111], shape=(7150,))"
      ]
     },
     "execution_count": 205,
     "metadata": {},
     "output_type": "execute_result"
    }
   ],
   "source": [
    "\n",
    "y_pred = w0 + X_train.dot(w)\n",
    "y_pred"
   ]
  },
  {
   "cell_type": "code",
   "execution_count": 206,
   "metadata": {},
   "outputs": [
    {
     "data": {
      "text/plain": [
       "np.float64(7.927257388069986)"
      ]
     },
     "execution_count": 206,
     "metadata": {},
     "output_type": "execute_result"
    }
   ],
   "source": [
    "w0"
   ]
  },
  {
   "cell_type": "code",
   "execution_count": 207,
   "metadata": {},
   "outputs": [
    {
     "data": {
      "text/plain": [
       "array([ 9.70589522e-03, -1.59103494e-01,  1.43792133e-02,  1.49441072e-02,\n",
       "       -9.06908672e-06])"
      ]
     },
     "execution_count": 207,
     "metadata": {},
     "output_type": "execute_result"
    }
   ],
   "source": [
    "w"
   ]
  },
  {
   "cell_type": "code",
   "execution_count": null,
   "metadata": {},
   "outputs": [],
   "source": []
  },
  {
   "cell_type": "code",
   "execution_count": 208,
   "metadata": {},
   "outputs": [
    {
     "data": {
      "text/plain": [
       "<Axes: ylabel='Count'>"
      ]
     },
     "execution_count": 208,
     "metadata": {},
     "output_type": "execute_result"
    },
    {
     "data": {
      "image/png": "[encoded data removed]",
      "text/plain": [
       "<Figure size 640x480 with 1 Axes>"
      ]
     },
     "metadata": {},
     "output_type": "display_data"
    }
   ],
   "source": [
    "sns.histplot(y_pred, color='red', alpha=0.5, bins=50)\n",
    "sns.histplot(y_train, color='blue', alpha=0.5, bins=50)\n"
   ]
  },
  {
   "cell_type": "markdown",
   "metadata": {},
   "source": [
    "## 2.9 RMSE"
   ]
  },
  {
   "cell_type": "code",
   "execution_count": 209,
   "metadata": {},
   "outputs": [],
   "source": [
    "def rmse(y, y_pred):\n",
    "    se = (y - y_pred) ** 2\n",
    "    mse = se.mean()\n",
    "    return np.sqrt(mse)"
   ]
  },
  {
   "cell_type": "code",
   "execution_count": 210,
   "metadata": {},
   "outputs": [
    {
     "data": {
      "text/plain": [
       "np.float64(0.7554192603920132)"
      ]
     },
     "execution_count": 210,
     "metadata": {},
     "output_type": "execute_result"
    }
   ],
   "source": [
    "rmse(y_train, y_pred)"
   ]
  },
  {
   "cell_type": "markdown",
   "metadata": {},
   "source": [
    "## 2.10 Validating the model"
   ]
  },
  {
   "cell_type": "code",
   "execution_count": 211,
   "metadata": {},
   "outputs": [],
   "source": [
    "def prepare_X(df):\n",
    "    df_num = df[base]\n",
    "    df_num = df_num.fillna(0)\n",
    "    X = df_num.values\n",
    "    return X"
   ]
  },
  {
   "cell_type": "code",
   "execution_count": 212,
   "metadata": {},
   "outputs": [
    {
     "data": {
      "text/plain": [
       "np.float64(0.761653099130156)"
      ]
     },
     "execution_count": 212,
     "metadata": {},
     "output_type": "execute_result"
    }
   ],
   "source": [
    "X_train = prepare_X(df_train)\n",
    "w0, w = train_linear_regression(X_train, y_train)\n",
    "\n",
    "X_val = prepare_X(df_val)\n",
    "y_pred = w0 + X_val.dot(w)\n",
    "rmse(y_val, y_pred)"
   ]
  },
  {
   "cell_type": "markdown",
   "metadata": {},
   "source": [
    "## 2.11 Simple feature engineering"
   ]
  },
  {
   "cell_type": "code",
   "execution_count": 213,
   "id": "f1244cf7",
   "metadata": {},
   "outputs": [
    {
     "data": {
      "text/plain": [
       "2017"
      ]
     },
     "execution_count": 213,
     "metadata": {},
     "output_type": "execute_result"
    }
   ],
   "source": [
    "df_train.year.max()"
   ]
  },
  {
   "cell_type": "code",
   "execution_count": 214,
   "metadata": {},
   "outputs": [],
   "source": [
    "def prepare_X(df):\n",
    "    df = df.copy()\n",
    "    \n",
    "    df['age'] = df['year'].max() - df['year']\n",
    "    features = base + ['age']\n",
    "    \n",
    "    df_num = df[features]\n",
    "    df_num = df_num.fillna(0)\n",
    "    X = df_num.values\n",
    "\n",
    "    return X"
   ]
  },
  {
   "cell_type": "code",
   "execution_count": 215,
   "metadata": {},
   "outputs": [
    {
     "data": {
      "text/plain": [
       "np.float64(0.5172055461058299)"
      ]
     },
     "execution_count": 215,
     "metadata": {},
     "output_type": "execute_result"
    }
   ],
   "source": [
    "X_train = prepare_X(df_train)\n",
    "w0, w = train_linear_regression(X_train, y_train)\n",
    "\n",
    "X_val = prepare_X(df_val)\n",
    "y_pred = w0 + X_val.dot(w)\n",
    "rmse(y_val, y_pred)"
   ]
  },
  {
   "cell_type": "code",
   "execution_count": 301,
   "metadata": {},
   "outputs": [
    {
     "ename": "TypeError",
     "evalue": "object of type 'numpy.float64' has no len()",
     "output_type": "error",
     "traceback": [
      "\u001b[31m---------------------------------------------------------------------------\u001b[39m",
      "\u001b[31mTypeError\u001b[39m                                 Traceback (most recent call last)",
      "\u001b[36mCell\u001b[39m\u001b[36m \u001b[39m\u001b[32mIn[301]\u001b[39m\u001b[32m, line 1\u001b[39m\n\u001b[32m----> \u001b[39m\u001b[32m1\u001b[39m \u001b[43msns\u001b[49m\u001b[43m.\u001b[49m\u001b[43mhistplot\u001b[49m\u001b[43m(\u001b[49m\u001b[43my_pred\u001b[49m\u001b[43m,\u001b[49m\u001b[43m \u001b[49m\u001b[43mlabel\u001b[49m\u001b[43m=\u001b[49m\u001b[33;43m'\u001b[39;49m\u001b[33;43mprediction\u001b[39;49m\u001b[33;43m'\u001b[39;49m\u001b[43m,\u001b[49m\u001b[43m \u001b[49m\u001b[43mcolor\u001b[49m\u001b[43m=\u001b[49m\u001b[33;43m'\u001b[39;49m\u001b[33;43mred\u001b[39;49m\u001b[33;43m'\u001b[39;49m\u001b[43m,\u001b[49m\u001b[43m \u001b[49m\u001b[43malpha\u001b[49m\u001b[43m=\u001b[49m\u001b[32;43m0.5\u001b[39;49m\u001b[43m,\u001b[49m\u001b[43m \u001b[49m\u001b[43mbins\u001b[49m\u001b[43m=\u001b[49m\u001b[32;43m150\u001b[39;49m\u001b[43m)\u001b[49m\n\u001b[32m      2\u001b[39m sns.histplot(y_val, label=\u001b[33m'\u001b[39m\u001b[33mtarget\u001b[39m\u001b[33m'\u001b[39m, color=\u001b[33m'\u001b[39m\u001b[33mblue\u001b[39m\u001b[33m'\u001b[39m,  alpha=\u001b[32m0.5\u001b[39m, bins=\u001b[32m150\u001b[39m)\n\u001b[32m      3\u001b[39m plt.legend()\n",
      "\u001b[36mFile \u001b[39m\u001b[32mc:\\_PYTH\\_ANACONDA\\Lib\\site-packages\\seaborn\\distributions.py:1379\u001b[39m, in \u001b[36mhistplot\u001b[39m\u001b[34m(data, x, y, hue, weights, stat, bins, binwidth, binrange, discrete, cumulative, common_bins, common_norm, multiple, element, fill, shrink, kde, kde_kws, line_kws, thresh, pthresh, pmax, cbar, cbar_ax, cbar_kws, palette, hue_order, hue_norm, color, log_scale, legend, ax, **kwargs)\u001b[39m\n\u001b[32m   1358\u001b[39m \u001b[38;5;28;01mdef\u001b[39;00m\u001b[38;5;250m \u001b[39m\u001b[34mhistplot\u001b[39m(\n\u001b[32m   1359\u001b[39m     data=\u001b[38;5;28;01mNone\u001b[39;00m, *,\n\u001b[32m   1360\u001b[39m     \u001b[38;5;66;03m# Vector variables\u001b[39;00m\n\u001b[32m   (...)\u001b[39m\u001b[32m   1376\u001b[39m     **kwargs,\n\u001b[32m   1377\u001b[39m ):\n\u001b[32m-> \u001b[39m\u001b[32m1379\u001b[39m     p = \u001b[43m_DistributionPlotter\u001b[49m\u001b[43m(\u001b[49m\n\u001b[32m   1380\u001b[39m \u001b[43m        \u001b[49m\u001b[43mdata\u001b[49m\u001b[43m=\u001b[49m\u001b[43mdata\u001b[49m\u001b[43m,\u001b[49m\n\u001b[32m   1381\u001b[39m \u001b[43m        \u001b[49m\u001b[43mvariables\u001b[49m\u001b[43m=\u001b[49m\u001b[38;5;28;43mdict\u001b[39;49m\u001b[43m(\u001b[49m\u001b[43mx\u001b[49m\u001b[43m=\u001b[49m\u001b[43mx\u001b[49m\u001b[43m,\u001b[49m\u001b[43m \u001b[49m\u001b[43my\u001b[49m\u001b[43m=\u001b[49m\u001b[43my\u001b[49m\u001b[43m,\u001b[49m\u001b[43m \u001b[49m\u001b[43mhue\u001b[49m\u001b[43m=\u001b[49m\u001b[43mhue\u001b[49m\u001b[43m,\u001b[49m\u001b[43m \u001b[49m\u001b[43mweights\u001b[49m\u001b[43m=\u001b[49m\u001b[43mweights\u001b[49m\u001b[43m)\u001b[49m\u001b[43m,\u001b[49m\n\u001b[32m   1382\u001b[39m \u001b[43m    \u001b[49m\u001b[43m)\u001b[49m\n\u001b[32m   1384\u001b[39m     p.map_hue(palette=palette, order=hue_order, norm=hue_norm)\n\u001b[32m   1386\u001b[39m     \u001b[38;5;28;01mif\u001b[39;00m ax \u001b[38;5;129;01mis\u001b[39;00m \u001b[38;5;28;01mNone\u001b[39;00m:\n",
      "\u001b[36mFile \u001b[39m\u001b[32mc:\\_PYTH\\_ANACONDA\\Lib\\site-packages\\seaborn\\distributions.py:110\u001b[39m, in \u001b[36m_DistributionPlotter.__init__\u001b[39m\u001b[34m(self, data, variables)\u001b[39m\n\u001b[32m    104\u001b[39m \u001b[38;5;28;01mdef\u001b[39;00m\u001b[38;5;250m \u001b[39m\u001b[34m__init__\u001b[39m(\n\u001b[32m    105\u001b[39m     \u001b[38;5;28mself\u001b[39m,\n\u001b[32m    106\u001b[39m     data=\u001b[38;5;28;01mNone\u001b[39;00m,\n\u001b[32m    107\u001b[39m     variables={},\n\u001b[32m    108\u001b[39m ):\n\u001b[32m--> \u001b[39m\u001b[32m110\u001b[39m     \u001b[38;5;28;43msuper\u001b[39;49m\u001b[43m(\u001b[49m\u001b[43m)\u001b[49m\u001b[43m.\u001b[49m\u001b[34;43m__init__\u001b[39;49m\u001b[43m(\u001b[49m\u001b[43mdata\u001b[49m\u001b[43m=\u001b[49m\u001b[43mdata\u001b[49m\u001b[43m,\u001b[49m\u001b[43m \u001b[49m\u001b[43mvariables\u001b[49m\u001b[43m=\u001b[49m\u001b[43mvariables\u001b[49m\u001b[43m)\u001b[49m\n",
      "\u001b[36mFile \u001b[39m\u001b[32mc:\\_PYTH\\_ANACONDA\\Lib\\site-packages\\seaborn\\_base.py:634\u001b[39m, in \u001b[36mVectorPlotter.__init__\u001b[39m\u001b[34m(self, data, variables)\u001b[39m\n\u001b[32m    629\u001b[39m \u001b[38;5;66;03m# var_ordered is relevant only for categorical axis variables, and may\u001b[39;00m\n\u001b[32m    630\u001b[39m \u001b[38;5;66;03m# be better handled by an internal axis information object that tracks\u001b[39;00m\n\u001b[32m    631\u001b[39m \u001b[38;5;66;03m# such information and is set up by the scale_* methods. The analogous\u001b[39;00m\n\u001b[32m    632\u001b[39m \u001b[38;5;66;03m# information for numeric axes would be information about log scales.\u001b[39;00m\n\u001b[32m    633\u001b[39m \u001b[38;5;28mself\u001b[39m._var_ordered = {\u001b[33m\"\u001b[39m\u001b[33mx\u001b[39m\u001b[33m\"\u001b[39m: \u001b[38;5;28;01mFalse\u001b[39;00m, \u001b[33m\"\u001b[39m\u001b[33my\u001b[39m\u001b[33m\"\u001b[39m: \u001b[38;5;28;01mFalse\u001b[39;00m}  \u001b[38;5;66;03m# alt., used DefaultDict\u001b[39;00m\n\u001b[32m--> \u001b[39m\u001b[32m634\u001b[39m \u001b[38;5;28;43mself\u001b[39;49m\u001b[43m.\u001b[49m\u001b[43massign_variables\u001b[49m\u001b[43m(\u001b[49m\u001b[43mdata\u001b[49m\u001b[43m,\u001b[49m\u001b[43m \u001b[49m\u001b[43mvariables\u001b[49m\u001b[43m)\u001b[49m\n\u001b[32m    636\u001b[39m \u001b[38;5;66;03m# TODO Lots of tests assume that these are called to initialize the\u001b[39;00m\n\u001b[32m    637\u001b[39m \u001b[38;5;66;03m# mappings to default values on class initialization. I'd prefer to\u001b[39;00m\n\u001b[32m    638\u001b[39m \u001b[38;5;66;03m# move away from that and only have a mapping when explicitly called.\u001b[39;00m\n\u001b[32m    639\u001b[39m \u001b[38;5;28;01mfor\u001b[39;00m var \u001b[38;5;129;01min\u001b[39;00m [\u001b[33m\"\u001b[39m\u001b[33mhue\u001b[39m\u001b[33m\"\u001b[39m, \u001b[33m\"\u001b[39m\u001b[33msize\u001b[39m\u001b[33m\"\u001b[39m, \u001b[33m\"\u001b[39m\u001b[33mstyle\u001b[39m\u001b[33m\"\u001b[39m]:\n",
      "\u001b[36mFile \u001b[39m\u001b[32mc:\\_PYTH\\_ANACONDA\\Lib\\site-packages\\seaborn\\_base.py:673\u001b[39m, in \u001b[36mVectorPlotter.assign_variables\u001b[39m\u001b[34m(self, data, variables)\u001b[39m\n\u001b[32m    671\u001b[39m \u001b[38;5;28;01mif\u001b[39;00m x \u001b[38;5;129;01mis\u001b[39;00m \u001b[38;5;28;01mNone\u001b[39;00m \u001b[38;5;129;01mand\u001b[39;00m y \u001b[38;5;129;01mis\u001b[39;00m \u001b[38;5;28;01mNone\u001b[39;00m:\n\u001b[32m    672\u001b[39m     \u001b[38;5;28mself\u001b[39m.input_format = \u001b[33m\"\u001b[39m\u001b[33mwide\u001b[39m\u001b[33m\"\u001b[39m\n\u001b[32m--> \u001b[39m\u001b[32m673\u001b[39m     frame, names = \u001b[38;5;28;43mself\u001b[39;49m\u001b[43m.\u001b[49m\u001b[43m_assign_variables_wideform\u001b[49m\u001b[43m(\u001b[49m\u001b[43mdata\u001b[49m\u001b[43m,\u001b[49m\u001b[43m \u001b[49m\u001b[43m*\u001b[49m\u001b[43m*\u001b[49m\u001b[43mvariables\u001b[49m\u001b[43m)\u001b[49m\n\u001b[32m    674\u001b[39m \u001b[38;5;28;01melse\u001b[39;00m:\n\u001b[32m    675\u001b[39m     \u001b[38;5;66;03m# When dealing with long-form input, use the newer PlotData\u001b[39;00m\n\u001b[32m    676\u001b[39m     \u001b[38;5;66;03m# object (internal but introduced for the objects interface)\u001b[39;00m\n\u001b[32m    677\u001b[39m     \u001b[38;5;66;03m# to centralize / standardize data consumption logic.\u001b[39;00m\n\u001b[32m    678\u001b[39m     \u001b[38;5;28mself\u001b[39m.input_format = \u001b[33m\"\u001b[39m\u001b[33mlong\u001b[39m\u001b[33m\"\u001b[39m\n",
      "\u001b[36mFile \u001b[39m\u001b[32mc:\\_PYTH\\_ANACONDA\\Lib\\site-packages\\seaborn\\_base.py:726\u001b[39m, in \u001b[36mVectorPlotter._assign_variables_wideform\u001b[39m\u001b[34m(self, data, **kwargs)\u001b[39m\n\u001b[32m    723\u001b[39m     \u001b[38;5;28;01mraise\u001b[39;00m \u001b[38;5;167;01mValueError\u001b[39;00m(err)\n\u001b[32m    725\u001b[39m \u001b[38;5;66;03m# Determine if the data object actually has any data in it\u001b[39;00m\n\u001b[32m--> \u001b[39m\u001b[32m726\u001b[39m empty = data \u001b[38;5;129;01mis\u001b[39;00m \u001b[38;5;28;01mNone\u001b[39;00m \u001b[38;5;129;01mor\u001b[39;00m \u001b[38;5;129;01mnot\u001b[39;00m \u001b[38;5;28;43mlen\u001b[39;49m\u001b[43m(\u001b[49m\u001b[43mdata\u001b[49m\u001b[43m)\u001b[49m\n\u001b[32m    728\u001b[39m \u001b[38;5;66;03m# Then, determine if we have \"flat\" data (a single vector)\u001b[39;00m\n\u001b[32m    729\u001b[39m \u001b[38;5;28;01mif\u001b[39;00m \u001b[38;5;28misinstance\u001b[39m(data, \u001b[38;5;28mdict\u001b[39m):\n",
      "\u001b[31mTypeError\u001b[39m: object of type 'numpy.float64' has no len()"
     ]
    }
   ],
   "source": [
    "sns.histplot(y_pred, label='prediction', color='red', alpha=0.5, bins=150)\n",
    "sns.histplot(y_val, label='target', color='blue',  alpha=0.5, bins=150)\n",
    "plt.legend()"
   ]
  },
  {
   "cell_type": "markdown",
   "metadata": {},
   "source": [
    "## 2.12 Categorical variables"
   ]
  },
  {
   "cell_type": "code",
   "execution_count": 255,
   "id": "d5844455",
   "metadata": {},
   "outputs": [
    {
     "data": {
      "application/vnd.microsoft.datawrangler.viewer.v0+json": {
       "columns": [
        {
         "name": "index",
         "rawType": "object",
         "type": "string"
        },
        {
         "name": "0",
         "rawType": "bool",
         "type": "boolean"
        }
       ],
       "ref": "77fdf76e-8510-4eaf-ac38-2d63df2da971",
       "rows": [
        [
         "make",
         "True"
        ],
        [
         "model",
         "True"
        ],
        [
         "year",
         "False"
        ],
        [
         "engine_fuel_type",
         "True"
        ],
        [
         "engine_hp",
         "False"
        ],
        [
         "engine_cylinders",
         "False"
        ],
        [
         "transmission_type",
         "True"
        ],
        [
         "driven_wheels",
         "True"
        ],
        [
         "number_of_doors",
         "False"
        ],
        [
         "market_category",
         "True"
        ],
        [
         "vehicle_size",
         "True"
        ],
        [
         "vehicle_style",
         "True"
        ],
        [
         "highway_mpg",
         "False"
        ],
        [
         "city_mpg",
         "False"
        ],
        [
         "popularity",
         "False"
        ]
       ],
       "shape": {
        "columns": 1,
        "rows": 15
       }
      },
      "text/plain": [
       "make                  True\n",
       "model                 True\n",
       "year                 False\n",
       "engine_fuel_type      True\n",
       "engine_hp            False\n",
       "engine_cylinders     False\n",
       "transmission_type     True\n",
       "driven_wheels         True\n",
       "number_of_doors      False\n",
       "market_category       True\n",
       "vehicle_size          True\n",
       "vehicle_style         True\n",
       "highway_mpg          False\n",
       "city_mpg             False\n",
       "popularity           False\n",
       "dtype: bool"
      ]
     },
     "execution_count": 255,
     "metadata": {},
     "output_type": "execute_result"
    }
   ],
   "source": [
    "df_train.dtypes=='object'"
   ]
  },
  {
   "cell_type": "code",
   "execution_count": 256,
   "id": "6e665360",
   "metadata": {},
   "outputs": [],
   "source": [
    "from IPython.display import JSON"
   ]
  },
  {
   "cell_type": "code",
   "execution_count": 281,
   "metadata": {},
   "outputs": [
    {
     "data": {
      "application/json": {
       "driven_wheels": [
        "front_wheel_drive",
        "rear_wheel_drive",
        "all_wheel_drive",
        "four_wheel_drive"
       ],
       "engine_fuel_type": [
        "regular_unleaded",
        "premium_unleaded_(required)",
        "premium_unleaded_(recommended)",
        "flex-fuel_(unleaded/e85)",
        "diesel",
        "electric",
        "flex-fuel_(premium_unleaded_required/e85)",
        "flex-fuel_(premium_unleaded_recommended/e85)",
        "flex-fuel_(unleaded/natural_gas)"
       ],
       "make": [
        "chevrolet",
        "ford",
        "volkswagen",
        "toyota",
        "dodge",
        "nissan",
        "gmc",
        "mazda",
        "cadillac",
        "honda",
        "suzuki",
        "mercedes-benz",
        "bmw",
        "infiniti",
        "audi",
        "hyundai",
        "volvo",
        "acura",
        "subaru",
        "kia"
       ],
       "market_category": [
        "crossover",
        "flex_fuel",
        "luxury",
        "hatchback",
        "luxury,performance",
        "performance",
        "crossover,luxury",
        "luxury,high-performance",
        "exotic,high-performance",
        "hatchback,performance",
        "factory_tuner,luxury,high-performance",
        "high-performance",
        "hybrid",
        "crossover,luxury,performance",
        "factory_tuner,high-performance",
        "diesel",
        "exotic,luxury,high-performance",
        "factory_tuner,performance",
        "flex_fuel,performance",
        "crossover,flex_fuel"
       ],
       "model": [
        "silverado_1500",
        "tundra",
        "f-150",
        "sierra_1500",
        "tacoma",
        "beetle_convertible",
        "accord",
        "gti",
        "frontier",
        "beetle",
        "911",
        "dakota",
        "civic",
        "corvette",
        "c/k_1500_series",
        "xc60",
        "golf_gti",
        "ram_pickup_1500",
        "jetta",
        "sierra_1500_classic"
       ],
       "transmission_type": [
        "automatic",
        "manual",
        "automated_manual",
        "direct_drive",
        "unknown"
       ],
       "vehicle_size": [
        "compact",
        "midsize",
        "large"
       ],
       "vehicle_style": [
        "sedan",
        "4dr_suv",
        "coupe",
        "convertible",
        "4dr_hatchback",
        "crew_cab_pickup",
        "extended_cab_pickup",
        "wagon",
        "2dr_hatchback",
        "passenger_minivan",
        "regular_cab_pickup",
        "2dr_suv",
        "passenger_van",
        "cargo_van",
        "cargo_minivan",
        "convertible_suv"
       ]
      },
      "text/plain": [
       "<IPython.core.display.JSON object>"
      ]
     },
     "execution_count": 281,
     "metadata": {
      "application/json": {
       "expanded": false,
       "root": "root"
      }
     },
     "output_type": "execute_result"
    }
   ],
   "source": [
    "categorical_columns = [\n",
    "    'make', 'model', 'engine_fuel_type', 'driven_wheels', 'market_category',\n",
    "    'vehicle_size', 'vehicle_style','transmission_type']\n",
    "\n",
    "categorical = {}\n",
    "\n",
    "for c in categorical_columns:\n",
    "    categorical[c] = list(df_train[c].value_counts().head(20).index)\n",
    "JSON(categorical)"
   ]
  },
  {
   "cell_type": "code",
   "execution_count": 259,
   "metadata": {},
   "outputs": [],
   "source": [
    "def prepare_X(df):\n",
    "    df = df.copy()\n",
    "    \n",
    "    df['age'] = 2017 - df['year']\n",
    "    features = base + ['age']\n",
    "\n",
    "    for v in [2, 3, 4]:\n",
    "        df['num_doors_%d' % v] = (df.number_of_doors == v).astype(int)\n",
    "        features.append('num_doors_%d' % v)\n",
    "\n",
    "    for name, values in categorical.items():\n",
    "        for value in values:\n",
    "            df['%s_%s' % (name, value)] = (df[name] == value).astype(int)\n",
    "            features.append('%s_%s' % (name, value))\n",
    "\n",
    "    df_num = df[features]\n",
    "    df_num = df_num.fillna(0)\n",
    "    X = df_num.values\n",
    "\n",
    "    return X"
   ]
  },
  {
   "cell_type": "code",
   "execution_count": 282,
   "id": "81d94276",
   "metadata": {},
   "outputs": [
    {
     "data": {
      "text/plain": [
       "['engine_hp', 'engine_cylinders', 'highway_mpg', 'city_mpg', 'popularity']"
      ]
     },
     "execution_count": 282,
     "metadata": {},
     "output_type": "execute_result"
    }
   ],
   "source": [
    "base"
   ]
  },
  {
   "cell_type": "code",
   "execution_count": 283,
   "metadata": {},
   "outputs": [
    {
     "name": "stderr",
     "output_type": "stream",
     "text": [
      "C:\\Users\\admin\\AppData\\Local\\Temp\\ipykernel_9760\\167045208.py:13: PerformanceWarning: DataFrame is highly fragmented.  This is usually the result of calling `frame.insert` many times, which has poor performance.  Consider joining all columns at once using pd.concat(axis=1) instead. To get a de-fragmented frame, use `newframe = frame.copy()`\n",
      "  df['%s_%s' % (name, value)] = (df[name] == value).astype(int)\n",
      "C:\\Users\\admin\\AppData\\Local\\Temp\\ipykernel_9760\\167045208.py:13: PerformanceWarning: DataFrame is highly fragmented.  This is usually the result of calling `frame.insert` many times, which has poor performance.  Consider joining all columns at once using pd.concat(axis=1) instead. To get a de-fragmented frame, use `newframe = frame.copy()`\n",
      "  df['%s_%s' % (name, value)] = (df[name] == value).astype(int)\n",
      "C:\\Users\\admin\\AppData\\Local\\Temp\\ipykernel_9760\\167045208.py:13: PerformanceWarning: DataFrame is highly fragmented.  This is usually the result of calling `frame.insert` many times, which has poor performance.  Consider joining all columns at once using pd.concat(axis=1) instead. To get a de-fragmented frame, use `newframe = frame.copy()`\n",
      "  df['%s_%s' % (name, value)] = (df[name] == value).astype(int)\n",
      "C:\\Users\\admin\\AppData\\Local\\Temp\\ipykernel_9760\\167045208.py:13: PerformanceWarning: DataFrame is highly fragmented.  This is usually the result of calling `frame.insert` many times, which has poor performance.  Consider joining all columns at once using pd.concat(axis=1) instead. To get a de-fragmented frame, use `newframe = frame.copy()`\n",
      "  df['%s_%s' % (name, value)] = (df[name] == value).astype(int)\n",
      "C:\\Users\\admin\\AppData\\Local\\Temp\\ipykernel_9760\\167045208.py:13: PerformanceWarning: DataFrame is highly fragmented.  This is usually the result of calling `frame.insert` many times, which has poor performance.  Consider joining all columns at once using pd.concat(axis=1) instead. To get a de-fragmented frame, use `newframe = frame.copy()`\n",
      "  df['%s_%s' % (name, value)] = (df[name] == value).astype(int)\n",
      "C:\\Users\\admin\\AppData\\Local\\Temp\\ipykernel_9760\\167045208.py:13: PerformanceWarning: DataFrame is highly fragmented.  This is usually the result of calling `frame.insert` many times, which has poor performance.  Consider joining all columns at once using pd.concat(axis=1) instead. To get a de-fragmented frame, use `newframe = frame.copy()`\n",
      "  df['%s_%s' % (name, value)] = (df[name] == value).astype(int)\n",
      "C:\\Users\\admin\\AppData\\Local\\Temp\\ipykernel_9760\\167045208.py:13: PerformanceWarning: DataFrame is highly fragmented.  This is usually the result of calling `frame.insert` many times, which has poor performance.  Consider joining all columns at once using pd.concat(axis=1) instead. To get a de-fragmented frame, use `newframe = frame.copy()`\n",
      "  df['%s_%s' % (name, value)] = (df[name] == value).astype(int)\n",
      "C:\\Users\\admin\\AppData\\Local\\Temp\\ipykernel_9760\\167045208.py:13: PerformanceWarning: DataFrame is highly fragmented.  This is usually the result of calling `frame.insert` many times, which has poor performance.  Consider joining all columns at once using pd.concat(axis=1) instead. To get a de-fragmented frame, use `newframe = frame.copy()`\n",
      "  df['%s_%s' % (name, value)] = (df[name] == value).astype(int)\n"
     ]
    },
    {
     "data": {
      "text/plain": [
       "np.float64(475.6984060003892)"
      ]
     },
     "execution_count": 283,
     "metadata": {},
     "output_type": "execute_result"
    }
   ],
   "source": [
    "X_train = prepare_X(df_train)\n",
    "w0, w = train_linear_regression(X_train, y_train)\n",
    "\n",
    "X_val = prepare_X(df_val)\n",
    "y_pred = w0 + X_val.dot(w)\n",
    "rmse(y_val, y_pred)"
   ]
  },
  {
   "cell_type": "code",
   "execution_count": 284,
   "metadata": {},
   "outputs": [
    {
     "data": {
      "text/plain": [
       "(np.float64(-3.590206527096305e+16),\n",
       " array([-7.24264780e-01, -7.17021473e+00,  4.91833939e+00, -3.46840017e+01,\n",
       "         8.26327011e-02, -9.00693426e+00,  7.69854708e+03,  7.58765062e+03,\n",
       "         7.65232946e+03, -9.74677662e+01, -4.61101341e+02, -6.84872492e+01,\n",
       "        -7.22093986e+01, -1.41589824e+02, -1.19340663e+02, -6.12767658e+01,\n",
       "        -9.82006236e+00, -8.51718112e+01, -7.79754789e+01, -1.20995409e+02,\n",
       "         8.14705913e+00, -2.58639908e+02,  3.05221517e+01, -2.47928571e+02,\n",
       "        -9.80629507e+01,  2.62098952e+01, -1.02701880e+00, -1.02700590e+01,\n",
       "        -1.70464791e+02,  6.07839804e+01, -6.25231915e+01,  1.27201150e+02,\n",
       "         1.00986218e+02,  1.42984984e+01, -5.03747851e+01, -5.38075000e+01,\n",
       "        -1.86142618e+01, -1.42596015e+02, -1.85785672e+01, -7.51757063e+01,\n",
       "        -5.97728880e+01,  3.71893463e+01,  7.87252403e+01, -3.98048578e+01,\n",
       "        -6.14856075e+01,  2.89625752e+01,  2.59110694e+01,  4.45132062e+01,\n",
       "         6.11106979e+01, -1.53205399e+04, -1.53220052e+04, -1.53011523e+04,\n",
       "        -1.53686809e+04, -1.52370925e+04, -1.11858583e+04, -1.53128518e+04,\n",
       "        -1.60532600e+04, -1.77749196e+04,  1.06681627e+16,  1.06681627e+16,\n",
       "         1.06681627e+16,  1.06681627e+16, -7.92242035e+01, -3.78461682e+01,\n",
       "        -3.54003205e+01, -2.73342521e+01, -3.91064850e+01, -3.64402432e+01,\n",
       "        -3.90347659e+01, -3.59614376e+01, -5.19826594e+01,  2.45385338e+00,\n",
       "         1.24710908e+00, -4.58902289e+01,  4.07826943e+02, -6.74128532e+01,\n",
       "         6.88036962e+00,  2.09777598e+01, -1.81845559e+01, -3.63344319e+01,\n",
       "         2.15576285e+01,  1.85955045e+01,  2.51814578e+16,  2.51814578e+16,\n",
       "         2.51814578e+16,  5.24447443e+13,  5.24447443e+13,  5.24447443e+13,\n",
       "         5.24447443e+13,  5.24447443e+13,  5.24447443e+13,  5.24447443e+13,\n",
       "         5.24447443e+13,  5.24447443e+13,  5.24447443e+13,  5.24447443e+13,\n",
       "         5.24447443e+13,  5.24447443e+13,  5.24447443e+13,  5.24447443e+13,\n",
       "         5.24447443e+13,  2.16929777e+01,  2.11580433e+01,  1.58473347e+01,\n",
       "         2.13935430e+01,  1.83740582e+01]))"
      ]
     },
     "execution_count": 284,
     "metadata": {},
     "output_type": "execute_result"
    }
   ],
   "source": [
    "w0, w"
   ]
  },
  {
   "cell_type": "markdown",
   "metadata": {},
   "source": [
    "## 2.13 Regularization"
   ]
  },
  {
   "cell_type": "code",
   "execution_count": 224,
   "metadata": {},
   "outputs": [
    {
     "data": {
      "text/plain": [
       "array([[4.        , 4.        , 4.        ],\n",
       "       [3.        , 5.        , 5.        ],\n",
       "       [5.        , 1.        , 1.        ],\n",
       "       [5.        , 4.        , 4.        ],\n",
       "       [7.        , 5.        , 5.        ],\n",
       "       [4.        , 5.        , 5.00000001]])"
      ]
     },
     "execution_count": 224,
     "metadata": {},
     "output_type": "execute_result"
    }
   ],
   "source": [
    "X = [\n",
    "    [4, 4, 4],\n",
    "    [3, 5, 5],\n",
    "    [5, 1, 1],\n",
    "    [5, 4, 4],\n",
    "    [7, 5, 5],\n",
    "    [4, 5, 5.00000001],\n",
    "]\n",
    "\n",
    "X = np.array(X)\n",
    "X"
   ]
  },
  {
   "cell_type": "code",
   "execution_count": 225,
   "metadata": {},
   "outputs": [],
   "source": [
    "y= [1, 2, 3, 1, 2, 3]"
   ]
  },
  {
   "cell_type": "code",
   "execution_count": 226,
   "metadata": {},
   "outputs": [
    {
     "data": {
      "text/plain": [
       "array([[140.        , 111.        , 111.00000004],\n",
       "       [111.        , 108.        , 108.00000005],\n",
       "       [111.00000004, 108.00000005, 108.0000001 ]])"
      ]
     },
     "execution_count": 226,
     "metadata": {},
     "output_type": "execute_result"
    }
   ],
   "source": [
    "XTX = X.T.dot(X)\n",
    "XTX"
   ]
  },
  {
   "cell_type": "code",
   "execution_count": 227,
   "metadata": {},
   "outputs": [
    {
     "ename": "LinAlgError",
     "evalue": "Singular matrix",
     "output_type": "error",
     "traceback": [
      "\u001b[31m---------------------------------------------------------------------------\u001b[39m",
      "\u001b[31mLinAlgError\u001b[39m                               Traceback (most recent call last)",
      "\u001b[36mCell\u001b[39m\u001b[36m \u001b[39m\u001b[32mIn[227]\u001b[39m\u001b[32m, line 1\u001b[39m\n\u001b[32m----> \u001b[39m\u001b[32m1\u001b[39m XTX_inv = \u001b[43mnp\u001b[49m\u001b[43m.\u001b[49m\u001b[43mlinalg\u001b[49m\u001b[43m.\u001b[49m\u001b[43minv\u001b[49m\u001b[43m(\u001b[49m\u001b[43mXTX\u001b[49m\u001b[43m)\u001b[49m\n",
      "\u001b[36mFile \u001b[39m\u001b[32m~\\AppData\\Roaming\\Python\\Python313\\site-packages\\numpy\\linalg\\_linalg.py:609\u001b[39m, in \u001b[36minv\u001b[39m\u001b[34m(a)\u001b[39m\n\u001b[32m    606\u001b[39m signature = \u001b[33m'\u001b[39m\u001b[33mD->D\u001b[39m\u001b[33m'\u001b[39m \u001b[38;5;28;01mif\u001b[39;00m isComplexType(t) \u001b[38;5;28;01melse\u001b[39;00m \u001b[33m'\u001b[39m\u001b[33md->d\u001b[39m\u001b[33m'\u001b[39m\n\u001b[32m    607\u001b[39m \u001b[38;5;28;01mwith\u001b[39;00m errstate(call=_raise_linalgerror_singular, invalid=\u001b[33m'\u001b[39m\u001b[33mcall\u001b[39m\u001b[33m'\u001b[39m,\n\u001b[32m    608\u001b[39m               over=\u001b[33m'\u001b[39m\u001b[33mignore\u001b[39m\u001b[33m'\u001b[39m, divide=\u001b[33m'\u001b[39m\u001b[33mignore\u001b[39m\u001b[33m'\u001b[39m, under=\u001b[33m'\u001b[39m\u001b[33mignore\u001b[39m\u001b[33m'\u001b[39m):\n\u001b[32m--> \u001b[39m\u001b[32m609\u001b[39m     ainv = \u001b[43m_umath_linalg\u001b[49m\u001b[43m.\u001b[49m\u001b[43minv\u001b[49m\u001b[43m(\u001b[49m\u001b[43ma\u001b[49m\u001b[43m,\u001b[49m\u001b[43m \u001b[49m\u001b[43msignature\u001b[49m\u001b[43m=\u001b[49m\u001b[43msignature\u001b[49m\u001b[43m)\u001b[49m\n\u001b[32m    610\u001b[39m \u001b[38;5;28;01mreturn\u001b[39;00m wrap(ainv.astype(result_t, copy=\u001b[38;5;28;01mFalse\u001b[39;00m))\n",
      "\u001b[36mFile \u001b[39m\u001b[32m~\\AppData\\Roaming\\Python\\Python313\\site-packages\\numpy\\linalg\\_linalg.py:104\u001b[39m, in \u001b[36m_raise_linalgerror_singular\u001b[39m\u001b[34m(err, flag)\u001b[39m\n\u001b[32m    103\u001b[39m \u001b[38;5;28;01mdef\u001b[39;00m\u001b[38;5;250m \u001b[39m\u001b[34m_raise_linalgerror_singular\u001b[39m(err, flag):\n\u001b[32m--> \u001b[39m\u001b[32m104\u001b[39m     \u001b[38;5;28;01mraise\u001b[39;00m LinAlgError(\u001b[33m\"\u001b[39m\u001b[33mSingular matrix\u001b[39m\u001b[33m\"\u001b[39m)\n",
      "\u001b[31mLinAlgError\u001b[39m: Singular matrix"
     ]
    }
   ],
   "source": [
    "XTX_inv = np.linalg.inv(XTX)"
   ]
  },
  {
   "cell_type": "code",
   "execution_count": 228,
   "metadata": {},
   "outputs": [
    {
     "data": {
      "text/plain": [
       "array([[ 3.30686958e+00, -5.39612291e-03, -6.21325581e-02,\n",
       "        -6.61016816e-04],\n",
       "       [-5.39612291e-03,  1.11633857e-05,  8.66973393e-05,\n",
       "         1.08664195e-06],\n",
       "       [-6.21325581e-02,  8.66973393e-05,  1.46189255e-03,\n",
       "         8.57849603e-06],\n",
       "       [-6.61016816e-04,  1.08664195e-06,  8.57849603e-06,\n",
       "         3.60215866e-07]])"
      ]
     },
     "execution_count": 228,
     "metadata": {},
     "output_type": "execute_result"
    }
   ],
   "source": [
    "XTX_inv"
   ]
  },
  {
   "cell_type": "code",
   "execution_count": 229,
   "metadata": {},
   "outputs": [
    {
     "ename": "ValueError",
     "evalue": "shapes (4,4) and (3,6) not aligned: 4 (dim 1) != 3 (dim 0)",
     "output_type": "error",
     "traceback": [
      "\u001b[31m---------------------------------------------------------------------------\u001b[39m",
      "\u001b[31mValueError\u001b[39m                                Traceback (most recent call last)",
      "\u001b[36mCell\u001b[39m\u001b[36m \u001b[39m\u001b[32mIn[229]\u001b[39m\u001b[32m, line 1\u001b[39m\n\u001b[32m----> \u001b[39m\u001b[32m1\u001b[39m \u001b[43mXTX_inv\u001b[49m\u001b[43m.\u001b[49m\u001b[43mdot\u001b[49m\u001b[43m(\u001b[49m\u001b[43mX\u001b[49m\u001b[43m.\u001b[49m\u001b[43mT\u001b[49m\u001b[43m)\u001b[49m.dot(y)\n",
      "\u001b[31mValueError\u001b[39m: shapes (4,4) and (3,6) not aligned: 4 (dim 1) != 3 (dim 0)"
     ]
    }
   ],
   "source": [
    "XTX_inv.dot(X.T).dot(y)"
   ]
  },
  {
   "cell_type": "code",
   "execution_count": 230,
   "metadata": {},
   "outputs": [],
   "source": [
    "XTX = [\n",
    "    [1, 2, 2],\n",
    "    [2, 1, 1.0000001],\n",
    "    [2, 1.0000001, 1]\n",
    "]\n",
    "\n",
    "XTX = np.array(XTX)"
   ]
  },
  {
   "cell_type": "code",
   "execution_count": 231,
   "metadata": {},
   "outputs": [
    {
     "data": {
      "text/plain": [
       "array([[-3.33333356e-01,  3.33333339e-01,  3.33333339e-01],\n",
       "       [ 3.33333339e-01, -5.00000008e+06,  4.99999991e+06],\n",
       "       [ 3.33333339e-01,  4.99999991e+06, -5.00000008e+06]])"
      ]
     },
     "execution_count": 231,
     "metadata": {},
     "output_type": "execute_result"
    }
   ],
   "source": [
    "np.linalg.inv(XTX)"
   ]
  },
  {
   "cell_type": "code",
   "execution_count": 232,
   "metadata": {},
   "outputs": [],
   "source": [
    "XTX = XTX + 0.01 * np.eye(3)"
   ]
  },
  {
   "cell_type": "code",
   "execution_count": 233,
   "metadata": {},
   "outputs": [
    {
     "data": {
      "text/plain": [
       "array([[ -0.33668908,   0.33501399,   0.33501399],\n",
       "       [  0.33501399,  49.91590897, -50.08509104],\n",
       "       [  0.33501399, -50.08509104,  49.91590897]])"
      ]
     },
     "execution_count": 233,
     "metadata": {},
     "output_type": "execute_result"
    }
   ],
   "source": [
    "np.linalg.inv(XTX)"
   ]
  },
  {
   "cell_type": "code",
   "execution_count": 263,
   "metadata": {},
   "outputs": [],
   "source": [
    "def train_linear_regression_reg(X, y, r=0.0001):\n",
    "    ones = np.ones(X.shape[0])\n",
    "    X = np.column_stack([ones, X])\n",
    "\n",
    "    XTX = X.T.dot(X)\n",
    "    XTX = XTX + r * np.eye(XTX.shape[0])\n",
    "\n",
    "    XTX_inv = np.linalg.inv(XTX)\n",
    "    w_full = XTX_inv.dot(X.T).dot(y)\n",
    "    \n",
    "    return w_full[0], w_full[1:]"
   ]
  },
  {
   "cell_type": "code",
   "execution_count": 285,
   "metadata": {},
   "outputs": [
    {
     "name": "stderr",
     "output_type": "stream",
     "text": [
      "C:\\Users\\admin\\AppData\\Local\\Temp\\ipykernel_9760\\167045208.py:13: PerformanceWarning: DataFrame is highly fragmented.  This is usually the result of calling `frame.insert` many times, which has poor performance.  Consider joining all columns at once using pd.concat(axis=1) instead. To get a de-fragmented frame, use `newframe = frame.copy()`\n",
      "  df['%s_%s' % (name, value)] = (df[name] == value).astype(int)\n",
      "C:\\Users\\admin\\AppData\\Local\\Temp\\ipykernel_9760\\167045208.py:13: PerformanceWarning: DataFrame is highly fragmented.  This is usually the result of calling `frame.insert` many times, which has poor performance.  Consider joining all columns at once using pd.concat(axis=1) instead. To get a de-fragmented frame, use `newframe = frame.copy()`\n",
      "  df['%s_%s' % (name, value)] = (df[name] == value).astype(int)\n",
      "C:\\Users\\admin\\AppData\\Local\\Temp\\ipykernel_9760\\167045208.py:13: PerformanceWarning: DataFrame is highly fragmented.  This is usually the result of calling `frame.insert` many times, which has poor performance.  Consider joining all columns at once using pd.concat(axis=1) instead. To get a de-fragmented frame, use `newframe = frame.copy()`\n",
      "  df['%s_%s' % (name, value)] = (df[name] == value).astype(int)\n",
      "C:\\Users\\admin\\AppData\\Local\\Temp\\ipykernel_9760\\167045208.py:13: PerformanceWarning: DataFrame is highly fragmented.  This is usually the result of calling `frame.insert` many times, which has poor performance.  Consider joining all columns at once using pd.concat(axis=1) instead. To get a de-fragmented frame, use `newframe = frame.copy()`\n",
      "  df['%s_%s' % (name, value)] = (df[name] == value).astype(int)\n",
      "C:\\Users\\admin\\AppData\\Local\\Temp\\ipykernel_9760\\167045208.py:13: PerformanceWarning: DataFrame is highly fragmented.  This is usually the result of calling `frame.insert` many times, which has poor performance.  Consider joining all columns at once using pd.concat(axis=1) instead. To get a de-fragmented frame, use `newframe = frame.copy()`\n",
      "  df['%s_%s' % (name, value)] = (df[name] == value).astype(int)\n",
      "C:\\Users\\admin\\AppData\\Local\\Temp\\ipykernel_9760\\167045208.py:13: PerformanceWarning: DataFrame is highly fragmented.  This is usually the result of calling `frame.insert` many times, which has poor performance.  Consider joining all columns at once using pd.concat(axis=1) instead. To get a de-fragmented frame, use `newframe = frame.copy()`\n",
      "  df['%s_%s' % (name, value)] = (df[name] == value).astype(int)\n",
      "C:\\Users\\admin\\AppData\\Local\\Temp\\ipykernel_9760\\167045208.py:13: PerformanceWarning: DataFrame is highly fragmented.  This is usually the result of calling `frame.insert` many times, which has poor performance.  Consider joining all columns at once using pd.concat(axis=1) instead. To get a de-fragmented frame, use `newframe = frame.copy()`\n",
      "  df['%s_%s' % (name, value)] = (df[name] == value).astype(int)\n",
      "C:\\Users\\admin\\AppData\\Local\\Temp\\ipykernel_9760\\167045208.py:13: PerformanceWarning: DataFrame is highly fragmented.  This is usually the result of calling `frame.insert` many times, which has poor performance.  Consider joining all columns at once using pd.concat(axis=1) instead. To get a de-fragmented frame, use `newframe = frame.copy()`\n",
      "  df['%s_%s' % (name, value)] = (df[name] == value).astype(int)\n"
     ]
    },
    {
     "data": {
      "text/plain": [
       "np.float64(0.4191105476429808)"
      ]
     },
     "execution_count": 285,
     "metadata": {},
     "output_type": "execute_result"
    }
   ],
   "source": [
    "X_train = prepare_X(df_train)\n",
    "w0, w = train_linear_regression_reg(X_train, y_train, r=0.00001)\n",
    "\n",
    "X_val = prepare_X(df_val)\n",
    "y_pred = w0 + X_val.dot(w)\n",
    "rmse(y_val, y_pred)"
   ]
  },
  {
   "cell_type": "markdown",
   "metadata": {},
   "source": [
    "## 2.14 Tuning the model"
   ]
  },
  {
   "cell_type": "code",
   "execution_count": 286,
   "metadata": {},
   "outputs": [
    {
     "name": "stderr",
     "output_type": "stream",
     "text": [
      "C:\\Users\\admin\\AppData\\Local\\Temp\\ipykernel_9760\\167045208.py:13: PerformanceWarning: DataFrame is highly fragmented.  This is usually the result of calling `frame.insert` many times, which has poor performance.  Consider joining all columns at once using pd.concat(axis=1) instead. To get a de-fragmented frame, use `newframe = frame.copy()`\n",
      "  df['%s_%s' % (name, value)] = (df[name] == value).astype(int)\n",
      "C:\\Users\\admin\\AppData\\Local\\Temp\\ipykernel_9760\\167045208.py:13: PerformanceWarning: DataFrame is highly fragmented.  This is usually the result of calling `frame.insert` many times, which has poor performance.  Consider joining all columns at once using pd.concat(axis=1) instead. To get a de-fragmented frame, use `newframe = frame.copy()`\n",
      "  df['%s_%s' % (name, value)] = (df[name] == value).astype(int)\n",
      "C:\\Users\\admin\\AppData\\Local\\Temp\\ipykernel_9760\\167045208.py:13: PerformanceWarning: DataFrame is highly fragmented.  This is usually the result of calling `frame.insert` many times, which has poor performance.  Consider joining all columns at once using pd.concat(axis=1) instead. To get a de-fragmented frame, use `newframe = frame.copy()`\n",
      "  df['%s_%s' % (name, value)] = (df[name] == value).astype(int)\n",
      "C:\\Users\\admin\\AppData\\Local\\Temp\\ipykernel_9760\\167045208.py:13: PerformanceWarning: DataFrame is highly fragmented.  This is usually the result of calling `frame.insert` many times, which has poor performance.  Consider joining all columns at once using pd.concat(axis=1) instead. To get a de-fragmented frame, use `newframe = frame.copy()`\n",
      "  df['%s_%s' % (name, value)] = (df[name] == value).astype(int)\n",
      "C:\\Users\\admin\\AppData\\Local\\Temp\\ipykernel_9760\\167045208.py:13: PerformanceWarning: DataFrame is highly fragmented.  This is usually the result of calling `frame.insert` many times, which has poor performance.  Consider joining all columns at once using pd.concat(axis=1) instead. To get a de-fragmented frame, use `newframe = frame.copy()`\n",
      "  df['%s_%s' % (name, value)] = (df[name] == value).astype(int)\n",
      "C:\\Users\\admin\\AppData\\Local\\Temp\\ipykernel_9760\\167045208.py:13: PerformanceWarning: DataFrame is highly fragmented.  This is usually the result of calling `frame.insert` many times, which has poor performance.  Consider joining all columns at once using pd.concat(axis=1) instead. To get a de-fragmented frame, use `newframe = frame.copy()`\n",
      "  df['%s_%s' % (name, value)] = (df[name] == value).astype(int)\n",
      "C:\\Users\\admin\\AppData\\Local\\Temp\\ipykernel_9760\\167045208.py:13: PerformanceWarning: DataFrame is highly fragmented.  This is usually the result of calling `frame.insert` many times, which has poor performance.  Consider joining all columns at once using pd.concat(axis=1) instead. To get a de-fragmented frame, use `newframe = frame.copy()`\n",
      "  df['%s_%s' % (name, value)] = (df[name] == value).astype(int)\n",
      "C:\\Users\\admin\\AppData\\Local\\Temp\\ipykernel_9760\\167045208.py:13: PerformanceWarning: DataFrame is highly fragmented.  This is usually the result of calling `frame.insert` many times, which has poor performance.  Consider joining all columns at once using pd.concat(axis=1) instead. To get a de-fragmented frame, use `newframe = frame.copy()`\n",
      "  df['%s_%s' % (name, value)] = (df[name] == value).astype(int)\n",
      "C:\\Users\\admin\\AppData\\Local\\Temp\\ipykernel_9760\\167045208.py:13: PerformanceWarning: DataFrame is highly fragmented.  This is usually the result of calling `frame.insert` many times, which has poor performance.  Consider joining all columns at once using pd.concat(axis=1) instead. To get a de-fragmented frame, use `newframe = frame.copy()`\n",
      "  df['%s_%s' % (name, value)] = (df[name] == value).astype(int)\n",
      "C:\\Users\\admin\\AppData\\Local\\Temp\\ipykernel_9760\\167045208.py:13: PerformanceWarning: DataFrame is highly fragmented.  This is usually the result of calling `frame.insert` many times, which has poor performance.  Consider joining all columns at once using pd.concat(axis=1) instead. To get a de-fragmented frame, use `newframe = frame.copy()`\n",
      "  df['%s_%s' % (name, value)] = (df[name] == value).astype(int)\n",
      "C:\\Users\\admin\\AppData\\Local\\Temp\\ipykernel_9760\\167045208.py:13: PerformanceWarning: DataFrame is highly fragmented.  This is usually the result of calling `frame.insert` many times, which has poor performance.  Consider joining all columns at once using pd.concat(axis=1) instead. To get a de-fragmented frame, use `newframe = frame.copy()`\n",
      "  df['%s_%s' % (name, value)] = (df[name] == value).astype(int)\n",
      "C:\\Users\\admin\\AppData\\Local\\Temp\\ipykernel_9760\\167045208.py:13: PerformanceWarning: DataFrame is highly fragmented.  This is usually the result of calling `frame.insert` many times, which has poor performance.  Consider joining all columns at once using pd.concat(axis=1) instead. To get a de-fragmented frame, use `newframe = frame.copy()`\n",
      "  df['%s_%s' % (name, value)] = (df[name] == value).astype(int)\n"
     ]
    },
    {
     "name": "stdout",
     "output_type": "stream",
     "text": [
      "0.0 -3.590206527096305e+16 475.6984060003892\n",
      "1e-05 5.800426851817312 0.4191105476429808\n"
     ]
    },
    {
     "name": "stderr",
     "output_type": "stream",
     "text": [
      "C:\\Users\\admin\\AppData\\Local\\Temp\\ipykernel_9760\\167045208.py:13: PerformanceWarning: DataFrame is highly fragmented.  This is usually the result of calling `frame.insert` many times, which has poor performance.  Consider joining all columns at once using pd.concat(axis=1) instead. To get a de-fragmented frame, use `newframe = frame.copy()`\n",
      "  df['%s_%s' % (name, value)] = (df[name] == value).astype(int)\n",
      "C:\\Users\\admin\\AppData\\Local\\Temp\\ipykernel_9760\\167045208.py:13: PerformanceWarning: DataFrame is highly fragmented.  This is usually the result of calling `frame.insert` many times, which has poor performance.  Consider joining all columns at once using pd.concat(axis=1) instead. To get a de-fragmented frame, use `newframe = frame.copy()`\n",
      "  df['%s_%s' % (name, value)] = (df[name] == value).astype(int)\n",
      "C:\\Users\\admin\\AppData\\Local\\Temp\\ipykernel_9760\\167045208.py:13: PerformanceWarning: DataFrame is highly fragmented.  This is usually the result of calling `frame.insert` many times, which has poor performance.  Consider joining all columns at once using pd.concat(axis=1) instead. To get a de-fragmented frame, use `newframe = frame.copy()`\n",
      "  df['%s_%s' % (name, value)] = (df[name] == value).astype(int)\n",
      "C:\\Users\\admin\\AppData\\Local\\Temp\\ipykernel_9760\\167045208.py:13: PerformanceWarning: DataFrame is highly fragmented.  This is usually the result of calling `frame.insert` many times, which has poor performance.  Consider joining all columns at once using pd.concat(axis=1) instead. To get a de-fragmented frame, use `newframe = frame.copy()`\n",
      "  df['%s_%s' % (name, value)] = (df[name] == value).astype(int)\n",
      "C:\\Users\\admin\\AppData\\Local\\Temp\\ipykernel_9760\\167045208.py:13: PerformanceWarning: DataFrame is highly fragmented.  This is usually the result of calling `frame.insert` many times, which has poor performance.  Consider joining all columns at once using pd.concat(axis=1) instead. To get a de-fragmented frame, use `newframe = frame.copy()`\n",
      "  df['%s_%s' % (name, value)] = (df[name] == value).astype(int)\n",
      "C:\\Users\\admin\\AppData\\Local\\Temp\\ipykernel_9760\\167045208.py:13: PerformanceWarning: DataFrame is highly fragmented.  This is usually the result of calling `frame.insert` many times, which has poor performance.  Consider joining all columns at once using pd.concat(axis=1) instead. To get a de-fragmented frame, use `newframe = frame.copy()`\n",
      "  df['%s_%s' % (name, value)] = (df[name] == value).astype(int)\n",
      "C:\\Users\\admin\\AppData\\Local\\Temp\\ipykernel_9760\\167045208.py:13: PerformanceWarning: DataFrame is highly fragmented.  This is usually the result of calling `frame.insert` many times, which has poor performance.  Consider joining all columns at once using pd.concat(axis=1) instead. To get a de-fragmented frame, use `newframe = frame.copy()`\n",
      "  df['%s_%s' % (name, value)] = (df[name] == value).astype(int)\n",
      "C:\\Users\\admin\\AppData\\Local\\Temp\\ipykernel_9760\\167045208.py:13: PerformanceWarning: DataFrame is highly fragmented.  This is usually the result of calling `frame.insert` many times, which has poor performance.  Consider joining all columns at once using pd.concat(axis=1) instead. To get a de-fragmented frame, use `newframe = frame.copy()`\n",
      "  df['%s_%s' % (name, value)] = (df[name] == value).astype(int)\n",
      "C:\\Users\\admin\\AppData\\Local\\Temp\\ipykernel_9760\\167045208.py:13: PerformanceWarning: DataFrame is highly fragmented.  This is usually the result of calling `frame.insert` many times, which has poor performance.  Consider joining all columns at once using pd.concat(axis=1) instead. To get a de-fragmented frame, use `newframe = frame.copy()`\n",
      "  df['%s_%s' % (name, value)] = (df[name] == value).astype(int)\n",
      "C:\\Users\\admin\\AppData\\Local\\Temp\\ipykernel_9760\\167045208.py:13: PerformanceWarning: DataFrame is highly fragmented.  This is usually the result of calling `frame.insert` many times, which has poor performance.  Consider joining all columns at once using pd.concat(axis=1) instead. To get a de-fragmented frame, use `newframe = frame.copy()`\n",
      "  df['%s_%s' % (name, value)] = (df[name] == value).astype(int)\n",
      "C:\\Users\\admin\\AppData\\Local\\Temp\\ipykernel_9760\\167045208.py:13: PerformanceWarning: DataFrame is highly fragmented.  This is usually the result of calling `frame.insert` many times, which has poor performance.  Consider joining all columns at once using pd.concat(axis=1) instead. To get a de-fragmented frame, use `newframe = frame.copy()`\n",
      "  df['%s_%s' % (name, value)] = (df[name] == value).astype(int)\n",
      "C:\\Users\\admin\\AppData\\Local\\Temp\\ipykernel_9760\\167045208.py:13: PerformanceWarning: DataFrame is highly fragmented.  This is usually the result of calling `frame.insert` many times, which has poor performance.  Consider joining all columns at once using pd.concat(axis=1) instead. To get a de-fragmented frame, use `newframe = frame.copy()`\n",
      "  df['%s_%s' % (name, value)] = (df[name] == value).astype(int)\n",
      "C:\\Users\\admin\\AppData\\Local\\Temp\\ipykernel_9760\\167045208.py:13: PerformanceWarning: DataFrame is highly fragmented.  This is usually the result of calling `frame.insert` many times, which has poor performance.  Consider joining all columns at once using pd.concat(axis=1) instead. To get a de-fragmented frame, use `newframe = frame.copy()`\n",
      "  df['%s_%s' % (name, value)] = (df[name] == value).astype(int)\n",
      "C:\\Users\\admin\\AppData\\Local\\Temp\\ipykernel_9760\\167045208.py:13: PerformanceWarning: DataFrame is highly fragmented.  This is usually the result of calling `frame.insert` many times, which has poor performance.  Consider joining all columns at once using pd.concat(axis=1) instead. To get a de-fragmented frame, use `newframe = frame.copy()`\n",
      "  df['%s_%s' % (name, value)] = (df[name] == value).astype(int)\n",
      "C:\\Users\\admin\\AppData\\Local\\Temp\\ipykernel_9760\\167045208.py:13: PerformanceWarning: DataFrame is highly fragmented.  This is usually the result of calling `frame.insert` many times, which has poor performance.  Consider joining all columns at once using pd.concat(axis=1) instead. To get a de-fragmented frame, use `newframe = frame.copy()`\n",
      "  df['%s_%s' % (name, value)] = (df[name] == value).astype(int)\n",
      "C:\\Users\\admin\\AppData\\Local\\Temp\\ipykernel_9760\\167045208.py:13: PerformanceWarning: DataFrame is highly fragmented.  This is usually the result of calling `frame.insert` many times, which has poor performance.  Consider joining all columns at once using pd.concat(axis=1) instead. To get a de-fragmented frame, use `newframe = frame.copy()`\n",
      "  df['%s_%s' % (name, value)] = (df[name] == value).astype(int)\n"
     ]
    },
    {
     "name": "stdout",
     "output_type": "stream",
     "text": [
      "0.0001 5.800126546314651 0.41911054128288133\n",
      "0.001 5.7973972840323675 0.41910998667800387\n"
     ]
    },
    {
     "name": "stderr",
     "output_type": "stream",
     "text": [
      "C:\\Users\\admin\\AppData\\Local\\Temp\\ipykernel_9760\\167045208.py:13: PerformanceWarning: DataFrame is highly fragmented.  This is usually the result of calling `frame.insert` many times, which has poor performance.  Consider joining all columns at once using pd.concat(axis=1) instead. To get a de-fragmented frame, use `newframe = frame.copy()`\n",
      "  df['%s_%s' % (name, value)] = (df[name] == value).astype(int)\n",
      "C:\\Users\\admin\\AppData\\Local\\Temp\\ipykernel_9760\\167045208.py:13: PerformanceWarning: DataFrame is highly fragmented.  This is usually the result of calling `frame.insert` many times, which has poor performance.  Consider joining all columns at once using pd.concat(axis=1) instead. To get a de-fragmented frame, use `newframe = frame.copy()`\n",
      "  df['%s_%s' % (name, value)] = (df[name] == value).astype(int)\n",
      "C:\\Users\\admin\\AppData\\Local\\Temp\\ipykernel_9760\\167045208.py:13: PerformanceWarning: DataFrame is highly fragmented.  This is usually the result of calling `frame.insert` many times, which has poor performance.  Consider joining all columns at once using pd.concat(axis=1) instead. To get a de-fragmented frame, use `newframe = frame.copy()`\n",
      "  df['%s_%s' % (name, value)] = (df[name] == value).astype(int)\n",
      "C:\\Users\\admin\\AppData\\Local\\Temp\\ipykernel_9760\\167045208.py:13: PerformanceWarning: DataFrame is highly fragmented.  This is usually the result of calling `frame.insert` many times, which has poor performance.  Consider joining all columns at once using pd.concat(axis=1) instead. To get a de-fragmented frame, use `newframe = frame.copy()`\n",
      "  df['%s_%s' % (name, value)] = (df[name] == value).astype(int)\n",
      "C:\\Users\\admin\\AppData\\Local\\Temp\\ipykernel_9760\\167045208.py:13: PerformanceWarning: DataFrame is highly fragmented.  This is usually the result of calling `frame.insert` many times, which has poor performance.  Consider joining all columns at once using pd.concat(axis=1) instead. To get a de-fragmented frame, use `newframe = frame.copy()`\n",
      "  df['%s_%s' % (name, value)] = (df[name] == value).astype(int)\n",
      "C:\\Users\\admin\\AppData\\Local\\Temp\\ipykernel_9760\\167045208.py:13: PerformanceWarning: DataFrame is highly fragmented.  This is usually the result of calling `frame.insert` many times, which has poor performance.  Consider joining all columns at once using pd.concat(axis=1) instead. To get a de-fragmented frame, use `newframe = frame.copy()`\n",
      "  df['%s_%s' % (name, value)] = (df[name] == value).astype(int)\n",
      "C:\\Users\\admin\\AppData\\Local\\Temp\\ipykernel_9760\\167045208.py:13: PerformanceWarning: DataFrame is highly fragmented.  This is usually the result of calling `frame.insert` many times, which has poor performance.  Consider joining all columns at once using pd.concat(axis=1) instead. To get a de-fragmented frame, use `newframe = frame.copy()`\n",
      "  df['%s_%s' % (name, value)] = (df[name] == value).astype(int)\n",
      "C:\\Users\\admin\\AppData\\Local\\Temp\\ipykernel_9760\\167045208.py:13: PerformanceWarning: DataFrame is highly fragmented.  This is usually the result of calling `frame.insert` many times, which has poor performance.  Consider joining all columns at once using pd.concat(axis=1) instead. To get a de-fragmented frame, use `newframe = frame.copy()`\n",
      "  df['%s_%s' % (name, value)] = (df[name] == value).astype(int)\n",
      "C:\\Users\\admin\\AppData\\Local\\Temp\\ipykernel_9760\\167045208.py:13: PerformanceWarning: DataFrame is highly fragmented.  This is usually the result of calling `frame.insert` many times, which has poor performance.  Consider joining all columns at once using pd.concat(axis=1) instead. To get a de-fragmented frame, use `newframe = frame.copy()`\n",
      "  df['%s_%s' % (name, value)] = (df[name] == value).astype(int)\n",
      "C:\\Users\\admin\\AppData\\Local\\Temp\\ipykernel_9760\\167045208.py:13: PerformanceWarning: DataFrame is highly fragmented.  This is usually the result of calling `frame.insert` many times, which has poor performance.  Consider joining all columns at once using pd.concat(axis=1) instead. To get a de-fragmented frame, use `newframe = frame.copy()`\n",
      "  df['%s_%s' % (name, value)] = (df[name] == value).astype(int)\n",
      "C:\\Users\\admin\\AppData\\Local\\Temp\\ipykernel_9760\\167045208.py:13: PerformanceWarning: DataFrame is highly fragmented.  This is usually the result of calling `frame.insert` many times, which has poor performance.  Consider joining all columns at once using pd.concat(axis=1) instead. To get a de-fragmented frame, use `newframe = frame.copy()`\n",
      "  df['%s_%s' % (name, value)] = (df[name] == value).astype(int)\n",
      "C:\\Users\\admin\\AppData\\Local\\Temp\\ipykernel_9760\\167045208.py:13: PerformanceWarning: DataFrame is highly fragmented.  This is usually the result of calling `frame.insert` many times, which has poor performance.  Consider joining all columns at once using pd.concat(axis=1) instead. To get a de-fragmented frame, use `newframe = frame.copy()`\n",
      "  df['%s_%s' % (name, value)] = (df[name] == value).astype(int)\n",
      "C:\\Users\\admin\\AppData\\Local\\Temp\\ipykernel_9760\\167045208.py:13: PerformanceWarning: DataFrame is highly fragmented.  This is usually the result of calling `frame.insert` many times, which has poor performance.  Consider joining all columns at once using pd.concat(axis=1) instead. To get a de-fragmented frame, use `newframe = frame.copy()`\n",
      "  df['%s_%s' % (name, value)] = (df[name] == value).astype(int)\n",
      "C:\\Users\\admin\\AppData\\Local\\Temp\\ipykernel_9760\\167045208.py:13: PerformanceWarning: DataFrame is highly fragmented.  This is usually the result of calling `frame.insert` many times, which has poor performance.  Consider joining all columns at once using pd.concat(axis=1) instead. To get a de-fragmented frame, use `newframe = frame.copy()`\n",
      "  df['%s_%s' % (name, value)] = (df[name] == value).astype(int)\n",
      "C:\\Users\\admin\\AppData\\Local\\Temp\\ipykernel_9760\\167045208.py:13: PerformanceWarning: DataFrame is highly fragmented.  This is usually the result of calling `frame.insert` many times, which has poor performance.  Consider joining all columns at once using pd.concat(axis=1) instead. To get a de-fragmented frame, use `newframe = frame.copy()`\n",
      "  df['%s_%s' % (name, value)] = (df[name] == value).astype(int)\n",
      "C:\\Users\\admin\\AppData\\Local\\Temp\\ipykernel_9760\\167045208.py:13: PerformanceWarning: DataFrame is highly fragmented.  This is usually the result of calling `frame.insert` many times, which has poor performance.  Consider joining all columns at once using pd.concat(axis=1) instead. To get a de-fragmented frame, use `newframe = frame.copy()`\n",
      "  df['%s_%s' % (name, value)] = (df[name] == value).astype(int)\n"
     ]
    },
    {
     "name": "stdout",
     "output_type": "stream",
     "text": [
      "0.1 5.615760307293881 0.41914691039393387\n",
      "1 5.133583592140038 0.41975781974562665\n",
      "10 4.0631372534129975 0.43276729331563457\n"
     ]
    },
    {
     "name": "stderr",
     "output_type": "stream",
     "text": [
      "C:\\Users\\admin\\AppData\\Local\\Temp\\ipykernel_9760\\167045208.py:13: PerformanceWarning: DataFrame is highly fragmented.  This is usually the result of calling `frame.insert` many times, which has poor performance.  Consider joining all columns at once using pd.concat(axis=1) instead. To get a de-fragmented frame, use `newframe = frame.copy()`\n",
      "  df['%s_%s' % (name, value)] = (df[name] == value).astype(int)\n",
      "C:\\Users\\admin\\AppData\\Local\\Temp\\ipykernel_9760\\167045208.py:13: PerformanceWarning: DataFrame is highly fragmented.  This is usually the result of calling `frame.insert` many times, which has poor performance.  Consider joining all columns at once using pd.concat(axis=1) instead. To get a de-fragmented frame, use `newframe = frame.copy()`\n",
      "  df['%s_%s' % (name, value)] = (df[name] == value).astype(int)\n",
      "C:\\Users\\admin\\AppData\\Local\\Temp\\ipykernel_9760\\167045208.py:13: PerformanceWarning: DataFrame is highly fragmented.  This is usually the result of calling `frame.insert` many times, which has poor performance.  Consider joining all columns at once using pd.concat(axis=1) instead. To get a de-fragmented frame, use `newframe = frame.copy()`\n",
      "  df['%s_%s' % (name, value)] = (df[name] == value).astype(int)\n",
      "C:\\Users\\admin\\AppData\\Local\\Temp\\ipykernel_9760\\167045208.py:13: PerformanceWarning: DataFrame is highly fragmented.  This is usually the result of calling `frame.insert` many times, which has poor performance.  Consider joining all columns at once using pd.concat(axis=1) instead. To get a de-fragmented frame, use `newframe = frame.copy()`\n",
      "  df['%s_%s' % (name, value)] = (df[name] == value).astype(int)\n",
      "C:\\Users\\admin\\AppData\\Local\\Temp\\ipykernel_9760\\167045208.py:13: PerformanceWarning: DataFrame is highly fragmented.  This is usually the result of calling `frame.insert` many times, which has poor performance.  Consider joining all columns at once using pd.concat(axis=1) instead. To get a de-fragmented frame, use `newframe = frame.copy()`\n",
      "  df['%s_%s' % (name, value)] = (df[name] == value).astype(int)\n",
      "C:\\Users\\admin\\AppData\\Local\\Temp\\ipykernel_9760\\167045208.py:13: PerformanceWarning: DataFrame is highly fragmented.  This is usually the result of calling `frame.insert` many times, which has poor performance.  Consider joining all columns at once using pd.concat(axis=1) instead. To get a de-fragmented frame, use `newframe = frame.copy()`\n",
      "  df['%s_%s' % (name, value)] = (df[name] == value).astype(int)\n",
      "C:\\Users\\admin\\AppData\\Local\\Temp\\ipykernel_9760\\167045208.py:13: PerformanceWarning: DataFrame is highly fragmented.  This is usually the result of calling `frame.insert` many times, which has poor performance.  Consider joining all columns at once using pd.concat(axis=1) instead. To get a de-fragmented frame, use `newframe = frame.copy()`\n",
      "  df['%s_%s' % (name, value)] = (df[name] == value).astype(int)\n",
      "C:\\Users\\admin\\AppData\\Local\\Temp\\ipykernel_9760\\167045208.py:13: PerformanceWarning: DataFrame is highly fragmented.  This is usually the result of calling `frame.insert` many times, which has poor performance.  Consider joining all columns at once using pd.concat(axis=1) instead. To get a de-fragmented frame, use `newframe = frame.copy()`\n",
      "  df['%s_%s' % (name, value)] = (df[name] == value).astype(int)\n",
      "C:\\Users\\admin\\AppData\\Local\\Temp\\ipykernel_9760\\167045208.py:13: PerformanceWarning: DataFrame is highly fragmented.  This is usually the result of calling `frame.insert` many times, which has poor performance.  Consider joining all columns at once using pd.concat(axis=1) instead. To get a de-fragmented frame, use `newframe = frame.copy()`\n",
      "  df['%s_%s' % (name, value)] = (df[name] == value).astype(int)\n",
      "C:\\Users\\admin\\AppData\\Local\\Temp\\ipykernel_9760\\167045208.py:13: PerformanceWarning: DataFrame is highly fragmented.  This is usually the result of calling `frame.insert` many times, which has poor performance.  Consider joining all columns at once using pd.concat(axis=1) instead. To get a de-fragmented frame, use `newframe = frame.copy()`\n",
      "  df['%s_%s' % (name, value)] = (df[name] == value).astype(int)\n",
      "C:\\Users\\admin\\AppData\\Local\\Temp\\ipykernel_9760\\167045208.py:13: PerformanceWarning: DataFrame is highly fragmented.  This is usually the result of calling `frame.insert` many times, which has poor performance.  Consider joining all columns at once using pd.concat(axis=1) instead. To get a de-fragmented frame, use `newframe = frame.copy()`\n",
      "  df['%s_%s' % (name, value)] = (df[name] == value).astype(int)\n",
      "C:\\Users\\admin\\AppData\\Local\\Temp\\ipykernel_9760\\167045208.py:13: PerformanceWarning: DataFrame is highly fragmented.  This is usually the result of calling `frame.insert` many times, which has poor performance.  Consider joining all columns at once using pd.concat(axis=1) instead. To get a de-fragmented frame, use `newframe = frame.copy()`\n",
      "  df['%s_%s' % (name, value)] = (df[name] == value).astype(int)\n"
     ]
    }
   ],
   "source": [
    "for r in [0.0, 0.00001, 0.0001, 0.001, 0.1, 1, 10]:\n",
    "    X_train = prepare_X(df_train)\n",
    "    w0, w = train_linear_regression_reg(X_train, y_train, r=r)\n",
    "\n",
    "    X_val = prepare_X(df_val)\n",
    "    y_pred = w0 + X_val.dot(w)\n",
    "    score = rmse(y_val, y_pred)\n",
    "    \n",
    "    print(r, w0, score)"
   ]
  },
  {
   "cell_type": "code",
   "execution_count": 287,
   "metadata": {},
   "outputs": [
    {
     "name": "stderr",
     "output_type": "stream",
     "text": [
      "C:\\Users\\admin\\AppData\\Local\\Temp\\ipykernel_9760\\167045208.py:13: PerformanceWarning: DataFrame is highly fragmented.  This is usually the result of calling `frame.insert` many times, which has poor performance.  Consider joining all columns at once using pd.concat(axis=1) instead. To get a de-fragmented frame, use `newframe = frame.copy()`\n",
      "  df['%s_%s' % (name, value)] = (df[name] == value).astype(int)\n",
      "C:\\Users\\admin\\AppData\\Local\\Temp\\ipykernel_9760\\167045208.py:13: PerformanceWarning: DataFrame is highly fragmented.  This is usually the result of calling `frame.insert` many times, which has poor performance.  Consider joining all columns at once using pd.concat(axis=1) instead. To get a de-fragmented frame, use `newframe = frame.copy()`\n",
      "  df['%s_%s' % (name, value)] = (df[name] == value).astype(int)\n",
      "C:\\Users\\admin\\AppData\\Local\\Temp\\ipykernel_9760\\167045208.py:13: PerformanceWarning: DataFrame is highly fragmented.  This is usually the result of calling `frame.insert` many times, which has poor performance.  Consider joining all columns at once using pd.concat(axis=1) instead. To get a de-fragmented frame, use `newframe = frame.copy()`\n",
      "  df['%s_%s' % (name, value)] = (df[name] == value).astype(int)\n",
      "C:\\Users\\admin\\AppData\\Local\\Temp\\ipykernel_9760\\167045208.py:13: PerformanceWarning: DataFrame is highly fragmented.  This is usually the result of calling `frame.insert` many times, which has poor performance.  Consider joining all columns at once using pd.concat(axis=1) instead. To get a de-fragmented frame, use `newframe = frame.copy()`\n",
      "  df['%s_%s' % (name, value)] = (df[name] == value).astype(int)\n",
      "C:\\Users\\admin\\AppData\\Local\\Temp\\ipykernel_9760\\167045208.py:13: PerformanceWarning: DataFrame is highly fragmented.  This is usually the result of calling `frame.insert` many times, which has poor performance.  Consider joining all columns at once using pd.concat(axis=1) instead. To get a de-fragmented frame, use `newframe = frame.copy()`\n",
      "  df['%s_%s' % (name, value)] = (df[name] == value).astype(int)\n",
      "C:\\Users\\admin\\AppData\\Local\\Temp\\ipykernel_9760\\167045208.py:13: PerformanceWarning: DataFrame is highly fragmented.  This is usually the result of calling `frame.insert` many times, which has poor performance.  Consider joining all columns at once using pd.concat(axis=1) instead. To get a de-fragmented frame, use `newframe = frame.copy()`\n",
      "  df['%s_%s' % (name, value)] = (df[name] == value).astype(int)\n",
      "C:\\Users\\admin\\AppData\\Local\\Temp\\ipykernel_9760\\167045208.py:13: PerformanceWarning: DataFrame is highly fragmented.  This is usually the result of calling `frame.insert` many times, which has poor performance.  Consider joining all columns at once using pd.concat(axis=1) instead. To get a de-fragmented frame, use `newframe = frame.copy()`\n",
      "  df['%s_%s' % (name, value)] = (df[name] == value).astype(int)\n",
      "C:\\Users\\admin\\AppData\\Local\\Temp\\ipykernel_9760\\167045208.py:13: PerformanceWarning: DataFrame is highly fragmented.  This is usually the result of calling `frame.insert` many times, which has poor performance.  Consider joining all columns at once using pd.concat(axis=1) instead. To get a de-fragmented frame, use `newframe = frame.copy()`\n",
      "  df['%s_%s' % (name, value)] = (df[name] == value).astype(int)\n"
     ]
    },
    {
     "data": {
      "text/plain": [
       "np.float64(0.4191105476429808)"
      ]
     },
     "execution_count": 287,
     "metadata": {},
     "output_type": "execute_result"
    }
   ],
   "source": [
    "r = 0.00001\n",
    "X_train = prepare_X(df_train)\n",
    "w0, w = train_linear_regression_reg(X_train, y_train, r=r)\n",
    "\n",
    "X_val = prepare_X(df_val)\n",
    "y_pred = w0 + X_val.dot(w)\n",
    "score = rmse(y_val, y_pred)\n",
    "score"
   ]
  },
  {
   "cell_type": "markdown",
   "metadata": {},
   "source": [
    "## 2.15 Using the model"
   ]
  },
  {
   "cell_type": "code",
   "execution_count": 288,
   "metadata": {},
   "outputs": [],
   "source": [
    "df_full_train = pd.concat([df_train, df_val])"
   ]
  },
  {
   "cell_type": "code",
   "execution_count": 289,
   "metadata": {},
   "outputs": [],
   "source": [
    "df_full_train = df_full_train.reset_index(drop=True)"
   ]
  },
  {
   "cell_type": "code",
   "execution_count": 290,
   "metadata": {},
   "outputs": [
    {
     "name": "stderr",
     "output_type": "stream",
     "text": [
      "C:\\Users\\admin\\AppData\\Local\\Temp\\ipykernel_9760\\167045208.py:13: PerformanceWarning: DataFrame is highly fragmented.  This is usually the result of calling `frame.insert` many times, which has poor performance.  Consider joining all columns at once using pd.concat(axis=1) instead. To get a de-fragmented frame, use `newframe = frame.copy()`\n",
      "  df['%s_%s' % (name, value)] = (df[name] == value).astype(int)\n",
      "C:\\Users\\admin\\AppData\\Local\\Temp\\ipykernel_9760\\167045208.py:13: PerformanceWarning: DataFrame is highly fragmented.  This is usually the result of calling `frame.insert` many times, which has poor performance.  Consider joining all columns at once using pd.concat(axis=1) instead. To get a de-fragmented frame, use `newframe = frame.copy()`\n",
      "  df['%s_%s' % (name, value)] = (df[name] == value).astype(int)\n",
      "C:\\Users\\admin\\AppData\\Local\\Temp\\ipykernel_9760\\167045208.py:13: PerformanceWarning: DataFrame is highly fragmented.  This is usually the result of calling `frame.insert` many times, which has poor performance.  Consider joining all columns at once using pd.concat(axis=1) instead. To get a de-fragmented frame, use `newframe = frame.copy()`\n",
      "  df['%s_%s' % (name, value)] = (df[name] == value).astype(int)\n",
      "C:\\Users\\admin\\AppData\\Local\\Temp\\ipykernel_9760\\167045208.py:13: PerformanceWarning: DataFrame is highly fragmented.  This is usually the result of calling `frame.insert` many times, which has poor performance.  Consider joining all columns at once using pd.concat(axis=1) instead. To get a de-fragmented frame, use `newframe = frame.copy()`\n",
      "  df['%s_%s' % (name, value)] = (df[name] == value).astype(int)\n"
     ]
    }
   ],
   "source": [
    "X_full_train = prepare_X(df_full_train)"
   ]
  },
  {
   "cell_type": "code",
   "execution_count": 291,
   "metadata": {},
   "outputs": [
    {
     "data": {
      "text/plain": [
       "array([[148.,   4.,  33., ...,   0.,   0.,   0.],\n",
       "       [132.,   4.,  32., ...,   0.,   0.,   0.],\n",
       "       [148.,   4.,  37., ...,   0.,   0.,   0.],\n",
       "       ...,\n",
       "       [332.,   8.,  23., ...,   0.,   0.,   0.],\n",
       "       [148.,   4.,  34., ...,   0.,   0.,   0.],\n",
       "       [290.,   6.,  25., ...,   0.,   0.,   0.]], shape=(9532, 106))"
      ]
     },
     "execution_count": 291,
     "metadata": {},
     "output_type": "execute_result"
    }
   ],
   "source": [
    "X_full_train"
   ]
  },
  {
   "cell_type": "code",
   "execution_count": 292,
   "metadata": {},
   "outputs": [],
   "source": [
    "y_full_train = np.concatenate([y_train, y_val])"
   ]
  },
  {
   "cell_type": "code",
   "execution_count": 293,
   "metadata": {},
   "outputs": [],
   "source": [
    "w0, w = train_linear_regression_reg(X_full_train, y_full_train, r=0.0001)"
   ]
  },
  {
   "cell_type": "code",
   "execution_count": 294,
   "metadata": {},
   "outputs": [
    {
     "name": "stderr",
     "output_type": "stream",
     "text": [
      "C:\\Users\\admin\\AppData\\Local\\Temp\\ipykernel_9760\\167045208.py:13: PerformanceWarning: DataFrame is highly fragmented.  This is usually the result of calling `frame.insert` many times, which has poor performance.  Consider joining all columns at once using pd.concat(axis=1) instead. To get a de-fragmented frame, use `newframe = frame.copy()`\n",
      "  df['%s_%s' % (name, value)] = (df[name] == value).astype(int)\n",
      "C:\\Users\\admin\\AppData\\Local\\Temp\\ipykernel_9760\\167045208.py:13: PerformanceWarning: DataFrame is highly fragmented.  This is usually the result of calling `frame.insert` many times, which has poor performance.  Consider joining all columns at once using pd.concat(axis=1) instead. To get a de-fragmented frame, use `newframe = frame.copy()`\n",
      "  df['%s_%s' % (name, value)] = (df[name] == value).astype(int)\n",
      "C:\\Users\\admin\\AppData\\Local\\Temp\\ipykernel_9760\\167045208.py:13: PerformanceWarning: DataFrame is highly fragmented.  This is usually the result of calling `frame.insert` many times, which has poor performance.  Consider joining all columns at once using pd.concat(axis=1) instead. To get a de-fragmented frame, use `newframe = frame.copy()`\n",
      "  df['%s_%s' % (name, value)] = (df[name] == value).astype(int)\n",
      "C:\\Users\\admin\\AppData\\Local\\Temp\\ipykernel_9760\\167045208.py:13: PerformanceWarning: DataFrame is highly fragmented.  This is usually the result of calling `frame.insert` many times, which has poor performance.  Consider joining all columns at once using pd.concat(axis=1) instead. To get a de-fragmented frame, use `newframe = frame.copy()`\n",
      "  df['%s_%s' % (name, value)] = (df[name] == value).astype(int)\n"
     ]
    },
    {
     "data": {
      "text/plain": [
       "np.float64(0.4192699454322018)"
      ]
     },
     "execution_count": 294,
     "metadata": {},
     "output_type": "execute_result"
    }
   ],
   "source": [
    "X_test = prepare_X(df_test)\n",
    "y_pred = w0 + X_test.dot(w)\n",
    "score = rmse(y_test, y_pred)\n",
    "score"
   ]
  },
  {
   "cell_type": "code",
   "execution_count": 295,
   "metadata": {},
   "outputs": [
    {
     "data": {
      "text/plain": [
       "{'make': 'toyota',\n",
       " 'model': 'sienna',\n",
       " 'year': 2015,\n",
       " 'engine_fuel_type': 'regular_unleaded',\n",
       " 'engine_hp': 266.0,\n",
       " 'engine_cylinders': 6.0,\n",
       " 'transmission_type': 'automatic',\n",
       " 'driven_wheels': 'front_wheel_drive',\n",
       " 'number_of_doors': 4.0,\n",
       " 'market_category': nan,\n",
       " 'vehicle_size': 'large',\n",
       " 'vehicle_style': 'passenger_minivan',\n",
       " 'highway_mpg': 25,\n",
       " 'city_mpg': 18,\n",
       " 'popularity': 2031}"
      ]
     },
     "execution_count": 295,
     "metadata": {},
     "output_type": "execute_result"
    }
   ],
   "source": [
    "car = df_test.iloc[20].to_dict()\n",
    "car"
   ]
  },
  {
   "cell_type": "code",
   "execution_count": 296,
   "metadata": {},
   "outputs": [
    {
     "data": {
      "application/vnd.microsoft.datawrangler.viewer.v0+json": {
       "columns": [
        {
         "name": "index",
         "rawType": "int64",
         "type": "integer"
        },
        {
         "name": "make",
         "rawType": "object",
         "type": "string"
        },
        {
         "name": "model",
         "rawType": "object",
         "type": "string"
        },
        {
         "name": "year",
         "rawType": "int64",
         "type": "integer"
        },
        {
         "name": "engine_fuel_type",
         "rawType": "object",
         "type": "string"
        },
        {
         "name": "engine_hp",
         "rawType": "float64",
         "type": "float"
        },
        {
         "name": "engine_cylinders",
         "rawType": "float64",
         "type": "float"
        },
        {
         "name": "transmission_type",
         "rawType": "object",
         "type": "string"
        },
        {
         "name": "driven_wheels",
         "rawType": "object",
         "type": "string"
        },
        {
         "name": "number_of_doors",
         "rawType": "float64",
         "type": "float"
        },
        {
         "name": "market_category",
         "rawType": "float64",
         "type": "float"
        },
        {
         "name": "vehicle_size",
         "rawType": "object",
         "type": "string"
        },
        {
         "name": "vehicle_style",
         "rawType": "object",
         "type": "string"
        },
        {
         "name": "highway_mpg",
         "rawType": "int64",
         "type": "integer"
        },
        {
         "name": "city_mpg",
         "rawType": "int64",
         "type": "integer"
        },
        {
         "name": "popularity",
         "rawType": "int64",
         "type": "integer"
        }
       ],
       "ref": "474fc1a4-c080-4eb8-9a62-ce4da95feb12",
       "rows": [
        [
         "0",
         "toyota",
         "sienna",
         "2015",
         "regular_unleaded",
         "266.0",
         "6.0",
         "automatic",
         "front_wheel_drive",
         "4.0",
         null,
         "large",
         "passenger_minivan",
         "25",
         "18",
         "2031"
        ]
       ],
       "shape": {
        "columns": 15,
        "rows": 1
       }
      },
      "text/html": [
       "<div>\n",
       "<style scoped>\n",
       "    .dataframe tbody tr th:only-of-type {\n",
       "        vertical-align: middle;\n",
       "    }\n",
       "\n",
       "    .dataframe tbody tr th {\n",
       "        vertical-align: top;\n",
       "    }\n",
       "\n",
       "    .dataframe thead th {\n",
       "        text-align: right;\n",
       "    }\n",
       "</style>\n",
       "<table border=\"1\" class=\"dataframe\">\n",
       "  <thead>\n",
       "    <tr style=\"text-align: right;\">\n",
       "      <th></th>\n",
       "      <th>make</th>\n",
       "      <th>model</th>\n",
       "      <th>year</th>\n",
       "      <th>engine_fuel_type</th>\n",
       "      <th>engine_hp</th>\n",
       "      <th>engine_cylinders</th>\n",
       "      <th>transmission_type</th>\n",
       "      <th>driven_wheels</th>\n",
       "      <th>number_of_doors</th>\n",
       "      <th>market_category</th>\n",
       "      <th>vehicle_size</th>\n",
       "      <th>vehicle_style</th>\n",
       "      <th>highway_mpg</th>\n",
       "      <th>city_mpg</th>\n",
       "      <th>popularity</th>\n",
       "    </tr>\n",
       "  </thead>\n",
       "  <tbody>\n",
       "    <tr>\n",
       "      <th>0</th>\n",
       "      <td>toyota</td>\n",
       "      <td>sienna</td>\n",
       "      <td>2015</td>\n",
       "      <td>regular_unleaded</td>\n",
       "      <td>266.0</td>\n",
       "      <td>6.0</td>\n",
       "      <td>automatic</td>\n",
       "      <td>front_wheel_drive</td>\n",
       "      <td>4.0</td>\n",
       "      <td>NaN</td>\n",
       "      <td>large</td>\n",
       "      <td>passenger_minivan</td>\n",
       "      <td>25</td>\n",
       "      <td>18</td>\n",
       "      <td>2031</td>\n",
       "    </tr>\n",
       "  </tbody>\n",
       "</table>\n",
       "</div>"
      ],
      "text/plain": [
       "     make   model  year  engine_fuel_type  engine_hp  engine_cylinders  \\\n",
       "0  toyota  sienna  2015  regular_unleaded      266.0               6.0   \n",
       "\n",
       "  transmission_type      driven_wheels  number_of_doors  market_category  \\\n",
       "0         automatic  front_wheel_drive              4.0              NaN   \n",
       "\n",
       "  vehicle_size      vehicle_style  highway_mpg  city_mpg  popularity  \n",
       "0        large  passenger_minivan           25        18        2031  "
      ]
     },
     "execution_count": 296,
     "metadata": {},
     "output_type": "execute_result"
    }
   ],
   "source": [
    "df_small = pd.DataFrame([car])\n",
    "df_small"
   ]
  },
  {
   "cell_type": "code",
   "execution_count": 297,
   "metadata": {},
   "outputs": [
    {
     "name": "stderr",
     "output_type": "stream",
     "text": [
      "C:\\Users\\admin\\AppData\\Local\\Temp\\ipykernel_9760\\167045208.py:13: PerformanceWarning: DataFrame is highly fragmented.  This is usually the result of calling `frame.insert` many times, which has poor performance.  Consider joining all columns at once using pd.concat(axis=1) instead. To get a de-fragmented frame, use `newframe = frame.copy()`\n",
      "  df['%s_%s' % (name, value)] = (df[name] == value).astype(int)\n",
      "C:\\Users\\admin\\AppData\\Local\\Temp\\ipykernel_9760\\167045208.py:13: PerformanceWarning: DataFrame is highly fragmented.  This is usually the result of calling `frame.insert` many times, which has poor performance.  Consider joining all columns at once using pd.concat(axis=1) instead. To get a de-fragmented frame, use `newframe = frame.copy()`\n",
      "  df['%s_%s' % (name, value)] = (df[name] == value).astype(int)\n",
      "C:\\Users\\admin\\AppData\\Local\\Temp\\ipykernel_9760\\167045208.py:13: PerformanceWarning: DataFrame is highly fragmented.  This is usually the result of calling `frame.insert` many times, which has poor performance.  Consider joining all columns at once using pd.concat(axis=1) instead. To get a de-fragmented frame, use `newframe = frame.copy()`\n",
      "  df['%s_%s' % (name, value)] = (df[name] == value).astype(int)\n",
      "C:\\Users\\admin\\AppData\\Local\\Temp\\ipykernel_9760\\167045208.py:13: PerformanceWarning: DataFrame is highly fragmented.  This is usually the result of calling `frame.insert` many times, which has poor performance.  Consider joining all columns at once using pd.concat(axis=1) instead. To get a de-fragmented frame, use `newframe = frame.copy()`\n",
      "  df['%s_%s' % (name, value)] = (df[name] == value).astype(int)\n"
     ]
    }
   ],
   "source": [
    "X_small = prepare_X(df_small)"
   ]
  },
  {
   "cell_type": "code",
   "execution_count": 298,
   "metadata": {},
   "outputs": [
    {
     "data": {
      "text/plain": [
       "np.float64(10.692663853938157)"
      ]
     },
     "execution_count": 298,
     "metadata": {},
     "output_type": "execute_result"
    }
   ],
   "source": [
    "y_pred = w0 + X_small.dot(w)\n",
    "y_pred = y_pred[0]\n",
    "y_pred"
   ]
  },
  {
   "cell_type": "code",
   "execution_count": 299,
   "metadata": {},
   "outputs": [
    {
     "data": {
      "text/plain": [
       "np.float64(44030.64477966372)"
      ]
     },
     "execution_count": 299,
     "metadata": {},
     "output_type": "execute_result"
    }
   ],
   "source": [
    "np.expm1(y_pred)"
   ]
  },
  {
   "cell_type": "code",
   "execution_count": 300,
   "metadata": {},
   "outputs": [
    {
     "data": {
      "text/plain": [
       "np.float64(35000.00000000001)"
      ]
     },
     "execution_count": 300,
     "metadata": {},
     "output_type": "execute_result"
    }
   ],
   "source": [
    "np.expm1(y_test[20])"
   ]
  },
  {
   "cell_type": "markdown",
   "metadata": {},
   "source": [
    "## 2.16 Next steps"
   ]
  },
  {
   "cell_type": "markdown",
   "metadata": {},
   "source": [
    "* We included only 5 top features. What happens if we include 10?\n",
    "\n",
    "Other projects\n",
    "\n",
    "* Predict the price of a house - e.g. boston dataset\n",
    "* https://archive.ics.uci.edu/ml/datasets.php?task=reg\n",
    "* https://archive.ics.uci.edu/ml/datasets/Student+Performance"
   ]
  },
  {
   "cell_type": "markdown",
   "metadata": {},
   "source": [
    "## 2.17 Summary\n",
    "\n",
    "* EDA - looking at data, finding missing values\n",
    "* Target variable distribution - long tail => bell shaped curve\n",
    "* Validation framework: train/val/test split (helped us detect problems)\n",
    "* Normal equation - not magic, but math\n",
    "* Implemented it with numpy\n",
    "* RMSE to validate our model\n",
    "* Feature engineering: age, categorical features\n",
    "* Regularization to fight numerical instability"
   ]
  },
  {
   "cell_type": "code",
   "execution_count": null,
   "metadata": {},
   "outputs": [],
   "source": []
  }
 ],
 "metadata": {
  "kernelspec": {
   "display_name": "base",
   "language": "python",
   "name": "python3"
  },
  "language_info": {
   "codemirror_mode": {
    "name": "ipython",
    "version": 3
   },
   "file_extension": ".py",
   "mimetype": "text/x-python",
   "name": "python",
   "nbconvert_exporter": "python",
   "pygments_lexer": "ipython3",
   "version": "3.13.5"
  }
 },
 "nbformat": 4,
 "nbformat_minor": 5
}
