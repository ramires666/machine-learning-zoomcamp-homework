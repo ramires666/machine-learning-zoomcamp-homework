{
 "cells": [
  {
   "cell_type": "markdown",
   "id": "30f85786",
   "metadata": {},
   "source": [
    "**Homework-02-regression**"
   ]
  },
  {
   "cell_type": "markdown",
   "id": "9173d8b0",
   "metadata": {},
   "source": [
    "Dataset:Car Fuel Efficiency dataset"
   ]
  },
  {
   "cell_type": "code",
   "execution_count": 3,
   "id": "74371a0c",
   "metadata": {},
   "outputs": [
    {
     "name": "stdout",
     "output_type": "stream",
     "text": [
      "c:\\PYTHON\\Projects\\machine-learning-zoomcamp-homework\\02-linear regression\n"
     ]
    }
   ],
   "source": [
    "import os\n",
    "print(os.getcwd())"
   ]
  },
  {
   "cell_type": "code",
   "execution_count": 4,
   "id": "bff20f41",
   "metadata": {},
   "outputs": [
    {
     "name": "stderr",
     "output_type": "stream",
     "text": [
      "  % Total    % Received % Xferd  Average Speed   Time    Time     Time  Current\n",
      "                                 Dload  Upload   Total   Spent    Left  Speed\n",
      "\n",
      "  0     0    0     0    0     0      0      0 --:--:-- --:--:-- --:--:--     0\n",
      "  0  853k    0  8268    0     0  11758      0  0:01:14 --:--:--  0:01:14 11777\n",
      "100  853k  100  853k    0     0   820k      0  0:00:01  0:00:01 --:--:--  821k\n"
     ]
    }
   ],
   "source": [
    "!curl -o .\\car_fuel_efficiency.csv https://raw.githubusercontent.com/alexeygrigorev/datasets/master/car_fuel_efficiency.csv"
   ]
  },
  {
   "cell_type": "markdown",
   "id": "38c0b8cd",
   "metadata": {},
   "source": [
    "The goal of this homework is to create a regression model for predicting the car fuel efficiency (column 'fuel_efficiency_mpg')."
   ]
  },
  {
   "cell_type": "code",
   "execution_count": 5,
   "id": "8bb0085d",
   "metadata": {},
   "outputs": [],
   "source": [
    "import pandas as pd\n",
    "import numpy as np\n",
    "import seaborn as sns"
   ]
  },
  {
   "cell_type": "code",
   "execution_count": 6,
   "id": "a10f5951",
   "metadata": {},
   "outputs": [
    {
     "data": {
      "application/vnd.microsoft.datawrangler.viewer.v0+json": {
       "columns": [
        {
         "name": "index",
         "rawType": "int64",
         "type": "integer"
        },
        {
         "name": "engine_displacement",
         "rawType": "int64",
         "type": "integer"
        },
        {
         "name": "num_cylinders",
         "rawType": "float64",
         "type": "float"
        },
        {
         "name": "horsepower",
         "rawType": "float64",
         "type": "float"
        },
        {
         "name": "vehicle_weight",
         "rawType": "float64",
         "type": "float"
        },
        {
         "name": "acceleration",
         "rawType": "float64",
         "type": "float"
        },
        {
         "name": "model_year",
         "rawType": "int64",
         "type": "integer"
        },
        {
         "name": "origin",
         "rawType": "object",
         "type": "string"
        },
        {
         "name": "fuel_type",
         "rawType": "object",
         "type": "string"
        },
        {
         "name": "drivetrain",
         "rawType": "object",
         "type": "string"
        },
        {
         "name": "num_doors",
         "rawType": "float64",
         "type": "float"
        },
        {
         "name": "fuel_efficiency_mpg",
         "rawType": "float64",
         "type": "float"
        }
       ],
       "ref": "09dcfbb9-0f17-4d51-8d62-e2f5f9606a61",
       "rows": [
        [
         "0",
         "170",
         "3.0",
         "159.0",
         "3413.433758606219",
         "17.7",
         "2003",
         "Europe",
         "Gasoline",
         "All-wheel drive",
         "0.0",
         "13.231728906241411"
        ],
        [
         "1",
         "130",
         "5.0",
         "97.0",
         "3149.664934220036",
         "17.8",
         "2007",
         "USA",
         "Gasoline",
         "Front-wheel drive",
         "0.0",
         "13.688217435463793"
        ],
        [
         "2",
         "170",
         null,
         "78.0",
         "3079.03899736884",
         "15.1",
         "2018",
         "Europe",
         "Gasoline",
         "Front-wheel drive",
         "0.0",
         "14.246340998160866"
        ],
        [
         "3",
         "220",
         "4.0",
         null,
         "2542.392401828378",
         "20.2",
         "2009",
         "USA",
         "Diesel",
         "All-wheel drive",
         "2.0",
         "16.91273559598635"
        ],
        [
         "4",
         "210",
         "1.0",
         "140.0",
         "3460.870989989018",
         "14.4",
         "2009",
         "Europe",
         "Gasoline",
         "All-wheel drive",
         "2.0",
         "12.488369121964562"
        ],
        [
         "5",
         "190",
         "3.0",
         null,
         "2484.883986036068",
         "14.7",
         "2008",
         "Europe",
         "Gasoline",
         "All-wheel drive",
         "-1.0",
         "17.271818372724237"
        ],
        [
         "6",
         "240",
         "7.0",
         "127.0",
         "3006.5422872171457",
         "22.2",
         "2012",
         "USA",
         "Gasoline",
         "Front-wheel drive",
         "1.0",
         "13.210412112385608"
        ],
        [
         "7",
         "150",
         "4.0",
         "239.0",
         "3638.6577802809",
         "17.3",
         "2020",
         "USA",
         "Diesel",
         "All-wheel drive",
         "1.0",
         "12.848883861524026"
        ],
        [
         "8",
         "250",
         "1.0",
         "174.0",
         "2714.219309645285",
         "10.3",
         "2016",
         "Asia",
         "Diesel",
         "Front-wheel drive",
         "-1.0",
         "16.823553726916543"
        ],
        [
         "9",
         "150",
         "4.0",
         "123.0",
         "3509.036569100613",
         "10.2",
         "2005",
         "USA",
         "Gasoline",
         "Front-wheel drive",
         "-1.0",
         "12.298354983681604"
        ],
        [
         "10",
         "230",
         "5.0",
         "100.0",
         "3111.810181389172",
         "15.4",
         "2014",
         "Europe",
         "Diesel",
         "All-wheel drive",
         "0.0",
         "13.386605047290962"
        ],
        [
         "11",
         "150",
         "5.0",
         null,
         "1967.2004212521003",
         "12.6",
         "2014",
         "USA",
         "Diesel",
         "Front-wheel drive",
         "2.0",
         "20.50444671989053"
        ],
        [
         "12",
         "320",
         "5.0",
         "145.0",
         "2783.8689742437728",
         "15.1",
         "2010",
         "Asia",
         "Diesel",
         "All-wheel drive",
         "1.0",
         "16.17581958009284"
        ],
        [
         "13",
         "170",
         "1.0",
         "193.0",
         "2274.7351905647565",
         "17.5",
         "2000",
         "Europe",
         "Diesel",
         "Front-wheel drive",
         "0.0",
         "18.792742345719034"
        ],
        [
         "14",
         "200",
         "6.0",
         "160.0",
         "3582.687367715132",
         "14.9",
         "2007",
         "Asia",
         "Diesel",
         "All-wheel drive",
         "0.0",
         "11.871091010445811"
        ],
        [
         "15",
         "220",
         "4.0",
         "179.0",
         "2631.0652035914763",
         "16.0",
         "2006",
         "USA",
         "Gasoline",
         "All-wheel drive",
         "1.0",
         "16.756081170464494"
        ],
        [
         "16",
         "160",
         "3.0",
         "180.0",
         "2673.5529409560954",
         "8.5",
         "2013",
         "Europe",
         "Diesel",
         "All-wheel drive",
         "-1.0",
         "17.516175727210882"
        ],
        [
         "17",
         "190",
         "6.0",
         "132.0",
         "2427.3118562098525",
         "17.8",
         "2011",
         "USA",
         "Diesel",
         "Front-wheel drive",
         "-1.0",
         "17.65868533963579"
        ],
        [
         "18",
         "250",
         "2.0",
         "110.0",
         "2971.2145745989487",
         null,
         "2003",
         "Europe",
         "Gasoline",
         "Front-wheel drive",
         "1.0",
         "14.735962194497768"
        ],
        [
         "19",
         "180",
         "1.0",
         "126.0",
         "2986.958657420011",
         "17.9",
         "2004",
         "Europe",
         "Gasoline",
         "All-wheel drive",
         "-1.0",
         "15.097137105104313"
        ],
        [
         "20",
         "150",
         "3.0",
         "197.0",
         "2231.8081416029345",
         "18.7",
         "2011",
         "Asia",
         "Gasoline",
         "Front-wheel drive",
         "1.0",
         "18.88908257097108"
        ],
        [
         "21",
         "160",
         "4.0",
         "133.0",
         "2659.431450757995",
         null,
         "2016",
         "Asia",
         "Gasoline",
         "Front-wheel drive",
         "-1.0",
         "16.077730214491176"
        ],
        [
         "22",
         "190",
         "1.0",
         "144.0",
         "2438.842125555246",
         "16.4",
         "2016",
         "Europe",
         "Diesel",
         "Front-wheel drive",
         "1.0",
         "17.08040493384839"
        ],
        [
         "23",
         "230",
         "2.0",
         "160.0",
         "3342.6060274901347",
         "12.9",
         "2009",
         "Europe",
         "Gasoline",
         "All-wheel drive",
         "0.0",
         "13.7383805846665"
        ],
        [
         "24",
         "260",
         "3.0",
         "156.0",
         "4267.390497388771",
         "20.0",
         "2004",
         "USA",
         "Diesel",
         "Front-wheel drive",
         "1.0",
         "7.853194329416397"
        ],
        [
         "25",
         "210",
         "6.0",
         "157.0",
         "2860.206191293806",
         "12.6",
         "2013",
         "USA",
         "Gasoline",
         "All-wheel drive",
         null,
         "15.906421807842523"
        ],
        [
         "26",
         "180",
         "8.0",
         "160.0",
         "3080.170161717871",
         "10.6",
         "2002",
         "USA",
         "Diesel",
         "All-wheel drive",
         "2.0",
         "15.089880004688071"
        ],
        [
         "27",
         "120",
         "6.0",
         "206.0",
         "3467.355490131792",
         "18.3",
         "2016",
         "USA",
         "Gasoline",
         "Front-wheel drive",
         "-1.0",
         "13.04899290040456"
        ],
        [
         "28",
         "220",
         "4.0",
         "154.0",
         "3335.0681874881448",
         "14.8",
         "2005",
         "USA",
         "Diesel",
         "All-wheel drive",
         "-1.0",
         "13.411265956371402"
        ],
        [
         "29",
         "230",
         "4.0",
         "132.0",
         "2479.7829741497544",
         "15.6",
         "2014",
         "Europe",
         "Diesel",
         "All-wheel drive",
         "0.0",
         "17.34901126810939"
        ],
        [
         "30",
         "280",
         "5.0",
         "140.0",
         "2598.598215530185",
         "17.1",
         "2022",
         "USA",
         "Gasoline",
         "Front-wheel drive",
         "0.0",
         "16.852517863788954"
        ],
        [
         "31",
         "160",
         "4.0",
         "153.0",
         "3106.306111675653",
         "15.8",
         "2000",
         "Europe",
         "Gasoline",
         "All-wheel drive",
         "-1.0",
         "14.04564452468013"
        ],
        [
         "32",
         "40",
         "5.0",
         "136.0",
         "3619.370730176663",
         "19.5",
         "2017",
         "Europe",
         "Gasoline",
         "All-wheel drive",
         "-1.0",
         "11.02937073424243"
        ],
        [
         "33",
         "200",
         "4.0",
         "168.0",
         "2946.9791685788814",
         "18.6",
         "2001",
         "USA",
         "Diesel",
         "Front-wheel drive",
         "0.0",
         "15.76758556294088"
        ],
        [
         "34",
         "150",
         "2.0",
         "149.0",
         "2844.2275338857653",
         "17.3",
         "2014",
         "Asia",
         "Diesel",
         "Front-wheel drive",
         "0.0",
         "15.353788201522017"
        ],
        [
         "35",
         "160",
         "3.0",
         "127.0",
         "2961.158679125447",
         "14.8",
         "2004",
         "USA",
         "Gasoline",
         "Front-wheel drive",
         "0.0",
         "14.671771671571785"
        ],
        [
         "36",
         "200",
         "5.0",
         "143.0",
         "3040.2365213942894",
         "14.2",
         "2006",
         "USA",
         "Diesel",
         "All-wheel drive",
         "-1.0",
         "15.01132504011616"
        ],
        [
         "37",
         "80",
         "3.0",
         "132.0",
         "3444.8921095893515",
         "17.2",
         "2023",
         "Europe",
         "Gasoline",
         "Front-wheel drive",
         "-1.0",
         "11.704658142342613"
        ],
        [
         "38",
         "190",
         "5.0",
         "158.0",
         "3761.9940381922206",
         null,
         "2019",
         "Asia",
         "Gasoline",
         "Front-wheel drive",
         "1.0",
         "11.645724047561528"
        ],
        [
         "39",
         "240",
         "6.0",
         "176.0",
         "2676.886843633655",
         "14.5",
         "2002",
         "Europe",
         "Gasoline",
         "Front-wheel drive",
         "-1.0",
         "17.322851581349216"
        ],
        [
         "40",
         "110",
         "1.0",
         "108.0",
         "2292.675257052191",
         "14.5",
         "2015",
         "Europe",
         "Gasoline",
         "Front-wheel drive",
         "0.0",
         "18.63000885913826"
        ],
        [
         "41",
         "230",
         "2.0",
         "125.0",
         "2563.9027023821623",
         "18.1",
         "2008",
         "Europe",
         "Gasoline",
         "All-wheel drive",
         "0.0",
         "16.890273538222665"
        ],
        [
         "42",
         "240",
         "4.0",
         "123.0",
         "2612.0154112627533",
         "10.5",
         "2013",
         "USA",
         "Diesel",
         "Front-wheel drive",
         "-1.0",
         "16.416020840488873"
        ],
        [
         "43",
         "170",
         "4.0",
         "123.0",
         "2957.6811098887447",
         "14.4",
         "2012",
         "Asia",
         "Diesel",
         "All-wheel drive",
         "-1.0",
         "15.039796931634644"
        ],
        [
         "44",
         "240",
         "2.0",
         "142.0",
         "2544.516801769428",
         "12.9",
         "2016",
         "Asia",
         "Gasoline",
         "All-wheel drive",
         "0.0",
         "17.600327865900464"
        ],
        [
         "45",
         "380",
         null,
         "139.0",
         "1833.1964030710933",
         "16.7",
         "2022",
         "USA",
         "Gasoline",
         "Front-wheel drive",
         "-1.0",
         "20.728616942029674"
        ],
        [
         "46",
         "190",
         "4.0",
         "170.0",
         "2607.6950038058926",
         "20.8",
         "2019",
         "USA",
         "Diesel",
         "Front-wheel drive",
         "1.0",
         "15.932777017483826"
        ],
        [
         "47",
         "270",
         "1.0",
         "135.0",
         "3858.9146336751146",
         null,
         "2006",
         "Europe",
         "Gasoline",
         "Front-wheel drive",
         "2.0",
         "10.0898180828745"
        ],
        [
         "48",
         "190",
         "5.0",
         "202.0",
         "2531.185247040718",
         "16.2",
         "2016",
         "Asia",
         "Gasoline",
         "All-wheel drive",
         "0.0",
         "17.983505227568678"
        ],
        [
         "49",
         "140",
         "7.0",
         "99.0",
         "3602.664482911108",
         "17.0",
         "2015",
         "Europe",
         "Gasoline",
         "All-wheel drive",
         "1.0",
         "11.25726765887053"
        ]
       ],
       "shape": {
        "columns": 11,
        "rows": 9704
       }
      },
      "text/html": [
       "<div>\n",
       "<style scoped>\n",
       "    .dataframe tbody tr th:only-of-type {\n",
       "        vertical-align: middle;\n",
       "    }\n",
       "\n",
       "    .dataframe tbody tr th {\n",
       "        vertical-align: top;\n",
       "    }\n",
       "\n",
       "    .dataframe thead th {\n",
       "        text-align: right;\n",
       "    }\n",
       "</style>\n",
       "<table border=\"1\" class=\"dataframe\">\n",
       "  <thead>\n",
       "    <tr style=\"text-align: right;\">\n",
       "      <th></th>\n",
       "      <th>engine_displacement</th>\n",
       "      <th>num_cylinders</th>\n",
       "      <th>horsepower</th>\n",
       "      <th>vehicle_weight</th>\n",
       "      <th>acceleration</th>\n",
       "      <th>model_year</th>\n",
       "      <th>origin</th>\n",
       "      <th>fuel_type</th>\n",
       "      <th>drivetrain</th>\n",
       "      <th>num_doors</th>\n",
       "      <th>fuel_efficiency_mpg</th>\n",
       "    </tr>\n",
       "  </thead>\n",
       "  <tbody>\n",
       "    <tr>\n",
       "      <th>0</th>\n",
       "      <td>170</td>\n",
       "      <td>3.0</td>\n",
       "      <td>159.0</td>\n",
       "      <td>3413.433759</td>\n",
       "      <td>17.7</td>\n",
       "      <td>2003</td>\n",
       "      <td>Europe</td>\n",
       "      <td>Gasoline</td>\n",
       "      <td>All-wheel drive</td>\n",
       "      <td>0.0</td>\n",
       "      <td>13.231729</td>\n",
       "    </tr>\n",
       "    <tr>\n",
       "      <th>1</th>\n",
       "      <td>130</td>\n",
       "      <td>5.0</td>\n",
       "      <td>97.0</td>\n",
       "      <td>3149.664934</td>\n",
       "      <td>17.8</td>\n",
       "      <td>2007</td>\n",
       "      <td>USA</td>\n",
       "      <td>Gasoline</td>\n",
       "      <td>Front-wheel drive</td>\n",
       "      <td>0.0</td>\n",
       "      <td>13.688217</td>\n",
       "    </tr>\n",
       "    <tr>\n",
       "      <th>2</th>\n",
       "      <td>170</td>\n",
       "      <td>NaN</td>\n",
       "      <td>78.0</td>\n",
       "      <td>3079.038997</td>\n",
       "      <td>15.1</td>\n",
       "      <td>2018</td>\n",
       "      <td>Europe</td>\n",
       "      <td>Gasoline</td>\n",
       "      <td>Front-wheel drive</td>\n",
       "      <td>0.0</td>\n",
       "      <td>14.246341</td>\n",
       "    </tr>\n",
       "    <tr>\n",
       "      <th>3</th>\n",
       "      <td>220</td>\n",
       "      <td>4.0</td>\n",
       "      <td>NaN</td>\n",
       "      <td>2542.392402</td>\n",
       "      <td>20.2</td>\n",
       "      <td>2009</td>\n",
       "      <td>USA</td>\n",
       "      <td>Diesel</td>\n",
       "      <td>All-wheel drive</td>\n",
       "      <td>2.0</td>\n",
       "      <td>16.912736</td>\n",
       "    </tr>\n",
       "    <tr>\n",
       "      <th>4</th>\n",
       "      <td>210</td>\n",
       "      <td>1.0</td>\n",
       "      <td>140.0</td>\n",
       "      <td>3460.870990</td>\n",
       "      <td>14.4</td>\n",
       "      <td>2009</td>\n",
       "      <td>Europe</td>\n",
       "      <td>Gasoline</td>\n",
       "      <td>All-wheel drive</td>\n",
       "      <td>2.0</td>\n",
       "      <td>12.488369</td>\n",
       "    </tr>\n",
       "    <tr>\n",
       "      <th>...</th>\n",
       "      <td>...</td>\n",
       "      <td>...</td>\n",
       "      <td>...</td>\n",
       "      <td>...</td>\n",
       "      <td>...</td>\n",
       "      <td>...</td>\n",
       "      <td>...</td>\n",
       "      <td>...</td>\n",
       "      <td>...</td>\n",
       "      <td>...</td>\n",
       "      <td>...</td>\n",
       "    </tr>\n",
       "    <tr>\n",
       "      <th>9699</th>\n",
       "      <td>140</td>\n",
       "      <td>5.0</td>\n",
       "      <td>164.0</td>\n",
       "      <td>2981.107371</td>\n",
       "      <td>17.3</td>\n",
       "      <td>2013</td>\n",
       "      <td>Europe</td>\n",
       "      <td>Diesel</td>\n",
       "      <td>Front-wheel drive</td>\n",
       "      <td>NaN</td>\n",
       "      <td>15.101802</td>\n",
       "    </tr>\n",
       "    <tr>\n",
       "      <th>9700</th>\n",
       "      <td>180</td>\n",
       "      <td>NaN</td>\n",
       "      <td>154.0</td>\n",
       "      <td>2439.525729</td>\n",
       "      <td>15.0</td>\n",
       "      <td>2004</td>\n",
       "      <td>USA</td>\n",
       "      <td>Gasoline</td>\n",
       "      <td>All-wheel drive</td>\n",
       "      <td>0.0</td>\n",
       "      <td>17.962326</td>\n",
       "    </tr>\n",
       "    <tr>\n",
       "      <th>9701</th>\n",
       "      <td>220</td>\n",
       "      <td>2.0</td>\n",
       "      <td>138.0</td>\n",
       "      <td>2583.471318</td>\n",
       "      <td>15.1</td>\n",
       "      <td>2008</td>\n",
       "      <td>USA</td>\n",
       "      <td>Diesel</td>\n",
       "      <td>All-wheel drive</td>\n",
       "      <td>-1.0</td>\n",
       "      <td>17.186587</td>\n",
       "    </tr>\n",
       "    <tr>\n",
       "      <th>9702</th>\n",
       "      <td>230</td>\n",
       "      <td>4.0</td>\n",
       "      <td>177.0</td>\n",
       "      <td>2905.527390</td>\n",
       "      <td>19.4</td>\n",
       "      <td>2011</td>\n",
       "      <td>USA</td>\n",
       "      <td>Diesel</td>\n",
       "      <td>Front-wheel drive</td>\n",
       "      <td>1.0</td>\n",
       "      <td>15.331551</td>\n",
       "    </tr>\n",
       "    <tr>\n",
       "      <th>9703</th>\n",
       "      <td>270</td>\n",
       "      <td>3.0</td>\n",
       "      <td>140.0</td>\n",
       "      <td>2908.043477</td>\n",
       "      <td>14.7</td>\n",
       "      <td>2005</td>\n",
       "      <td>Asia</td>\n",
       "      <td>Diesel</td>\n",
       "      <td>All-wheel drive</td>\n",
       "      <td>-1.0</td>\n",
       "      <td>14.884467</td>\n",
       "    </tr>\n",
       "  </tbody>\n",
       "</table>\n",
       "<p>9704 rows × 11 columns</p>\n",
       "</div>"
      ],
      "text/plain": [
       "      engine_displacement  num_cylinders  horsepower  vehicle_weight  \\\n",
       "0                     170            3.0       159.0     3413.433759   \n",
       "1                     130            5.0        97.0     3149.664934   \n",
       "2                     170            NaN        78.0     3079.038997   \n",
       "3                     220            4.0         NaN     2542.392402   \n",
       "4                     210            1.0       140.0     3460.870990   \n",
       "...                   ...            ...         ...             ...   \n",
       "9699                  140            5.0       164.0     2981.107371   \n",
       "9700                  180            NaN       154.0     2439.525729   \n",
       "9701                  220            2.0       138.0     2583.471318   \n",
       "9702                  230            4.0       177.0     2905.527390   \n",
       "9703                  270            3.0       140.0     2908.043477   \n",
       "\n",
       "      acceleration  model_year  origin fuel_type         drivetrain  \\\n",
       "0             17.7        2003  Europe  Gasoline    All-wheel drive   \n",
       "1             17.8        2007     USA  Gasoline  Front-wheel drive   \n",
       "2             15.1        2018  Europe  Gasoline  Front-wheel drive   \n",
       "3             20.2        2009     USA    Diesel    All-wheel drive   \n",
       "4             14.4        2009  Europe  Gasoline    All-wheel drive   \n",
       "...            ...         ...     ...       ...                ...   \n",
       "9699          17.3        2013  Europe    Diesel  Front-wheel drive   \n",
       "9700          15.0        2004     USA  Gasoline    All-wheel drive   \n",
       "9701          15.1        2008     USA    Diesel    All-wheel drive   \n",
       "9702          19.4        2011     USA    Diesel  Front-wheel drive   \n",
       "9703          14.7        2005    Asia    Diesel    All-wheel drive   \n",
       "\n",
       "      num_doors  fuel_efficiency_mpg  \n",
       "0           0.0            13.231729  \n",
       "1           0.0            13.688217  \n",
       "2           0.0            14.246341  \n",
       "3           2.0            16.912736  \n",
       "4           2.0            12.488369  \n",
       "...         ...                  ...  \n",
       "9699        NaN            15.101802  \n",
       "9700        0.0            17.962326  \n",
       "9701       -1.0            17.186587  \n",
       "9702        1.0            15.331551  \n",
       "9703       -1.0            14.884467  \n",
       "\n",
       "[9704 rows x 11 columns]"
      ]
     },
     "execution_count": 6,
     "metadata": {},
     "output_type": "execute_result"
    }
   ],
   "source": [
    "df = pd.read_csv(\"car_fuel_efficiency.csv\")\n",
    "df"
   ]
  },
  {
   "cell_type": "code",
   "execution_count": 7,
   "id": "c1015cfd",
   "metadata": {},
   "outputs": [
    {
     "data": {
      "application/vnd.microsoft.datawrangler.viewer.v0+json": {
       "columns": [
        {
         "name": "index",
         "rawType": "int64",
         "type": "integer"
        },
        {
         "name": "engine_displacement",
         "rawType": "int64",
         "type": "integer"
        },
        {
         "name": "horsepower",
         "rawType": "float64",
         "type": "float"
        },
        {
         "name": "vehicle_weight",
         "rawType": "float64",
         "type": "float"
        },
        {
         "name": "model_year",
         "rawType": "int64",
         "type": "integer"
        },
        {
         "name": "fuel_efficiency_mpg",
         "rawType": "float64",
         "type": "float"
        }
       ],
       "ref": "2f8813b0-6ad9-4343-8c4c-2496fa2c1716",
       "rows": [
        [
         "0",
         "170",
         "159.0",
         "3413.433758606219",
         "2003",
         "13.231728906241411"
        ],
        [
         "1",
         "130",
         "97.0",
         "3149.664934220036",
         "2007",
         "13.688217435463793"
        ],
        [
         "2",
         "170",
         "78.0",
         "3079.03899736884",
         "2018",
         "14.246340998160866"
        ],
        [
         "3",
         "220",
         null,
         "2542.392401828378",
         "2009",
         "16.91273559598635"
        ],
        [
         "4",
         "210",
         "140.0",
         "3460.870989989018",
         "2009",
         "12.488369121964562"
        ],
        [
         "5",
         "190",
         null,
         "2484.883986036068",
         "2008",
         "17.271818372724237"
        ],
        [
         "6",
         "240",
         "127.0",
         "3006.5422872171457",
         "2012",
         "13.210412112385608"
        ],
        [
         "7",
         "150",
         "239.0",
         "3638.6577802809",
         "2020",
         "12.848883861524026"
        ],
        [
         "8",
         "250",
         "174.0",
         "2714.219309645285",
         "2016",
         "16.823553726916543"
        ],
        [
         "9",
         "150",
         "123.0",
         "3509.036569100613",
         "2005",
         "12.298354983681604"
        ],
        [
         "10",
         "230",
         "100.0",
         "3111.810181389172",
         "2014",
         "13.386605047290962"
        ],
        [
         "11",
         "150",
         null,
         "1967.2004212521003",
         "2014",
         "20.50444671989053"
        ],
        [
         "12",
         "320",
         "145.0",
         "2783.8689742437728",
         "2010",
         "16.17581958009284"
        ],
        [
         "13",
         "170",
         "193.0",
         "2274.7351905647565",
         "2000",
         "18.792742345719034"
        ],
        [
         "14",
         "200",
         "160.0",
         "3582.687367715132",
         "2007",
         "11.871091010445811"
        ],
        [
         "15",
         "220",
         "179.0",
         "2631.0652035914763",
         "2006",
         "16.756081170464494"
        ],
        [
         "16",
         "160",
         "180.0",
         "2673.5529409560954",
         "2013",
         "17.516175727210882"
        ],
        [
         "17",
         "190",
         "132.0",
         "2427.3118562098525",
         "2011",
         "17.65868533963579"
        ],
        [
         "18",
         "250",
         "110.0",
         "2971.2145745989487",
         "2003",
         "14.735962194497768"
        ],
        [
         "19",
         "180",
         "126.0",
         "2986.958657420011",
         "2004",
         "15.097137105104313"
        ],
        [
         "20",
         "150",
         "197.0",
         "2231.8081416029345",
         "2011",
         "18.88908257097108"
        ],
        [
         "21",
         "160",
         "133.0",
         "2659.431450757995",
         "2016",
         "16.077730214491176"
        ],
        [
         "22",
         "190",
         "144.0",
         "2438.842125555246",
         "2016",
         "17.08040493384839"
        ],
        [
         "23",
         "230",
         "160.0",
         "3342.6060274901347",
         "2009",
         "13.7383805846665"
        ],
        [
         "24",
         "260",
         "156.0",
         "4267.390497388771",
         "2004",
         "7.853194329416397"
        ],
        [
         "25",
         "210",
         "157.0",
         "2860.206191293806",
         "2013",
         "15.906421807842523"
        ],
        [
         "26",
         "180",
         "160.0",
         "3080.170161717871",
         "2002",
         "15.089880004688071"
        ],
        [
         "27",
         "120",
         "206.0",
         "3467.355490131792",
         "2016",
         "13.04899290040456"
        ],
        [
         "28",
         "220",
         "154.0",
         "3335.0681874881448",
         "2005",
         "13.411265956371402"
        ],
        [
         "29",
         "230",
         "132.0",
         "2479.7829741497544",
         "2014",
         "17.34901126810939"
        ],
        [
         "30",
         "280",
         "140.0",
         "2598.598215530185",
         "2022",
         "16.852517863788954"
        ],
        [
         "31",
         "160",
         "153.0",
         "3106.306111675653",
         "2000",
         "14.04564452468013"
        ],
        [
         "32",
         "40",
         "136.0",
         "3619.370730176663",
         "2017",
         "11.02937073424243"
        ],
        [
         "33",
         "200",
         "168.0",
         "2946.9791685788814",
         "2001",
         "15.76758556294088"
        ],
        [
         "34",
         "150",
         "149.0",
         "2844.2275338857653",
         "2014",
         "15.353788201522017"
        ],
        [
         "35",
         "160",
         "127.0",
         "2961.158679125447",
         "2004",
         "14.671771671571785"
        ],
        [
         "36",
         "200",
         "143.0",
         "3040.2365213942894",
         "2006",
         "15.01132504011616"
        ],
        [
         "37",
         "80",
         "132.0",
         "3444.8921095893515",
         "2023",
         "11.704658142342613"
        ],
        [
         "38",
         "190",
         "158.0",
         "3761.9940381922206",
         "2019",
         "11.645724047561528"
        ],
        [
         "39",
         "240",
         "176.0",
         "2676.886843633655",
         "2002",
         "17.322851581349216"
        ],
        [
         "40",
         "110",
         "108.0",
         "2292.675257052191",
         "2015",
         "18.63000885913826"
        ],
        [
         "41",
         "230",
         "125.0",
         "2563.9027023821623",
         "2008",
         "16.890273538222665"
        ],
        [
         "42",
         "240",
         "123.0",
         "2612.0154112627533",
         "2013",
         "16.416020840488873"
        ],
        [
         "43",
         "170",
         "123.0",
         "2957.6811098887447",
         "2012",
         "15.039796931634644"
        ],
        [
         "44",
         "240",
         "142.0",
         "2544.516801769428",
         "2016",
         "17.600327865900464"
        ],
        [
         "45",
         "380",
         "139.0",
         "1833.1964030710933",
         "2022",
         "20.728616942029674"
        ],
        [
         "46",
         "190",
         "170.0",
         "2607.6950038058926",
         "2019",
         "15.932777017483826"
        ],
        [
         "47",
         "270",
         "135.0",
         "3858.9146336751146",
         "2006",
         "10.0898180828745"
        ],
        [
         "48",
         "190",
         "202.0",
         "2531.185247040718",
         "2016",
         "17.983505227568678"
        ],
        [
         "49",
         "140",
         "99.0",
         "3602.664482911108",
         "2015",
         "11.25726765887053"
        ]
       ],
       "shape": {
        "columns": 5,
        "rows": 9704
       }
      },
      "text/html": [
       "<div>\n",
       "<style scoped>\n",
       "    .dataframe tbody tr th:only-of-type {\n",
       "        vertical-align: middle;\n",
       "    }\n",
       "\n",
       "    .dataframe tbody tr th {\n",
       "        vertical-align: top;\n",
       "    }\n",
       "\n",
       "    .dataframe thead th {\n",
       "        text-align: right;\n",
       "    }\n",
       "</style>\n",
       "<table border=\"1\" class=\"dataframe\">\n",
       "  <thead>\n",
       "    <tr style=\"text-align: right;\">\n",
       "      <th></th>\n",
       "      <th>engine_displacement</th>\n",
       "      <th>horsepower</th>\n",
       "      <th>vehicle_weight</th>\n",
       "      <th>model_year</th>\n",
       "      <th>fuel_efficiency_mpg</th>\n",
       "    </tr>\n",
       "  </thead>\n",
       "  <tbody>\n",
       "    <tr>\n",
       "      <th>0</th>\n",
       "      <td>170</td>\n",
       "      <td>159.0</td>\n",
       "      <td>3413.433759</td>\n",
       "      <td>2003</td>\n",
       "      <td>13.231729</td>\n",
       "    </tr>\n",
       "    <tr>\n",
       "      <th>1</th>\n",
       "      <td>130</td>\n",
       "      <td>97.0</td>\n",
       "      <td>3149.664934</td>\n",
       "      <td>2007</td>\n",
       "      <td>13.688217</td>\n",
       "    </tr>\n",
       "    <tr>\n",
       "      <th>2</th>\n",
       "      <td>170</td>\n",
       "      <td>78.0</td>\n",
       "      <td>3079.038997</td>\n",
       "      <td>2018</td>\n",
       "      <td>14.246341</td>\n",
       "    </tr>\n",
       "    <tr>\n",
       "      <th>3</th>\n",
       "      <td>220</td>\n",
       "      <td>NaN</td>\n",
       "      <td>2542.392402</td>\n",
       "      <td>2009</td>\n",
       "      <td>16.912736</td>\n",
       "    </tr>\n",
       "    <tr>\n",
       "      <th>4</th>\n",
       "      <td>210</td>\n",
       "      <td>140.0</td>\n",
       "      <td>3460.870990</td>\n",
       "      <td>2009</td>\n",
       "      <td>12.488369</td>\n",
       "    </tr>\n",
       "    <tr>\n",
       "      <th>...</th>\n",
       "      <td>...</td>\n",
       "      <td>...</td>\n",
       "      <td>...</td>\n",
       "      <td>...</td>\n",
       "      <td>...</td>\n",
       "    </tr>\n",
       "    <tr>\n",
       "      <th>9699</th>\n",
       "      <td>140</td>\n",
       "      <td>164.0</td>\n",
       "      <td>2981.107371</td>\n",
       "      <td>2013</td>\n",
       "      <td>15.101802</td>\n",
       "    </tr>\n",
       "    <tr>\n",
       "      <th>9700</th>\n",
       "      <td>180</td>\n",
       "      <td>154.0</td>\n",
       "      <td>2439.525729</td>\n",
       "      <td>2004</td>\n",
       "      <td>17.962326</td>\n",
       "    </tr>\n",
       "    <tr>\n",
       "      <th>9701</th>\n",
       "      <td>220</td>\n",
       "      <td>138.0</td>\n",
       "      <td>2583.471318</td>\n",
       "      <td>2008</td>\n",
       "      <td>17.186587</td>\n",
       "    </tr>\n",
       "    <tr>\n",
       "      <th>9702</th>\n",
       "      <td>230</td>\n",
       "      <td>177.0</td>\n",
       "      <td>2905.527390</td>\n",
       "      <td>2011</td>\n",
       "      <td>15.331551</td>\n",
       "    </tr>\n",
       "    <tr>\n",
       "      <th>9703</th>\n",
       "      <td>270</td>\n",
       "      <td>140.0</td>\n",
       "      <td>2908.043477</td>\n",
       "      <td>2005</td>\n",
       "      <td>14.884467</td>\n",
       "    </tr>\n",
       "  </tbody>\n",
       "</table>\n",
       "<p>9704 rows × 5 columns</p>\n",
       "</div>"
      ],
      "text/plain": [
       "      engine_displacement  horsepower  vehicle_weight  model_year  \\\n",
       "0                     170       159.0     3413.433759        2003   \n",
       "1                     130        97.0     3149.664934        2007   \n",
       "2                     170        78.0     3079.038997        2018   \n",
       "3                     220         NaN     2542.392402        2009   \n",
       "4                     210       140.0     3460.870990        2009   \n",
       "...                   ...         ...             ...         ...   \n",
       "9699                  140       164.0     2981.107371        2013   \n",
       "9700                  180       154.0     2439.525729        2004   \n",
       "9701                  220       138.0     2583.471318        2008   \n",
       "9702                  230       177.0     2905.527390        2011   \n",
       "9703                  270       140.0     2908.043477        2005   \n",
       "\n",
       "      fuel_efficiency_mpg  \n",
       "0               13.231729  \n",
       "1               13.688217  \n",
       "2               14.246341  \n",
       "3               16.912736  \n",
       "4               12.488369  \n",
       "...                   ...  \n",
       "9699            15.101802  \n",
       "9700            17.962326  \n",
       "9701            17.186587  \n",
       "9702            15.331551  \n",
       "9703            14.884467  \n",
       "\n",
       "[9704 rows x 5 columns]"
      ]
     },
     "execution_count": 7,
     "metadata": {},
     "output_type": "execute_result"
    }
   ],
   "source": [
    "df = df[['engine_displacement',\n",
    "'horsepower',\n",
    "'vehicle_weight',\n",
    "'model_year',\n",
    "'fuel_efficiency_mpg']]\n",
    "df"
   ]
  },
  {
   "cell_type": "markdown",
   "id": "5507f2c7",
   "metadata": {},
   "source": [
    "EDA"
   ]
  },
  {
   "cell_type": "code",
   "execution_count": 8,
   "id": "11ee4c5e",
   "metadata": {},
   "outputs": [
    {
     "data": {
      "text/plain": [
       "<Axes: >"
      ]
     },
     "execution_count": 8,
     "metadata": {},
     "output_type": "execute_result"
    },
    {
     "data": {
      "image/png": "[encoded data removed]",
      "text/plain": [
       "<Figure size 640x480 with 1 Axes>"
      ]
     },
     "metadata": {},
     "output_type": "display_data"
    }
   ],
   "source": [
    "df.fuel_efficiency_mpg.hist(bins=100)"
   ]
  },
  {
   "cell_type": "code",
   "execution_count": 9,
   "id": "cfd685d4",
   "metadata": {},
   "outputs": [
    {
     "data": {
      "text/plain": [
       "<Axes: xlabel='fuel_efficiency_mpg', ylabel='Count'>"
      ]
     },
     "execution_count": 9,
     "metadata": {},
     "output_type": "execute_result"
    },
    {
     "data": {
      "image/png": "[encoded data removed]",
      "text/plain": [
       "<Figure size 640x480 with 1 Axes>"
      ]
     },
     "metadata": {},
     "output_type": "display_data"
    }
   ],
   "source": [
    "sns.histplot(df.fuel_efficiency_mpg,bins=100)"
   ]
  },
  {
   "cell_type": "markdown",
   "id": "57dba0bc",
   "metadata": {},
   "source": [
    "it looks perfectly normal"
   ]
  },
  {
   "cell_type": "markdown",
   "id": "b23fa184",
   "metadata": {},
   "source": [
    "Question 1\n",
    "There's one column with missing values. What is it?"
   ]
  },
  {
   "cell_type": "code",
   "execution_count": 10,
   "id": "9d5742f3",
   "metadata": {},
   "outputs": [
    {
     "data": {
      "text/plain": [
       "9704"
      ]
     },
     "execution_count": 10,
     "metadata": {},
     "output_type": "execute_result"
    }
   ],
   "source": [
    "len(df)"
   ]
  },
  {
   "cell_type": "code",
   "execution_count": 11,
   "id": "231152b3",
   "metadata": {},
   "outputs": [
    {
     "data": {
      "application/vnd.microsoft.datawrangler.viewer.v0+json": {
       "columns": [
        {
         "name": "index",
         "rawType": "object",
         "type": "string"
        },
        {
         "name": "0",
         "rawType": "bool",
         "type": "boolean"
        }
       ],
       "ref": "f1d22412-9789-475f-b37b-6e8b9e766ee8",
       "rows": [
        [
         "engine_displacement",
         "False"
        ],
        [
         "horsepower",
         "True"
        ],
        [
         "vehicle_weight",
         "False"
        ],
        [
         "model_year",
         "False"
        ],
        [
         "fuel_efficiency_mpg",
         "False"
        ]
       ],
       "shape": {
        "columns": 1,
        "rows": 5
       }
      },
      "text/plain": [
       "engine_displacement    False\n",
       "horsepower              True\n",
       "vehicle_weight         False\n",
       "model_year             False\n",
       "fuel_efficiency_mpg    False\n",
       "dtype: bool"
      ]
     },
     "execution_count": 11,
     "metadata": {},
     "output_type": "execute_result"
    }
   ],
   "source": [
    "df.count()<len(df) # will count all nonnull values and compare with total rows"
   ]
  },
  {
   "cell_type": "code",
   "execution_count": 12,
   "id": "5b6acc3a",
   "metadata": {},
   "outputs": [
    {
     "data": {
      "text/plain": [
       "['horsepower']"
      ]
     },
     "execution_count": 12,
     "metadata": {},
     "output_type": "execute_result"
    }
   ],
   "source": [
    "null_series = df.isnull().sum()>0  # boolean series of columns where 0/null is present more than one time\n",
    "df.columns[null_series].to_list() # gettn list of such columns for future use and parsing"
   ]
  },
  {
   "cell_type": "markdown",
   "id": "b03bf8a2",
   "metadata": {},
   "source": [
    "Question 2\n",
    "What's the median (50% percentile) for variable 'horsepower'?"
   ]
  },
  {
   "cell_type": "code",
   "execution_count": 14,
   "id": "a03fa7f6",
   "metadata": {},
   "outputs": [
    {
     "data": {
      "application/vnd.microsoft.datawrangler.viewer.v0+json": {
       "columns": [
        {
         "name": "index",
         "rawType": "object",
         "type": "string"
        },
        {
         "name": "horsepower",
         "rawType": "float64",
         "type": "float"
        }
       ],
       "ref": "d6e80792-f61c-45c1-ab57-d6bdc1b67f3e",
       "rows": [
        [
         "count",
         "8996.0"
        ],
        [
         "mean",
         "149.65729212983547"
        ],
        [
         "std",
         "29.879555200339446"
        ],
        [
         "min",
         "37.0"
        ],
        [
         "25%",
         "130.0"
        ],
        [
         "50%",
         "149.0"
        ],
        [
         "75%",
         "170.0"
        ],
        [
         "max",
         "271.0"
        ]
       ],
       "shape": {
        "columns": 1,
        "rows": 8
       }
      },
      "text/plain": [
       "count    8996.000000\n",
       "mean      149.657292\n",
       "std        29.879555\n",
       "min        37.000000\n",
       "25%       130.000000\n",
       "50%       149.000000\n",
       "75%       170.000000\n",
       "max       271.000000\n",
       "Name: horsepower, dtype: float64"
      ]
     },
     "execution_count": 14,
     "metadata": {},
     "output_type": "execute_result"
    }
   ],
   "source": [
    "df.horsepower.describe()\n"
   ]
  },
  {
   "cell_type": "code",
   "execution_count": 15,
   "id": "e2967928",
   "metadata": {},
   "outputs": [
    {
     "data": {
      "text/plain": [
       "149.0"
      ]
     },
     "execution_count": 15,
     "metadata": {},
     "output_type": "execute_result"
    }
   ],
   "source": [
    "df.horsepower.median()"
   ]
  },
  {
   "cell_type": "code",
   "execution_count": 16,
   "id": "efb9f368",
   "metadata": {},
   "outputs": [
    {
     "data": {
      "text/plain": [
       "152.0"
      ]
     },
     "execution_count": 16,
     "metadata": {},
     "output_type": "execute_result"
    }
   ],
   "source": [
    "df.horsepower.mode()[0]"
   ]
  },
  {
   "cell_type": "markdown",
   "id": "bfa16269",
   "metadata": {},
   "source": [
    "Prepare and split the dataset\n",
    "Shuffle the dataset (the filtered one you created above), use seed 42.\n",
    "Split your data in train/val/test sets, with 60%/20%/20% distribution.\n",
    "Use the same code as in the lectures"
   ]
  },
  {
   "cell_type": "code",
   "execution_count": 93,
   "id": "fe0d746f",
   "metadata": {},
   "outputs": [],
   "source": [
    "# using smae seed of 42\n",
    "np.random.seed(42)\n",
    "n = len(df)\n",
    "idx = np.arange(n) # getting index range \n",
    "np.random.shuffle(idx) # shuffling index with seed 42"
   ]
  },
  {
   "cell_type": "code",
   "execution_count": 94,
   "id": "78ea4208",
   "metadata": {},
   "outputs": [
    {
     "data": {
      "text/plain": [
       "(1940, 1940, 5824)"
      ]
     },
     "execution_count": 94,
     "metadata": {},
     "output_type": "execute_result"
    }
   ],
   "source": [
    "n_val = int(n * 0.2)\n",
    "n_test = int(n * 0.2)\n",
    "n_train = n - n_val - n_test\n",
    "\n",
    "n_val, n_test, n_train"
   ]
  },
  {
   "cell_type": "code",
   "execution_count": 157,
   "id": "937817d1",
   "metadata": {},
   "outputs": [],
   "source": [
    "# slicinf df inot train val and test sets\n",
    "df_train = df.iloc[idx[:n_train]]\n",
    "df_val = df.iloc[idx[n_train:n_train+n_val]].reset_index(drop=True)\n",
    "df_test = df.iloc[idx[n_train+n_val:]].reset_index(drop=True)"
   ]
  },
  {
   "cell_type": "markdown",
   "id": "275cd931",
   "metadata": {},
   "source": [
    "## Question 3\n"
   ]
  },
  {
   "cell_type": "markdown",
   "id": "eb876cab",
   "metadata": {},
   "source": [
    "We need to deal with missing values for the column from Q1.\n",
    "We have two options: fill it with 0 or with the mean of this variable.\n",
    "Try both options. For each, train a linear regression model without regularization using the code from the lessons.\n",
    "For computing the mean, use the training only!\n",
    "Use the validation dataset to evaluate the models and compare the RMSE of each option.\n",
    "Round the RMSE scores to 2 decimal digits using round(score, 2)\n",
    "Which option gives better RMSE?"
   ]
  },
  {
   "cell_type": "code",
   "execution_count": 158,
   "id": "765812bf",
   "metadata": {},
   "outputs": [],
   "source": [
    "# first option: filling with 0:\n",
    "df_train_0 = df_train.fillna(0)\n",
    "df_val = df_val.fillna(0)\n",
    "df_train_mean = df_train.fillna(df_train.horsepower.mean())"
   ]
  },
  {
   "cell_type": "code",
   "execution_count": 159,
   "id": "2282b13f",
   "metadata": {},
   "outputs": [
    {
     "data": {
      "text/plain": [
       "array([2.82163803, 2.72604557, 2.54540897, ..., 2.96550163, 3.06816735,\n",
       "       2.88011043])"
      ]
     },
     "execution_count": 159,
     "metadata": {},
     "output_type": "execute_result"
    }
   ],
   "source": [
    "y_train_0 = np.log1p(df_train_0.fuel_efficiency_mpg.values)\n",
    "y_train_mean = np.log1p(df_train_mean.fuel_efficiency_mpg.values)\n",
    "y_val = np.log1p(df_val.fuel_efficiency_mpg.values)\n",
    "y_test = np.log1p(df_test.fuel_efficiency_mpg.values)\n",
    "y_test"
   ]
  },
  {
   "cell_type": "code",
   "execution_count": 160,
   "id": "dfa0d411",
   "metadata": {},
   "outputs": [],
   "source": [
    "del df_train_0['fuel_efficiency_mpg']\n",
    "del df_train_mean['fuel_efficiency_mpg']\n",
    "del df_val['fuel_efficiency_mpg']\n",
    "del df_test['fuel_efficiency_mpg']"
   ]
  },
  {
   "cell_type": "code",
   "execution_count": 161,
   "id": "f4c8a123",
   "metadata": {},
   "outputs": [],
   "source": [
    "def train_linear_regression(X, y):\n",
    "    ones = np.ones(X.shape[0])\n",
    "    X = np.column_stack([ones, X])\n",
    "\n",
    "    XTX = X.T.dot(X)\n",
    "    XTX_inv = np.linalg.inv(XTX)\n",
    "    w_full = XTX_inv.dot(X.T).dot(y)\n",
    "    \n",
    "    return w_full[0], w_full[1:]"
   ]
  },
  {
   "cell_type": "code",
   "execution_count": 162,
   "id": "602fdff0",
   "metadata": {},
   "outputs": [
    {
     "data": {
      "text/plain": [
       "(3.6646662472088183,\n",
       " array([ 2.14827083e-06,  2.21209296e-04, -3.23460699e-04,  1.64673231e-05]))"
      ]
     },
     "execution_count": 162,
     "metadata": {},
     "output_type": "execute_result"
    }
   ],
   "source": [
    "w0_0, w_0 = train_linear_regression(df_train_0, y_train_0)\n",
    "w0_0, w_0"
   ]
  },
  {
   "cell_type": "code",
   "execution_count": 163,
   "id": "1e6b4497",
   "metadata": {},
   "outputs": [
    {
     "data": {
      "application/vnd.microsoft.datawrangler.viewer.v0+json": {
       "columns": [
        {
         "name": "index",
         "rawType": "int64",
         "type": "integer"
        },
        {
         "name": "0",
         "rawType": "float64",
         "type": "float"
        }
       ],
       "ref": "3048bd8e-289f-4529-afde-ffc1c424e2a1",
       "rows": [
        [
         "483",
         "2.90981588545533"
        ],
        [
         "7506",
         "2.8427870864881952"
        ],
        [
         "8795",
         "2.933106272451901"
        ],
        [
         "1688",
         "2.5313553609997292"
        ],
        [
         "6217",
         "3.0320781047896577"
        ],
        [
         "4562",
         "2.5760090813969017"
        ],
        [
         "5885",
         "2.5534095589480827"
        ],
        [
         "3746",
         "2.9151978462108277"
        ],
        [
         "7109",
         "2.841019692968324"
        ],
        [
         "2698",
         "2.694986851166896"
        ],
        [
         "311",
         "2.78977427281155"
        ],
        [
         "8470",
         "2.7653676416989055"
        ],
        [
         "5829",
         "2.9753269939051554"
        ],
        [
         "9606",
         "2.604379831115322"
        ],
        [
         "568",
         "2.784768132713457"
        ],
        [
         "4129",
         "3.1289784778204233"
        ],
        [
         "7925",
         "2.528148427285638"
        ],
        [
         "8936",
         "2.7305877326624968"
        ],
        [
         "6618",
         "2.749650191095977"
        ],
        [
         "2997",
         "2.6574574615673936"
        ],
        [
         "5617",
         "2.854657155267014"
        ],
        [
         "7361",
         "2.746287969474912"
        ],
        [
         "5244",
         "2.767109026578488"
        ],
        [
         "349",
         "2.8126794041914307"
        ],
        [
         "2122",
         "2.510529482302087"
        ],
        [
         "5351",
         "2.867302435970126"
        ],
        [
         "346",
         "2.8991879963943292"
        ],
        [
         "3154",
         "2.781356135095387"
        ],
        [
         "8935",
         "2.5710223568105173"
        ],
        [
         "7364",
         "2.698434835899928"
        ],
        [
         "2894",
         "2.8003837100488616"
        ],
        [
         "2335",
         "3.155694293522809"
        ],
        [
         "4241",
         "2.786588863615437"
        ],
        [
         "5768",
         "2.9619720145026243"
        ],
        [
         "5552",
         "2.9975956645420085"
        ],
        [
         "7606",
         "2.556074875504545"
        ],
        [
         "5587",
         "2.9417888041455287"
        ],
        [
         "1864",
         "2.7358417336360654"
        ],
        [
         "6925",
         "2.7506229408834804"
        ],
        [
         "39",
         "2.871214560394854"
        ],
        [
         "1918",
         "2.844118110440352"
        ],
        [
         "8371",
         "2.782911582097833"
        ],
        [
         "932",
         "2.688935758489293"
        ],
        [
         "5633",
         "3.121784674350836"
        ],
        [
         "6790",
         "2.946447465234732"
        ],
        [
         "6463",
         "3.0122674350177467"
        ],
        [
         "7919",
         "2.8960141982976326"
        ],
        [
         "1418",
         "2.7814431492830574"
        ],
        [
         "8449",
         "2.538811383570362"
        ],
        [
         "5012",
         "2.5850957599487003"
        ]
       ],
       "shape": {
        "columns": 1,
        "rows": 5824
       }
      },
      "text/plain": [
       "483     2.909816\n",
       "7506    2.842787\n",
       "8795    2.933106\n",
       "1688    2.531355\n",
       "6217    3.032078\n",
       "          ...   \n",
       "1696    2.885802\n",
       "5685    2.432427\n",
       "6735    2.923297\n",
       "2052    3.003055\n",
       "1776    2.944049\n",
       "Length: 5824, dtype: float64"
      ]
     },
     "execution_count": 163,
     "metadata": {},
     "output_type": "execute_result"
    }
   ],
   "source": [
    "y_pred_0 = w0_0 + df_train_0.dot(w_0)\n",
    "y_pred_0"
   ]
  },
  {
   "cell_type": "code",
   "execution_count": 164,
   "id": "52ae1128",
   "metadata": {},
   "outputs": [
    {
     "data": {
      "text/plain": [
       "<Axes: ylabel='Count'>"
      ]
     },
     "execution_count": 164,
     "metadata": {},
     "output_type": "execute_result"
    },
    {
     "data": {
      "image/png": "[encoded data removed]",
      "text/plain": [
       "<Figure size 640x480 with 1 Axes>"
      ]
     },
     "metadata": {},
     "output_type": "display_data"
    }
   ],
   "source": [
    "sns.histplot(y_pred_0, color='red', alpha=0.5, bins=150)\n",
    "sns.histplot(y_train_0, color='blue', alpha=0.5, bins=150)"
   ]
  },
  {
   "cell_type": "code",
   "execution_count": 165,
   "id": "86076bb1",
   "metadata": {},
   "outputs": [],
   "source": [
    "def rmse(y, y_pred):\n",
    "    se = (y - y_pred) ** 2\n",
    "    mse = se.mean()\n",
    "    return np.sqrt(mse)"
   ]
  },
  {
   "cell_type": "code",
   "execution_count": 166,
   "id": "fd6e6ea6",
   "metadata": {},
   "outputs": [
    {
     "data": {
      "text/plain": [
       "0.0390863253926525"
      ]
     },
     "execution_count": 166,
     "metadata": {},
     "output_type": "execute_result"
    }
   ],
   "source": [
    "rmse(y_train_0, y_pred_0)"
   ]
  },
  {
   "cell_type": "code",
   "execution_count": 105,
   "id": "c78f7c5e",
   "metadata": {},
   "outputs": [
    {
     "data": {
      "application/vnd.microsoft.datawrangler.viewer.v0+json": {
       "columns": [
        {
         "name": "index",
         "rawType": "int64",
         "type": "integer"
        },
        {
         "name": "engine_displacement",
         "rawType": "int64",
         "type": "integer"
        },
        {
         "name": "horsepower",
         "rawType": "float64",
         "type": "float"
        },
        {
         "name": "vehicle_weight",
         "rawType": "float64",
         "type": "float"
        },
        {
         "name": "model_year",
         "rawType": "int64",
         "type": "integer"
        },
        {
         "name": "fuel_efficiency_mpg",
         "rawType": "float64",
         "type": "float"
        }
       ],
       "ref": "abbd2661-bf3c-4cae-a138-8e3fef666e85",
       "rows": [
        [
         "0",
         "170",
         "159.0",
         "3413.433758606219",
         "2003",
         "13.231728906241411"
        ],
        [
         "1",
         "130",
         "97.0",
         "3149.664934220036",
         "2007",
         "13.688217435463793"
        ],
        [
         "2",
         "170",
         "78.0",
         "3079.03899736884",
         "2018",
         "14.246340998160866"
        ],
        [
         "3",
         "220",
         null,
         "2542.392401828378",
         "2009",
         "16.91273559598635"
        ],
        [
         "4",
         "210",
         "140.0",
         "3460.870989989018",
         "2009",
         "12.488369121964562"
        ],
        [
         "5",
         "190",
         null,
         "2484.883986036068",
         "2008",
         "17.271818372724237"
        ],
        [
         "6",
         "240",
         "127.0",
         "3006.5422872171457",
         "2012",
         "13.210412112385608"
        ],
        [
         "7",
         "150",
         "239.0",
         "3638.6577802809",
         "2020",
         "12.848883861524026"
        ],
        [
         "8",
         "250",
         "174.0",
         "2714.219309645285",
         "2016",
         "16.823553726916543"
        ],
        [
         "9",
         "150",
         "123.0",
         "3509.036569100613",
         "2005",
         "12.298354983681604"
        ],
        [
         "10",
         "230",
         "100.0",
         "3111.810181389172",
         "2014",
         "13.386605047290962"
        ],
        [
         "11",
         "150",
         null,
         "1967.2004212521003",
         "2014",
         "20.50444671989053"
        ],
        [
         "12",
         "320",
         "145.0",
         "2783.8689742437728",
         "2010",
         "16.17581958009284"
        ],
        [
         "13",
         "170",
         "193.0",
         "2274.7351905647565",
         "2000",
         "18.792742345719034"
        ],
        [
         "14",
         "200",
         "160.0",
         "3582.687367715132",
         "2007",
         "11.871091010445811"
        ],
        [
         "15",
         "220",
         "179.0",
         "2631.0652035914763",
         "2006",
         "16.756081170464494"
        ],
        [
         "16",
         "160",
         "180.0",
         "2673.5529409560954",
         "2013",
         "17.516175727210882"
        ],
        [
         "17",
         "190",
         "132.0",
         "2427.3118562098525",
         "2011",
         "17.65868533963579"
        ],
        [
         "18",
         "250",
         "110.0",
         "2971.2145745989487",
         "2003",
         "14.735962194497768"
        ],
        [
         "19",
         "180",
         "126.0",
         "2986.958657420011",
         "2004",
         "15.097137105104313"
        ],
        [
         "20",
         "150",
         "197.0",
         "2231.8081416029345",
         "2011",
         "18.88908257097108"
        ],
        [
         "21",
         "160",
         "133.0",
         "2659.431450757995",
         "2016",
         "16.077730214491176"
        ],
        [
         "22",
         "190",
         "144.0",
         "2438.842125555246",
         "2016",
         "17.08040493384839"
        ],
        [
         "23",
         "230",
         "160.0",
         "3342.6060274901347",
         "2009",
         "13.7383805846665"
        ],
        [
         "24",
         "260",
         "156.0",
         "4267.390497388771",
         "2004",
         "7.853194329416397"
        ],
        [
         "25",
         "210",
         "157.0",
         "2860.206191293806",
         "2013",
         "15.906421807842523"
        ],
        [
         "26",
         "180",
         "160.0",
         "3080.170161717871",
         "2002",
         "15.089880004688071"
        ],
        [
         "27",
         "120",
         "206.0",
         "3467.355490131792",
         "2016",
         "13.04899290040456"
        ],
        [
         "28",
         "220",
         "154.0",
         "3335.0681874881448",
         "2005",
         "13.411265956371402"
        ],
        [
         "29",
         "230",
         "132.0",
         "2479.7829741497544",
         "2014",
         "17.34901126810939"
        ],
        [
         "30",
         "280",
         "140.0",
         "2598.598215530185",
         "2022",
         "16.852517863788954"
        ],
        [
         "31",
         "160",
         "153.0",
         "3106.306111675653",
         "2000",
         "14.04564452468013"
        ],
        [
         "32",
         "40",
         "136.0",
         "3619.370730176663",
         "2017",
         "11.02937073424243"
        ],
        [
         "33",
         "200",
         "168.0",
         "2946.9791685788814",
         "2001",
         "15.76758556294088"
        ],
        [
         "34",
         "150",
         "149.0",
         "2844.2275338857653",
         "2014",
         "15.353788201522017"
        ],
        [
         "35",
         "160",
         "127.0",
         "2961.158679125447",
         "2004",
         "14.671771671571785"
        ],
        [
         "36",
         "200",
         "143.0",
         "3040.2365213942894",
         "2006",
         "15.01132504011616"
        ],
        [
         "37",
         "80",
         "132.0",
         "3444.8921095893515",
         "2023",
         "11.704658142342613"
        ],
        [
         "38",
         "190",
         "158.0",
         "3761.9940381922206",
         "2019",
         "11.645724047561528"
        ],
        [
         "39",
         "240",
         "176.0",
         "2676.886843633655",
         "2002",
         "17.322851581349216"
        ],
        [
         "40",
         "110",
         "108.0",
         "2292.675257052191",
         "2015",
         "18.63000885913826"
        ],
        [
         "41",
         "230",
         "125.0",
         "2563.9027023821623",
         "2008",
         "16.890273538222665"
        ],
        [
         "42",
         "240",
         "123.0",
         "2612.0154112627533",
         "2013",
         "16.416020840488873"
        ],
        [
         "43",
         "170",
         "123.0",
         "2957.6811098887447",
         "2012",
         "15.039796931634644"
        ],
        [
         "44",
         "240",
         "142.0",
         "2544.516801769428",
         "2016",
         "17.600327865900464"
        ],
        [
         "45",
         "380",
         "139.0",
         "1833.1964030710933",
         "2022",
         "20.728616942029674"
        ],
        [
         "46",
         "190",
         "170.0",
         "2607.6950038058926",
         "2019",
         "15.932777017483826"
        ],
        [
         "47",
         "270",
         "135.0",
         "3858.9146336751146",
         "2006",
         "10.0898180828745"
        ],
        [
         "48",
         "190",
         "202.0",
         "2531.185247040718",
         "2016",
         "17.983505227568678"
        ],
        [
         "49",
         "140",
         "99.0",
         "3602.664482911108",
         "2015",
         "11.25726765887053"
        ]
       ],
       "shape": {
        "columns": 5,
        "rows": 9704
       }
      },
      "text/html": [
       "<div>\n",
       "<style scoped>\n",
       "    .dataframe tbody tr th:only-of-type {\n",
       "        vertical-align: middle;\n",
       "    }\n",
       "\n",
       "    .dataframe tbody tr th {\n",
       "        vertical-align: top;\n",
       "    }\n",
       "\n",
       "    .dataframe thead th {\n",
       "        text-align: right;\n",
       "    }\n",
       "</style>\n",
       "<table border=\"1\" class=\"dataframe\">\n",
       "  <thead>\n",
       "    <tr style=\"text-align: right;\">\n",
       "      <th></th>\n",
       "      <th>engine_displacement</th>\n",
       "      <th>horsepower</th>\n",
       "      <th>vehicle_weight</th>\n",
       "      <th>model_year</th>\n",
       "      <th>fuel_efficiency_mpg</th>\n",
       "    </tr>\n",
       "  </thead>\n",
       "  <tbody>\n",
       "    <tr>\n",
       "      <th>0</th>\n",
       "      <td>170</td>\n",
       "      <td>159.0</td>\n",
       "      <td>3413.433759</td>\n",
       "      <td>2003</td>\n",
       "      <td>13.231729</td>\n",
       "    </tr>\n",
       "    <tr>\n",
       "      <th>1</th>\n",
       "      <td>130</td>\n",
       "      <td>97.0</td>\n",
       "      <td>3149.664934</td>\n",
       "      <td>2007</td>\n",
       "      <td>13.688217</td>\n",
       "    </tr>\n",
       "    <tr>\n",
       "      <th>2</th>\n",
       "      <td>170</td>\n",
       "      <td>78.0</td>\n",
       "      <td>3079.038997</td>\n",
       "      <td>2018</td>\n",
       "      <td>14.246341</td>\n",
       "    </tr>\n",
       "    <tr>\n",
       "      <th>3</th>\n",
       "      <td>220</td>\n",
       "      <td>NaN</td>\n",
       "      <td>2542.392402</td>\n",
       "      <td>2009</td>\n",
       "      <td>16.912736</td>\n",
       "    </tr>\n",
       "    <tr>\n",
       "      <th>4</th>\n",
       "      <td>210</td>\n",
       "      <td>140.0</td>\n",
       "      <td>3460.870990</td>\n",
       "      <td>2009</td>\n",
       "      <td>12.488369</td>\n",
       "    </tr>\n",
       "    <tr>\n",
       "      <th>...</th>\n",
       "      <td>...</td>\n",
       "      <td>...</td>\n",
       "      <td>...</td>\n",
       "      <td>...</td>\n",
       "      <td>...</td>\n",
       "    </tr>\n",
       "    <tr>\n",
       "      <th>9699</th>\n",
       "      <td>140</td>\n",
       "      <td>164.0</td>\n",
       "      <td>2981.107371</td>\n",
       "      <td>2013</td>\n",
       "      <td>15.101802</td>\n",
       "    </tr>\n",
       "    <tr>\n",
       "      <th>9700</th>\n",
       "      <td>180</td>\n",
       "      <td>154.0</td>\n",
       "      <td>2439.525729</td>\n",
       "      <td>2004</td>\n",
       "      <td>17.962326</td>\n",
       "    </tr>\n",
       "    <tr>\n",
       "      <th>9701</th>\n",
       "      <td>220</td>\n",
       "      <td>138.0</td>\n",
       "      <td>2583.471318</td>\n",
       "      <td>2008</td>\n",
       "      <td>17.186587</td>\n",
       "    </tr>\n",
       "    <tr>\n",
       "      <th>9702</th>\n",
       "      <td>230</td>\n",
       "      <td>177.0</td>\n",
       "      <td>2905.527390</td>\n",
       "      <td>2011</td>\n",
       "      <td>15.331551</td>\n",
       "    </tr>\n",
       "    <tr>\n",
       "      <th>9703</th>\n",
       "      <td>270</td>\n",
       "      <td>140.0</td>\n",
       "      <td>2908.043477</td>\n",
       "      <td>2005</td>\n",
       "      <td>14.884467</td>\n",
       "    </tr>\n",
       "  </tbody>\n",
       "</table>\n",
       "<p>9704 rows × 5 columns</p>\n",
       "</div>"
      ],
      "text/plain": [
       "      engine_displacement  horsepower  vehicle_weight  model_year  \\\n",
       "0                     170       159.0     3413.433759        2003   \n",
       "1                     130        97.0     3149.664934        2007   \n",
       "2                     170        78.0     3079.038997        2018   \n",
       "3                     220         NaN     2542.392402        2009   \n",
       "4                     210       140.0     3460.870990        2009   \n",
       "...                   ...         ...             ...         ...   \n",
       "9699                  140       164.0     2981.107371        2013   \n",
       "9700                  180       154.0     2439.525729        2004   \n",
       "9701                  220       138.0     2583.471318        2008   \n",
       "9702                  230       177.0     2905.527390        2011   \n",
       "9703                  270       140.0     2908.043477        2005   \n",
       "\n",
       "      fuel_efficiency_mpg  \n",
       "0               13.231729  \n",
       "1               13.688217  \n",
       "2               14.246341  \n",
       "3               16.912736  \n",
       "4               12.488369  \n",
       "...                   ...  \n",
       "9699            15.101802  \n",
       "9700            17.962326  \n",
       "9701            17.186587  \n",
       "9702            15.331551  \n",
       "9703            14.884467  \n",
       "\n",
       "[9704 rows x 5 columns]"
      ]
     },
     "execution_count": 105,
     "metadata": {},
     "output_type": "execute_result"
    }
   ],
   "source": [
    "df"
   ]
  },
  {
   "cell_type": "code",
   "execution_count": 152,
   "id": "73e7947d",
   "metadata": {},
   "outputs": [],
   "source": [
    "# Now lets make afull code function to do linreg:\n",
    "\n",
    "def splitter(df, val_pct = 0.2, test_pct = 0.2, shuffle_seed = 42):\n",
    "    n = len(df)\n",
    "\n",
    "    # getting quantity parts\n",
    "    n_val = int(n * val_pct)\n",
    "    n_test = int(n * test_pct)\n",
    "    n_train = n - n_val - n_test\n",
    "    \n",
    "    # randomizing index\n",
    "    np.random.seed(shuffle_seed)\n",
    "    idx = np.arange(n) # getting index range \n",
    "    np.random.shuffle(idx) # shuffling index with seed\n",
    "\n",
    "    # getting train, val and test sets with shuffled index:\n",
    "    df_train = df.iloc[idx[:n_train]].copy()\n",
    "    df_val = df.iloc[idx[n_train:n_train+n_val]].copy()\n",
    "    df_test = df.iloc[idx[n_train+n_val:]].copy()\n",
    "\n",
    "    return df_train, df_val, df_test\n",
    "\n",
    "\n",
    "def linregFULL_Q3(df_,fillna=0):\n",
    "\n",
    "    df = df_.copy()\n",
    "\n",
    "    # getting train, val, test sets:\n",
    "\n",
    "    df_train, df_val, df_test = splitter(df, val_pct = 0.2, test_pct = 0.2, shuffle_seed = 42)\n",
    "\n",
    "    # preparing train set:\n",
    "    df_train.horsepower = df_train.horsepower.fillna(fillna)\n",
    "    df_val.horsepower = df_val.horsepower.fillna(fillna)\n",
    "\n",
    "    # getting targets:\n",
    "    y_train = np.log1p(df_train.fuel_efficiency_mpg.values)\n",
    "    y_val = np.log1p(df_val.fuel_efficiency_mpg.values)\n",
    "    #y_test = np.log1p(df_test.fuel_efficiency_mpg.values)\n",
    "\n",
    "    # deleting the target from training sets\n",
    "    del df_train['fuel_efficiency_mpg']\n",
    "    del df_val['fuel_efficiency_mpg']\n",
    "    # del df_test['fuel_efficiency_mpg']\n",
    "\n",
    "    # linreg function itself:\n",
    "    def train_linear_regression(X, y):\n",
    "        ones = np.ones(X.shape[0])\n",
    "        X = np.column_stack([ones, X])\n",
    "\n",
    "        XTX = X.T.dot(X)\n",
    "        XTX_inv = np.linalg.inv(XTX)\n",
    "        w_full = XTX_inv.dot(X.T).dot(y)\n",
    "        \n",
    "        return w_full[0], w_full[1:]\n",
    "    \n",
    "    # getting values for training (aka traingn matrix):\n",
    "    X_train = df_train.values\n",
    "\n",
    "    # training:\n",
    "    w0, w = train_linear_regression(X_train, y_train)\n",
    "    # print(len(w),w)\n",
    "\n",
    "    # getting validation predition by multiplying validation matrix by prediction weights vector:\n",
    "    y_pred = w0 + df_val.dot(w)\n",
    "    \n",
    "\n",
    "    # RMS function itself:\n",
    "    def rmse(y, y_pred):\n",
    "        se = (y - y_pred) ** 2\n",
    "        mse = se.mean()\n",
    "        return np.sqrt(mse)\n",
    "    \n",
    "    return rmse(y_val,y_pred)\n"
   ]
  },
  {
   "cell_type": "code",
   "execution_count": 167,
   "id": "4620dd3a",
   "metadata": {},
   "outputs": [
    {
     "data": {
      "text/plain": [
       "(0.04, 0.04)"
      ]
     },
     "execution_count": 167,
     "metadata": {},
     "output_type": "execute_result"
    }
   ],
   "source": [
    "# so now we can compare different fills methods:\n",
    "\n",
    "RMSE_missing_with_zeros = linregFULL_Q3(df,fillna=0)\n",
    "RMSE_missing_with_mean_values = linregFULL_Q3(df,fillna=df_train.horsepower.mean())\n",
    "round(RMSE_missing_with_zeros,2),round(RMSE_missing_with_mean_values,2)"
   ]
  },
  {
   "cell_type": "code",
   "execution_count": 168,
   "id": "e538e320",
   "metadata": {},
   "outputs": [
    {
     "data": {
      "text/plain": [
       "True"
      ]
     },
     "execution_count": 168,
     "metadata": {},
     "output_type": "execute_result"
    }
   ],
   "source": [
    "# what gives us better RMSE(smaller):\n",
    "RMSE_missing_with_zeros > RMSE_missing_with_mean_values"
   ]
  },
  {
   "cell_type": "markdown",
   "id": "8fab6ca1",
   "metadata": {},
   "source": [
    "RMSE_missing_with_mean_values is more accurate"
   ]
  },
  {
   "cell_type": "markdown",
   "id": "9329304e",
   "metadata": {},
   "source": [
    "## Question 4"
   ]
  },
  {
   "cell_type": "markdown",
   "id": "ccc06271",
   "metadata": {},
   "source": [
    "Now let's train a regularized linear regression.\n",
    "For this question, fill the NAs with 0.\n",
    "Try different values of r from this list: [0, 0.01, 0.1, 1, 5, 10, 100].\n",
    "Use RMSE to evaluate the model on the validation dataset.\n",
    "Round the RMSE scores to 2 decimal digits.\n",
    "Which r gives the best RMSE?"
   ]
  },
  {
   "cell_type": "code",
   "execution_count": 169,
   "id": "c9f3d604",
   "metadata": {},
   "outputs": [],
   "source": [
    "# Now lets make a full code function to do linreg WITH REGULARIZATION:\n",
    "\n",
    "\n",
    "def splitter(df, val_pct = 0.2, test_pct = 0.2, shuffle_seed = 42):\n",
    "    n = len(df)\n",
    "\n",
    "    # getting quantity parts\n",
    "    n_val = int(n * val_pct)\n",
    "    n_test = int(n * test_pct)\n",
    "    n_train = n - n_val - n_test\n",
    "    \n",
    "    # randomizing index\n",
    "    np.random.seed(shuffle_seed)\n",
    "    idx = np.arange(n) # getting index range \n",
    "    np.random.shuffle(idx) # shuffling index with seed\n",
    "\n",
    "    # getting train, val and test sets with shuffled index:\n",
    "    df_train = df.iloc[idx[:n_train]].copy()\n",
    "    df_val = df.iloc[idx[n_train:n_train+n_val]].copy()\n",
    "    df_test = df.iloc[idx[n_train+n_val:]].copy()\n",
    "\n",
    "    return df_train, df_val, df_test\n",
    "\n",
    "\n",
    "def linregFULL_Q4(df_, fillna=0, r = 0.001, r_list = [0.001]):\n",
    "\n",
    "    df = df_.copy()\n",
    "\n",
    "  # getting train, val, test sets:\n",
    "\n",
    "    df_train, df_val, df_test = splitter(df, val_pct = 0.2, test_pct = 0.2, shuffle_seed = 42)\n",
    "\n",
    "    # preparing train set:\n",
    "    df_train.horsepower = df_train.horsepower.fillna(fillna)\n",
    "    df_val.horsepower = df_val.horsepower.fillna(fillna)\n",
    "\n",
    "    # getting targets for training and validation:\n",
    "    y_train = np.log1p(df_train.fuel_efficiency_mpg.values)\n",
    "    y_val = np.log1p(df_val.fuel_efficiency_mpg.values)\n",
    "    #y_test = np.log1p(df_test.fuel_efficiency_mpg.values)\n",
    "\n",
    "    # deleting the target from training sets\n",
    "    del df_train['fuel_efficiency_mpg']\n",
    "    del df_val['fuel_efficiency_mpg']\n",
    "\n",
    "    # linreg function itself:\n",
    "    def train_linear_regression_with_regularization(X, y , r):\n",
    "        \n",
    "        ones = np.ones(X.shape[0])\n",
    "        X = np.column_stack([ones, X])\n",
    "\n",
    "        XTX = X.T.dot(X)\n",
    "        XTX = XTX + r * np.eye(XTX.shape[0])\n",
    "        XTX_inv = np.linalg.inv(XTX)\n",
    "        w_full = XTX_inv.dot(X.T).dot(y)\n",
    "        \n",
    "        return w_full[0], w_full[1:]\n",
    "    \n",
    "    # getting values for training (aka training matrix):\n",
    "    X_train = df_train.values\n",
    "\n",
    "    # training:\n",
    "    w0, w = train_linear_regression_with_regularization(X_train, y_train, r)\n",
    "    # print(len(w),w)\n",
    "\n",
    "    # getting validation predition vector by multiplying validation matrix by prediction weights vector:\n",
    "    y_pred_ = w0 + df_val.dot(w)\n",
    "    \n",
    "\n",
    "    # RMSE function itself:\n",
    "    def rmse(y, y_pred):\n",
    "        se = (y - y_pred) ** 2\n",
    "        mse = se.mean()\n",
    "        return np.sqrt(mse)\n",
    "    \n",
    "    for r in r_list:\n",
    "        # training:\n",
    "        w0, w = train_linear_regression_with_regularization(X_train, y_train, r)\n",
    "        # print(len(w),w)\n",
    "\n",
    "        # getting validation predition by multiplying validation matrix by prediction weights vector(normal equation):\n",
    "        y_pred = w0 + df_val.dot(w)\n",
    "\n",
    "        RMSE = rmse(y_val,y_pred)\n",
    "        print(f\"________________ R = {r}: ____________________\\n\")\n",
    "        print(f'rmse={round(RMSE,2)} \\t rmse={round(RMSE,6)}\\n')\n",
    "        \n",
    "    \n",
    "    return y_val,y_pred_\n"
   ]
  },
  {
   "cell_type": "code",
   "execution_count": 170,
   "id": "09e2b8ba",
   "metadata": {},
   "outputs": [
    {
     "name": "stdout",
     "output_type": "stream",
     "text": [
      "________________ R = 0: ____________________\n",
      "\n",
      "rmse=0.04 \t rmse=0.039979\n",
      "\n",
      "________________ R = 0.01: ____________________\n",
      "\n",
      "rmse=0.04 \t rmse=0.039978\n",
      "\n",
      "________________ R = 0.1: ____________________\n",
      "\n",
      "rmse=0.04 \t rmse=0.040509\n",
      "\n",
      "________________ R = 1: ____________________\n",
      "\n",
      "rmse=0.04 \t rmse=0.041354\n",
      "\n",
      "________________ R = 5: ____________________\n",
      "\n",
      "rmse=0.04 \t rmse=0.041506\n",
      "\n",
      "________________ R = 10: ____________________\n",
      "\n",
      "rmse=0.04 \t rmse=0.041527\n",
      "\n",
      "________________ R = 100: ____________________\n",
      "\n",
      "rmse=0.04 \t rmse=0.041546\n",
      "\n"
     ]
    }
   ],
   "source": [
    "r_list = [0, 0.01, 0.1, 1, 5, 10, 100]\n",
    "y_val,y_pred = linregFULL_Q4(df, fillna=0, r = 0.001, r_list = r_list)\n",
    "#rmse(y_val,y_pred),y_pred"
   ]
  },
  {
   "cell_type": "code",
   "execution_count": 171,
   "id": "009807cc",
   "metadata": {},
   "outputs": [
    {
     "data": {
      "text/plain": [
       "<Axes: ylabel='Count'>"
      ]
     },
     "execution_count": 171,
     "metadata": {},
     "output_type": "execute_result"
    },
    {
     "data": {
      "image/png": "[encoded data removed]",
      "text/plain": [
       "<Figure size 640x480 with 1 Axes>"
      ]
     },
     "metadata": {},
     "output_type": "display_data"
    }
   ],
   "source": [
    "sns.histplot(y_val, bins=150, color='green', alpha=0.5)\n",
    "sns.histplot(y_pred, bins=150, color='red', alpha=0.5)"
   ]
  },
  {
   "cell_type": "markdown",
   "id": "603e0a9f",
   "metadata": {},
   "source": [
    "Question 5"
   ]
  },
  {
   "cell_type": "markdown",
   "id": "3950c9f4",
   "metadata": {},
   "source": [
    "We used seed 42 for splitting the data. Let's find out how selecting the seed influences our score.\n",
    "Try different seed values: [0, 1, 2, 3, 4, 5, 6, 7, 8, 9].\n",
    "For each seed, do the train/validation/test split with 60%/20%/20% distribution.\n",
    "Fill the missing values with 0 and train a model without regularization.\n",
    "For each seed, evaluate the model on the validation dataset and collect the RMSE scores.\n",
    "What's the standard deviation of all the scores? To compute the standard deviation, use np.std.\n",
    "Round the result to 3 decimal digits (round(std, 3))"
   ]
  },
  {
   "cell_type": "code",
   "execution_count": 172,
   "id": "2e81037b",
   "metadata": {},
   "outputs": [],
   "source": [
    "# Now lets make a full code function to do linreg USING DIFFERENT SEED:\n",
    "\n",
    "# linreg function itself:\n",
    "def train_linear_regression_with_regularization(X, y , r):\n",
    "    \n",
    "    ones = np.ones(X.shape[0])\n",
    "    X = np.column_stack([ones, X])\n",
    "\n",
    "    XTX = X.T.dot(X)\n",
    "    XTX = XTX + r * np.eye(XTX.shape[0])\n",
    "    XTX_inv = np.linalg.inv(XTX)\n",
    "    w_full = XTX_inv.dot(X.T).dot(y)\n",
    "    \n",
    "    return w_full[0], w_full[1:]\n",
    "\n",
    "# RMSE function itself:\n",
    "def rmse(y, y_pred):\n",
    "    se = (y - y_pred) ** 2\n",
    "    mse = se.mean()\n",
    "    return np.sqrt(mse)\n",
    "\n",
    "\n",
    "def splitter(df):\n",
    "    n = len(df)\n",
    "    n_val = int(n * 0.2)\n",
    "    n_test = int(n * 0.2)\n",
    "    n_train = n - n_val - n_test\n",
    "    return n, n_val, n_test, n_train\n",
    "\n",
    "\n",
    "def linregFULL_Q5(df_, fillna=0, r = 0 , seed = [0] ):\n",
    "\n",
    "    df = df_.copy()\n",
    "\n",
    "    n, n_val, n_test, n_train = splitter(df)\n",
    "\n",
    "    rmse_scores = []\n",
    "\n",
    "    for s in seed:\n",
    "        np.random.seed(s)\n",
    "        idx = np.arange(n) # getting index range \n",
    "        np.random.shuffle(idx) # shuffling index with seed 42\n",
    "\n",
    "        # getting train, val, test sets shuffled index:\n",
    "        df_train = df.iloc[idx[:n_train]].copy()\n",
    "        df_val = df.iloc[idx[n_train:n_train+n_val]].copy()\n",
    "        df_test = df.iloc[idx[n_train+n_val:]].copy()\n",
    "\n",
    "        # preparing train set:\n",
    "        df_train.horsepower.fillna(fillna,inplace=True)\n",
    "        df_val.horsepower.fillna(fillna,inplace=True)\n",
    "\n",
    "        # getting targets for training and validation:\n",
    "        y_train = np.log1p(df_train.fuel_efficiency_mpg.values)\n",
    "        y_val = np.log1p(df_val.fuel_efficiency_mpg.values)\n",
    "        #y_test = np.log1p(df_test.fuel_efficiency_mpg.values)\n",
    "\n",
    "        # deleting the target from training sets\n",
    "        del df_train['fuel_efficiency_mpg']\n",
    "        del df_val['fuel_efficiency_mpg']\n",
    "        \n",
    "        # getting values for training (aka training matrix):\n",
    "        X_train = df_train.values\n",
    "\n",
    "        # training:\n",
    "        w0, w = train_linear_regression_with_regularization(X_train, y_train, r)\n",
    "        # print(len(w),w)\n",
    "\n",
    "        # getting validation predition vector by multiplying validation matrix by prediction weights vector:\n",
    "        y_pred_ = w0 + df_val.dot(w)\n",
    "\n",
    "        rmse_score = rmse(y_val,y_pred_)\n",
    "        rmse_scores.append(rmse_score)\n",
    "\n",
    "        print (f'seed = {s},\\trmse={rmse_score}')\n",
    "        \n",
    "    return rmse_scores"
   ]
  },
  {
   "cell_type": "code",
   "execution_count": 173,
   "id": "7882819c",
   "metadata": {},
   "outputs": [
    {
     "name": "stdout",
     "output_type": "stream",
     "text": [
      "seed = 0,\trmse=0.038017755371704195\n",
      "seed = 1,\trmse=0.03927885333905149\n",
      "seed = 2,\trmse=0.03944653052519472\n",
      "seed = 3,\trmse=0.03872763703743218\n",
      "seed = 4,\trmse=0.037275358500887396\n",
      "seed = 5,\trmse=0.03938438833940563\n",
      "seed = 6,\trmse=0.03890763931419336\n",
      "seed = 7,\trmse=0.03837971626983621\n",
      "seed = 8,\trmse=0.040189869753593684\n",
      "seed = 9,\trmse=0.03860764644096914\n"
     ]
    }
   ],
   "source": [
    "rmse_scores = linregFULL_Q5(df, fillna=0, r = 0 , seed = [0, 1, 2, 3, 4, 5, 6, 7, 8, 9] )"
   ]
  },
  {
   "cell_type": "code",
   "execution_count": 174,
   "id": "4fbada4e",
   "metadata": {},
   "outputs": [
    {
     "data": {
      "text/plain": [
       "[0.038017755371704195,\n",
       " 0.03927885333905149,\n",
       " 0.03944653052519472,\n",
       " 0.03872763703743218,\n",
       " 0.037275358500887396,\n",
       " 0.03938438833940563,\n",
       " 0.03890763931419336,\n",
       " 0.03837971626983621,\n",
       " 0.040189869753593684,\n",
       " 0.03860764644096914]"
      ]
     },
     "execution_count": 174,
     "metadata": {},
     "output_type": "execute_result"
    }
   ],
   "source": [
    "rmse_scores"
   ]
  },
  {
   "cell_type": "code",
   "execution_count": 175,
   "id": "33174298",
   "metadata": {},
   "outputs": [
    {
     "data": {
      "text/plain": [
       "0.001"
      ]
     },
     "execution_count": 175,
     "metadata": {},
     "output_type": "execute_result"
    }
   ],
   "source": [
    "rmse_scores = np.array(rmse_scores)\n",
    "round(rmse_scores.std(),3)"
   ]
  },
  {
   "cell_type": "markdown",
   "id": "c73c08fe",
   "metadata": {},
   "source": [
    "so the model is quite stable cuz std of rmse is quite low"
   ]
  },
  {
   "cell_type": "markdown",
   "id": "4d5d8af6",
   "metadata": {
    "tags": [
     "parameters"
    ]
   },
   "source": [
    "## Question 6"
   ]
  },
  {
   "cell_type": "markdown",
   "id": "b02b3438",
   "metadata": {},
   "source": [
    "Split the dataset like previously, use seed 9.\n",
    "Combine train and validation datasets.\n",
    "Fill the missing values with 0 and train a model with r=0.001.\n",
    "What's the RMSE on the test dataset?"
   ]
  },
  {
   "cell_type": "code",
   "execution_count": 176,
   "id": "d65440ff",
   "metadata": {},
   "outputs": [],
   "source": [
    "# Now lets make a full code function to do linreg COMBINING the TRAIN and Validation sets:\n",
    "\n",
    "# linreg function itself:\n",
    "def train_linear_regression_with_regularization(X, y , r):\n",
    "    \n",
    "    ones = np.ones(X.shape[0])\n",
    "    X = np.column_stack([ones, X])\n",
    "\n",
    "    XTX = X.T.dot(X)\n",
    "    XTX = XTX + r * np.eye(XTX.shape[0])\n",
    "    XTX_inv = np.linalg.inv(XTX)\n",
    "    w_full = XTX_inv.dot(X.T).dot(y)\n",
    "    \n",
    "    return w_full[0], w_full[1:]\n",
    "\n",
    "# RMSE function itself:\n",
    "def rmse(y, y_pred):\n",
    "    se = (y - y_pred) ** 2\n",
    "    mse = se.mean()\n",
    "    return np.sqrt(mse)\n",
    "\n",
    "\n",
    "def splitter(df, val_pct = 0.2, test_pct = 0.2, shuffle_seed = 9):\n",
    "    n = len(df)\n",
    "\n",
    "    # getting quantity parts\n",
    "    n_val = int(n * val_pct)\n",
    "    n_test = int(n * test_pct)\n",
    "    n_train = n - n_val - n_test\n",
    "    \n",
    "    # randomizing index\n",
    "    np.random.seed(shuffle_seed)\n",
    "    idx = np.arange(n) # getting index range \n",
    "    np.random.shuffle(idx) # shuffling index with seed\n",
    "\n",
    "    # getting train, val and test sets with shuffled index:\n",
    "    df_train = df.iloc[idx[:n_train]].copy()\n",
    "    df_val = df.iloc[idx[n_train:n_train+n_val]].copy()\n",
    "    df_test = df.iloc[idx[n_train+n_val:]].copy()\n",
    "\n",
    "    return df_train, df_val, df_test\n",
    "\n",
    "\n",
    "def linregFULL_Q6(df_, fillna=0, r = 0.001 , seed = 9 ):\n",
    "\n",
    "    df = df_.copy()\n",
    "\n",
    "    df_train, df_val, df_test = splitter(df, val_pct = 0.2, test_pct = 0.2, shuffle_seed = seed)\n",
    "\n",
    "    # combining train and validation sets:\n",
    "    X = pd.concat([df_train, df_val])\n",
    "    \n",
    "    # preparing train set:\n",
    "    X.horsepower.fillna(fillna, inplace=True)\n",
    "    df_test.horsepower.fillna(fillna, inplace=True)\n",
    "\n",
    "    # getting targets for training and TEST from column \"fuel_efficiency_mpg\":\n",
    "    y_train = np.log1p(X.fuel_efficiency_mpg.values)\n",
    "    y_test = np.log1p(df_test.fuel_efficiency_mpg.values)\n",
    "\n",
    "    # deleting the target from training sets\n",
    "    del X['fuel_efficiency_mpg']\n",
    "    del df_test['fuel_efficiency_mpg']\n",
    "    \n",
    "    # getting values for training (aka training matrix):\n",
    "    X_train = X.values\n",
    "\n",
    "    # training:\n",
    "    w0, w = train_linear_regression_with_regularization(X_train, y_train, r)\n",
    "\n",
    "    # getting TEST predition vector by multiplying TEST matrix by prediction weights vector:\n",
    "    y_pred = w0 + df_test.dot(w)\n",
    "\n",
    "    rmse_score = rmse(y_test,y_pred)\n",
    "\n",
    "    print (f'rmse = {rmse_score}')\n",
    "        \n",
    "    return y_pred, y_test"
   ]
  },
  {
   "cell_type": "code",
   "execution_count": 177,
   "id": "4e1ece0c",
   "metadata": {},
   "outputs": [
    {
     "name": "stdout",
     "output_type": "stream",
     "text": [
      "rmse = 0.03919613644482941\n"
     ]
    }
   ],
   "source": [
    "y_pred, y_test = linregFULL_Q6(df, fillna=0, r = 0.001 , seed = 9 )"
   ]
  },
  {
   "cell_type": "code",
   "execution_count": 178,
   "id": "c83b939c",
   "metadata": {},
   "outputs": [
    {
     "data": {
      "text/plain": [
       "<Axes: ylabel='Count'>"
      ]
     },
     "execution_count": 178,
     "metadata": {},
     "output_type": "execute_result"
    },
    {
     "data": {
      "image/png": "[encoded data removed]",
      "text/plain": [
       "<Figure size 640x480 with 1 Axes>"
      ]
     },
     "metadata": {},
     "output_type": "display_data"
    }
   ],
   "source": [
    "sns.histplot(y_test, bins=150, color='green', alpha=0.5)\n",
    "sns.histplot(y_pred, bins=150, color='red', alpha=0.5)"
   ]
  },
  {
   "cell_type": "code",
   "execution_count": 182,
   "id": "7daacad2",
   "metadata": {},
   "outputs": [
    {
     "data": {
      "text/plain": [
       "0.038385233988229864"
      ]
     },
     "execution_count": 182,
     "metadata": {},
     "output_type": "execute_result"
    }
   ],
   "source": [
    "from sklearn.model_selection import train_test_split\n",
    "from sklearn.metrics import mean_squared_error\n",
    "from sklearn.pipeline import Pipeline\n",
    "from sklearn.preprocessing import StandardScaler\n",
    "from sklearn.linear_model import Ridge\n",
    "\n",
    "\n",
    "pipeline = Pipeline([\n",
    "    ('scaler', StandardScaler()),\n",
    "    ('ridge', Ridge(alpha=0.001, fit_intercept=True, random_state = 9))\n",
    "])\n",
    "\n",
    "X = df[['engine_displacement','horsepower','vehicle_weight','model_year']].fillna(0)\n",
    "Y = df.fuel_efficiency_mpg\n",
    "\n",
    "X_train, X_test, y_train_s, y_test_s = train_test_split(\n",
    "    X,\n",
    "    Y,\n",
    "    test_size = 0.1999, # to get same number of test size as in  my code\n",
    "    random_state = 9,\n",
    "    shuffle=True)\n",
    "y_train_s = np.log1p(y_train_s)\n",
    "y_test_s = np.log1p(y_test_s)\n",
    "\n",
    "# Train the entire pipeline on the raw training data\n",
    "pipeline.fit(X_train, y_train_s)\n",
    "\n",
    "# Make predictions on the raw test data\n",
    "preds_scaled = pipeline.predict(X_test)\n",
    "rmse_s = np.sqrt(mean_squared_error(y_test_s, preds_scaled))\n",
    "rmse_s"
   ]
  },
  {
   "cell_type": "code",
   "execution_count": 181,
   "id": "206d9b27",
   "metadata": {},
   "outputs": [
    {
     "data": {
      "text/plain": [
       "<Axes: xlabel='fuel_efficiency_mpg', ylabel='Count'>"
      ]
     },
     "execution_count": 181,
     "metadata": {},
     "output_type": "execute_result"
    },
    {
     "data": {
      "image/png": "[encoded data removed]",
      "text/plain": [
       "<Figure size 640x480 with 1 Axes>"
      ]
     },
     "metadata": {},
     "output_type": "display_data"
    }
   ],
   "source": [
    "sns.histplot(preds_scaled, bins=150, color='green', alpha=0.5)\n",
    "sns.histplot(y_test_s, bins=150, color='red', alpha=0.5)"
   ]
  }
 ],
 "metadata": {
  "kernelspec": {
   "display_name": "base",
   "language": "python",
   "name": "python3"
  },
  "language_info": {
   "codemirror_mode": {
    "name": "ipython",
    "version": 3
   },
   "file_extension": ".py",
   "mimetype": "text/x-python",
   "name": "python",
   "nbconvert_exporter": "python",
   "pygments_lexer": "ipython3",
   "version": "3.11.5"
  }
 },
 "nbformat": 4,
 "nbformat_minor": 5
}
