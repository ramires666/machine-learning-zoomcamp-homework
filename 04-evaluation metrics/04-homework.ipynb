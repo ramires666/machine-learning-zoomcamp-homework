{
 "cells": [
  {
   "metadata": {
    "collapsed": true,
    "ExecuteTime": {
     "end_time": "2025-10-20T21:40:32.292598Z",
     "start_time": "2025-10-20T21:40:32.289599Z"
    }
   },
   "cell_type": "markdown",
   "source": "## Question 1: ROC AUC feature importance",
   "id": "54a8b981bb049c00"
  },
  {
   "metadata": {},
   "cell_type": "markdown",
   "source": "",
   "id": "f5b53003eee81ea9"
  },
  {
   "metadata": {
    "ExecuteTime": {
     "end_time": "2025-10-20T21:42:21.433047Z",
     "start_time": "2025-10-20T21:42:21.046514Z"
    }
   },
   "cell_type": "code",
   "source": "!wget https://raw.githubusercontent.com/alexeygrigorev/datasets/master/course_lead_scoring.csv -O leads_coring.csv",
   "id": "1ac6972c45302cf7",
   "outputs": [
    {
     "name": "stderr",
     "output_type": "stream",
     "text": [
      "--2025-10-21 02:42:21--  https://raw.githubusercontent.com/alexeygrigorev/datasets/master/course_lead_scoring.csv\n",
      "Resolving raw.githubusercontent.com (raw.githubusercontent.com)... 185.199.111.133, 185.199.108.133, 185.199.110.133, ...\n",
      "Connecting to raw.githubusercontent.com (raw.githubusercontent.com)|185.199.111.133|:443... connected.\n",
      "HTTP request sent, awaiting response... 200 OK\n",
      "Length: 80876 (79K) [text/plain]\n",
      "Saving to: 'leads_coring.csv'\n",
      "\n",
      "     0K .......... .......... .......... .......... .......... 63%  670K 0s\n",
      "    50K .......... .......... ........                        100% 4,62M=0,08s\n",
      "\n",
      "2025-10-21 02:42:21 (978 KB/s) - 'leads_coring.csv' saved [80876/80876]\n",
      "\n"
     ]
    }
   ],
   "execution_count": 2
  },
  {
   "metadata": {
    "ExecuteTime": {
     "end_time": "2025-10-20T21:44:18.042002Z",
     "start_time": "2025-10-20T21:44:17.047973Z"
    }
   },
   "cell_type": "code",
   "source": [
    "import pandas as pd\n",
    "import numpy as np\n",
    "import seaborn as sns\n",
    "import matplotlib.pyplot as plt"
   ],
   "id": "5206420a913b0074",
   "outputs": [],
   "execution_count": 5
  },
  {
   "metadata": {
    "ExecuteTime": {
     "end_time": "2025-10-20T21:44:19.133231Z",
     "start_time": "2025-10-20T21:44:19.125817Z"
    }
   },
   "cell_type": "code",
   "source": "df = pd.read_csv('leads_coring.csv')",
   "id": "9e0227fb8eaff870",
   "outputs": [],
   "execution_count": 6
  },
  {
   "metadata": {
    "ExecuteTime": {
     "end_time": "2025-10-20T21:53:40.152053Z",
     "start_time": "2025-10-20T21:53:40.146534Z"
    }
   },
   "cell_type": "code",
   "source": [
    "categorical_columns = list(df.dtypes[df.dtypes == 'object'].index)\n",
    "numeric_columns = list(df.dtypes[df.dtypes != 'object'].index)\n",
    "df[categorical_columns]= df[categorical_columns].fillna('NA')\n",
    "df[numeric_columns] = df[numeric_columns].fillna(0)"
   ],
   "id": "d3b59cdee2eca95a",
   "outputs": [],
   "execution_count": 30
  },
  {
   "metadata": {
    "ExecuteTime": {
     "end_time": "2025-10-20T21:53:41.408888Z",
     "start_time": "2025-10-20T21:53:41.402475Z"
    }
   },
   "cell_type": "code",
   "source": [
    "from sklearn.model_selection import train_test_split\n",
    "df_full_train, df_test = train_test_split(df, test_size=0.2, random_state=42)\n",
    "df_train, df_val = train_test_split(df_full_train, test_size=0.25, random_state=42)\n",
    "df_train = df_train.reset_index(drop=True)\n",
    "df_val = df_val.reset_index(drop=True)\n",
    "df_test = df_test.reset_index(drop=True)\n",
    "len(df_train), len(df_val), len(df_test)\n"
   ],
   "id": "95ad44368844ba6d",
   "outputs": [
    {
     "data": {
      "text/plain": [
       "(876, 293, 293)"
      ]
     },
     "execution_count": 31,
     "metadata": {},
     "output_type": "execute_result"
    }
   ],
   "execution_count": 31
  },
  {
   "metadata": {
    "ExecuteTime": {
     "end_time": "2025-10-20T21:53:42.776963Z",
     "start_time": "2025-10-20T21:53:42.773610Z"
    }
   },
   "cell_type": "code",
   "source": [
    "y_train = df_train.converted.values\n",
    "y_val = df_val.converted.values\n",
    "y_test = df_test.converted.values\n",
    "\n",
    "del df_train['converted']\n",
    "del df_val['converted']\n",
    "del df_test['converted']"
   ],
   "id": "1958b30722e73ef7",
   "outputs": [],
   "execution_count": 32
  },
  {
   "metadata": {
    "ExecuteTime": {
     "end_time": "2025-10-20T21:53:44.835337Z",
     "start_time": "2025-10-20T21:53:44.831689Z"
    }
   },
   "cell_type": "code",
   "source": "categorical_columns",
   "id": "1ae268398998f157",
   "outputs": [
    {
     "data": {
      "text/plain": [
       "['lead_source', 'industry', 'employment_status', 'location']"
      ]
     },
     "execution_count": 33,
     "metadata": {},
     "output_type": "execute_result"
    }
   ],
   "execution_count": 33
  },
  {
   "metadata": {
    "ExecuteTime": {
     "end_time": "2025-10-20T21:53:46.128117Z",
     "start_time": "2025-10-20T21:53:46.124384Z"
    }
   },
   "cell_type": "code",
   "source": [
    "## removing the last target 'converted':\n",
    "numeric_columns.pop()"
   ],
   "id": "24b35a991834c70d",
   "outputs": [
    {
     "data": {
      "text/plain": [
       "'converted'"
      ]
     },
     "execution_count": 34,
     "metadata": {},
     "output_type": "execute_result"
    }
   ],
   "execution_count": 34
  },
  {
   "metadata": {
    "ExecuteTime": {
     "end_time": "2025-10-20T21:53:51.302720Z",
     "start_time": "2025-10-20T21:53:51.292321Z"
    }
   },
   "cell_type": "code",
   "source": [
    "from sklearn.feature_extraction import DictVectorizer\n",
    "dv = DictVectorizer(sparse=False)\n",
    "\n",
    "train_dict = df_train[categorical_columns + numeric_columns].to_dict(orient='records')\n",
    "X_train = dv.fit_transform(train_dict)\n",
    "\n",
    "val_dict = df_val[categorical_columns + numeric_columns].to_dict(orient='records')\n",
    "X_val = dv.transform(val_dict)"
   ],
   "id": "9be3c8ef9acd3793",
   "outputs": [],
   "execution_count": 35
  },
  {
   "metadata": {
    "ExecuteTime": {
     "end_time": "2025-10-20T21:55:09.432556Z",
     "start_time": "2025-10-20T21:55:09.394920Z"
    }
   },
   "cell_type": "code",
   "source": [
    "from sklearn.linear_model import LogisticRegression\n",
    "model = LogisticRegression(solver='liblinear', C=1.0, max_iter=1000, random_state=42)\n",
    "model.fit(X_train, y_train)\n",
    "y_pred = model.predict_proba(X_val)[:, 1]\n",
    "CONVERTED_decision = (y_pred >= 0.5)\n",
    "full_accuracy = round((y_val == CONVERTED_decision).mean(),4)\n",
    "full_accuracy"
   ],
   "id": "152710503255a1ae",
   "outputs": [
    {
     "data": {
      "text/plain": [
       "np.float64(0.6997)"
      ]
     },
     "execution_count": 36,
     "metadata": {},
     "output_type": "execute_result"
    }
   ],
   "execution_count": 36
  },
  {
   "metadata": {
    "ExecuteTime": {
     "end_time": "2025-10-20T21:58:44.888860Z",
     "start_time": "2025-10-20T21:58:44.884572Z"
    }
   },
   "cell_type": "code",
   "source": "(y_val == CONVERTED_decision).sum()/len(y_val)",
   "id": "d9af79c15edc1ea6",
   "outputs": [
    {
     "data": {
      "text/plain": [
       "np.float64(0.6996587030716723)"
      ]
     },
     "execution_count": 40,
     "metadata": {},
     "output_type": "execute_result"
    }
   ],
   "execution_count": 40
  },
  {
   "metadata": {},
   "cell_type": "code",
   "outputs": [],
   "execution_count": null,
   "source": "",
   "id": "2c3a5e6d4d529a55"
  }
 ],
 "metadata": {
  "kernelspec": {
   "display_name": "Python 3",
   "language": "python",
   "name": "python3"
  },
  "language_info": {
   "codemirror_mode": {
    "name": "ipython",
    "version": 2
   },
   "file_extension": ".py",
   "mimetype": "text/x-python",
   "name": "python",
   "nbconvert_exporter": "python",
   "pygments_lexer": "ipython2",
   "version": "2.7.6"
  }
 },
 "nbformat": 4,
 "nbformat_minor": 5
}
