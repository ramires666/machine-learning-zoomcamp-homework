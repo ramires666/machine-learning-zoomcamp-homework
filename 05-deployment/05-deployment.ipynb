{
 "cells": [
  {
   "metadata": {},
   "cell_type": "markdown",
   "source": [
    "## Question 1\n",
    "Install uv\n",
    "\n",
    "What's the version of uv you installed?\n",
    "\n",
    "Use --version to find out"
   ],
   "id": "ab90f2ae32a1d646"
  },
  {
   "metadata": {
    "collapsed": true
   },
   "cell_type": "markdown",
   "source": "uv 0.9.5",
   "id": "2a82d69eebd89e5b"
  },
  {
   "metadata": {},
   "cell_type": "markdown",
   "source": [
    "## Question 2\n",
    "Use uv to install Scikit-Learn version 1.6.1\n",
    "\n",
    "What's the first hash for Scikit-Learn you get in the lock file?\n",
    "\n",
    "Include the entire string starting with sha256:, don't include quotes"
   ],
   "id": "fc3d46c4665a1959"
  },
  {
   "metadata": {},
   "cell_type": "markdown",
   "source": "sha256:3faa5c39054b2f03ca547da9b2f52fde67c06240c31853f306aea97f13647b55",
   "id": "ebaa77b0c71e20ac"
  },
  {
   "metadata": {},
   "cell_type": "markdown",
   "source": "## Models",
   "id": "8433cbca5557811d"
  },
  {
   "metadata": {},
   "cell_type": "code",
   "outputs": [],
   "execution_count": null,
   "source": [
    "categorical = ['lead_source']\n",
    "numeric = ['number_of_courses_viewed', 'annual_income']\n",
    "\n",
    "df[categorical] = df[categorical].fillna('NA')\n",
    "df[numeric] = df[numeric].fillna(0)\n",
    "\n",
    "train_dict = df[categorical + numeric].to_dict(orient='records')\n",
    "\n",
    "pipeline = make_pipeline(\n",
    "    DictVectorizer(),\n",
    "    LogisticRegression(solver='liblinear')\n",
    ")\n",
    "\n",
    "pipeline.fit(train_dict, y_train)"
   ],
   "id": "5b4dfdad57866068"
  },
  {
   "metadata": {},
   "cell_type": "code",
   "outputs": [],
   "execution_count": null,
   "source": "",
   "id": "7626979b17b8a376"
  },
  {
   "metadata": {
    "ExecuteTime": {
     "end_time": "2025-10-27T20:17:53.648957Z",
     "start_time": "2025-10-27T20:17:52.512081Z"
    }
   },
   "cell_type": "code",
   "source": "!wget \"https://github.com/DataTalksClub/machine-learning-zoomcamp/raw/refs/heads/master/cohorts/2025/05-deployment/pipeline_v1.bin\"",
   "id": "edae5c352c97bfff",
   "outputs": [
    {
     "name": "stderr",
     "output_type": "stream",
     "text": [
      "--2025-10-28 01:17:52--  https://github.com/DataTalksClub/machine-learning-zoomcamp/raw/refs/heads/master/cohorts/2025/05-deployment/pipeline_v1.bin\n",
      "Resolving github.com (github.com)... 140.82.121.3\n",
      "Connecting to github.com (github.com)|140.82.121.3|:443... connected.\n",
      "HTTP request sent, awaiting response... 302 Found\n",
      "Location: https://raw.githubusercontent.com/DataTalksClub/machine-learning-zoomcamp/refs/heads/master/cohorts/2025/05-deployment/pipeline_v1.bin [following]\n",
      "--2025-10-28 01:17:53--  https://raw.githubusercontent.com/DataTalksClub/machine-learning-zoomcamp/refs/heads/master/cohorts/2025/05-deployment/pipeline_v1.bin\n",
      "Resolving raw.githubusercontent.com (raw.githubusercontent.com)... 185.199.111.133, 185.199.108.133, 185.199.110.133, ...\n",
      "Connecting to raw.githubusercontent.com (raw.githubusercontent.com)|185.199.111.133|:443... connected.\n",
      "HTTP request sent, awaiting response... 200 OK\n",
      "Length: 1300 (1,3K) [application/octet-stream]\n",
      "Saving to: 'pipeline_v1.bin'\n",
      "\n",
      "     0K .                                                     100%  105M=0s\n",
      "\n",
      "2025-10-28 01:17:53 (105 MB/s) - 'pipeline_v1.bin' saved [1300/1300]\n",
      "\n"
     ]
    }
   ],
   "execution_count": 3
  },
  {
   "metadata": {},
   "cell_type": "markdown",
   "source": [
    "## Question 3\n",
    "\n",
    "Write a script for loading the pipeline with pickle"
   ],
   "id": "2b846631ef49a0dd"
  },
  {
   "metadata": {
    "ExecuteTime": {
     "end_time": "2025-10-27T20:24:42.041707Z",
     "start_time": "2025-10-27T20:24:41.216879Z"
    }
   },
   "cell_type": "code",
   "source": [
    "import pickle\n",
    "pipeline_file = 'pipeline_v1.bin'\n",
    "with open(pipeline_file, 'rb') as f_in:\n",
    "    dict_vectorizer, model = pickle.load(f_in)"
   ],
   "id": "101ca3efcb3c502a",
   "outputs": [
    {
     "name": "stderr",
     "output_type": "stream",
     "text": [
      "C:\\Users\\admin\\AppData\\Local\\Programs\\Python\\Python312\\Lib\\site-packages\\sklearn\\base.py:442: InconsistentVersionWarning: Trying to unpickle estimator DictVectorizer from version 1.6.1 when using version 1.7.2. This might lead to breaking code or invalid results. Use at your own risk. For more info please refer to:\n",
      "https://scikit-learn.org/stable/model_persistence.html#security-maintainability-limitations\n",
      "  warnings.warn(\n",
      "C:\\Users\\admin\\AppData\\Local\\Programs\\Python\\Python312\\Lib\\site-packages\\sklearn\\base.py:442: InconsistentVersionWarning: Trying to unpickle estimator LogisticRegression from version 1.6.1 when using version 1.7.2. This might lead to breaking code or invalid results. Use at your own risk. For more info please refer to:\n",
      "https://scikit-learn.org/stable/model_persistence.html#security-maintainability-limitations\n",
      "  warnings.warn(\n",
      "C:\\Users\\admin\\AppData\\Local\\Programs\\Python\\Python312\\Lib\\site-packages\\sklearn\\base.py:442: InconsistentVersionWarning: Trying to unpickle estimator Pipeline from version 1.6.1 when using version 1.7.2. This might lead to breaking code or invalid results. Use at your own risk. For more info please refer to:\n",
      "https://scikit-learn.org/stable/model_persistence.html#security-maintainability-limitations\n",
      "  warnings.warn(\n"
     ]
    }
   ],
   "execution_count": 7
  },
  {
   "metadata": {},
   "cell_type": "markdown",
   "source": [
    "\n",
    "Score this record:"
   ],
   "id": "ded3f5bfcaa05605"
  },
  {
   "metadata": {
    "ExecuteTime": {
     "end_time": "2025-10-27T20:27:23.447561Z",
     "start_time": "2025-10-27T20:27:23.444256Z"
    }
   },
   "cell_type": "code",
   "source": [
    "customer = {\n",
    "    \"lead_source\": \"paid_ads\",\n",
    "    \"number_of_courses_viewed\": 2,\n",
    "    \"annual_income\": 79276.0\n",
    "}"
   ],
   "id": "a635f701f3d90a62",
   "outputs": [],
   "execution_count": 8
  },
  {
   "metadata": {
    "ExecuteTime": {
     "end_time": "2025-10-27T20:28:19.543438Z",
     "start_time": "2025-10-27T20:28:19.538615Z"
    }
   },
   "cell_type": "code",
   "source": [
    "X = dict_vectorizer.transform([customer])\n",
    "model.predict_proba(X)[0,1]"
   ],
   "id": "6c93a766c7fe8e5",
   "outputs": [
    {
     "data": {
      "text/plain": [
       "np.float64(0.5336072702798061)"
      ]
     },
     "execution_count": 10,
     "metadata": {},
     "output_type": "execute_result"
    }
   ],
   "execution_count": 10
  },
  {
   "metadata": {},
   "cell_type": "markdown",
   "source": [
    "## Question 4\n",
    "\n",
    "Install FastAPI\n",
    "\n",
    "Write FastAPI code for serving the model"
   ],
   "id": "f5ebcd9545a63c09"
  },
  {
   "metadata": {
    "ExecuteTime": {
     "end_time": "2025-10-27T22:25:23.366165Z",
     "start_time": "2025-10-27T22:25:23.330150Z"
    }
   },
   "cell_type": "code",
   "source": [
    "from fastapi import FastAPI\n",
    "from pydantic import BaseModel\n",
    "import pickle\n",
    "\n",
    "app = FastAPI()\n",
    "\n",
    "class Client(BaseModel):\n",
    "    lead_source: str\n",
    "    number_of_courses_viewed: int\n",
    "    annual_income: float\n",
    "\n",
    "pipeline_file = 'pipeline_v1.bin'\n",
    "with open(pipeline_file, 'rb') as f_in:\n",
    "    dict_vectorizer, model = pickle.load(f_in)\n",
    "\n",
    "@app.post(\"/predict\")\n",
    "async def root(client_data: Client):\n",
    "    client_dict = client_data.dict()\n",
    "    X = dict_vectorizer.transform([client_dict])\n",
    "    result = model.predict_proba(X)[0, 1]\n",
    "    return result"
   ],
   "id": "6175248a94eee512",
   "outputs": [
    {
     "ename": "FileNotFoundError",
     "evalue": "[Errno 2] No such file or directory: 'pipeline_v1.bin'",
     "output_type": "error",
     "traceback": [
      "\u001B[31m---------------------------------------------------------------------------\u001B[39m",
      "\u001B[31mFileNotFoundError\u001B[39m                         Traceback (most recent call last)",
      "\u001B[36mCell\u001B[39m\u001B[36m \u001B[39m\u001B[32mIn[65]\u001B[39m\u001B[32m, line 13\u001B[39m\n\u001B[32m     10\u001B[39m     annual_income: \u001B[38;5;28mfloat\u001B[39m\n\u001B[32m     12\u001B[39m pipeline_file = \u001B[33m'\u001B[39m\u001B[33mpipeline_v1.bin\u001B[39m\u001B[33m'\u001B[39m\n\u001B[32m---> \u001B[39m\u001B[32m13\u001B[39m \u001B[38;5;28;01mwith\u001B[39;00m \u001B[38;5;28;43mopen\u001B[39;49m\u001B[43m(\u001B[49m\u001B[43mpipeline_file\u001B[49m\u001B[43m,\u001B[49m\u001B[43m \u001B[49m\u001B[33;43m'\u001B[39;49m\u001B[33;43mrb\u001B[39;49m\u001B[33;43m'\u001B[39;49m\u001B[43m)\u001B[49m \u001B[38;5;28;01mas\u001B[39;00m f_in:\n\u001B[32m     14\u001B[39m     dict_vectorizer, model = pickle.load(f_in)\n\u001B[32m     16\u001B[39m \u001B[38;5;129m@app\u001B[39m.post(\u001B[33m\"\u001B[39m\u001B[33m/predict\u001B[39m\u001B[33m\"\u001B[39m)\n\u001B[32m     17\u001B[39m \u001B[38;5;28;01masync\u001B[39;00m \u001B[38;5;28;01mdef\u001B[39;00m\u001B[38;5;250m \u001B[39m\u001B[34mroot\u001B[39m(client_data: Client):\n",
      "\u001B[36mFile \u001B[39m\u001B[32m~\\AppData\\Local\\Programs\\Python\\Python312\\Lib\\site-packages\\IPython\\core\\interactiveshell.py:343\u001B[39m, in \u001B[36m_modified_open\u001B[39m\u001B[34m(file, *args, **kwargs)\u001B[39m\n\u001B[32m    336\u001B[39m \u001B[38;5;28;01mif\u001B[39;00m file \u001B[38;5;129;01min\u001B[39;00m {\u001B[32m0\u001B[39m, \u001B[32m1\u001B[39m, \u001B[32m2\u001B[39m}:\n\u001B[32m    337\u001B[39m     \u001B[38;5;28;01mraise\u001B[39;00m \u001B[38;5;167;01mValueError\u001B[39;00m(\n\u001B[32m    338\u001B[39m         \u001B[33mf\u001B[39m\u001B[33m\"\u001B[39m\u001B[33mIPython won\u001B[39m\u001B[33m'\u001B[39m\u001B[33mt let you open fd=\u001B[39m\u001B[38;5;132;01m{\u001B[39;00mfile\u001B[38;5;132;01m}\u001B[39;00m\u001B[33m by default \u001B[39m\u001B[33m\"\u001B[39m\n\u001B[32m    339\u001B[39m         \u001B[33m\"\u001B[39m\u001B[33mas it is likely to crash IPython. If you know what you are doing, \u001B[39m\u001B[33m\"\u001B[39m\n\u001B[32m    340\u001B[39m         \u001B[33m\"\u001B[39m\u001B[33myou can use builtins\u001B[39m\u001B[33m'\u001B[39m\u001B[33m open.\u001B[39m\u001B[33m\"\u001B[39m\n\u001B[32m    341\u001B[39m     )\n\u001B[32m--> \u001B[39m\u001B[32m343\u001B[39m \u001B[38;5;28;01mreturn\u001B[39;00m \u001B[43mio_open\u001B[49m\u001B[43m(\u001B[49m\u001B[43mfile\u001B[49m\u001B[43m,\u001B[49m\u001B[43m \u001B[49m\u001B[43m*\u001B[49m\u001B[43margs\u001B[49m\u001B[43m,\u001B[49m\u001B[43m \u001B[49m\u001B[43m*\u001B[49m\u001B[43m*\u001B[49m\u001B[43mkwargs\u001B[49m\u001B[43m)\u001B[49m\n",
      "\u001B[31mFileNotFoundError\u001B[39m: [Errno 2] No such file or directory: 'pipeline_v1.bin'"
     ]
    }
   ],
   "execution_count": 65
  },
  {
   "metadata": {
    "ExecuteTime": {
     "end_time": "2025-10-27T21:22:19.589063Z",
     "start_time": "2025-10-27T21:22:18.458720Z"
    }
   },
   "cell_type": "code",
   "source": "!pip install requests",
   "id": "70f77c4f58b597fe",
   "outputs": [
    {
     "name": "stdout",
     "output_type": "stream",
     "text": [
      "Requirement already satisfied: requests in c:\\users\\admin\\appdata\\roaming\\python\\python313\\site-packages (2.32.3)\n",
      "Requirement already satisfied: charset-normalizer<4,>=2 in c:\\users\\admin\\appdata\\roaming\\python\\python313\\site-packages (from requests) (3.4.1)\n",
      "Requirement already satisfied: idna<4,>=2.5 in c:\\users\\admin\\appdata\\roaming\\python\\python313\\site-packages (from requests) (3.10)\n",
      "Requirement already satisfied: urllib3<3,>=1.21.1 in c:\\users\\admin\\appdata\\roaming\\python\\python313\\site-packages (from requests) (2.3.0)\n",
      "Requirement already satisfied: certifi>=2017.4.17 in c:\\users\\admin\\appdata\\roaming\\python\\python313\\site-packages (from requests) (2025.1.31)\n"
     ]
    },
    {
     "name": "stderr",
     "output_type": "stream",
     "text": [
      "\n",
      "[notice] A new release of pip is available: 25.2 -> 25.3\n",
      "[notice] To update, run: python.exe -m pip install --upgrade pip\n"
     ]
    }
   ],
   "execution_count": 46
  },
  {
   "metadata": {
    "ExecuteTime": {
     "end_time": "2025-10-27T21:22:33.382168Z",
     "start_time": "2025-10-27T21:22:33.375213Z"
    }
   },
   "cell_type": "code",
   "source": [
    "import requests\n",
    "requests.post(\"http://127.0.0.1:9999/predict\")\n"
   ],
   "id": "9e7b5566d4cc4611",
   "outputs": [
    {
     "data": {
      "text/plain": [
       "<Response [422]>"
      ]
     },
     "execution_count": 48,
     "metadata": {},
     "output_type": "execute_result"
    }
   ],
   "execution_count": 48
  },
  {
   "metadata": {},
   "cell_type": "markdown",
   "source": [
    "\n",
    "Now score this client using requests:"
   ],
   "id": "b1e4f12367bb0b8f"
  },
  {
   "metadata": {
    "ExecuteTime": {
     "end_time": "2025-10-27T21:22:35.055039Z",
     "start_time": "2025-10-27T21:22:35.046913Z"
    }
   },
   "cell_type": "code",
   "source": [
    "url = \"http://127.0.0.1:9999/predict\"\n",
    "client = {\n",
    "    \"lead_source\": \"organic_search\",\n",
    "    \"number_of_courses_viewed\": 4,\n",
    "    \"annual_income\": 80304.0\n",
    "}\n",
    "requests.post(url, json=client).json()"
   ],
   "id": "6821fb884f69f5f2",
   "outputs": [
    {
     "data": {
      "text/plain": [
       "0.5340417283801275"
      ]
     },
     "execution_count": 49,
     "metadata": {},
     "output_type": "execute_result"
    }
   ],
   "execution_count": 49
  },
  {
   "metadata": {},
   "cell_type": "markdown",
   "source": [
    "## Docker\n",
    "\n",
    "FROM python:3.13.5-slim-bookworm\n",
    "\n",
    "WORKDIR /code\n",
    "\n",
    "COPY pipeline_v2.bin .\n",
    "\n",
    "\n",
    "* agrigorev/zoomcamp-model:2025"
   ],
   "id": "15becccbac5fc44f"
  },
  {
   "metadata": {},
   "cell_type": "markdown",
   "source": [
    "## Question 5\n",
    "\n",
    "Download the base image agrigorev/zoomcamp-model:2025.\n",
    "\n",
    "You can easily make it by using docker pull command.\n",
    "\n",
    "So what's the size of this base image?"
   ],
   "id": "9ba8d8b871aedc0"
  },
  {
   "metadata": {
    "ExecuteTime": {
     "end_time": "2025-10-27T21:28:56.324038Z",
     "start_time": "2025-10-27T21:28:55.266099Z"
    }
   },
   "cell_type": "code",
   "source": "!pip install docker",
   "id": "f6d639da9c15c9d3",
   "outputs": [
    {
     "name": "stdout",
     "output_type": "stream",
     "text": [
      "Requirement already satisfied: docker in c:\\_pyth\\_python\\lib\\site-packages (7.1.0)\n",
      "Requirement already satisfied: pywin32>=304 in c:\\users\\admin\\appdata\\roaming\\python\\python313\\site-packages (from docker) (310)\n",
      "Requirement already satisfied: requests>=2.26.0 in c:\\users\\admin\\appdata\\roaming\\python\\python313\\site-packages (from docker) (2.32.3)\n",
      "Requirement already satisfied: urllib3>=1.26.0 in c:\\users\\admin\\appdata\\roaming\\python\\python313\\site-packages (from docker) (2.3.0)\n",
      "Requirement already satisfied: charset-normalizer<4,>=2 in c:\\users\\admin\\appdata\\roaming\\python\\python313\\site-packages (from requests>=2.26.0->docker) (3.4.1)\n",
      "Requirement already satisfied: idna<4,>=2.5 in c:\\users\\admin\\appdata\\roaming\\python\\python313\\site-packages (from requests>=2.26.0->docker) (3.10)\n",
      "Requirement already satisfied: certifi>=2017.4.17 in c:\\users\\admin\\appdata\\roaming\\python\\python313\\site-packages (from requests>=2.26.0->docker) (2025.1.31)\n"
     ]
    },
    {
     "name": "stderr",
     "output_type": "stream",
     "text": [
      "\n",
      "[notice] A new release of pip is available: 25.2 -> 25.3\n",
      "[notice] To update, run: python.exe -m pip install --upgrade pip\n"
     ]
    }
   ],
   "execution_count": 54
  },
  {
   "metadata": {
    "ExecuteTime": {
     "end_time": "2025-10-27T21:30:11.108235Z",
     "start_time": "2025-10-27T21:30:06.587076Z"
    }
   },
   "cell_type": "code",
   "source": "!docker image pull agrigorev/zoomcamp-model:2025",
   "id": "63401d9c5b97521f",
   "outputs": [
    {
     "name": "stdout",
     "output_type": "stream",
     "text": [
      "2025: Pulling from agrigorev/zoomcamp-model\n",
      "816e9c0578b5: Pulling fs layer\n",
      "66cd357cf7a1: Pulling fs layer\n",
      "19f81082f6f0: Pulling fs layer\n",
      "760c2b9cc6ee: Pulling fs layer\n",
      "799df5177ae2: Pulling fs layer\n",
      "760c2b9cc6ee: Download complete\n",
      "816e9c0578b5: Download complete\n",
      "66cd357cf7a1: Download complete\n",
      "799df5177ae2: Download complete\n",
      "19f81082f6f0: Download complete\n",
      "19f81082f6f0: Pull complete\n",
      "760c2b9cc6ee: Pull complete\n",
      "816e9c0578b5: Pull complete\n",
      "66cd357cf7a1: Pull complete\n",
      "799df5177ae2: Pull complete\n",
      "Digest: sha256:14d79fde0bbf078eb18c99c2bd007205917b758ec11060b2994963a1e485c2ae\n",
      "Status: Downloaded newer image for agrigorev/zoomcamp-model:2025\n",
      "docker.io/agrigorev/zoomcamp-model:2025\n"
     ]
    }
   ],
   "execution_count": 57
  },
  {
   "metadata": {
    "ExecuteTime": {
     "end_time": "2025-10-27T21:41:00.980994Z",
     "start_time": "2025-10-27T21:41:00.842777Z"
    }
   },
   "cell_type": "code",
   "source": "!docker images\n",
   "id": "6bf025d4a3065b0c",
   "outputs": [
    {
     "name": "stdout",
     "output_type": "stream",
     "text": [
      "REPOSITORY                 TAG                       IMAGE ID       CREATED         SIZE\n",
      "agrigorev/zoomcamp-model   2025                      14d79fde0bbf   6 days ago      181MB\n",
      "hh_auto_apply-frontend     latest                    f3a439460df2   2 weeks ago     81.7MB\n",
      "hh_auto_apply-worker       latest                    3257ed10e14c   2 weeks ago     2.17GB\n",
      "hh_auto_apply-flower       latest                    d916ae3886b7   2 weeks ago     2.17GB\n",
      "hh_auto_apply-beat         latest                    7286e2f0d3c1   2 weeks ago     2.17GB\n",
      "hh_auto_apply-api          latest                    3c8335a384ce   2 weeks ago     2.17GB\n",
      "mcp/desktop-commander      latest                    7308759d4d03   3 weeks ago     671MB\n",
      "redis                      7-alpine                  00fae95347ea   3 weeks ago     60.7MB\n",
      "postgres                   15-alpine                 6bd113a3de32   3 weeks ago     390MB\n",
      "bybiloader-crypto-app      latest                    793d65779338   4 weeks ago     1.76GB\n",
      "bybiloader-app_test        latest                    994d9ec687ae   4 weeks ago     1.74GB\n",
      "postgres                   13                        9b0df1a5a48a   4 weeks ago     619MB\n",
      "docling-docling-webapp     latest                    8447f63d96f0   4 weeks ago     14.9GB\n",
      "adminer                    latest                    606d5f153ef9   7 weeks ago     168MB\n",
      "qdrant/qdrant              latest                    31407c0e8e32   2 months ago    291MB\n",
      "0stro-web-portal           latest                    c443ea58fe18   2 months ago    522MB\n",
      "0stro-domain-service       latest                    a5e79c16c846   2 months ago    352MB\n",
      "0stro-astro-service        latest                    3d6b1407a8fe   2 months ago    1.1GB\n",
      "mcp/filesystem             latest                    35fcf0217ca0   4 months ago    249MB\n",
      "postgres                   14                        563a4985838f   4 months ago    604MB\n",
      "nvidia/cuda                12.1.0-base-ubuntu22.04   40042016a816   23 months ago   340MB\n"
     ]
    }
   ],
   "execution_count": 61
  },
  {
   "metadata": {},
   "cell_type": "markdown",
   "source": [
    "## Dockerfile\n",
    "\n",
    "Now create your own Dockerfile based on the image we prepared.\n",
    "\n",
    "It should start like that:\n",
    "\n",
    "> FROM agrigorev/zoomcamp-model:2025\n",
    ">\n",
    "> #add your stuff here\n",
    "Now complete it:\n",
    "\n",
    "- Install all the dependencies from pyproject.toml\n",
    "- Copy your FastAPI script\n",
    "- Run it with uvicorn"
   ],
   "id": "67f79da71b8126c2"
  },
  {
   "metadata": {},
   "cell_type": "markdown",
   "source": [
    "FROM agrigorev/zoomcamp-model:2025\n",
    "\n",
    "WORKDIR /code\n",
    "\n",
    "COPY pyproject.toml .\n",
    "\n",
    "COPY server2.py .\n",
    "\n",
    "RUN pip install --no-cache-dir .\n",
    "\n",
    "EXPOSE 9999\n",
    "\n",
    "CMD [\"uvicorn\", \"server2:app\", \"--host\", \"0.0.0.0\", \"--port\", \"9999\"]"
   ],
   "id": "fd4ed629ce43dcef"
  },
  {
   "metadata": {},
   "cell_type": "markdown",
   "source": [
    "## Question 6\n",
    "\n",
    "Let's run your docker container!\n",
    "\n",
    "After running it, score this client once again:"
   ],
   "id": "1e20c5592f018ce"
  },
  {
   "metadata": {},
   "cell_type": "markdown",
   "source": [
    "\n",
    "> url = \"YOUR_URL\"\n",
    ">\n",
    "> client = {\n",
    ">\n",
    ">    \"lead_source\": \"organic_search\",\n",
    ">\n",
    ">    \"number_of_courses_viewed\": 4,\n",
    ">\n",
    ">    \"annual_income\": 80304.0\n",
    ">\n",
    "> }\n",
    ">\n",
    "> requests.post(url, json=client).json()\n",
    "\n",
    "What's the probability that this lead will convert?"
   ],
   "id": "fb343d467f6c1386"
  },
  {
   "metadata": {
    "ExecuteTime": {
     "end_time": "2025-10-27T22:34:09.632228Z",
     "start_time": "2025-10-27T22:34:09.621872Z"
    }
   },
   "cell_type": "code",
   "source": [
    "url = \"http://127.0.0.1:9999/predict\"\n",
    "client = {\n",
    "    \"lead_source\": \"organic_search\",\n",
    "    \"number_of_courses_viewed\": 4,\n",
    "    \"annual_income\": 80304.0\n",
    "}\n",
    "requests.post(url, json=client).json()"
   ],
   "id": "f4ce60ceee9b11f5",
   "outputs": [
    {
     "data": {
      "text/plain": [
       "0.9933071490756734"
      ]
     },
     "execution_count": 66,
     "metadata": {},
     "output_type": "execute_result"
    }
   ],
   "execution_count": 66
  },
  {
   "metadata": {},
   "cell_type": "markdown",
   "source": " # Publishing to Docker hub",
   "id": "d6eceae472691851"
  },
  {
   "metadata": {},
   "cell_type": "code",
   "outputs": [],
   "execution_count": null,
   "source": [
    "docker build -t homework-05 .\n",
    "docker tag homework-05 ramires666/homework-05:1.1\n",
    "docker push ramires666/homework-05:1.1"
   ],
   "id": "1a39024fdc1456a5"
  }
 ],
 "metadata": {
  "kernelspec": {
   "display_name": "Python 3",
   "language": "python",
   "name": "python3"
  },
  "language_info": {
   "codemirror_mode": {
    "name": "ipython",
    "version": 2
   },
   "file_extension": ".py",
   "mimetype": "text/x-python",
   "name": "python",
   "nbconvert_exporter": "python",
   "pygments_lexer": "ipython2",
   "version": "2.7.6"
  }
 },
 "nbformat": 4,
 "nbformat_minor": 5
}
