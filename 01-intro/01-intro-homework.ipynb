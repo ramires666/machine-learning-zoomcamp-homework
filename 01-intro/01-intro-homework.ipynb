{
 "cells": [
  {
   "cell_type": "markdown",
   "id": "2dbc1c8a",
   "metadata": {},
   "source": [
    "## Homework 01-intro"
   ]
  },
  {
   "cell_type": "markdown",
   "id": "23e6545e",
   "metadata": {},
   "source": [
    "## Q1. Pandas version"
   ]
  },
  {
   "cell_type": "code",
   "execution_count": 3,
   "id": "8760854d-9f43-4c01-bb34-4c1b6d66b920",
   "metadata": {},
   "outputs": [],
   "source": [
    "import pandas as pd"
   ]
  },
  {
   "cell_type": "code",
   "execution_count": 4,
   "id": "b007df61",
   "metadata": {},
   "outputs": [
    {
     "data": {
      "text/plain": [
       "'2.0.3'"
      ]
     },
     "execution_count": 4,
     "metadata": {},
     "output_type": "execute_result"
    }
   ],
   "source": [
    "pd.__version__\n"
   ]
  },
  {
   "cell_type": "markdown",
   "id": "632bcb0c",
   "metadata": {},
   "source": [
    "## Getting the data"
   ]
  },
  {
   "cell_type": "code",
   "execution_count": 5,
   "id": "b3298eeb-a7ad-4895-abe6-a32c18883e28",
   "metadata": {},
   "outputs": [
    {
     "data": {
      "application/vnd.microsoft.datawrangler.viewer.v0+json": {
       "columns": [
        {
         "name": "index",
         "rawType": "int64",
         "type": "integer"
        },
        {
         "name": "engine_displacement",
         "rawType": "int64",
         "type": "integer"
        },
        {
         "name": "num_cylinders",
         "rawType": "float64",
         "type": "float"
        },
        {
         "name": "horsepower",
         "rawType": "float64",
         "type": "float"
        },
        {
         "name": "vehicle_weight",
         "rawType": "float64",
         "type": "float"
        },
        {
         "name": "acceleration",
         "rawType": "float64",
         "type": "float"
        },
        {
         "name": "model_year",
         "rawType": "int64",
         "type": "integer"
        },
        {
         "name": "origin",
         "rawType": "object",
         "type": "string"
        },
        {
         "name": "fuel_type",
         "rawType": "object",
         "type": "string"
        },
        {
         "name": "drivetrain",
         "rawType": "object",
         "type": "string"
        },
        {
         "name": "num_doors",
         "rawType": "float64",
         "type": "float"
        },
        {
         "name": "fuel_efficiency_mpg",
         "rawType": "float64",
         "type": "float"
        }
       ],
       "ref": "c0ecc432-12a2-4c9e-88fe-62c3f700e873",
       "rows": [
        [
         "0",
         "170",
         "3.0",
         "159.0",
         "3413.433758606219",
         "17.7",
         "2003",
         "Europe",
         "Gasoline",
         "All-wheel drive",
         "0.0",
         "13.231728906241411"
        ],
        [
         "1",
         "130",
         "5.0",
         "97.0",
         "3149.664934220036",
         "17.8",
         "2007",
         "USA",
         "Gasoline",
         "Front-wheel drive",
         "0.0",
         "13.688217435463793"
        ],
        [
         "2",
         "170",
         null,
         "78.0",
         "3079.03899736884",
         "15.1",
         "2018",
         "Europe",
         "Gasoline",
         "Front-wheel drive",
         "0.0",
         "14.246340998160866"
        ],
        [
         "3",
         "220",
         "4.0",
         null,
         "2542.392401828378",
         "20.2",
         "2009",
         "USA",
         "Diesel",
         "All-wheel drive",
         "2.0",
         "16.91273559598635"
        ],
        [
         "4",
         "210",
         "1.0",
         "140.0",
         "3460.870989989018",
         "14.4",
         "2009",
         "Europe",
         "Gasoline",
         "All-wheel drive",
         "2.0",
         "12.488369121964562"
        ],
        [
         "5",
         "190",
         "3.0",
         null,
         "2484.883986036068",
         "14.7",
         "2008",
         "Europe",
         "Gasoline",
         "All-wheel drive",
         "-1.0",
         "17.271818372724237"
        ],
        [
         "6",
         "240",
         "7.0",
         "127.0",
         "3006.5422872171457",
         "22.2",
         "2012",
         "USA",
         "Gasoline",
         "Front-wheel drive",
         "1.0",
         "13.210412112385608"
        ],
        [
         "7",
         "150",
         "4.0",
         "239.0",
         "3638.6577802809",
         "17.3",
         "2020",
         "USA",
         "Diesel",
         "All-wheel drive",
         "1.0",
         "12.848883861524026"
        ],
        [
         "8",
         "250",
         "1.0",
         "174.0",
         "2714.219309645285",
         "10.3",
         "2016",
         "Asia",
         "Diesel",
         "Front-wheel drive",
         "-1.0",
         "16.823553726916543"
        ],
        [
         "9",
         "150",
         "4.0",
         "123.0",
         "3509.036569100613",
         "10.2",
         "2005",
         "USA",
         "Gasoline",
         "Front-wheel drive",
         "-1.0",
         "12.298354983681604"
        ],
        [
         "10",
         "230",
         "5.0",
         "100.0",
         "3111.810181389172",
         "15.4",
         "2014",
         "Europe",
         "Diesel",
         "All-wheel drive",
         "0.0",
         "13.386605047290962"
        ],
        [
         "11",
         "150",
         "5.0",
         null,
         "1967.2004212521003",
         "12.6",
         "2014",
         "USA",
         "Diesel",
         "Front-wheel drive",
         "2.0",
         "20.50444671989053"
        ],
        [
         "12",
         "320",
         "5.0",
         "145.0",
         "2783.8689742437728",
         "15.1",
         "2010",
         "Asia",
         "Diesel",
         "All-wheel drive",
         "1.0",
         "16.17581958009284"
        ],
        [
         "13",
         "170",
         "1.0",
         "193.0",
         "2274.7351905647565",
         "17.5",
         "2000",
         "Europe",
         "Diesel",
         "Front-wheel drive",
         "0.0",
         "18.792742345719034"
        ],
        [
         "14",
         "200",
         "6.0",
         "160.0",
         "3582.687367715132",
         "14.9",
         "2007",
         "Asia",
         "Diesel",
         "All-wheel drive",
         "0.0",
         "11.871091010445811"
        ],
        [
         "15",
         "220",
         "4.0",
         "179.0",
         "2631.0652035914763",
         "16.0",
         "2006",
         "USA",
         "Gasoline",
         "All-wheel drive",
         "1.0",
         "16.756081170464494"
        ],
        [
         "16",
         "160",
         "3.0",
         "180.0",
         "2673.5529409560954",
         "8.5",
         "2013",
         "Europe",
         "Diesel",
         "All-wheel drive",
         "-1.0",
         "17.516175727210882"
        ],
        [
         "17",
         "190",
         "6.0",
         "132.0",
         "2427.3118562098525",
         "17.8",
         "2011",
         "USA",
         "Diesel",
         "Front-wheel drive",
         "-1.0",
         "17.65868533963579"
        ],
        [
         "18",
         "250",
         "2.0",
         "110.0",
         "2971.2145745989487",
         null,
         "2003",
         "Europe",
         "Gasoline",
         "Front-wheel drive",
         "1.0",
         "14.735962194497768"
        ],
        [
         "19",
         "180",
         "1.0",
         "126.0",
         "2986.958657420011",
         "17.9",
         "2004",
         "Europe",
         "Gasoline",
         "All-wheel drive",
         "-1.0",
         "15.097137105104313"
        ],
        [
         "20",
         "150",
         "3.0",
         "197.0",
         "2231.8081416029345",
         "18.7",
         "2011",
         "Asia",
         "Gasoline",
         "Front-wheel drive",
         "1.0",
         "18.88908257097108"
        ],
        [
         "21",
         "160",
         "4.0",
         "133.0",
         "2659.431450757995",
         null,
         "2016",
         "Asia",
         "Gasoline",
         "Front-wheel drive",
         "-1.0",
         "16.077730214491176"
        ],
        [
         "22",
         "190",
         "1.0",
         "144.0",
         "2438.842125555246",
         "16.4",
         "2016",
         "Europe",
         "Diesel",
         "Front-wheel drive",
         "1.0",
         "17.08040493384839"
        ],
        [
         "23",
         "230",
         "2.0",
         "160.0",
         "3342.6060274901347",
         "12.9",
         "2009",
         "Europe",
         "Gasoline",
         "All-wheel drive",
         "0.0",
         "13.7383805846665"
        ],
        [
         "24",
         "260",
         "3.0",
         "156.0",
         "4267.390497388771",
         "20.0",
         "2004",
         "USA",
         "Diesel",
         "Front-wheel drive",
         "1.0",
         "7.853194329416397"
        ],
        [
         "25",
         "210",
         "6.0",
         "157.0",
         "2860.206191293806",
         "12.6",
         "2013",
         "USA",
         "Gasoline",
         "All-wheel drive",
         null,
         "15.906421807842523"
        ],
        [
         "26",
         "180",
         "8.0",
         "160.0",
         "3080.170161717871",
         "10.6",
         "2002",
         "USA",
         "Diesel",
         "All-wheel drive",
         "2.0",
         "15.089880004688071"
        ],
        [
         "27",
         "120",
         "6.0",
         "206.0",
         "3467.355490131792",
         "18.3",
         "2016",
         "USA",
         "Gasoline",
         "Front-wheel drive",
         "-1.0",
         "13.04899290040456"
        ],
        [
         "28",
         "220",
         "4.0",
         "154.0",
         "3335.0681874881448",
         "14.8",
         "2005",
         "USA",
         "Diesel",
         "All-wheel drive",
         "-1.0",
         "13.411265956371402"
        ],
        [
         "29",
         "230",
         "4.0",
         "132.0",
         "2479.7829741497544",
         "15.6",
         "2014",
         "Europe",
         "Diesel",
         "All-wheel drive",
         "0.0",
         "17.34901126810939"
        ],
        [
         "30",
         "280",
         "5.0",
         "140.0",
         "2598.598215530185",
         "17.1",
         "2022",
         "USA",
         "Gasoline",
         "Front-wheel drive",
         "0.0",
         "16.852517863788954"
        ],
        [
         "31",
         "160",
         "4.0",
         "153.0",
         "3106.306111675653",
         "15.8",
         "2000",
         "Europe",
         "Gasoline",
         "All-wheel drive",
         "-1.0",
         "14.04564452468013"
        ],
        [
         "32",
         "40",
         "5.0",
         "136.0",
         "3619.370730176663",
         "19.5",
         "2017",
         "Europe",
         "Gasoline",
         "All-wheel drive",
         "-1.0",
         "11.02937073424243"
        ],
        [
         "33",
         "200",
         "4.0",
         "168.0",
         "2946.9791685788814",
         "18.6",
         "2001",
         "USA",
         "Diesel",
         "Front-wheel drive",
         "0.0",
         "15.76758556294088"
        ],
        [
         "34",
         "150",
         "2.0",
         "149.0",
         "2844.2275338857653",
         "17.3",
         "2014",
         "Asia",
         "Diesel",
         "Front-wheel drive",
         "0.0",
         "15.353788201522017"
        ],
        [
         "35",
         "160",
         "3.0",
         "127.0",
         "2961.158679125447",
         "14.8",
         "2004",
         "USA",
         "Gasoline",
         "Front-wheel drive",
         "0.0",
         "14.671771671571785"
        ],
        [
         "36",
         "200",
         "5.0",
         "143.0",
         "3040.2365213942894",
         "14.2",
         "2006",
         "USA",
         "Diesel",
         "All-wheel drive",
         "-1.0",
         "15.01132504011616"
        ],
        [
         "37",
         "80",
         "3.0",
         "132.0",
         "3444.8921095893515",
         "17.2",
         "2023",
         "Europe",
         "Gasoline",
         "Front-wheel drive",
         "-1.0",
         "11.704658142342613"
        ],
        [
         "38",
         "190",
         "5.0",
         "158.0",
         "3761.9940381922206",
         null,
         "2019",
         "Asia",
         "Gasoline",
         "Front-wheel drive",
         "1.0",
         "11.645724047561528"
        ],
        [
         "39",
         "240",
         "6.0",
         "176.0",
         "2676.886843633655",
         "14.5",
         "2002",
         "Europe",
         "Gasoline",
         "Front-wheel drive",
         "-1.0",
         "17.322851581349216"
        ],
        [
         "40",
         "110",
         "1.0",
         "108.0",
         "2292.675257052191",
         "14.5",
         "2015",
         "Europe",
         "Gasoline",
         "Front-wheel drive",
         "0.0",
         "18.63000885913826"
        ],
        [
         "41",
         "230",
         "2.0",
         "125.0",
         "2563.9027023821623",
         "18.1",
         "2008",
         "Europe",
         "Gasoline",
         "All-wheel drive",
         "0.0",
         "16.890273538222665"
        ],
        [
         "42",
         "240",
         "4.0",
         "123.0",
         "2612.0154112627533",
         "10.5",
         "2013",
         "USA",
         "Diesel",
         "Front-wheel drive",
         "-1.0",
         "16.416020840488873"
        ],
        [
         "43",
         "170",
         "4.0",
         "123.0",
         "2957.6811098887447",
         "14.4",
         "2012",
         "Asia",
         "Diesel",
         "All-wheel drive",
         "-1.0",
         "15.039796931634644"
        ],
        [
         "44",
         "240",
         "2.0",
         "142.0",
         "2544.516801769428",
         "12.9",
         "2016",
         "Asia",
         "Gasoline",
         "All-wheel drive",
         "0.0",
         "17.600327865900464"
        ],
        [
         "45",
         "380",
         null,
         "139.0",
         "1833.1964030710933",
         "16.7",
         "2022",
         "USA",
         "Gasoline",
         "Front-wheel drive",
         "-1.0",
         "20.728616942029674"
        ],
        [
         "46",
         "190",
         "4.0",
         "170.0",
         "2607.6950038058926",
         "20.8",
         "2019",
         "USA",
         "Diesel",
         "Front-wheel drive",
         "1.0",
         "15.932777017483826"
        ],
        [
         "47",
         "270",
         "1.0",
         "135.0",
         "3858.9146336751146",
         null,
         "2006",
         "Europe",
         "Gasoline",
         "Front-wheel drive",
         "2.0",
         "10.0898180828745"
        ],
        [
         "48",
         "190",
         "5.0",
         "202.0",
         "2531.185247040718",
         "16.2",
         "2016",
         "Asia",
         "Gasoline",
         "All-wheel drive",
         "0.0",
         "17.983505227568678"
        ],
        [
         "49",
         "140",
         "7.0",
         "99.0",
         "3602.664482911108",
         "17.0",
         "2015",
         "Europe",
         "Gasoline",
         "All-wheel drive",
         "1.0",
         "11.25726765887053"
        ]
       ],
       "shape": {
        "columns": 11,
        "rows": 9704
       }
      },
      "text/html": [
       "<div>\n",
       "<style scoped>\n",
       "    .dataframe tbody tr th:only-of-type {\n",
       "        vertical-align: middle;\n",
       "    }\n",
       "\n",
       "    .dataframe tbody tr th {\n",
       "        vertical-align: top;\n",
       "    }\n",
       "\n",
       "    .dataframe thead th {\n",
       "        text-align: right;\n",
       "    }\n",
       "</style>\n",
       "<table border=\"1\" class=\"dataframe\">\n",
       "  <thead>\n",
       "    <tr style=\"text-align: right;\">\n",
       "      <th></th>\n",
       "      <th>engine_displacement</th>\n",
       "      <th>num_cylinders</th>\n",
       "      <th>horsepower</th>\n",
       "      <th>vehicle_weight</th>\n",
       "      <th>acceleration</th>\n",
       "      <th>model_year</th>\n",
       "      <th>origin</th>\n",
       "      <th>fuel_type</th>\n",
       "      <th>drivetrain</th>\n",
       "      <th>num_doors</th>\n",
       "      <th>fuel_efficiency_mpg</th>\n",
       "    </tr>\n",
       "  </thead>\n",
       "  <tbody>\n",
       "    <tr>\n",
       "      <th>0</th>\n",
       "      <td>170</td>\n",
       "      <td>3.0</td>\n",
       "      <td>159.0</td>\n",
       "      <td>3413.433759</td>\n",
       "      <td>17.7</td>\n",
       "      <td>2003</td>\n",
       "      <td>Europe</td>\n",
       "      <td>Gasoline</td>\n",
       "      <td>All-wheel drive</td>\n",
       "      <td>0.0</td>\n",
       "      <td>13.231729</td>\n",
       "    </tr>\n",
       "    <tr>\n",
       "      <th>1</th>\n",
       "      <td>130</td>\n",
       "      <td>5.0</td>\n",
       "      <td>97.0</td>\n",
       "      <td>3149.664934</td>\n",
       "      <td>17.8</td>\n",
       "      <td>2007</td>\n",
       "      <td>USA</td>\n",
       "      <td>Gasoline</td>\n",
       "      <td>Front-wheel drive</td>\n",
       "      <td>0.0</td>\n",
       "      <td>13.688217</td>\n",
       "    </tr>\n",
       "    <tr>\n",
       "      <th>2</th>\n",
       "      <td>170</td>\n",
       "      <td>NaN</td>\n",
       "      <td>78.0</td>\n",
       "      <td>3079.038997</td>\n",
       "      <td>15.1</td>\n",
       "      <td>2018</td>\n",
       "      <td>Europe</td>\n",
       "      <td>Gasoline</td>\n",
       "      <td>Front-wheel drive</td>\n",
       "      <td>0.0</td>\n",
       "      <td>14.246341</td>\n",
       "    </tr>\n",
       "    <tr>\n",
       "      <th>3</th>\n",
       "      <td>220</td>\n",
       "      <td>4.0</td>\n",
       "      <td>NaN</td>\n",
       "      <td>2542.392402</td>\n",
       "      <td>20.2</td>\n",
       "      <td>2009</td>\n",
       "      <td>USA</td>\n",
       "      <td>Diesel</td>\n",
       "      <td>All-wheel drive</td>\n",
       "      <td>2.0</td>\n",
       "      <td>16.912736</td>\n",
       "    </tr>\n",
       "    <tr>\n",
       "      <th>4</th>\n",
       "      <td>210</td>\n",
       "      <td>1.0</td>\n",
       "      <td>140.0</td>\n",
       "      <td>3460.870990</td>\n",
       "      <td>14.4</td>\n",
       "      <td>2009</td>\n",
       "      <td>Europe</td>\n",
       "      <td>Gasoline</td>\n",
       "      <td>All-wheel drive</td>\n",
       "      <td>2.0</td>\n",
       "      <td>12.488369</td>\n",
       "    </tr>\n",
       "    <tr>\n",
       "      <th>...</th>\n",
       "      <td>...</td>\n",
       "      <td>...</td>\n",
       "      <td>...</td>\n",
       "      <td>...</td>\n",
       "      <td>...</td>\n",
       "      <td>...</td>\n",
       "      <td>...</td>\n",
       "      <td>...</td>\n",
       "      <td>...</td>\n",
       "      <td>...</td>\n",
       "      <td>...</td>\n",
       "    </tr>\n",
       "    <tr>\n",
       "      <th>9699</th>\n",
       "      <td>140</td>\n",
       "      <td>5.0</td>\n",
       "      <td>164.0</td>\n",
       "      <td>2981.107371</td>\n",
       "      <td>17.3</td>\n",
       "      <td>2013</td>\n",
       "      <td>Europe</td>\n",
       "      <td>Diesel</td>\n",
       "      <td>Front-wheel drive</td>\n",
       "      <td>NaN</td>\n",
       "      <td>15.101802</td>\n",
       "    </tr>\n",
       "    <tr>\n",
       "      <th>9700</th>\n",
       "      <td>180</td>\n",
       "      <td>NaN</td>\n",
       "      <td>154.0</td>\n",
       "      <td>2439.525729</td>\n",
       "      <td>15.0</td>\n",
       "      <td>2004</td>\n",
       "      <td>USA</td>\n",
       "      <td>Gasoline</td>\n",
       "      <td>All-wheel drive</td>\n",
       "      <td>0.0</td>\n",
       "      <td>17.962326</td>\n",
       "    </tr>\n",
       "    <tr>\n",
       "      <th>9701</th>\n",
       "      <td>220</td>\n",
       "      <td>2.0</td>\n",
       "      <td>138.0</td>\n",
       "      <td>2583.471318</td>\n",
       "      <td>15.1</td>\n",
       "      <td>2008</td>\n",
       "      <td>USA</td>\n",
       "      <td>Diesel</td>\n",
       "      <td>All-wheel drive</td>\n",
       "      <td>-1.0</td>\n",
       "      <td>17.186587</td>\n",
       "    </tr>\n",
       "    <tr>\n",
       "      <th>9702</th>\n",
       "      <td>230</td>\n",
       "      <td>4.0</td>\n",
       "      <td>177.0</td>\n",
       "      <td>2905.527390</td>\n",
       "      <td>19.4</td>\n",
       "      <td>2011</td>\n",
       "      <td>USA</td>\n",
       "      <td>Diesel</td>\n",
       "      <td>Front-wheel drive</td>\n",
       "      <td>1.0</td>\n",
       "      <td>15.331551</td>\n",
       "    </tr>\n",
       "    <tr>\n",
       "      <th>9703</th>\n",
       "      <td>270</td>\n",
       "      <td>3.0</td>\n",
       "      <td>140.0</td>\n",
       "      <td>2908.043477</td>\n",
       "      <td>14.7</td>\n",
       "      <td>2005</td>\n",
       "      <td>Asia</td>\n",
       "      <td>Diesel</td>\n",
       "      <td>All-wheel drive</td>\n",
       "      <td>-1.0</td>\n",
       "      <td>14.884467</td>\n",
       "    </tr>\n",
       "  </tbody>\n",
       "</table>\n",
       "<p>9704 rows × 11 columns</p>\n",
       "</div>"
      ],
      "text/plain": [
       "      engine_displacement  num_cylinders  horsepower  vehicle_weight  \\\n",
       "0                     170            3.0       159.0     3413.433759   \n",
       "1                     130            5.0        97.0     3149.664934   \n",
       "2                     170            NaN        78.0     3079.038997   \n",
       "3                     220            4.0         NaN     2542.392402   \n",
       "4                     210            1.0       140.0     3460.870990   \n",
       "...                   ...            ...         ...             ...   \n",
       "9699                  140            5.0       164.0     2981.107371   \n",
       "9700                  180            NaN       154.0     2439.525729   \n",
       "9701                  220            2.0       138.0     2583.471318   \n",
       "9702                  230            4.0       177.0     2905.527390   \n",
       "9703                  270            3.0       140.0     2908.043477   \n",
       "\n",
       "      acceleration  model_year  origin fuel_type         drivetrain  \\\n",
       "0             17.7        2003  Europe  Gasoline    All-wheel drive   \n",
       "1             17.8        2007     USA  Gasoline  Front-wheel drive   \n",
       "2             15.1        2018  Europe  Gasoline  Front-wheel drive   \n",
       "3             20.2        2009     USA    Diesel    All-wheel drive   \n",
       "4             14.4        2009  Europe  Gasoline    All-wheel drive   \n",
       "...            ...         ...     ...       ...                ...   \n",
       "9699          17.3        2013  Europe    Diesel  Front-wheel drive   \n",
       "9700          15.0        2004     USA  Gasoline    All-wheel drive   \n",
       "9701          15.1        2008     USA    Diesel    All-wheel drive   \n",
       "9702          19.4        2011     USA    Diesel  Front-wheel drive   \n",
       "9703          14.7        2005    Asia    Diesel    All-wheel drive   \n",
       "\n",
       "      num_doors  fuel_efficiency_mpg  \n",
       "0           0.0            13.231729  \n",
       "1           0.0            13.688217  \n",
       "2           0.0            14.246341  \n",
       "3           2.0            16.912736  \n",
       "4           2.0            12.488369  \n",
       "...         ...                  ...  \n",
       "9699        NaN            15.101802  \n",
       "9700        0.0            17.962326  \n",
       "9701       -1.0            17.186587  \n",
       "9702        1.0            15.331551  \n",
       "9703       -1.0            14.884467  \n",
       "\n",
       "[9704 rows x 11 columns]"
      ]
     },
     "execution_count": 5,
     "metadata": {},
     "output_type": "execute_result"
    }
   ],
   "source": [
    "df = pd.read_csv('https://raw.githubusercontent.com/alexeygrigorev/datasets/master/car_fuel_efficiency.csv')\n",
    "df"
   ]
  },
  {
   "cell_type": "markdown",
   "id": "ad7647be",
   "metadata": {},
   "source": [
    "## Q2. Records count"
   ]
  },
  {
   "cell_type": "code",
   "execution_count": 6,
   "id": "cf6e8231",
   "metadata": {},
   "outputs": [
    {
     "data": {
      "text/plain": [
       "9704"
      ]
     },
     "execution_count": 6,
     "metadata": {},
     "output_type": "execute_result"
    }
   ],
   "source": [
    "len(df)"
   ]
  },
  {
   "cell_type": "markdown",
   "id": "c5dd789b",
   "metadata": {},
   "source": [
    "## Q3. Fuel types"
   ]
  },
  {
   "cell_type": "code",
   "execution_count": 7,
   "id": "73aa177c",
   "metadata": {},
   "outputs": [
    {
     "data": {
      "text/plain": [
       "2"
      ]
     },
     "execution_count": 7,
     "metadata": {},
     "output_type": "execute_result"
    }
   ],
   "source": [
    "len(df.fuel_type.unique())"
   ]
  },
  {
   "cell_type": "markdown",
   "id": "3476aa91",
   "metadata": {},
   "source": [
    "## Q4. Missing values\n",
    "How many columns in the dataset have missing values?"
   ]
  },
  {
   "cell_type": "code",
   "execution_count": null,
   "id": "c222a868",
   "metadata": {},
   "outputs": [
    {
     "data": {
      "application/vnd.microsoft.datawrangler.viewer.v0+json": {
       "columns": [
        {
         "name": "index",
         "rawType": "object",
         "type": "string"
        },
        {
         "name": "engine_displacement",
         "rawType": "float64",
         "type": "float"
        },
        {
         "name": "num_cylinders",
         "rawType": "float64",
         "type": "float"
        },
        {
         "name": "horsepower",
         "rawType": "float64",
         "type": "float"
        },
        {
         "name": "vehicle_weight",
         "rawType": "float64",
         "type": "float"
        },
        {
         "name": "acceleration",
         "rawType": "float64",
         "type": "float"
        },
        {
         "name": "model_year",
         "rawType": "float64",
         "type": "float"
        },
        {
         "name": "num_doors",
         "rawType": "float64",
         "type": "float"
        },
        {
         "name": "fuel_efficiency_mpg",
         "rawType": "float64",
         "type": "float"
        }
       ],
       "ref": "c705f680-290e-4d87-b325-2f79ebb0253c",
       "rows": [
        [
         "count",
         "9704.0",
         "9222.0",
         "8996.0",
         "9704.0",
         "8774.0",
         "9704.0",
         "9202.0",
         "9704.0"
        ],
        [
         "mean",
         "199.70836768342951",
         "3.962481023639124",
         "149.65729212983547",
         "3001.280993373135",
         "15.021928424891724",
         "2011.484027205276",
         "-0.0064116496413823085",
         "14.985243228208573"
        ],
        [
         "std",
         "49.4553189938653",
         "1.9993225843926064",
         "29.879555200339446",
         "497.8948600311838",
         "2.510339293937879",
         "6.659807627820643",
         "1.048162111427726",
         "2.5564677028974288"
        ],
        [
         "min",
         "10.0",
         "0.0",
         "37.0",
         "952.6817606436496",
         "6.0",
         "2000.0",
         "-4.0",
         "6.200970533392815"
        ],
        [
         "25%",
         "170.0",
         "3.0",
         "130.0",
         "2666.2489848326345",
         "13.3",
         "2006.0",
         "-1.0",
         "13.267458637174174"
        ],
        [
         "50%",
         "200.0",
         "4.0",
         "149.0",
         "2993.2262961692163",
         "15.0",
         "2012.0",
         "0.0",
         "15.006036963481211"
        ],
        [
         "75%",
         "230.0",
         "5.0",
         "170.0",
         "3334.9570391969396",
         "16.7",
         "2017.0",
         "1.0",
         "16.707965306826786"
        ],
        [
         "max",
         "380.0",
         "13.0",
         "271.0",
         "4739.077089392099",
         "24.3",
         "2023.0",
         "4.0",
         "25.96722204888372"
        ]
       ],
       "shape": {
        "columns": 8,
        "rows": 8
       }
      },
      "text/html": [
       "<div>\n",
       "<style scoped>\n",
       "    .dataframe tbody tr th:only-of-type {\n",
       "        vertical-align: middle;\n",
       "    }\n",
       "\n",
       "    .dataframe tbody tr th {\n",
       "        vertical-align: top;\n",
       "    }\n",
       "\n",
       "    .dataframe thead th {\n",
       "        text-align: right;\n",
       "    }\n",
       "</style>\n",
       "<table border=\"1\" class=\"dataframe\">\n",
       "  <thead>\n",
       "    <tr style=\"text-align: right;\">\n",
       "      <th></th>\n",
       "      <th>engine_displacement</th>\n",
       "      <th>num_cylinders</th>\n",
       "      <th>horsepower</th>\n",
       "      <th>vehicle_weight</th>\n",
       "      <th>acceleration</th>\n",
       "      <th>model_year</th>\n",
       "      <th>num_doors</th>\n",
       "      <th>fuel_efficiency_mpg</th>\n",
       "    </tr>\n",
       "  </thead>\n",
       "  <tbody>\n",
       "    <tr>\n",
       "      <th>count</th>\n",
       "      <td>9704.000000</td>\n",
       "      <td>9222.000000</td>\n",
       "      <td>8996.000000</td>\n",
       "      <td>9704.000000</td>\n",
       "      <td>8774.000000</td>\n",
       "      <td>9704.000000</td>\n",
       "      <td>9202.000000</td>\n",
       "      <td>9704.000000</td>\n",
       "    </tr>\n",
       "    <tr>\n",
       "      <th>mean</th>\n",
       "      <td>199.708368</td>\n",
       "      <td>3.962481</td>\n",
       "      <td>149.657292</td>\n",
       "      <td>3001.280993</td>\n",
       "      <td>15.021928</td>\n",
       "      <td>2011.484027</td>\n",
       "      <td>-0.006412</td>\n",
       "      <td>14.985243</td>\n",
       "    </tr>\n",
       "    <tr>\n",
       "      <th>std</th>\n",
       "      <td>49.455319</td>\n",
       "      <td>1.999323</td>\n",
       "      <td>29.879555</td>\n",
       "      <td>497.894860</td>\n",
       "      <td>2.510339</td>\n",
       "      <td>6.659808</td>\n",
       "      <td>1.048162</td>\n",
       "      <td>2.556468</td>\n",
       "    </tr>\n",
       "    <tr>\n",
       "      <th>min</th>\n",
       "      <td>10.000000</td>\n",
       "      <td>0.000000</td>\n",
       "      <td>37.000000</td>\n",
       "      <td>952.681761</td>\n",
       "      <td>6.000000</td>\n",
       "      <td>2000.000000</td>\n",
       "      <td>-4.000000</td>\n",
       "      <td>6.200971</td>\n",
       "    </tr>\n",
       "    <tr>\n",
       "      <th>25%</th>\n",
       "      <td>170.000000</td>\n",
       "      <td>3.000000</td>\n",
       "      <td>130.000000</td>\n",
       "      <td>2666.248985</td>\n",
       "      <td>13.300000</td>\n",
       "      <td>2006.000000</td>\n",
       "      <td>-1.000000</td>\n",
       "      <td>13.267459</td>\n",
       "    </tr>\n",
       "    <tr>\n",
       "      <th>50%</th>\n",
       "      <td>200.000000</td>\n",
       "      <td>4.000000</td>\n",
       "      <td>149.000000</td>\n",
       "      <td>2993.226296</td>\n",
       "      <td>15.000000</td>\n",
       "      <td>2012.000000</td>\n",
       "      <td>0.000000</td>\n",
       "      <td>15.006037</td>\n",
       "    </tr>\n",
       "    <tr>\n",
       "      <th>75%</th>\n",
       "      <td>230.000000</td>\n",
       "      <td>5.000000</td>\n",
       "      <td>170.000000</td>\n",
       "      <td>3334.957039</td>\n",
       "      <td>16.700000</td>\n",
       "      <td>2017.000000</td>\n",
       "      <td>1.000000</td>\n",
       "      <td>16.707965</td>\n",
       "    </tr>\n",
       "    <tr>\n",
       "      <th>max</th>\n",
       "      <td>380.000000</td>\n",
       "      <td>13.000000</td>\n",
       "      <td>271.000000</td>\n",
       "      <td>4739.077089</td>\n",
       "      <td>24.300000</td>\n",
       "      <td>2023.000000</td>\n",
       "      <td>4.000000</td>\n",
       "      <td>25.967222</td>\n",
       "    </tr>\n",
       "  </tbody>\n",
       "</table>\n",
       "</div>"
      ],
      "text/plain": [
       "       engine_displacement  num_cylinders   horsepower  vehicle_weight  \\\n",
       "count          9704.000000    9222.000000  8996.000000     9704.000000   \n",
       "mean            199.708368       3.962481   149.657292     3001.280993   \n",
       "std              49.455319       1.999323    29.879555      497.894860   \n",
       "min              10.000000       0.000000    37.000000      952.681761   \n",
       "25%             170.000000       3.000000   130.000000     2666.248985   \n",
       "50%             200.000000       4.000000   149.000000     2993.226296   \n",
       "75%             230.000000       5.000000   170.000000     3334.957039   \n",
       "max             380.000000      13.000000   271.000000     4739.077089   \n",
       "\n",
       "       acceleration   model_year    num_doors  fuel_efficiency_mpg  \n",
       "count   8774.000000  9704.000000  9202.000000          9704.000000  \n",
       "mean      15.021928  2011.484027    -0.006412            14.985243  \n",
       "std        2.510339     6.659808     1.048162             2.556468  \n",
       "min        6.000000  2000.000000    -4.000000             6.200971  \n",
       "25%       13.300000  2006.000000    -1.000000            13.267459  \n",
       "50%       15.000000  2012.000000     0.000000            15.006037  \n",
       "75%       16.700000  2017.000000     1.000000            16.707965  \n",
       "max       24.300000  2023.000000     4.000000            25.967222  "
      ]
     },
     "execution_count": 38,
     "metadata": {},
     "output_type": "execute_result"
    }
   ],
   "source": [
    "df.describe()"
   ]
  },
  {
   "cell_type": "markdown",
   "id": "e125a213",
   "metadata": {},
   "source": [
    "Checking visually where we have missing values:"
   ]
  },
  {
   "cell_type": "code",
   "execution_count": 40,
   "id": "c163ae9d",
   "metadata": {},
   "outputs": [
    {
     "data": {
      "application/vnd.microsoft.datawrangler.viewer.v0+json": {
       "columns": [
        {
         "name": "index",
         "rawType": "object",
         "type": "string"
        },
        {
         "name": "0",
         "rawType": "bool",
         "type": "boolean"
        }
       ],
       "ref": "dc0d3301-45b7-48ee-9a34-ddefb41b8078",
       "rows": [
        [
         "engine_displacement",
         "False"
        ],
        [
         "num_cylinders",
         "True"
        ],
        [
         "horsepower",
         "True"
        ],
        [
         "vehicle_weight",
         "False"
        ],
        [
         "acceleration",
         "True"
        ],
        [
         "model_year",
         "False"
        ],
        [
         "origin",
         "False"
        ],
        [
         "fuel_type",
         "False"
        ],
        [
         "drivetrain",
         "False"
        ],
        [
         "num_doors",
         "True"
        ],
        [
         "fuel_efficiency_mpg",
         "False"
        ]
       ],
       "shape": {
        "columns": 1,
        "rows": 11
       }
      },
      "text/plain": [
       "engine_displacement    False\n",
       "num_cylinders           True\n",
       "horsepower              True\n",
       "vehicle_weight         False\n",
       "acceleration            True\n",
       "model_year             False\n",
       "origin                 False\n",
       "fuel_type              False\n",
       "drivetrain             False\n",
       "num_doors               True\n",
       "fuel_efficiency_mpg    False\n",
       "dtype: bool"
      ]
     },
     "execution_count": 40,
     "metadata": {},
     "output_type": "execute_result"
    }
   ],
   "source": [
    "df.isnull().any(axis=0,skipna=False)"
   ]
  },
  {
   "cell_type": "markdown",
   "id": "ffe14569",
   "metadata": {},
   "source": [
    "Counting columns(True) with missing valus:"
   ]
  },
  {
   "cell_type": "code",
   "execution_count": 39,
   "id": "7967682b",
   "metadata": {},
   "outputs": [
    {
     "data": {
      "text/plain": [
       "4"
      ]
     },
     "execution_count": 39,
     "metadata": {},
     "output_type": "execute_result"
    }
   ],
   "source": [
    "df.isnull().any(axis=0,skipna=False).sum()"
   ]
  },
  {
   "cell_type": "markdown",
   "id": "8bea6412",
   "metadata": {},
   "source": [
    "The other way to do it, is by comparing total non-null values with total row count:"
   ]
  },
  {
   "cell_type": "code",
   "execution_count": 45,
   "id": "cf2c6d76",
   "metadata": {},
   "outputs": [
    {
     "data": {
      "text/plain": [
       "4"
      ]
     },
     "execution_count": 45,
     "metadata": {},
     "output_type": "execute_result"
    }
   ],
   "source": [
    "(df.count()<len(df)).sum()"
   ]
  },
  {
   "cell_type": "markdown",
   "id": "dcfb54fe",
   "metadata": {},
   "source": [
    "## Q5. Max fuel \n",
    "What's the maximum fuel efficiency of cars from Asia?"
   ]
  },
  {
   "cell_type": "code",
   "execution_count": 46,
   "id": "4581cd3d",
   "metadata": {},
   "outputs": [
    {
     "data": {
      "text/plain": [
       "23.759122836520497"
      ]
     },
     "execution_count": 46,
     "metadata": {},
     "output_type": "execute_result"
    }
   ],
   "source": [
    "df[df['origin']=='Asia'].fuel_efficiency_mpg.max()"
   ]
  },
  {
   "cell_type": "markdown",
   "id": "6fe9ca02",
   "metadata": {},
   "source": [
    "## Q6. Median value of horsepower\n",
    "Find the median value of the horsepower column in the dataset."
   ]
  },
  {
   "cell_type": "code",
   "execution_count": 27,
   "id": "b93f9b23",
   "metadata": {},
   "outputs": [
    {
     "data": {
      "text/plain": [
       "149.0"
      ]
     },
     "execution_count": 27,
     "metadata": {},
     "output_type": "execute_result"
    }
   ],
   "source": [
    "df.horsepower.median()"
   ]
  },
  {
   "cell_type": "markdown",
   "id": "1d606b00",
   "metadata": {},
   "source": [
    "Next, calculate the most frequent value of the same horsepower column."
   ]
  },
  {
   "cell_type": "code",
   "execution_count": 54,
   "id": "c3a5c17c",
   "metadata": {},
   "outputs": [
    {
     "data": {
      "application/vnd.microsoft.datawrangler.viewer.v0+json": {
       "columns": [
        {
         "name": "horsepower",
         "rawType": "float64",
         "type": "float"
        },
        {
         "name": "count",
         "rawType": "int64",
         "type": "integer"
        }
       ],
       "ref": "f3b4f44c-a8fd-4c0c-a141-a8e8cfcae03e",
       "rows": [
        [
         "152.0",
         "142"
        ],
        [
         "145.0",
         "141"
        ],
        [
         "151.0",
         "134"
        ],
        [
         "148.0",
         "130"
        ],
        [
         "141.0",
         "130"
        ],
        [
         "143.0",
         "128"
        ],
        [
         "159.0",
         "126"
        ],
        [
         "149.0",
         "124"
        ],
        [
         "139.0",
         "123"
        ],
        [
         "136.0",
         "123"
        ],
        [
         "164.0",
         "122"
        ],
        [
         "138.0",
         "120"
        ],
        [
         "144.0",
         "120"
        ],
        [
         "156.0",
         "119"
        ],
        [
         "133.0",
         "116"
        ],
        [
         "160.0",
         "116"
        ],
        [
         "155.0",
         "115"
        ],
        [
         "154.0",
         "112"
        ],
        [
         "150.0",
         "111"
        ],
        [
         "146.0",
         "109"
        ],
        [
         "163.0",
         "109"
        ],
        [
         "161.0",
         "109"
        ],
        [
         "134.0",
         "109"
        ],
        [
         "153.0",
         "106"
        ],
        [
         "142.0",
         "106"
        ],
        [
         "140.0",
         "105"
        ],
        [
         "157.0",
         "105"
        ],
        [
         "130.0",
         "105"
        ],
        [
         "132.0",
         "104"
        ],
        [
         "167.0",
         "104"
        ],
        [
         "169.0",
         "104"
        ],
        [
         "162.0",
         "103"
        ],
        [
         "147.0",
         "103"
        ],
        [
         "129.0",
         "102"
        ],
        [
         "128.0",
         "101"
        ],
        [
         "127.0",
         "99"
        ],
        [
         "171.0",
         "96"
        ],
        [
         "135.0",
         "94"
        ],
        [
         "125.0",
         "94"
        ],
        [
         "165.0",
         "93"
        ],
        [
         "123.0",
         "93"
        ],
        [
         "158.0",
         "92"
        ],
        [
         "166.0",
         "91"
        ],
        [
         "137.0",
         "91"
        ],
        [
         "168.0",
         "90"
        ],
        [
         "174.0",
         "89"
        ],
        [
         "172.0",
         "87"
        ],
        [
         "131.0",
         "87"
        ],
        [
         "126.0",
         "87"
        ],
        [
         "173.0",
         "86"
        ]
       ],
       "shape": {
        "columns": 1,
        "rows": 192
       }
      },
      "text/plain": [
       "horsepower\n",
       "152.0    142\n",
       "145.0    141\n",
       "151.0    134\n",
       "148.0    130\n",
       "141.0    130\n",
       "        ... \n",
       "46.0       1\n",
       "43.0       1\n",
       "53.0       1\n",
       "66.0       1\n",
       "61.0       1\n",
       "Name: count, Length: 192, dtype: int64"
      ]
     },
     "execution_count": 54,
     "metadata": {},
     "output_type": "execute_result"
    }
   ],
   "source": [
    "df['horsepower'].value_counts()"
   ]
  },
  {
   "cell_type": "code",
   "execution_count": 53,
   "id": "254aac38",
   "metadata": {},
   "outputs": [
    {
     "data": {
      "text/plain": [
       "142"
      ]
     },
     "execution_count": 53,
     "metadata": {},
     "output_type": "execute_result"
    }
   ],
   "source": [
    "df['horsepower'].value_counts().max()"
   ]
  },
  {
   "cell_type": "markdown",
   "id": "af5aba59",
   "metadata": {},
   "source": [
    "the other more academic, more straight or more right way is to use mode():"
   ]
  },
  {
   "cell_type": "code",
   "execution_count": 56,
   "id": "938119da",
   "metadata": {},
   "outputs": [
    {
     "data": {
      "text/plain": [
       "152.0"
      ]
     },
     "execution_count": 56,
     "metadata": {},
     "output_type": "execute_result"
    }
   ],
   "source": [
    "df.horsepower.mode()[0]"
   ]
  },
  {
   "cell_type": "markdown",
   "id": "91115bfa",
   "metadata": {},
   "source": [
    "the third method is to use groupby size() of values:"
   ]
  },
  {
   "cell_type": "markdown",
   "id": "59a3cb86",
   "metadata": {},
   "source": [
    "this will give up max values grouped by value :)"
   ]
  },
  {
   "cell_type": "code",
   "execution_count": 59,
   "id": "056713bf",
   "metadata": {},
   "outputs": [
    {
     "data": {
      "text/plain": [
       "142"
      ]
     },
     "execution_count": 59,
     "metadata": {},
     "output_type": "execute_result"
    }
   ],
   "source": [
    "df.groupby('horsepower').size().max()"
   ]
  },
  {
   "cell_type": "markdown",
   "id": "5b6dfd17",
   "metadata": {},
   "source": [
    "and this will give up the value itself using the index of the max count of values series:"
   ]
  },
  {
   "cell_type": "code",
   "execution_count": 62,
   "id": "89719df2",
   "metadata": {},
   "outputs": [
    {
     "data": {
      "text/plain": [
       "152.0"
      ]
     },
     "execution_count": 62,
     "metadata": {},
     "output_type": "execute_result"
    }
   ],
   "source": [
    "df.groupby('horsepower').size().idxmax()"
   ]
  },
  {
   "cell_type": "markdown",
   "id": "73b03691",
   "metadata": {},
   "source": [
    "Use the fillna method to fill the missing values in the horsepower column with the most frequent value from the previous step.\n",
    "Now, calculate the median value of horsepower once again."
   ]
  },
  {
   "cell_type": "code",
   "execution_count": 66,
   "id": "d1dc9beb",
   "metadata": {},
   "outputs": [
    {
     "data": {
      "text/plain": [
       "146.0"
      ]
     },
     "execution_count": 66,
     "metadata": {},
     "output_type": "execute_result"
    }
   ],
   "source": [
    "df.horsepower.fillna(142).median()"
   ]
  },
  {
   "cell_type": "markdown",
   "id": "02cccba8",
   "metadata": {},
   "source": [
    "## Q7. Sum of weights"
   ]
  },
  {
   "cell_type": "markdown",
   "id": "33b5c275",
   "metadata": {},
   "source": [
    "Select all the cars from Asia.\n",
    "\n",
    "Select only columns vehicle_weight and model_year.\n",
    "\n",
    "Select the first 7 values"
   ]
  },
  {
   "cell_type": "code",
   "execution_count": 82,
   "id": "7152e4f8",
   "metadata": {},
   "outputs": [
    {
     "data": {
      "application/vnd.microsoft.datawrangler.viewer.v0+json": {
       "columns": [
        {
         "name": "index",
         "rawType": "int64",
         "type": "integer"
        },
        {
         "name": "vehicle_weight",
         "rawType": "float64",
         "type": "float"
        },
        {
         "name": "model_year",
         "rawType": "int64",
         "type": "integer"
        }
       ],
       "ref": "810b2d67-be7c-4524-b90b-f011782ab28a",
       "rows": [
        [
         "8",
         "2714.219309645285",
         "2016"
        ],
        [
         "12",
         "2783.8689742437728",
         "2010"
        ],
        [
         "14",
         "3582.687367715132",
         "2007"
        ],
        [
         "20",
         "2231.8081416029345",
         "2011"
        ],
        [
         "21",
         "2659.431450757995",
         "2016"
        ],
        [
         "34",
         "2844.2275338857653",
         "2014"
        ],
        [
         "38",
         "3761.9940381922206",
         "2019"
        ]
       ],
       "shape": {
        "columns": 2,
        "rows": 7
       }
      },
      "text/html": [
       "<div>\n",
       "<style scoped>\n",
       "    .dataframe tbody tr th:only-of-type {\n",
       "        vertical-align: middle;\n",
       "    }\n",
       "\n",
       "    .dataframe tbody tr th {\n",
       "        vertical-align: top;\n",
       "    }\n",
       "\n",
       "    .dataframe thead th {\n",
       "        text-align: right;\n",
       "    }\n",
       "</style>\n",
       "<table border=\"1\" class=\"dataframe\">\n",
       "  <thead>\n",
       "    <tr style=\"text-align: right;\">\n",
       "      <th></th>\n",
       "      <th>vehicle_weight</th>\n",
       "      <th>model_year</th>\n",
       "    </tr>\n",
       "  </thead>\n",
       "  <tbody>\n",
       "    <tr>\n",
       "      <th>8</th>\n",
       "      <td>2714.219310</td>\n",
       "      <td>2016</td>\n",
       "    </tr>\n",
       "    <tr>\n",
       "      <th>12</th>\n",
       "      <td>2783.868974</td>\n",
       "      <td>2010</td>\n",
       "    </tr>\n",
       "    <tr>\n",
       "      <th>14</th>\n",
       "      <td>3582.687368</td>\n",
       "      <td>2007</td>\n",
       "    </tr>\n",
       "    <tr>\n",
       "      <th>20</th>\n",
       "      <td>2231.808142</td>\n",
       "      <td>2011</td>\n",
       "    </tr>\n",
       "    <tr>\n",
       "      <th>21</th>\n",
       "      <td>2659.431451</td>\n",
       "      <td>2016</td>\n",
       "    </tr>\n",
       "    <tr>\n",
       "      <th>34</th>\n",
       "      <td>2844.227534</td>\n",
       "      <td>2014</td>\n",
       "    </tr>\n",
       "    <tr>\n",
       "      <th>38</th>\n",
       "      <td>3761.994038</td>\n",
       "      <td>2019</td>\n",
       "    </tr>\n",
       "  </tbody>\n",
       "</table>\n",
       "</div>"
      ],
      "text/plain": [
       "    vehicle_weight  model_year\n",
       "8      2714.219310        2016\n",
       "12     2783.868974        2010\n",
       "14     3582.687368        2007\n",
       "20     2231.808142        2011\n",
       "21     2659.431451        2016\n",
       "34     2844.227534        2014\n",
       "38     3761.994038        2019"
      ]
     },
     "execution_count": 82,
     "metadata": {},
     "output_type": "execute_result"
    }
   ],
   "source": [
    "dfw = df[['vehicle_weight', 'model_year']][df.origin=='Asia'][:7]\n",
    "dfw"
   ]
  },
  {
   "cell_type": "markdown",
   "id": "b9a01c0b",
   "metadata": {},
   "source": [
    "Get the underlying NumPy array. Let's call it X."
   ]
  },
  {
   "cell_type": "code",
   "execution_count": 84,
   "id": "0faf4440",
   "metadata": {},
   "outputs": [
    {
     "data": {
      "text/plain": [
       "array([[2714.21930965, 2016.        ],\n",
       "       [2783.86897424, 2010.        ],\n",
       "       [3582.68736772, 2007.        ],\n",
       "       [2231.8081416 , 2011.        ],\n",
       "       [2659.43145076, 2016.        ],\n",
       "       [2844.22753389, 2014.        ],\n",
       "       [3761.99403819, 2019.        ]])"
      ]
     },
     "execution_count": 84,
     "metadata": {},
     "output_type": "execute_result"
    }
   ],
   "source": [
    "X = dfw.to_numpy()\n",
    "X"
   ]
  },
  {
   "cell_type": "markdown",
   "id": "797d9a13",
   "metadata": {},
   "source": [
    "Compute matrix-matrix multiplication between the transpose of X and X. To get the transpose, use X.T. Let's call the result XTX."
   ]
  },
  {
   "cell_type": "code",
   "execution_count": 86,
   "id": "8056ce21",
   "metadata": {},
   "outputs": [
    {
     "data": {
      "text/plain": [
       "array([[62248334.33150762, 41431216.5073268 ],\n",
       "       [41431216.5073268 , 28373339.        ]])"
      ]
     },
     "execution_count": 86,
     "metadata": {},
     "output_type": "execute_result"
    }
   ],
   "source": [
    "XTX = X.T @ X\n",
    "XTX"
   ]
  },
  {
   "cell_type": "markdown",
   "id": "be076bae",
   "metadata": {},
   "source": [
    "Invert XTX."
   ]
  },
  {
   "cell_type": "code",
   "execution_count": 92,
   "id": "7bc29bf1",
   "metadata": {},
   "outputs": [
    {
     "data": {
      "text/plain": [
       "array([[ 5.71497081e-07, -8.34509443e-07],\n",
       "       [-8.34509443e-07,  1.25380877e-06]])"
      ]
     },
     "execution_count": 92,
     "metadata": {},
     "output_type": "execute_result"
    }
   ],
   "source": [
    "import numpy as np\n",
    "iXTX = np.linalg.inv(XTX)\n",
    "iXTX"
   ]
  },
  {
   "cell_type": "markdown",
   "id": "e9ba691c",
   "metadata": {},
   "source": [
    "Create an array y with values [1100, 1300, 800, 900, 1000, 1100, 1200]."
   ]
  },
  {
   "cell_type": "code",
   "execution_count": 94,
   "id": "1e37d864",
   "metadata": {},
   "outputs": [
    {
     "data": {
      "text/plain": [
       "array([1100, 1300,  800,  900, 1000, 1100, 1200])"
      ]
     },
     "execution_count": 94,
     "metadata": {},
     "output_type": "execute_result"
    }
   ],
   "source": [
    "y = np.array([1100, 1300, 800, 900, 1000, 1100, 1200])\n",
    "y"
   ]
  },
  {
   "cell_type": "markdown",
   "id": "ef44706e",
   "metadata": {},
   "source": [
    "Multiply the inverse of XTX with the transpose of X, \n",
    "and then multiply the result by y.\n",
    " Call the result w."
   ]
  },
  {
   "cell_type": "code",
   "execution_count": 95,
   "id": "eb4196e6",
   "metadata": {},
   "outputs": [
    {
     "data": {
      "text/plain": [
       "array([0.01386421, 0.5049067 ])"
      ]
     },
     "execution_count": 95,
     "metadata": {},
     "output_type": "execute_result"
    }
   ],
   "source": [
    "w = (iXTX @ X.T) @ y\n",
    "w"
   ]
  },
  {
   "cell_type": "markdown",
   "id": "725dc274",
   "metadata": {},
   "source": [
    "What's the sum of all the elements of the result?"
   ]
  },
  {
   "cell_type": "code",
   "execution_count": 96,
   "id": "87e50c1a",
   "metadata": {},
   "outputs": [
    {
     "data": {
      "text/plain": [
       "0.5187709081074007"
      ]
     },
     "execution_count": 96,
     "metadata": {},
     "output_type": "execute_result"
    }
   ],
   "source": [
    "w.sum()"
   ]
  }
 ],
 "metadata": {
  "kernelspec": {
   "display_name": "base",
   "language": "python",
   "name": "python3"
  },
  "language_info": {
   "codemirror_mode": {
    "name": "ipython",
    "version": 3
   },
   "file_extension": ".py",
   "mimetype": "text/x-python",
   "name": "python",
   "nbconvert_exporter": "python",
   "pygments_lexer": "ipython3",
   "version": "3.11.5"
  }
 },
 "nbformat": 4,
 "nbformat_minor": 5
}
